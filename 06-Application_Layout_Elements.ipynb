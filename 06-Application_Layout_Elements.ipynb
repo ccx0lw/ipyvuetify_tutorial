{
 "cells": [
  {
   "cell_type": "markdown",
   "metadata": {},
   "source": [
    "# ipyvuetify Tutorial 06 - Application Layout Elements\n",
    "\n",
    "This is the sixth in a series of ipyvuetify app development tutorials. If you're just getting started with ipyvuetify and haven't checked out the first tutorial \"01 Installation and First Steps.ipynb\", be sure to check that one out first.\n",
    "\n",
    "First of all, we'll load the required packages, and test to make sure your environment has all the dependencies set-up successfully:"
   ]
  },
  {
   "cell_type": "code",
   "execution_count": 1,
   "metadata": {
    "ExecuteTime": {
     "end_time": "2020-05-25T19:26:25.723061Z",
     "start_time": "2020-05-25T19:26:25.396460Z"
    }
   },
   "outputs": [
    {
     "data": {
      "application/vnd.jupyter.widget-view+json": {
       "model_id": "41b532371012413aa1af78f08d120ca5",
       "version_major": 2,
       "version_minor": 0
      },
      "text/plain": [
       "Btn(children=[Icon(children=['mdi-check'])], class_='icon ma-2', color='success', style_='max-width:100px')"
      ]
     },
     "metadata": {},
     "output_type": "display_data"
    }
   ],
   "source": [
    "from time import sleep\n",
    "import ipyvuetify as v\n",
    "import ipywidgets as widgets\n",
    "import markdown\n",
    "from threading import Timer\n",
    "from traitlets import (Any, Unicode, List)\n",
    "\n",
    "v.Btn(class_='icon ma-2',\n",
    "      style_='max-width:100px',\n",
    "      color='success',\n",
    "      children=[v.Icon(children=['mdi-check'])])"
   ]
  },
  {
   "cell_type": "markdown",
   "metadata": {
    "ExecuteTime": {
     "end_time": "2020-05-25T15:49:25.988041Z",
     "start_time": "2020-05-25T15:49:25.977931Z"
    }
   },
   "source": [
    "\n",
    "If you see a green button with a checkmark above, you have successfully installed ipyvuetify and enabled the extension. Good work!\n",
    "\n",
    "If not, refer to the first tutorial and/or the ipyvuetify documentation to set up your system before going further."
   ]
  },
  {
   "cell_type": "markdown",
   "metadata": {},
   "source": [
    "## Toolbars and Appbars\n",
    "\n"
   ]
  },
  {
   "cell_type": "code",
   "execution_count": 2,
   "metadata": {
    "ExecuteTime": {
     "end_time": "2020-05-25T19:26:25.740643Z",
     "start_time": "2020-05-25T19:26:25.725490Z"
    }
   },
   "outputs": [
    {
     "data": {
      "application/vnd.jupyter.widget-view+json": {
       "model_id": "4891ddacec3442d4af284af4cfeef23d",
       "version_major": 2,
       "version_minor": 0
      },
      "text/plain": [
       "AppBar(children=['AppBar Title'], class_='headline', color='primary', dark=True)"
      ]
     },
     "metadata": {},
     "output_type": "display_data"
    }
   ],
   "source": [
    "v.AppBar(class_='headline',color='primary',children=['AppBar Title'],dark=True)"
   ]
  },
  {
   "cell_type": "markdown",
   "metadata": {},
   "source": [
    "Well, that's a bit boring. \n",
    "\n",
    "Here's another example with some button icon's all over the place. The buttons don't *do* anything, but in an application your could add event triggers to them in an application"
   ]
  },
  {
   "cell_type": "code",
   "execution_count": 3,
   "metadata": {
    "ExecuteTime": {
     "end_time": "2020-05-25T19:26:25.831626Z",
     "start_time": "2020-05-25T19:26:25.744368Z"
    }
   },
   "outputs": [
    {
     "data": {
      "application/vnd.jupyter.widget-view+json": {
       "model_id": "bacb7014948b4250934d3cdf66bcefd2",
       "version_major": 2,
       "version_minor": 0
      },
      "text/plain": [
       "Toolbar(children=[AppBarNavIcon(), ToolbarTitle(children=['Title']), Spacer(), Btn(children=[Icon(children=['m…"
      ]
     },
     "metadata": {},
     "output_type": "display_data"
    }
   ],
   "source": [
    "v.Toolbar(dense=True,dark=True,color='primary',\n",
    "         children=[\n",
    "             v.AppBarNavIcon(),\n",
    "             v.ToolbarTitle(children=['Title']),\n",
    "             v.Spacer(),\n",
    "             v.Btn(icon=True,children=[v.Icon(children=['mdi-magnify'])]),\n",
    "             v.Btn(icon=True,children=[v.Icon(children=['mdi-heart'])]),\n",
    "             v.Btn(icon=True,children=[v.Icon(children=['mdi-dots-vertical'])])\n",
    "         ])"
   ]
  },
  {
   "cell_type": "markdown",
   "metadata": {},
   "source": [
    "## Tabs\n"
   ]
  },
  {
   "cell_type": "code",
   "execution_count": 4,
   "metadata": {
    "ExecuteTime": {
     "end_time": "2020-05-25T19:26:25.935000Z",
     "start_time": "2020-05-25T19:26:25.834027Z"
    }
   },
   "outputs": [],
   "source": [
    "# You can set the active tab by setting the value (`v_model` )\n",
    "\n",
    "tab_list = [v.Tab(children=['Tab ' + str(i)]) for i in range(5)]\n",
    "content_list = [v.TabItem(children=['Tab Content']) for i in range(5)]\n",
    "tabs = v.Tabs(v_model=2, children=tab_list + content_list)\n",
    "tabs\n",
    "\n",
    "# A Jupyter widget could not be displayed because the widget state could not be found. This could happen if the kernel storing the widget is no longer available, or if the widget state was not saved in the notebook. You may be able to create the widget by running the appropriate cells.\n",
    "\n",
    "\n",
    "#And as usual, you can change this value afterward, as needed\n",
    "\n",
    "content_list[2] = v.TabItem(children=['Tab Content... Changed!'])"
   ]
  },
  {
   "cell_type": "markdown",
   "metadata": {},
   "source": [
    "## Drawer\n"
   ]
  },
  {
   "cell_type": "code",
   "execution_count": 5,
   "metadata": {
    "ExecuteTime": {
     "end_time": "2020-05-25T19:26:26.001575Z",
     "start_time": "2020-05-25T19:26:25.936742Z"
    }
   },
   "outputs": [
    {
     "data": {
      "application/vnd.jupyter.widget-view+json": {
       "model_id": "e01f2c32d7254cf59787f6c4503e2381",
       "version_major": 2,
       "version_minor": 0
      },
      "text/plain": [
       "Layout(children=[NavigationDrawer(absolute=True, children=[Btn(children=['Close drawer'], color='primary')], r…"
      ]
     },
     "metadata": {},
     "output_type": "display_data"
    }
   ],
   "source": [
    "\n",
    "def on_click(widget, event, data):\n",
    "   vnd.v_model = not vnd.v_model\n",
    "\n",
    "drawer_button = v.Btn(color='primary', children=['Close drawer'])\n",
    "drawer_button.on_event('click', on_click)\n",
    "\n",
    "vnd = v.NavigationDrawer(v_model=False, absolute=True, right=True, children=[\n",
    "    drawer_button\n",
    "])\n",
    "\n",
    "show_drawer = v.Btn(color='primary', children=['Toggle drawer'])\n",
    "show_drawer.on_event('click', on_click)\n",
    "\n",
    "v.Layout(children=[vnd, show_drawer])"
   ]
  },
  {
   "cell_type": "markdown",
   "metadata": {},
   "source": [
    "## Expansion Panel\n"
   ]
  },
  {
   "cell_type": "code",
   "execution_count": 6,
   "metadata": {
    "ExecuteTime": {
     "end_time": "2020-05-25T19:26:26.118469Z",
     "start_time": "2020-05-25T19:26:26.004455Z"
    }
   },
   "outputs": [
    {
     "data": {
      "application/vnd.jupyter.widget-view+json": {
       "model_id": "9a91839d20614004922232679580eb55",
       "version_major": 2,
       "version_minor": 0
      },
      "text/plain": [
       "Layout(children=[ExpansionPanels(children=[ExpansionPanel(children=[ExpansionPanelHeader(children=['item1']), …"
      ]
     },
     "metadata": {},
     "output_type": "display_data"
    }
   ],
   "source": [
    "\n",
    "vepc1 = v.ExpansionPanel(children=[\n",
    "    v.ExpansionPanelHeader(children=['item1']),\n",
    "    v.ExpansionPanelContent(children=['First Text'])])\n",
    "\n",
    "vepc2 = v.ExpansionPanel(children=[\n",
    "    v.ExpansionPanelHeader(children=['item2']),\n",
    "    v.ExpansionPanelContent(children=['Second Text'])])\n",
    "\n",
    "vep = v.ExpansionPanels(children=[vepc1, vepc2])\n",
    "vl = v.Layout(class_='pa-4', children=[vep])\n",
    "vl"
   ]
  },
  {
   "cell_type": "markdown",
   "metadata": {},
   "source": [
    "## Dialog (Modal)"
   ]
  },
  {
   "cell_type": "code",
   "execution_count": 7,
   "metadata": {
    "ExecuteTime": {
     "end_time": "2020-05-25T19:26:26.200348Z",
     "start_time": "2020-05-25T19:26:26.121870Z"
    }
   },
   "outputs": [
    {
     "data": {
      "application/vnd.jupyter.widget-view+json": {
       "model_id": "ed1be1a3ef134d1c82f14e111f297c0f",
       "version_major": 2,
       "version_minor": 0
      },
      "text/plain": [
       "Dialog(children=[Card(children=[CardTitle(children=['Nice Dialog, eh?'], class_='headline text-center pa-4'), …"
      ]
     },
     "metadata": {},
     "output_type": "display_data"
    }
   ],
   "source": [
    "dismiss_dialog_button = v.Btn(color='primary',children=['No'])\n",
    "remove_dataset_button = v.Btn(color='error',children=['Yes'])\n",
    "\n",
    "def set_widget_value_false(*args):\n",
    "    mydialog.v_model = False\n",
    "\n",
    "mydialog=v.Dialog(v_model=True,width='400',\n",
    "        children=[\n",
    "            v.Card(class_='pa-4',children=[\n",
    "                v.CardTitle(class_='headline text-center pa-4',children=['Nice Dialog, eh?']),\n",
    "                v.Row(class_='pa-4',children=[\n",
    "                v.Col(cols=6,class_='text-center pa-4',children=[dismiss_dialog_button]),\n",
    "                v.Col(cols=6,class_='text-center pa-4',children=[remove_dataset_button])\n",
    "                ])\n",
    "            ])\n",
    "    ])\n",
    "\n",
    "remove_dataset_button.on_event('click', set_widget_value_false)\n",
    "\n",
    "mydialog"
   ]
  },
  {
   "cell_type": "markdown",
   "metadata": {},
   "source": [
    "## Progress Linear"
   ]
  },
  {
   "cell_type": "code",
   "execution_count": 8,
   "metadata": {
    "ExecuteTime": {
     "end_time": "2020-05-25T19:26:30.678296Z",
     "start_time": "2020-05-25T19:26:26.202477Z"
    }
   },
   "outputs": [
    {
     "data": {
      "application/vnd.jupyter.widget-view+json": {
       "model_id": "6c80d524695b4e8cb356ace248d011f3",
       "version_major": 2,
       "version_minor": 0
      },
      "text/plain": [
       "Container(children=[ProgressLinear(class_='ma-8')])"
      ]
     },
     "metadata": {},
     "output_type": "display_data"
    }
   ],
   "source": [
    "progress = v.ProgressLinear(class_='ma-8',size=64)\n",
    "progress_container = v.Container(children=[progress])\n",
    "display(progress_container)\n",
    "\n",
    "for i in range (0,110,10):\n",
    "    progress.value=i\n",
    "    sleep(0.4)\n",
    "\n",
    "progress_container.children=[]"
   ]
  },
  {
   "cell_type": "markdown",
   "metadata": {},
   "source": [
    "## Progress Circular"
   ]
  },
  {
   "cell_type": "code",
   "execution_count": 9,
   "metadata": {
    "ExecuteTime": {
     "end_time": "2020-05-25T19:26:35.200555Z",
     "start_time": "2020-05-25T19:26:30.688819Z"
    }
   },
   "outputs": [
    {
     "data": {
      "application/vnd.jupyter.widget-view+json": {
       "model_id": "421f0bfce0aa4f688c1c31c85dbc4f5b",
       "version_major": 2,
       "version_minor": 0
      },
      "text/plain": [
       "Container(children=[ProgressCircular(class_='ma-8', size=64.0)])"
      ]
     },
     "metadata": {},
     "output_type": "display_data"
    }
   ],
   "source": [
    "progress = v.ProgressCircular(class_='ma-8',size=64)\n",
    "progress_container = v.Container(children=[progress])\n",
    "display(progress_container)\n",
    "\n",
    "for i in range (0,110,10):\n",
    "    progress.value=i\n",
    "    sleep(0.4)\n",
    "\n",
    "progress_container.children=[]"
   ]
  },
  {
   "cell_type": "code",
   "execution_count": 10,
   "metadata": {
    "ExecuteTime": {
     "end_time": "2020-05-25T19:26:35.249308Z",
     "start_time": "2020-05-25T19:26:35.211509Z"
    }
   },
   "outputs": [
    {
     "data": {
      "application/vnd.jupyter.widget-view+json": {
       "model_id": "b8ab098cb2ea4e98b22d905dc99a3fd1",
       "version_major": 2,
       "version_minor": 0
      },
      "text/plain": [
       "ProgressCircular(value=50.0)"
      ]
     },
     "metadata": {},
     "output_type": "display_data"
    }
   ],
   "source": [
    "v.ProgressCircular(value=50)"
   ]
  },
  {
   "cell_type": "code",
   "execution_count": 11,
   "metadata": {
    "ExecuteTime": {
     "end_time": "2020-05-25T19:26:35.280605Z",
     "start_time": "2020-05-25T19:26:35.251877Z"
    }
   },
   "outputs": [
    {
     "data": {
      "application/vnd.jupyter.widget-view+json": {
       "model_id": "827d611544254295af30487098295543",
       "version_major": 2,
       "version_minor": 0
      },
      "text/plain": [
       "ProgressCircular(value=100.0)"
      ]
     },
     "metadata": {},
     "output_type": "display_data"
    }
   ],
   "source": [
    "v.ProgressCircular(value=100)"
   ]
  },
  {
   "cell_type": "code",
   "execution_count": 12,
   "metadata": {
    "ExecuteTime": {
     "end_time": "2020-05-25T19:26:37.338331Z",
     "start_time": "2020-05-25T19:26:35.283362Z"
    }
   },
   "outputs": [
    {
     "data": {
      "application/vnd.jupyter.widget-view+json": {
       "model_id": "96e86008631a4897a61d94c8638129a0",
       "version_major": 2,
       "version_minor": 0
      },
      "text/plain": [
       "Layout(children=[ProgressCircular(class_='ma-8', indeterminate=True, size=64.0)])"
      ]
     },
     "metadata": {},
     "output_type": "display_data"
    }
   ],
   "source": [
    "progress = v.ProgressCircular(class_='ma-8',indeterminate=True,size=64)\n",
    "display(v.Layout(children=[progress]))\n",
    "\n",
    "## Do things\n",
    "sleep(2)\n",
    "\n",
    "## Turn off dialog !\n",
    "progress.value = 100\n",
    "progress.indeterminate = False"
   ]
  },
  {
   "cell_type": "markdown",
   "metadata": {
    "ExecuteTime": {
     "end_time": "2020-05-25T15:57:23.672606Z",
     "start_time": "2020-05-25T15:57:23.666993Z"
    }
   },
   "source": [
    "## Timer"
   ]
  },
  {
   "cell_type": "code",
   "execution_count": 13,
   "metadata": {
    "ExecuteTime": {
     "end_time": "2020-05-25T19:26:39.415602Z",
     "start_time": "2020-05-25T19:26:37.340795Z"
    }
   },
   "outputs": [
    {
     "data": {
      "application/vnd.jupyter.widget-view+json": {
       "model_id": "db33093351b447ca8579c50051aba519",
       "version_major": 2,
       "version_minor": 0
      },
      "text/plain": [
       "Layout(children=[Dialog(children=[Card(children=[CardTitle(children=['Calculating...'], class_='headline gray …"
      ]
     },
     "metadata": {},
     "output_type": "display_data"
    }
   ],
   "source": [
    "from time import sleep\n",
    "import ipyvuetify as v\n",
    "\n",
    "dialog = v.Dialog(width='400',\n",
    "    children=[\n",
    "        v.Card(children=[\n",
    "            v.CardTitle(class_='headline gray lighten-2 text-center pa-6', primary_title=True, children=[\n",
    "                \"Calculating...\"\n",
    "            ]),\n",
    "            v.CardText(class_='text-center pa-12',children=[\n",
    "                v.ProgressCircular(indeterminate=True,size=64)\n",
    "            ])\n",
    "    ])\n",
    "])\n",
    "\n",
    "## Turn on dialog\n",
    "display(v.Layout(children=[dialog]))\n",
    "dialog.value=True\n",
    "\n",
    "## Do things\n",
    "sleep(2)\n",
    "\n",
    "## Turn off dialog !\n",
    "dialog.value = False"
   ]
  },
  {
   "cell_type": "markdown",
   "metadata": {},
   "source": [
    "## Snackbar\n",
    "\n",
    "The `v.Snackbar` component is useful for displaying the status of the application, or notifications.\n",
    "\n",
    "The location can be set to `left`, `right`, `top` or `bottom`\n",
    "\n",
    "The color can be any of the standard vuetify colours, commonly \n",
    "\n",
    "* primary\n",
    "* success\n",
    "* error\n",
    "* warning"
   ]
  },
  {
   "cell_type": "code",
   "execution_count": 14,
   "metadata": {
    "ExecuteTime": {
     "end_time": "2020-05-25T19:26:39.463628Z",
     "start_time": "2020-05-25T19:26:39.430033Z"
    }
   },
   "outputs": [
    {
     "data": {
      "application/vnd.jupyter.widget-view+json": {
       "model_id": "1e6c34e05aab430192a7c5bd6bb55278",
       "version_major": 2,
       "version_minor": 0
      },
      "text/plain": [
       "Snackbar(children=['This is a snackbar! It will disappear in 5 seconds.'], color='primary', timeout=5000.0, v_…"
      ]
     },
     "metadata": {},
     "output_type": "display_data"
    }
   ],
   "source": [
    "v.Snackbar(\n",
    "    v_model=True,\n",
    "    timeout=5000,\n",
    "    vertical=True,\n",
    "    color='primary',\n",
    "    children=[\n",
    "        'This is a snackbar! It will disappear in 5 seconds.',\n",
    "    ],\n",
    ")"
   ]
  },
  {
   "cell_type": "markdown",
   "metadata": {},
   "source": [
    "Here is an example of a snackbar without a `timeout` and a 'close' button.\n",
    "\n",
    "You may have to scroll up or down if you're running this in Jupyter, so get the snackbar to the top of all of Jupyter's elements, but you shouldn't have that problem if you're using it in Voila."
   ]
  },
  {
   "cell_type": "code",
   "execution_count": 15,
   "metadata": {
    "ExecuteTime": {
     "end_time": "2020-05-25T19:26:39.534054Z",
     "start_time": "2020-05-25T19:26:39.466567Z"
    }
   },
   "outputs": [
    {
     "data": {
      "application/vnd.jupyter.widget-view+json": {
       "model_id": "7e8dd39262af47c7a75117215916c026",
       "version_major": 2,
       "version_minor": 0
      },
      "text/plain": [
       "Snackbar(children=['This is a snackbar with no timeout and a CLOSE button', Btn(children=['Close'], dark=True,…"
      ]
     },
     "metadata": {},
     "output_type": "display_data"
    }
   ],
   "source": [
    "close_snackbar_button = v.Btn(dark=True, text=True, children=['Close'])\n",
    "\n",
    "mysnackbar = v.Snackbar(\n",
    "    v_model=True,\n",
    "    vertical=True,\n",
    "    color='warning',\n",
    "    children=[\n",
    "        'This is a snackbar with no timeout and a CLOSE button',\n",
    "        close_snackbar_button\n",
    "    ],\n",
    ")\n",
    "\n",
    "\n",
    "def close_snackbar_function(*args):\n",
    "    mysnackbar.v_model = False\n",
    "\n",
    "\n",
    "close_snackbar_button.on_event('click', close_snackbar_function)\n",
    "\n",
    "mysnackbar"
   ]
  },
  {
   "cell_type": "markdown",
   "metadata": {},
   "source": [
    "## Alerts\n",
    "\n",
    "Alert widgets are very useful for notifying users in a dynamic application.\n",
    "\n",
    "The [vuetify documentation](https://vuetifyjs.com/en/components/alerts/), as always, goes into more detail, but we'll cover the basics here.\n",
    "\n",
    "`vuetify` has four standard types of alerts:\n",
    "\n",
    "* success\n",
    "* info\n",
    "* warning\n",
    "* error"
   ]
  },
  {
   "cell_type": "code",
   "execution_count": 16,
   "metadata": {
    "ExecuteTime": {
     "end_time": "2020-05-25T19:26:39.694591Z",
     "start_time": "2020-05-25T19:26:39.538185Z"
    }
   },
   "outputs": [
    {
     "data": {
      "application/vnd.jupyter.widget-view+json": {
       "model_id": "f6d092dd991841ecb10f93b65bb495cb",
       "version_major": 2,
       "version_minor": 0
      },
      "text/plain": [
       "Container(children=[Alert(children=['type = success'], class_='mx-4 text-center', type='success', value=True),…"
      ]
     },
     "metadata": {},
     "output_type": "display_data"
    }
   ],
   "source": [
    "v.Container(children=[\n",
    "    v.Alert(value=True,class_='mx-4 text-center', type='success',children=['type = success']),\n",
    "    v.Alert(value=True,class_='mx-4 text-center', type='info',children=['type = info']),\n",
    "    v.Alert(value=True,class_='mx-4 text-center', type='warning',children=['type = warning']),\n",
    "    v.Alert(value=True,class_='mx-4 text-center', type='error',children=['type = error'])\n",
    "])"
   ]
  },
  {
   "cell_type": "markdown",
   "metadata": {},
   "source": [
    "There are several options for styling alerts, too, each of which can be set to `True` or `False`\n",
    "\n",
    "* dense\n",
    "* prominent\n",
    "* outlined\n",
    "* text\n",
    "* tile"
   ]
  },
  {
   "cell_type": "code",
   "execution_count": 17,
   "metadata": {
    "ExecuteTime": {
     "end_time": "2020-05-25T19:26:39.830456Z",
     "start_time": "2020-05-25T19:26:39.700811Z"
    }
   },
   "outputs": [
    {
     "data": {
      "application/vnd.jupyter.widget-view+json": {
       "model_id": "25d691873fda4de189620e809ba17d8c",
       "version_major": 2,
       "version_minor": 0
      },
      "text/plain": [
       "Container(children=[Alert(children=['type = success'], class_='mx-4 text-center', dense=True, type='success', …"
      ]
     },
     "metadata": {},
     "output_type": "display_data"
    }
   ],
   "source": [
    "v.Container(children=[\n",
    "    v.Alert(value=True,class_='mx-4 text-center', dense=True, type='success',children=['type = success']),\n",
    "    v.Alert(value=True,class_='mx-4 text-center', prominent=True, type='success',children=['type = info']),\n",
    "    v.Alert(value=True,class_='mx-4 text-center', outlined=True, type='success',children=['type = warning']),\n",
    "    v.Alert(value=True,class_='mx-4 text-center', text=True, type='success',children=['type = error']),\n",
    "    v.Alert(value=True,class_='mx-4 text-center',tile=True, type='success',children=['type = error'])\n",
    "])"
   ]
  },
  {
   "cell_type": "markdown",
   "metadata": {
    "ExecuteTime": {
     "end_time": "2020-05-25T18:22:40.457130Z",
     "start_time": "2020-05-25T18:22:40.432572Z"
    }
   },
   "source": [
    "You can also set the `colored_border` property to True, and place the border somewhere\n",
    "\n",
    "* top\n",
    "* left\n",
    "* bottom\n",
    "* right"
   ]
  },
  {
   "cell_type": "code",
   "execution_count": 18,
   "metadata": {
    "ExecuteTime": {
     "end_time": "2020-05-25T19:26:39.879053Z",
     "start_time": "2020-05-25T19:26:39.832637Z"
    }
   },
   "outputs": [
    {
     "data": {
      "application/vnd.jupyter.widget-view+json": {
       "model_id": "cb8b9627746749dc94129fd7b7773338",
       "version_major": 2,
       "version_minor": 0
      },
      "text/plain": [
       "Container(children=[Alert(border='top', children=['type = success'], class_='ma-4 text-center', colored_border…"
      ]
     },
     "metadata": {},
     "output_type": "display_data"
    }
   ],
   "source": [
    "v.Container(children=[\n",
    "    v.Alert(value=True,class_='ma-4 text-center', colored_border=True, border='top', type='success',children=['type = success']),\n",
    "    v.Alert(value=True,class_='ma-4 text-center', colored_border=True, border='bottom', type='warning',children=['type = warning']),\n",
    "])"
   ]
  },
  {
   "cell_type": "markdown",
   "metadata": {},
   "source": [
    "### Dismissable Alert with Icon\n",
    "\n",
    "The handiest part of alerts is the `dismissible` property, which lets users remove the alert:"
   ]
  },
  {
   "cell_type": "code",
   "execution_count": 19,
   "metadata": {
    "ExecuteTime": {
     "end_time": "2020-05-25T19:26:39.902253Z",
     "start_time": "2020-05-25T19:26:39.881919Z"
    }
   },
   "outputs": [
    {
     "data": {
      "application/vnd.jupyter.widget-view+json": {
       "model_id": "4bc43229b01041838e3635441784c886",
       "version_major": 2,
       "version_minor": 0
      },
      "text/plain": [
       "Alert(children=['Test'], class_='mx-4', dismissible=True, type='error', value=True)"
      ]
     },
     "metadata": {},
     "output_type": "display_data"
    }
   ],
   "source": [
    "v.Alert(value=True,class_='mx-4',type='error',dismissible=True,children=['Test'])"
   ]
  },
  {
   "cell_type": "markdown",
   "metadata": {},
   "source": [
    "## Menu"
   ]
  },
  {
   "cell_type": "code",
   "execution_count": 20,
   "metadata": {
    "ExecuteTime": {
     "end_time": "2020-05-25T19:26:40.046037Z",
     "start_time": "2020-05-25T19:26:39.908311Z"
    }
   },
   "outputs": [
    {
     "data": {
      "application/vnd.jupyter.widget-view+json": {
       "model_id": "e2e42bc95af146318acfb10bacf36b02",
       "version_major": 2,
       "version_minor": 0
      },
      "text/plain": [
       "Layout(children=[Menu(children=[List(children=[ListItem(children=[ListItemTitle(children=['Item 1'])]), ListIt…"
      ]
     },
     "metadata": {},
     "output_type": "display_data"
    }
   ],
   "source": [
    "\n",
    "def on_menu_click(widget, event, data):\n",
    "    if len(layout.children) == 1:\n",
    "        layout.children = layout.children + [info]\n",
    "    info.children=[f'Item {items.index(widget)+1} clicked']\n",
    "\n",
    "\n",
    "items = [v.ListItem(children=[\n",
    "    v.ListItemTitle(children=[\n",
    "        f'Item {i}'])])\n",
    "         for i in range(1, 5)]\n",
    "\n",
    "for item in items:\n",
    "    item.on_event('click', on_menu_click)\n",
    "\n",
    "menu = v.Menu(offset_y=True,\n",
    "    v_slots=[{\n",
    "        'name': 'activator',\n",
    "        'variable': 'menuData',\n",
    "        'children': v.Btn(v_on='menuData.on', class_='ma-2', color='primary', children=[\n",
    "            'menu',\n",
    "            v.Icon(right=True, children=[\n",
    "                'arrow_drop_down'\n",
    "            ])\n",
    "        ]),\n",
    "    }]\n",
    "    ,\n",
    "    children=[\n",
    "        v.List(children=items)\n",
    "    ]\n",
    ")\n",
    "\n",
    "info = v.Chip(class_='ma-2')\n",
    "\n",
    "layout = v.Layout(children=[\n",
    "    menu\n",
    "])\n",
    "layout"
   ]
  }
 ],
 "metadata": {
  "kernelspec": {
   "display_name": "Python (ipyvuetify_tutorial)",
   "language": "python",
   "name": "ipyvuetify_tutorial"
  },
  "language_info": {
   "codemirror_mode": {
    "name": "ipython",
    "version": 3
   },
   "file_extension": ".py",
   "mimetype": "text/x-python",
   "name": "python",
   "nbconvert_exporter": "python",
   "pygments_lexer": "ipython3",
   "version": "3.8.3"
  }
 },
 "nbformat": 4,
 "nbformat_minor": 2
}
