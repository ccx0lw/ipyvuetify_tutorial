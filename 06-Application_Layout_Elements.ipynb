{
 "cells": [
  {
   "cell_type": "markdown",
   "metadata": {},
   "source": [
    "# ipyvuetify Tutorial 06 - Application Layout Elements\n",
    "\n",
    "This is the sixth in a series of ipyvuetify app development tutorials. If you're just getting started with ipyvuetify and haven't checked out the first tutorial \"01 Installation and First Steps.ipynb\", be sure to check that one out first.\n",
    "\n",
    "First of all, we'll load the required packages, and test to make sure your environment has all the dependencies set-up successfully:"
   ]
  },
  {
   "cell_type": "code",
   "execution_count": null,
   "metadata": {
    "ExecuteTime": {
     "end_time": "2020-05-26T10:05:13.951097Z",
     "start_time": "2020-05-26T10:05:13.632820Z"
    }
   },
   "outputs": [],
   "source": [
    "from time import sleep\n",
    "import ipyvuetify as v\n",
    "import ipywidgets as widgets\n",
    "import markdown\n",
    "from threading import Timer\n",
    "from traitlets import (Any, Unicode, List)\n",
    "\n",
    "v.Btn(class_='icon ma-2',\n",
    "      style_='max-width:100px',\n",
    "      color='success',\n",
    "      children=[v.Icon(children=['mdi-check'])])"
   ]
  },
  {
   "cell_type": "markdown",
   "metadata": {
    "ExecuteTime": {
     "end_time": "2020-05-25T15:49:25.988041Z",
     "start_time": "2020-05-25T15:49:25.977931Z"
    }
   },
   "source": [
    "\n",
    "If you see a green button with a checkmark above, you have successfully installed ipyvuetify and enabled the extension. Good work!\n",
    "\n",
    "If not, refer to the first tutorial and/or the ipyvuetify documentation to set up your system before going further."
   ]
  },
  {
   "cell_type": "markdown",
   "metadata": {},
   "source": [
    "## Toolbars and Appbars\n",
    "\n"
   ]
  },
  {
   "cell_type": "code",
   "execution_count": null,
   "metadata": {
    "ExecuteTime": {
     "end_time": "2020-05-26T10:05:13.972199Z",
     "start_time": "2020-05-26T10:05:13.953801Z"
    }
   },
   "outputs": [],
   "source": [
    "v.AppBar(class_='headline',color='primary',children=['AppBar Title'],dark=True)"
   ]
  },
  {
   "cell_type": "markdown",
   "metadata": {},
   "source": [
    "Well, that's a bit boring. \n",
    "\n",
    "Here's another example with some button icon's all over the place. The buttons don't *do* anything, but in an application your could add event triggers to them in an application"
   ]
  },
  {
   "cell_type": "code",
   "execution_count": null,
   "metadata": {
    "ExecuteTime": {
     "end_time": "2020-05-26T10:05:14.036404Z",
     "start_time": "2020-05-26T10:05:13.974896Z"
    }
   },
   "outputs": [],
   "source": [
    "v.Toolbar(dense=True,dark=True,color='primary',\n",
    "         children=[\n",
    "             v.AppBarNavIcon(),\n",
    "             v.ToolbarTitle(children=['Title']),\n",
    "             v.Spacer(),\n",
    "             v.Btn(icon=True,children=[v.Icon(children=['mdi-magnify'])]),\n",
    "             v.Btn(icon=True,children=[v.Icon(children=['mdi-heart'])]),\n",
    "             v.Btn(icon=True,children=[v.Icon(children=['mdi-dots-vertical'])])\n",
    "         ])"
   ]
  },
  {
   "cell_type": "markdown",
   "metadata": {},
   "source": [
    "## Tabs\n"
   ]
  },
  {
   "cell_type": "code",
   "execution_count": null,
   "metadata": {
    "ExecuteTime": {
     "end_time": "2020-05-26T10:05:14.105354Z",
     "start_time": "2020-05-26T10:05:14.038590Z"
    }
   },
   "outputs": [],
   "source": [
    "# You can set the active tab by setting the value (`v_model` )\n",
    "\n",
    "tab_list = [v.Tab(children=['Tab ' + str(i)]) for i in range(5)]\n",
    "content_list = [v.TabItem(children=['Tab Content']) for i in range(5)]\n",
    "tabs = v.Tabs(v_model=2, children=tab_list + content_list)\n",
    "tabs\n",
    "\n",
    "# A Jupyter widget could not be displayed because the widget state could not be found. This could happen if the kernel storing the widget is no longer available, or if the widget state was not saved in the notebook. You may be able to create the widget by running the appropriate cells.\n",
    "\n",
    "\n",
    "#And as usual, you can change this value afterward, as needed\n",
    "\n",
    "content_list[2] = v.TabItem(children=['Tab Content... Changed!'])"
   ]
  },
  {
   "cell_type": "markdown",
   "metadata": {},
   "source": [
    "## Drawer\n",
    "\n",
    "[Drawers](https://vuetifyjs.com/en/components/navigation-drawers/) are nice for hiding widgets or configuration widgets. They can be on the left or right, can be hidden or stay permanently in place and even expand on hover."
   ]
  },
  {
   "cell_type": "code",
   "execution_count": null,
   "metadata": {
    "ExecuteTime": {
     "end_time": "2020-05-26T10:29:42.007975Z",
     "start_time": "2020-05-26T10:29:41.963436Z"
    }
   },
   "outputs": [],
   "source": [
    "def on_click(widget, event, data):\n",
    "   vnd.v_model = not vnd.v_model\n",
    "\n",
    "drawer_button = v.Btn(color='primary', children=['Close drawer'])\n",
    "drawer_button.on_event('click', on_click)\n",
    "\n",
    "vnd = v.NavigationDrawer(v_model=False, absolute=True, right=True, children=[\n",
    "    drawer_button\n",
    "])\n",
    "\n",
    "show_drawer = v.Btn(color='primary', children=['Toggle drawer'])\n",
    "show_drawer.on_event('click', on_click)\n",
    "\n",
    "v.Layout(children=[vnd, show_drawer])"
   ]
  },
  {
   "cell_type": "markdown",
   "metadata": {},
   "source": [
    "## Expansion Panel\n"
   ]
  },
  {
   "cell_type": "code",
   "execution_count": null,
   "metadata": {
    "ExecuteTime": {
     "end_time": "2020-05-26T10:05:14.267222Z",
     "start_time": "2020-05-26T10:05:14.190199Z"
    }
   },
   "outputs": [],
   "source": [
    "\n",
    "vepc1 = v.ExpansionPanel(children=[\n",
    "    v.ExpansionPanelHeader(children=['item1']),\n",
    "    v.ExpansionPanelContent(children=['First Text'])])\n",
    "\n",
    "vepc2 = v.ExpansionPanel(children=[\n",
    "    v.ExpansionPanelHeader(children=['item2']),\n",
    "    v.ExpansionPanelContent(children=['Second Text'])])\n",
    "\n",
    "vep = v.ExpansionPanels(children=[vepc1, vepc2])\n",
    "vl = v.Layout(class_='pa-4', children=[vep])\n",
    "vl"
   ]
  },
  {
   "cell_type": "markdown",
   "metadata": {},
   "source": [
    "## Dialog (Modal)"
   ]
  },
  {
   "cell_type": "code",
   "execution_count": null,
   "metadata": {
    "ExecuteTime": {
     "end_time": "2020-05-26T10:05:14.346418Z",
     "start_time": "2020-05-26T10:05:14.269505Z"
    }
   },
   "outputs": [],
   "source": [
    "dismiss_dialog_button = v.Btn(color='primary',children=['No'])\n",
    "remove_dataset_button = v.Btn(color='error',children=['Yes'])\n",
    "\n",
    "def set_widget_value_false(*args):\n",
    "    mydialog.v_model = False\n",
    "\n",
    "mydialog=v.Dialog(v_model=True,width='400',\n",
    "        children=[\n",
    "            v.Card(class_='pa-4',children=[\n",
    "                v.CardTitle(class_='headline text-center pa-4',children=['Nice Dialog, eh?']),\n",
    "                v.Row(class_='pa-4',children=[\n",
    "                v.Col(cols=6,class_='text-center pa-4',children=[dismiss_dialog_button]),\n",
    "                v.Col(cols=6,class_='text-center pa-4',children=[remove_dataset_button])\n",
    "                ])\n",
    "            ])\n",
    "    ])\n",
    "\n",
    "remove_dataset_button.on_event('click', set_widget_value_false)\n",
    "\n",
    "mydialog"
   ]
  },
  {
   "cell_type": "markdown",
   "metadata": {},
   "source": [
    "## Progress Linear"
   ]
  },
  {
   "cell_type": "code",
   "execution_count": null,
   "metadata": {
    "ExecuteTime": {
     "end_time": "2020-05-26T10:05:18.785069Z",
     "start_time": "2020-05-26T10:05:14.348214Z"
    }
   },
   "outputs": [],
   "source": [
    "progress = v.ProgressLinear(class_='ma-8',size=64)\n",
    "progress_container = v.Container(children=[progress])\n",
    "display(progress_container)\n",
    "\n",
    "for i in range (0,110,10):\n",
    "    progress.value=i\n",
    "    sleep(0.4)\n",
    "\n",
    "progress_container.children=[]"
   ]
  },
  {
   "cell_type": "markdown",
   "metadata": {},
   "source": [
    "## Progress Circular"
   ]
  },
  {
   "cell_type": "code",
   "execution_count": null,
   "metadata": {
    "ExecuteTime": {
     "end_time": "2020-05-26T10:05:23.280159Z",
     "start_time": "2020-05-26T10:05:18.790601Z"
    }
   },
   "outputs": [],
   "source": [
    "progress = v.ProgressCircular(class_='ma-8',size=64)\n",
    "progress_container = v.Container(children=[progress])\n",
    "display(progress_container)\n",
    "\n",
    "for i in range (0,110,10):\n",
    "    progress.value=i\n",
    "    sleep(0.4)\n",
    "\n",
    "progress_container.children=[]"
   ]
  },
  {
   "cell_type": "code",
   "execution_count": null,
   "metadata": {
    "ExecuteTime": {
     "end_time": "2020-05-26T10:05:23.321707Z",
     "start_time": "2020-05-26T10:05:23.285333Z"
    }
   },
   "outputs": [],
   "source": [
    "v.ProgressCircular(value=50)"
   ]
  },
  {
   "cell_type": "code",
   "execution_count": null,
   "metadata": {
    "ExecuteTime": {
     "end_time": "2020-05-26T10:05:23.376729Z",
     "start_time": "2020-05-26T10:05:23.331632Z"
    }
   },
   "outputs": [],
   "source": [
    "v.ProgressCircular(value=100)"
   ]
  },
  {
   "cell_type": "code",
   "execution_count": null,
   "metadata": {
    "ExecuteTime": {
     "end_time": "2020-05-26T10:05:25.457323Z",
     "start_time": "2020-05-26T10:05:23.380509Z"
    }
   },
   "outputs": [],
   "source": [
    "progress = v.ProgressCircular(class_='ma-8',indeterminate=True,size=64)\n",
    "display(v.Layout(children=[progress]))\n",
    "\n",
    "## Do things\n",
    "sleep(2)\n",
    "\n",
    "## Turn off dialog !\n",
    "progress.value = 100\n",
    "progress.indeterminate = False"
   ]
  },
  {
   "cell_type": "markdown",
   "metadata": {
    "ExecuteTime": {
     "end_time": "2020-05-25T15:57:23.672606Z",
     "start_time": "2020-05-25T15:57:23.666993Z"
    }
   },
   "source": [
    "## Timer"
   ]
  },
  {
   "cell_type": "code",
   "execution_count": null,
   "metadata": {
    "ExecuteTime": {
     "end_time": "2020-05-26T10:05:27.539808Z",
     "start_time": "2020-05-26T10:05:25.464877Z"
    }
   },
   "outputs": [],
   "source": [
    "from time import sleep\n",
    "import ipyvuetify as v\n",
    "\n",
    "dialog = v.Dialog(width='400',\n",
    "    children=[\n",
    "        v.Card(children=[\n",
    "            v.CardTitle(class_='headline gray lighten-2 text-center pa-6', primary_title=True, children=[\n",
    "                \"Calculating...\"\n",
    "            ]),\n",
    "            v.CardText(class_='text-center pa-12',children=[\n",
    "                v.ProgressCircular(indeterminate=True,size=64)\n",
    "            ])\n",
    "    ])\n",
    "])\n",
    "\n",
    "## Turn on dialog\n",
    "display(v.Layout(children=[dialog]))\n",
    "dialog.value=True\n",
    "\n",
    "## Do things\n",
    "sleep(2)\n",
    "\n",
    "## Turn off dialog !\n",
    "dialog.value = False"
   ]
  },
  {
   "cell_type": "markdown",
   "metadata": {},
   "source": [
    "## Snackbar\n",
    "\n",
    "The `v.Snackbar` component is useful for displaying the status of the application, or notifications.\n",
    "\n",
    "The location can be set to `left`, `right`, `top` or `bottom`\n",
    "\n",
    "The color can be any of the standard vuetify colours, commonly \n",
    "\n",
    "* primary\n",
    "* success\n",
    "* error\n",
    "* warning"
   ]
  },
  {
   "cell_type": "code",
   "execution_count": null,
   "metadata": {
    "ExecuteTime": {
     "end_time": "2020-05-26T10:05:27.577551Z",
     "start_time": "2020-05-26T10:05:27.545328Z"
    }
   },
   "outputs": [],
   "source": [
    "v.Snackbar(\n",
    "    v_model=True,\n",
    "    timeout=5000,\n",
    "    vertical=True,\n",
    "    color='primary',\n",
    "    children=[\n",
    "        'This is a snackbar! It will disappear in 5 seconds.',\n",
    "    ],\n",
    ")"
   ]
  },
  {
   "cell_type": "markdown",
   "metadata": {},
   "source": [
    "Here is an example of a snackbar without a `timeout` and a 'close' button.\n",
    "\n",
    "You may have to scroll up or down if you're running this in Jupyter, so get the snackbar to the top of all of Jupyter's elements, but you shouldn't have that problem if you're using it in Voila."
   ]
  },
  {
   "cell_type": "code",
   "execution_count": null,
   "metadata": {
    "ExecuteTime": {
     "end_time": "2020-05-26T10:05:27.681148Z",
     "start_time": "2020-05-26T10:05:27.582205Z"
    }
   },
   "outputs": [],
   "source": [
    "close_snackbar_button = v.Btn(dark=True, text=True, children=['Close'])\n",
    "\n",
    "mysnackbar = v.Snackbar(\n",
    "    v_model=True,\n",
    "    vertical=True,\n",
    "    color='warning',\n",
    "    children=[\n",
    "        'This is a snackbar with no timeout and a CLOSE button',\n",
    "        close_snackbar_button\n",
    "    ],\n",
    ")\n",
    "\n",
    "\n",
    "def close_snackbar_function(*args):\n",
    "    mysnackbar.v_model = False\n",
    "\n",
    "\n",
    "close_snackbar_button.on_event('click', close_snackbar_function)\n",
    "\n",
    "mysnackbar"
   ]
  },
  {
   "cell_type": "markdown",
   "metadata": {},
   "source": [
    "## Alerts\n",
    "\n",
    "Alert widgets are very useful for notifying users in a dynamic application.\n",
    "\n",
    "The [vuetify documentation](https://vuetifyjs.com/en/components/alerts/), as always, goes into more detail, but we'll cover the basics here.\n",
    "\n",
    "`vuetify` has four standard types of alerts:\n",
    "\n",
    "* success\n",
    "* info\n",
    "* warning\n",
    "* error"
   ]
  },
  {
   "cell_type": "code",
   "execution_count": null,
   "metadata": {
    "ExecuteTime": {
     "end_time": "2020-05-26T10:05:27.880457Z",
     "start_time": "2020-05-26T10:05:27.685113Z"
    }
   },
   "outputs": [],
   "source": [
    "v.Container(children=[\n",
    "    v.Alert(value=True,class_='mx-4 text-center', type='success',children=['type = success']),\n",
    "    v.Alert(value=True,class_='mx-4 text-center', type='info',children=['type = info']),\n",
    "    v.Alert(value=True,class_='mx-4 text-center', type='warning',children=['type = warning']),\n",
    "    v.Alert(value=True,class_='mx-4 text-center', type='error',children=['type = error'])\n",
    "])"
   ]
  },
  {
   "cell_type": "markdown",
   "metadata": {},
   "source": [
    "There are several options for styling alerts, too, each of which can be set to `True` or `False`\n",
    "\n",
    "* dense\n",
    "* prominent\n",
    "* outlined\n",
    "* text\n",
    "* tile"
   ]
  },
  {
   "cell_type": "code",
   "execution_count": null,
   "metadata": {
    "ExecuteTime": {
     "end_time": "2020-05-26T10:05:28.067261Z",
     "start_time": "2020-05-26T10:05:27.884231Z"
    }
   },
   "outputs": [],
   "source": [
    "v.Container(children=[\n",
    "    v.Alert(value=True,class_='mx-4 text-center', dense=True, type='success',children=['type = success']),\n",
    "    v.Alert(value=True,class_='mx-4 text-center', prominent=True, type='success',children=['type = info']),\n",
    "    v.Alert(value=True,class_='mx-4 text-center', outlined=True, type='success',children=['type = warning']),\n",
    "    v.Alert(value=True,class_='mx-4 text-center', text=True, type='success',children=['type = error']),\n",
    "    v.Alert(value=True,class_='mx-4 text-center',tile=True, type='success',children=['type = error'])\n",
    "])"
   ]
  },
  {
   "cell_type": "markdown",
   "metadata": {
    "ExecuteTime": {
     "end_time": "2020-05-25T18:22:40.457130Z",
     "start_time": "2020-05-25T18:22:40.432572Z"
    }
   },
   "source": [
    "You can also set the `colored_border` property to True, and place the border somewhere\n",
    "\n",
    "* top\n",
    "* left\n",
    "* bottom\n",
    "* right"
   ]
  },
  {
   "cell_type": "code",
   "execution_count": null,
   "metadata": {
    "ExecuteTime": {
     "end_time": "2020-05-26T10:05:28.201585Z",
     "start_time": "2020-05-26T10:05:28.081855Z"
    }
   },
   "outputs": [],
   "source": [
    "v.Container(children=[\n",
    "    v.Alert(value=True,class_='ma-4 text-center', colored_border=True, border='top', type='success',children=['type = success']),\n",
    "    v.Alert(value=True,class_='ma-4 text-center', colored_border=True, border='bottom', type='warning',children=['type = warning']),\n",
    "])"
   ]
  },
  {
   "cell_type": "markdown",
   "metadata": {},
   "source": [
    "### Dismissable Alert with Icon\n",
    "\n",
    "The handiest part of alerts is the `dismissible` property, which lets users remove the alert:"
   ]
  },
  {
   "cell_type": "code",
   "execution_count": null,
   "metadata": {
    "ExecuteTime": {
     "end_time": "2020-05-26T10:05:28.257332Z",
     "start_time": "2020-05-26T10:05:28.211615Z"
    }
   },
   "outputs": [],
   "source": [
    "v.Alert(value=True,class_='mx-4',type='error',dismissible=True,children=['Test'])"
   ]
  },
  {
   "cell_type": "markdown",
   "metadata": {},
   "source": [
    "## Lists"
   ]
  },
  {
   "cell_type": "code",
   "execution_count": null,
   "metadata": {
    "ExecuteTime": {
     "end_time": "2020-05-26T10:50:32.940386Z",
     "start_time": "2020-05-26T10:50:32.871477Z"
    }
   },
   "outputs": [],
   "source": [
    "v.List(children=[\n",
    "    v.ListItem(children=[v.ListItemTitle(children=['List Item 1'])]),\n",
    "    v.ListItem(children=[v.ListItemTitle(children=['List Item 2'])]),\n",
    "    v.ListItem(children=[v.ListItemTitle(children=['List Item 3'])]),\n",
    "    v.ListItem(children=[v.ListItemTitle(children=['List Item 4'])])\n",
    "])"
   ]
  },
  {
   "cell_type": "code",
   "execution_count": null,
   "metadata": {
    "ExecuteTime": {
     "end_time": "2020-05-26T10:55:29.274040Z",
     "start_time": "2020-05-26T10:55:29.204668Z"
    }
   },
   "outputs": [],
   "source": [
    "v.List(children=[\n",
    "    v.ListItem(children=[\n",
    "        v.ListItemContent(children=[\n",
    "            v.ListItemTitle(children=['List Item 1 Title']),\n",
    "            v.ListItemSubtitle(children=['List Item 1 Subtitle'])\n",
    "        ])\n",
    "    ]),\n",
    "    v.ListItem(children=[\n",
    "        v.ListItemContent(children=[\n",
    "            v.ListItemTitle(children=['List Item 2 Title']),\n",
    "            v.ListItemSubtitle(children=['List Item 2 Subtitle'])\n",
    "        ])\n",
    "    ])\n",
    "])"
   ]
  },
  {
   "cell_type": "code",
   "execution_count": null,
   "metadata": {
    "ExecuteTime": {
     "end_time": "2020-05-26T10:54:39.716389Z",
     "start_time": "2020-05-26T10:54:39.580472Z"
    }
   },
   "outputs": [],
   "source": [
    "def on_menu_click(widget, event, data):\n",
    "    if len(layout.children) == 1:\n",
    "        layout.children = layout.children + [info]\n",
    "    info.children = [f'Item {items.index(widget)+1} clicked']\n",
    "\n",
    "\n",
    "items = [\n",
    "    v.ListItem(\n",
    "        children=[v.ListItemTitle(children=['Click me {i}'.format(i=i)])])\n",
    "    for i in range(1, 5)\n",
    "]\n",
    "\n",
    "for item in items:\n",
    "    item.on_event('click', on_menu_click)\n",
    "\n",
    "info = v.Chip(class_='ma-2')\n",
    "\n",
    "layout = v.Layout(children=[v.List(children=items)])\n",
    "layout"
   ]
  },
  {
   "cell_type": "markdown",
   "metadata": {},
   "source": [
    "## Menu"
   ]
  },
  {
   "cell_type": "code",
   "execution_count": null,
   "metadata": {
    "ExecuteTime": {
     "end_time": "2020-05-26T10:05:28.522132Z",
     "start_time": "2020-05-26T10:05:28.265417Z"
    }
   },
   "outputs": [],
   "source": [
    "def on_menu_click(widget, event, data):\n",
    "    if len(layout.children) == 1:\n",
    "        layout.children = layout.children + [info]\n",
    "    info.children=[f'Item {items.index(widget)+1} clicked']\n",
    "\n",
    "\n",
    "items = [v.ListItem(children=[\n",
    "    v.ListItemTitle(children=[\n",
    "        f'Item {i}'])])\n",
    "         for i in range(1, 5)]\n",
    "\n",
    "for item in items:\n",
    "    item.on_event('click', on_menu_click)\n",
    "\n",
    "menu = v.Menu(offset_y=True,\n",
    "    v_slots=[{\n",
    "        'name': 'activator',\n",
    "        'variable': 'menuData',\n",
    "        'children': v.Btn(v_on='menuData.on', class_='ma-2', color='primary', children=[\n",
    "            'menu',\n",
    "            v.Icon(right=True, children=[\n",
    "                'arrow_drop_down'\n",
    "            ])\n",
    "        ]),\n",
    "    }]\n",
    "    ,\n",
    "    children=[\n",
    "        v.List(children=items)\n",
    "    ]\n",
    ")\n",
    "\n",
    "info = v.Chip(class_='ma-2')\n",
    "\n",
    "layout = v.Layout(children=[\n",
    "    menu\n",
    "])\n",
    "layout"
   ]
  }
 ],
 "metadata": {
  "kernelspec": {
   "display_name": "Python (ipyvuetify_tutorial)",
   "language": "python",
   "name": "ipyvuetify_tutorial"
  },
  "language_info": {
   "codemirror_mode": {
    "name": "ipython",
    "version": 3
   },
   "file_extension": ".py",
   "mimetype": "text/x-python",
   "name": "python",
   "nbconvert_exporter": "python",
   "pygments_lexer": "ipython3",
   "version": "3.8.3"
  }
 },
 "nbformat": 4,
 "nbformat_minor": 2
}
