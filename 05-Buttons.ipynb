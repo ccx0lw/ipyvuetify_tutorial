{
 "cells": [
  {
   "cell_type": "markdown",
   "metadata": {
    "ExecuteTime": {
     "end_time": "2020-05-25T13:36:14.819870Z",
     "start_time": "2020-05-25T13:36:14.809448Z"
    }
   },
   "source": [
    "# ipyvuetify Tutorial 05 - Buttons\n",
    "\n",
    "This is the fifth in a series of ipyvuetify app development tutorials. If you're just getting started with ipyvuetify and haven't checked out the first tutorial \"01 Installation and First Steps.ipynb\", be sure to check that one out first.\n",
    "\n",
    "First of all, we'll load the required packages, and test to make sure your environment has all the dependencies set-up successfully:"
   ]
  },
  {
   "cell_type": "code",
   "execution_count": null,
   "metadata": {
    "ExecuteTime": {
     "end_time": "2020-05-25T16:52:59.395043Z",
     "start_time": "2020-05-25T16:52:59.073641Z"
    }
   },
   "outputs": [],
   "source": [
    "from time import sleep\n",
    "import ipyvuetify as v\n",
    "import ipywidgets as widgets\n",
    "import markdown\n",
    "from threading import Timer\n",
    "from traitlets import (Any, Unicode, List)\n",
    "\n",
    "v.Btn(class_='icon ma-2',\n",
    "      style_='max-width:100px',\n",
    "      color='success',\n",
    "      children=[v.Icon(children=['mdi-check'])])"
   ]
  },
  {
   "cell_type": "markdown",
   "metadata": {},
   "source": [
    "\n",
    "If you see a green button with a checkmark above, you have successfully installed ipyvuetify and enabled the extension. Good work!\n",
    "\n",
    "If not, refer to the first tutorial and/or the ipyvuetify documentation to set up your system before going further."
   ]
  },
  {
   "cell_type": "markdown",
   "metadata": {},
   "source": [
    "## Button Styles"
   ]
  },
  {
   "cell_type": "code",
   "execution_count": null,
   "metadata": {
    "ExecuteTime": {
     "end_time": "2020-05-25T16:52:59.437471Z",
     "start_time": "2020-05-25T16:52:59.396933Z"
    }
   },
   "outputs": [],
   "source": [
    "v.Layout(children=[\n",
    "    v.Btn(color='primary', children=['primary']),\n",
    "    v.Btn(color='error', children=['error']),\n",
    "    v.Btn(disabled=True, children=['disabled']),\n",
    "    v.Btn(children=['reset']),\n",
    "])"
   ]
  },
  {
   "cell_type": "code",
   "execution_count": null,
   "metadata": {
    "ExecuteTime": {
     "end_time": "2020-05-25T16:52:59.517254Z",
     "start_time": "2020-05-25T16:52:59.440335Z"
    }
   },
   "outputs": [],
   "source": [
    "v.Layout(children=[\n",
    "    v.Btn(color='primary', flat=True, children=['flat']),\n",
    "    v.Btn(color='primary', round=True, children=['round']),\n",
    "    v.Btn(color='primary', flat=True, icon=True, children=[v.Icon(children=['thumb_up'])]),\n",
    "    v.Btn(color='primary', outline=True, children=['outline']),\n",
    "    v.Btn(color='primary', fab=True, large=True, children=[v.Icon(children=['edit'])]),\n",
    "])"
   ]
  },
  {
   "cell_type": "code",
   "execution_count": null,
   "metadata": {
    "ExecuteTime": {
     "end_time": "2020-05-25T16:52:59.621760Z",
     "start_time": "2020-05-25T16:52:59.520518Z"
    }
   },
   "outputs": [],
   "source": [
    "v.Layout(children=[\n",
    "    v.Btn(color='primary', x_small=True, children=['x_small']),\n",
    "    v.Btn(color='primary', small=True, children=['small']),\n",
    "    v.Btn(color='primary', children=['default']),\n",
    "    v.Btn(color='primary', large=True, children=['large']),\n",
    "    v.Btn(color='primary', x_large=True, children=['x_large']),\n",
    "])"
   ]
  },
  {
   "cell_type": "code",
   "execution_count": null,
   "metadata": {
    "ExecuteTime": {
     "end_time": "2020-05-25T16:52:59.699110Z",
     "start_time": "2020-05-25T16:52:59.626072Z"
    }
   },
   "outputs": [],
   "source": [
    "v.Layout(children=[\n",
    "    v.Btn(color='primary', outlined=True, children=['outlined']),\n",
    "    v.Btn(color='primary', rounded=True, children=['rounded']),\n",
    "    v.Btn(color='primary', tile=True, children=['tile']),\n",
    "    v.Btn(color='primary', block=True, children=['block'])\n",
    "])"
   ]
  },
  {
   "cell_type": "markdown",
   "metadata": {},
   "source": [
    "## Floating Buttons\n",
    "\n",
    "Buttons can float!"
   ]
  },
  {
   "cell_type": "code",
   "execution_count": null,
   "metadata": {
    "ExecuteTime": {
     "end_time": "2020-05-25T16:52:59.736820Z",
     "start_time": "2020-05-25T16:52:59.702439Z"
    }
   },
   "outputs": [],
   "source": [
    "v.Layout(style_='height:300px; background-color:lightgrey',\n",
    "            children=[\n",
    "                v.Btn(class_='mb-8',\n",
    "                      small=True,\n",
    "                      fab=True,\n",
    "                      absolute=True,\n",
    "                      bottom=True,\n",
    "                      right=True,\n",
    "                      color='warning')\n",
    "            ])"
   ]
  },
  {
   "cell_type": "markdown",
   "metadata": {
    "ExecuteTime": {
     "end_time": "2020-05-25T13:35:53.052796Z",
     "start_time": "2020-05-25T13:35:53.045908Z"
    }
   },
   "source": [
    "## Toggle Buttons"
   ]
  },
  {
   "cell_type": "code",
   "execution_count": null,
   "metadata": {
    "ExecuteTime": {
     "end_time": "2020-05-25T16:52:59.900676Z",
     "start_time": "2020-05-25T16:52:59.739540Z"
    }
   },
   "outputs": [],
   "source": [
    "toggle_single = v.BtnToggle(v_model=2, class_='mr-3', children=[\n",
    "    v.Btn(flat=True, children=[v.Icon(children=['format_align_left'])]),\n",
    "    v.Btn(flat=True, children=[v.Icon(children=['format_align_center'])]),\n",
    "    v.Btn(flat=True, children=[v.Icon(children=['format_align_right'])]),\n",
    "    v.Btn(flat=True, children=[v.Icon(children=['format_align_justify'])]),\n",
    "])\n",
    "\n",
    "toggle_multi = v.BtnToggle(v_model=[0,2], multiple=True, children=[\n",
    "    v.Btn(flat=True, children=[v.Icon(children=['format_bold'])]),\n",
    "    v.Btn(flat=True, children=[v.Icon(children=['format_italic'])]),\n",
    "    v.Btn(flat=True, children=[v.Icon(children=['format_underline'])]),\n",
    "    v.Btn(flat=True, children=[v.Icon(children=['format_color_fill'])]),\n",
    "])\n",
    "\n",
    "v.Layout(children=[\n",
    "    toggle_single,\n",
    "    toggle_multi,\n",
    "])"
   ]
  },
  {
   "cell_type": "markdown",
   "metadata": {},
   "source": [
    "You can get the values of these with `v_model` as usual:"
   ]
  },
  {
   "cell_type": "code",
   "execution_count": null,
   "metadata": {
    "ExecuteTime": {
     "end_time": "2020-05-25T16:52:59.925975Z",
     "start_time": "2020-05-25T16:52:59.907933Z"
    }
   },
   "outputs": [],
   "source": [
    "toggle_single.v_model"
   ]
  },
  {
   "cell_type": "code",
   "execution_count": null,
   "metadata": {
    "ExecuteTime": {
     "end_time": "2020-05-25T16:52:59.948439Z",
     "start_time": "2020-05-25T16:52:59.929507Z"
    }
   },
   "outputs": [],
   "source": [
    "toggle_multi.v_model"
   ]
  },
  {
   "cell_type": "markdown",
   "metadata": {},
   "source": [
    "## Buttons With Icons / Tooltip"
   ]
  },
  {
   "cell_type": "code",
   "execution_count": null,
   "metadata": {
    "ExecuteTime": {
     "end_time": "2020-05-25T16:53:00.038054Z",
     "start_time": "2020-05-25T16:52:59.953485Z"
    }
   },
   "outputs": [],
   "source": [
    "v.Layout(children=[\n",
    "    v.Btn(color='primary', class_='ma-2', children=[\n",
    "        v.Icon(left=True, children=['mdi-fingerprint']),\n",
    "        'Icon left'\n",
    "    ]),\n",
    "    v.Btn(color='primary', class_='ma-2', children=[\n",
    "        'Icon right',\n",
    "        v.Icon(right=True, children=['mdi-fingerprint']),\n",
    "    ]),\n",
    "    v.Tooltip(bottom=True, v_slots=[{\n",
    "        'name': 'activator',\n",
    "        'variable': 'tooltip',\n",
    "        'children': v.Btn(v_on='tooltip.on', color='primary', class_='ma-2', children=[\n",
    "        v.Icon(left=True, children=['mdi-fingerprint']),\n",
    "        'Tooltip']),\n",
    "    }], children=[\n",
    "        'Insert tooltip text here'\n",
    "    ])    \n",
    "])"
   ]
  },
  {
   "cell_type": "markdown",
   "metadata": {},
   "source": [
    "## Making Buttons Do Something - `on_event('click')`\n",
    "\n",
    "Now that you've got some pretty buttons, lets see how to make clicking on them actually do something !\n",
    "\n",
    "In this simple example the python kernel sleeps for two and a half seconds when the button is pressed:"
   ]
  },
  {
   "cell_type": "code",
   "execution_count": null,
   "metadata": {
    "ExecuteTime": {
     "end_time": "2020-05-25T16:53:00.075026Z",
     "start_time": "2020-05-25T16:53:00.039847Z"
    }
   },
   "outputs": [],
   "source": [
    "def sleep_when_clicked(*args):\n",
    "    sleep(2.5)\n",
    "    print(\"I'm awake!\")\n",
    "\n",
    "mybutton = v.Btn(loading=False, children=['I Sleep When Clicked'])\n",
    "mybutton.on_event('click', sleep_when_clicked)\n",
    "\n",
    "v.Layout(children=[mybutton])"
   ]
  },
  {
   "cell_type": "markdown",
   "metadata": {},
   "source": [
    "This example used `*args` as the input to the function that is called when the button is clicked. For more fine-grained control the arguments `widget`, `event` and `data` can be used."
   ]
  },
  {
   "cell_type": "code",
   "execution_count": null,
   "metadata": {
    "ExecuteTime": {
     "end_time": "2020-05-25T16:53:00.108609Z",
     "start_time": "2020-05-25T16:53:00.077159Z"
    }
   },
   "outputs": [],
   "source": [
    "def get_info_for_click(widget, event, data):\n",
    "    print(\"\"\"widget: {widget}\n",
    "\n",
    "event: {event}\n",
    "\n",
    "data: {data}\"\"\".format(widget=widget,event=event,data=data))\n",
    "\n",
    "mybutton = v.Btn(loading=False, children=[\"Show Click Info\"])\n",
    "mybutton.on_event('click', get_info_for_click)\n",
    "\n",
    "v.Layout(children=[mybutton])"
   ]
  },
  {
   "cell_type": "markdown",
   "metadata": {},
   "source": [
    "## Menu Button"
   ]
  },
  {
   "cell_type": "code",
   "execution_count": null,
   "metadata": {
    "ExecuteTime": {
     "end_time": "2020-05-25T16:53:00.281268Z",
     "start_time": "2020-05-25T16:53:00.112946Z"
    }
   },
   "outputs": [],
   "source": [
    "def on_menu_click(widget, event, data):\n",
    "    if len(layout.children) == 1:\n",
    "        layout.children = layout.children + [info]\n",
    "    info.children = ['Item {clicked_item} clicked'.format(clicked_item=items.index(widget)+1)]\n",
    "\n",
    "items = [\n",
    "    v.ListItem(children=[v.ListItemTitle(children=[f'Item {i}'])])\n",
    "    for i in range(1, 5)\n",
    "]\n",
    "\n",
    "for item in items:\n",
    "    item.on_event('click', on_menu_click)\n",
    "\n",
    "menu = v.Menu(offset_y=True,\n",
    "              v_slots=[{\n",
    "                  'name':'activator',\n",
    "                  'variable':'menuData',\n",
    "                  'children':\n",
    "                  v.Btn(v_on='menuData.on',\n",
    "                        class_='ma-2',\n",
    "                        color='primary',\n",
    "                        children=[\n",
    "                            'menu',\n",
    "                            v.Icon(right=True, children=['arrow_drop_down'])\n",
    "                        ]),\n",
    "              }],\n",
    "              children=[v.List(children=items)])\n",
    "\n",
    "info = v.Chip(class_='ma-2')\n",
    "\n",
    "layout = v.Layout(children=[menu])\n",
    "layout"
   ]
  },
  {
   "cell_type": "markdown",
   "metadata": {},
   "source": [
    "## `v.Btn` Loading Property \n",
    "\n"
   ]
  },
  {
   "cell_type": "code",
   "execution_count": null,
   "metadata": {
    "ExecuteTime": {
     "end_time": "2020-05-25T16:53:00.317733Z",
     "start_time": "2020-05-25T16:53:00.284092Z"
    }
   },
   "outputs": [],
   "source": [
    "def toggleLoading():\n",
    "    button2.loading = not button2.loading\n",
    "    button2.disabled = button2.loading\n",
    "\n",
    "def on_loader_click(*args):\n",
    "    toggleLoading()\n",
    "    Timer(2.0, toggleLoading).start()\n",
    "\n",
    "button2 = v.Btn(loading=False, children=['loader'])\n",
    "button2.on_event('click', on_loader_click)\n",
    "\n",
    "v.Layout(children=[button2])"
   ]
  }
 ],
 "metadata": {
  "kernelspec": {
   "display_name": "Python (ipyvuetify_tutorial)",
   "language": "python",
   "name": "ipyvuetify_tutorial"
  },
  "language_info": {
   "codemirror_mode": {
    "name": "ipython",
    "version": 3
   },
   "file_extension": ".py",
   "mimetype": "text/x-python",
   "name": "python",
   "nbconvert_exporter": "python",
   "pygments_lexer": "ipython3",
   "version": "3.8.3"
  }
 },
 "nbformat": 4,
 "nbformat_minor": 2
}
