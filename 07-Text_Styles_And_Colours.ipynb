{
 "cells": [
  {
   "cell_type": "markdown",
   "metadata": {},
   "source": [
    "# ipyvuetify Tutorial 07 - Text Styles and Colours\n",
    "\n",
    "This is the sixth in a series of ipyvuetify app development tutorials. If you're just getting started with ipyvuetify and haven't checked out the first tutorial \"01 Installation and First Steps.ipynb\", be sure to check that one out first.\n",
    "\n",
    "For more details on text and colour options, check out these three pages:\n",
    "\n",
    "* https://vuetifyjs.com/en/styles/typography/\n",
    "* https://vuetifyjs.com/en/styles/colors/\n",
    "* https://vuetifyjs.com/en/styles/text/\n",
    "\n",
    "First of all, we'll load the required packages, and test to make sure your environment has all the dependencies set-up successfully:"
   ]
  },
  {
   "cell_type": "code",
   "execution_count": null,
   "metadata": {
    "ExecuteTime": {
     "end_time": "2020-05-26T13:11:03.269781Z",
     "start_time": "2020-05-26T13:11:03.021761Z"
    }
   },
   "outputs": [],
   "source": [
    "from time import sleep\n",
    "import ipyvuetify as v\n",
    "\n",
    "v.Btn(class_='icon ma-2',\n",
    "      style_='max-width:100px',\n",
    "      color='success',\n",
    "      children=[v.Icon(children=['mdi-check'])])"
   ]
  },
  {
   "cell_type": "markdown",
   "metadata": {},
   "source": [
    "\n",
    "If you see a green button with a checkmark above, you have successfully installed ipyvuetify and enabled the extension. Good work!\n",
    "\n",
    "If not, refer to the first tutorial and/or the ipyvuetify documentation to set up your system before going further."
   ]
  },
  {
   "cell_type": "markdown",
   "metadata": {},
   "source": [
    "## Font Size\n",
    "\n",
    "To change the font size of an `ipyvuetify` element, you add a prop to the `class_` argument."
   ]
  },
  {
   "cell_type": "code",
   "execution_count": null,
   "metadata": {
    "ExecuteTime": {
     "end_time": "2020-05-26T13:11:03.371907Z",
     "start_time": "2020-05-26T13:11:03.271728Z"
    }
   },
   "outputs": [],
   "source": [
    "for i in ['display-4',\n",
    "'display-3',\n",
    "'display-2',\n",
    "'display-1',\n",
    "'headline',\n",
    "'title',\n",
    "'subtitle-1',\n",
    "'subtitle-2',\n",
    "'body-1',\n",
    "'body-2',\n",
    "'caption',\n",
    "'overline',]: \n",
    "    display(v.Html(tag='div',class_=i,children=[i]))"
   ]
  },
  {
   "cell_type": "markdown",
   "metadata": {},
   "source": [
    "## Font Style\n",
    "\n",
    "Similarly with font style, as can be seen below"
   ]
  },
  {
   "cell_type": "code",
   "execution_count": null,
   "metadata": {
    "ExecuteTime": {
     "end_time": "2020-05-26T13:11:03.501544Z",
     "start_time": "2020-05-26T13:11:03.375022Z"
    }
   },
   "outputs": [],
   "source": [
    "for i in ['font-regular',\n",
    "'font-weight-light',\n",
    "'font-weight-thin',\n",
    "'font-weight-regular',\n",
    "'font-weight-medium',\n",
    "'font-weight-bold',\n",
    "'font-weight-black',\n",
    "'font-italic',\n",
    "'font-italic font-weight-light',\n",
    "'font-italic font-weight-medium',\n",
    "'font-italic font-weight-bold',]: \n",
    "    display(v.Html(tag='div',class_=i+' headline',children=[i]))"
   ]
  },
  {
   "cell_type": "markdown",
   "metadata": {},
   "source": [
    "## Text Alignment - `text-justify`"
   ]
  },
  {
   "cell_type": "code",
   "execution_count": null,
   "metadata": {
    "ExecuteTime": {
     "end_time": "2020-05-26T13:11:03.511260Z",
     "start_time": "2020-05-26T13:11:03.506438Z"
    }
   },
   "outputs": [],
   "source": [
    "edward_lear = \"\"\"The Owl and the Pussy-Cat went to sea\n",
    "    In a beautiful pea-green boat:\n",
    "    They took some honey, and plenty of money\n",
    "    Wrapped up in a five-pound note.\"\"\""
   ]
  },
  {
   "cell_type": "code",
   "execution_count": null,
   "metadata": {
    "ExecuteTime": {
     "end_time": "2020-05-26T13:11:03.590505Z",
     "start_time": "2020-05-26T13:11:03.513372Z"
    }
   },
   "outputs": [],
   "source": [
    "v.Container(children=[\n",
    "    v.Html(tag='p', class_='body-1 text-left', children=[i])\n",
    "    for i in edward_lear.split('\\n')\n",
    "])"
   ]
  },
  {
   "cell_type": "markdown",
   "metadata": {},
   "source": [
    "### Text Alignment - `center`"
   ]
  },
  {
   "cell_type": "code",
   "execution_count": null,
   "metadata": {
    "ExecuteTime": {
     "end_time": "2020-05-26T13:11:03.662921Z",
     "start_time": "2020-05-26T13:11:03.594846Z"
    }
   },
   "outputs": [],
   "source": [
    "v.Container(children=[\n",
    "    v.Html(tag='p', class_='body-1 text-center', children=[i])\n",
    "    for i in edward_lear.split('\\n')\n",
    "])"
   ]
  },
  {
   "cell_type": "markdown",
   "metadata": {},
   "source": [
    "### Text Alignment - `right`"
   ]
  },
  {
   "cell_type": "code",
   "execution_count": null,
   "metadata": {
    "ExecuteTime": {
     "end_time": "2020-05-26T13:11:03.731157Z",
     "start_time": "2020-05-26T13:11:03.665774Z"
    }
   },
   "outputs": [],
   "source": [
    "v.Container(children=[\n",
    "    v.Html(tag='p', class_='body-1 text-right', children=[i])\n",
    "    for i in edward_lear.split('\\n')\n",
    "])"
   ]
  },
  {
   "cell_type": "markdown",
   "metadata": {},
   "source": [
    "### Text Transformations\n",
    "\n",
    "Three handy text trandsformations are available\n",
    "\n",
    "* `text-lowercase` \n",
    "* `text-uppercase`\n",
    "* `text-capitalize`"
   ]
  },
  {
   "cell_type": "code",
   "execution_count": null,
   "metadata": {
    "ExecuteTime": {
     "end_time": "2020-05-26T13:11:03.764850Z",
     "start_time": "2020-05-26T13:11:03.734073Z"
    }
   },
   "outputs": [],
   "source": [
    "v.Html(tag='p',class_='headline text-lowercase',\n",
    "       children=[\"The Owl looked up to the stars above,\"])"
   ]
  },
  {
   "cell_type": "code",
   "execution_count": null,
   "metadata": {
    "ExecuteTime": {
     "end_time": "2020-05-26T13:11:03.792036Z",
     "start_time": "2020-05-26T13:11:03.767750Z"
    }
   },
   "outputs": [],
   "source": [
    "v.Html(tag='p',class_='headline text-uppercase',\n",
    "       children=[\"And sang to a small guitar,\"])"
   ]
  },
  {
   "cell_type": "code",
   "execution_count": null,
   "metadata": {
    "ExecuteTime": {
     "end_time": "2020-05-26T13:11:03.814902Z",
     "start_time": "2020-05-26T13:11:03.795402Z"
    }
   },
   "outputs": [],
   "source": [
    "v.Html(tag='p',class_='headline text-capitalize',\n",
    "       children=[\"...Dear Pig, are you willing to sell for one shilling\"])"
   ]
  },
  {
   "cell_type": "markdown",
   "metadata": {},
   "source": [
    "## Colours\n",
    "\n",
    "There are a lot of options for colours for your `ipyvuetify` elements.\n",
    "\n",
    "https://vuetifyjs.com/en/styles/colors/\n",
    "\n",
    "We'll show a few examples to get you started."
   ]
  },
  {
   "cell_type": "code",
   "execution_count": null,
   "metadata": {
    "ExecuteTime": {
     "end_time": "2020-05-26T13:11:03.826386Z",
     "start_time": "2020-05-26T13:11:03.821905Z"
    }
   },
   "outputs": [],
   "source": [
    "colours = ['red','pink','purple','deep-purple','indigo','blue','light-blue','cyan','teal','green','light-green','lime','yellow','amber','orange','deep-orange','blue-grey','brown','grey']"
   ]
  },
  {
   "cell_type": "code",
   "execution_count": null,
   "metadata": {
    "ExecuteTime": {
     "end_time": "2020-05-26T13:11:04.150027Z",
     "start_time": "2020-05-26T13:11:03.829162Z"
    }
   },
   "outputs": [],
   "source": [
    "v.Container(children=[\n",
    "    v.Btn(color=i,children=[i])\n",
    "    for i in colours\n",
    "])"
   ]
  },
  {
   "cell_type": "markdown",
   "metadata": {},
   "source": [
    "### Lighten, darken, accent\n",
    "\n",
    "You can lighten/darken/accent the colours with levels from 1 to 4 with the `lighten-k` prop, like this:"
   ]
  },
  {
   "cell_type": "code",
   "execution_count": null,
   "metadata": {
    "ExecuteTime": {
     "end_time": "2020-05-26T13:11:04.473930Z",
     "start_time": "2020-05-26T13:11:04.159817Z"
    }
   },
   "outputs": [],
   "source": [
    "v.Container(children=[\n",
    "    v.Btn(color=i+' lighten-4',children=[i])\n",
    "    for i in colours\n",
    "])"
   ]
  },
  {
   "cell_type": "code",
   "execution_count": null,
   "metadata": {
    "ExecuteTime": {
     "end_time": "2020-05-26T13:11:04.725190Z",
     "start_time": "2020-05-26T13:11:04.477848Z"
    }
   },
   "outputs": [],
   "source": [
    "v.Container(children=[\n",
    "    v.Btn(color=i+' darken-2',children=[i])\n",
    "    for i in colours\n",
    "])"
   ]
  },
  {
   "cell_type": "code",
   "execution_count": null,
   "metadata": {
    "ExecuteTime": {
     "end_time": "2020-05-26T13:11:04.975827Z",
     "start_time": "2020-05-26T13:11:04.727215Z"
    }
   },
   "outputs": [],
   "source": [
    "v.Container(children=[\n",
    "    v.Btn(color=i+' accent-2',children=[i])\n",
    "    for i in colours\n",
    "])"
   ]
  }
 ],
 "metadata": {
  "kernelspec": {
   "display_name": "Python 3",
   "language": "python",
   "name": "python3"
  },
  "language_info": {
   "codemirror_mode": {
    "name": "ipython",
    "version": 3
   },
   "file_extension": ".py",
   "mimetype": "text/x-python",
   "name": "python",
   "nbconvert_exporter": "python",
   "pygments_lexer": "ipython3",
   "version": "3.8.3"
  }
 },
 "nbformat": 4,
 "nbformat_minor": 4
}
