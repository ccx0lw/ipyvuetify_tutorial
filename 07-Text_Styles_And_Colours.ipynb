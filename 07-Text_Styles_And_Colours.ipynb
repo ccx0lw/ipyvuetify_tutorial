{
 "cells": [
  {
   "cell_type": "markdown",
   "metadata": {},
   "source": [
    "# ipyvuetify Tutorial 07 - Text Styles and Colours\n",
    "\n",
    "This is the sixth in a series of ipyvuetify app development tutorials. If you're just getting started with ipyvuetify and haven't checked out the first tutorial \"01 Installation and First Steps.ipynb\", be sure to check that one out first.\n",
    "\n",
    "For more details on text and colour options, check out these three pages:\n",
    "\n",
    "* https://vuetifyjs.com/en/styles/typography/\n",
    "* https://vuetifyjs.com/en/styles/colors/\n",
    "* https://vuetifyjs.com/en/styles/text/\n",
    "\n",
    "First of all, we'll load the required packages, and test to make sure your environment has all the dependencies set-up successfully:"
   ]
  },
  {
   "cell_type": "code",
   "execution_count": 1,
   "metadata": {
    "ExecuteTime": {
     "end_time": "2020-05-26T13:11:03.269781Z",
     "start_time": "2020-05-26T13:11:03.021761Z"
    }
   },
   "outputs": [
    {
     "data": {
      "application/vnd.jupyter.widget-view+json": {
       "model_id": "a13c60333c904884a6deb4217b734c4a",
       "version_major": 2,
       "version_minor": 0
      },
      "text/plain": [
       "Btn(children=[Icon(children=['mdi-check'])], class_='icon ma-2', color='success', style_='max-width:100px')"
      ]
     },
     "metadata": {},
     "output_type": "display_data"
    }
   ],
   "source": [
    "from time import sleep\n",
    "import ipyvuetify as v\n",
    "\n",
    "v.Btn(class_='icon ma-2',\n",
    "      style_='max-width:100px',\n",
    "      color='success',\n",
    "      children=[v.Icon(children=['mdi-check'])])"
   ]
  },
  {
   "cell_type": "markdown",
   "metadata": {},
   "source": [
    "\n",
    "If you see a green button with a checkmark above, you have successfully installed ipyvuetify and enabled the extension. Good work!\n",
    "\n",
    "If not, refer to the first tutorial and/or the ipyvuetify documentation to set up your system before going further."
   ]
  },
  {
   "cell_type": "markdown",
   "metadata": {},
   "source": [
    "## Font Size\n",
    "\n",
    "To change the font size of an `ipyvuetify` element, you add a prop to the `class_` argument."
   ]
  },
  {
   "cell_type": "code",
   "execution_count": 2,
   "metadata": {
    "ExecuteTime": {
     "end_time": "2020-05-26T13:11:03.371907Z",
     "start_time": "2020-05-26T13:11:03.271728Z"
    }
   },
   "outputs": [
    {
     "data": {
      "application/vnd.jupyter.widget-view+json": {
       "model_id": "610a882e237a443aae8b77a16f5f76bf",
       "version_major": 2,
       "version_minor": 0
      },
      "text/plain": [
       "Html(children=['display-4'], class_='display-4', tag='div')"
      ]
     },
     "metadata": {},
     "output_type": "display_data"
    },
    {
     "data": {
      "application/vnd.jupyter.widget-view+json": {
       "model_id": "70a03452535e4b59a530ee3221a53b72",
       "version_major": 2,
       "version_minor": 0
      },
      "text/plain": [
       "Html(children=['display-3'], class_='display-3', tag='div')"
      ]
     },
     "metadata": {},
     "output_type": "display_data"
    },
    {
     "data": {
      "application/vnd.jupyter.widget-view+json": {
       "model_id": "0a18751b6db74aaaacb260d70f4e148a",
       "version_major": 2,
       "version_minor": 0
      },
      "text/plain": [
       "Html(children=['display-2'], class_='display-2', tag='div')"
      ]
     },
     "metadata": {},
     "output_type": "display_data"
    },
    {
     "data": {
      "application/vnd.jupyter.widget-view+json": {
       "model_id": "a3952b4622474b61b70a432733fbda6a",
       "version_major": 2,
       "version_minor": 0
      },
      "text/plain": [
       "Html(children=['display-1'], class_='display-1', tag='div')"
      ]
     },
     "metadata": {},
     "output_type": "display_data"
    },
    {
     "data": {
      "application/vnd.jupyter.widget-view+json": {
       "model_id": "e40d5bee6763489abf78bf1a1086778c",
       "version_major": 2,
       "version_minor": 0
      },
      "text/plain": [
       "Html(children=['headline'], class_='headline', tag='div')"
      ]
     },
     "metadata": {},
     "output_type": "display_data"
    },
    {
     "data": {
      "application/vnd.jupyter.widget-view+json": {
       "model_id": "8b112b555196465a8936dfd91fc1f1de",
       "version_major": 2,
       "version_minor": 0
      },
      "text/plain": [
       "Html(children=['title'], class_='title', tag='div')"
      ]
     },
     "metadata": {},
     "output_type": "display_data"
    },
    {
     "data": {
      "application/vnd.jupyter.widget-view+json": {
       "model_id": "b1fbabf8cc4348de9bfac9ddf95bbcfe",
       "version_major": 2,
       "version_minor": 0
      },
      "text/plain": [
       "Html(children=['subtitle-1'], class_='subtitle-1', tag='div')"
      ]
     },
     "metadata": {},
     "output_type": "display_data"
    },
    {
     "data": {
      "application/vnd.jupyter.widget-view+json": {
       "model_id": "8af5282009ee4965b81f1ce765c1f7b8",
       "version_major": 2,
       "version_minor": 0
      },
      "text/plain": [
       "Html(children=['subtitle-2'], class_='subtitle-2', tag='div')"
      ]
     },
     "metadata": {},
     "output_type": "display_data"
    },
    {
     "data": {
      "application/vnd.jupyter.widget-view+json": {
       "model_id": "2d885b95d4b44172a8f848f659d1cd7a",
       "version_major": 2,
       "version_minor": 0
      },
      "text/plain": [
       "Html(children=['body-1'], class_='body-1', tag='div')"
      ]
     },
     "metadata": {},
     "output_type": "display_data"
    },
    {
     "data": {
      "application/vnd.jupyter.widget-view+json": {
       "model_id": "ff61c1e8da3e4a579e4814b599408f56",
       "version_major": 2,
       "version_minor": 0
      },
      "text/plain": [
       "Html(children=['body-2'], class_='body-2', tag='div')"
      ]
     },
     "metadata": {},
     "output_type": "display_data"
    },
    {
     "data": {
      "application/vnd.jupyter.widget-view+json": {
       "model_id": "54d367f9b9924b7692f7bcc874863e00",
       "version_major": 2,
       "version_minor": 0
      },
      "text/plain": [
       "Html(children=['caption'], class_='caption', tag='div')"
      ]
     },
     "metadata": {},
     "output_type": "display_data"
    },
    {
     "data": {
      "application/vnd.jupyter.widget-view+json": {
       "model_id": "877dfe9d5f5742969a3595fd600ea39f",
       "version_major": 2,
       "version_minor": 0
      },
      "text/plain": [
       "Html(children=['overline'], class_='overline', tag='div')"
      ]
     },
     "metadata": {},
     "output_type": "display_data"
    }
   ],
   "source": [
    "for i in ['display-4',\n",
    "'display-3',\n",
    "'display-2',\n",
    "'display-1',\n",
    "'headline',\n",
    "'title',\n",
    "'subtitle-1',\n",
    "'subtitle-2',\n",
    "'body-1',\n",
    "'body-2',\n",
    "'caption',\n",
    "'overline',]: \n",
    "    display(v.Html(tag='div',class_=i,children=[i]))"
   ]
  },
  {
   "cell_type": "markdown",
   "metadata": {},
   "source": [
    "## Font Style\n",
    "\n",
    "Similarly with font style, as can be seen below"
   ]
  },
  {
   "cell_type": "code",
   "execution_count": 3,
   "metadata": {
    "ExecuteTime": {
     "end_time": "2020-05-26T13:11:03.501544Z",
     "start_time": "2020-05-26T13:11:03.375022Z"
    }
   },
   "outputs": [
    {
     "data": {
      "application/vnd.jupyter.widget-view+json": {
       "model_id": "ecd0ad6013b844adb9e5143184370c75",
       "version_major": 2,
       "version_minor": 0
      },
      "text/plain": [
       "Html(children=['font-regular'], class_='font-regular headline', tag='div')"
      ]
     },
     "metadata": {},
     "output_type": "display_data"
    },
    {
     "data": {
      "application/vnd.jupyter.widget-view+json": {
       "model_id": "1da5a259d25f41d8952be0c8ad7dc001",
       "version_major": 2,
       "version_minor": 0
      },
      "text/plain": [
       "Html(children=['font-weight-light'], class_='font-weight-light headline', tag='div')"
      ]
     },
     "metadata": {},
     "output_type": "display_data"
    },
    {
     "data": {
      "application/vnd.jupyter.widget-view+json": {
       "model_id": "b65b1bb2a9ae43d59866c51a4d7d9de0",
       "version_major": 2,
       "version_minor": 0
      },
      "text/plain": [
       "Html(children=['font-weight-thin'], class_='font-weight-thin headline', tag='div')"
      ]
     },
     "metadata": {},
     "output_type": "display_data"
    },
    {
     "data": {
      "application/vnd.jupyter.widget-view+json": {
       "model_id": "fe0658030f7241129e403b167aaf0b86",
       "version_major": 2,
       "version_minor": 0
      },
      "text/plain": [
       "Html(children=['font-weight-regular'], class_='font-weight-regular headline', tag='div')"
      ]
     },
     "metadata": {},
     "output_type": "display_data"
    },
    {
     "data": {
      "application/vnd.jupyter.widget-view+json": {
       "model_id": "a917d34c0c724751af348c93e5ee4db9",
       "version_major": 2,
       "version_minor": 0
      },
      "text/plain": [
       "Html(children=['font-weight-medium'], class_='font-weight-medium headline', tag='div')"
      ]
     },
     "metadata": {},
     "output_type": "display_data"
    },
    {
     "data": {
      "application/vnd.jupyter.widget-view+json": {
       "model_id": "43b23fa9eda142d09550455428f83aba",
       "version_major": 2,
       "version_minor": 0
      },
      "text/plain": [
       "Html(children=['font-weight-bold'], class_='font-weight-bold headline', tag='div')"
      ]
     },
     "metadata": {},
     "output_type": "display_data"
    },
    {
     "data": {
      "application/vnd.jupyter.widget-view+json": {
       "model_id": "c9e60c904d9449b9a22dddb5883652d8",
       "version_major": 2,
       "version_minor": 0
      },
      "text/plain": [
       "Html(children=['font-weight-black'], class_='font-weight-black headline', tag='div')"
      ]
     },
     "metadata": {},
     "output_type": "display_data"
    },
    {
     "data": {
      "application/vnd.jupyter.widget-view+json": {
       "model_id": "5f6eca58eb3c4501a7b7e7765783924a",
       "version_major": 2,
       "version_minor": 0
      },
      "text/plain": [
       "Html(children=['font-italic'], class_='font-italic headline', tag='div')"
      ]
     },
     "metadata": {},
     "output_type": "display_data"
    },
    {
     "data": {
      "application/vnd.jupyter.widget-view+json": {
       "model_id": "58926b7d4b8a491993ca13ada3bd7924",
       "version_major": 2,
       "version_minor": 0
      },
      "text/plain": [
       "Html(children=['font-italic font-weight-light'], class_='font-italic font-weight-light headline', tag='div')"
      ]
     },
     "metadata": {},
     "output_type": "display_data"
    },
    {
     "data": {
      "application/vnd.jupyter.widget-view+json": {
       "model_id": "eac5b27995a349039720a01c835a428d",
       "version_major": 2,
       "version_minor": 0
      },
      "text/plain": [
       "Html(children=['font-italic font-weight-medium'], class_='font-italic font-weight-medium headline', tag='div')"
      ]
     },
     "metadata": {},
     "output_type": "display_data"
    },
    {
     "data": {
      "application/vnd.jupyter.widget-view+json": {
       "model_id": "ee281b860ae84ba39c15241c779777b1",
       "version_major": 2,
       "version_minor": 0
      },
      "text/plain": [
       "Html(children=['font-italic font-weight-bold'], class_='font-italic font-weight-bold headline', tag='div')"
      ]
     },
     "metadata": {},
     "output_type": "display_data"
    }
   ],
   "source": [
    "for i in ['font-regular',\n",
    "'font-weight-light',\n",
    "'font-weight-thin',\n",
    "'font-weight-regular',\n",
    "'font-weight-medium',\n",
    "'font-weight-bold',\n",
    "'font-weight-black',\n",
    "'font-italic',\n",
    "'font-italic font-weight-light',\n",
    "'font-italic font-weight-medium',\n",
    "'font-italic font-weight-bold',]: \n",
    "    display(v.Html(tag='div',class_=i+' headline',children=[i]))"
   ]
  },
  {
   "cell_type": "markdown",
   "metadata": {},
   "source": [
    "## Text Alignment - `text-justify`"
   ]
  },
  {
   "cell_type": "code",
   "execution_count": 4,
   "metadata": {
    "ExecuteTime": {
     "end_time": "2020-05-26T13:11:03.511260Z",
     "start_time": "2020-05-26T13:11:03.506438Z"
    }
   },
   "outputs": [],
   "source": [
    "edward_lear = \"\"\"The Owl and the Pussy-Cat went to sea\n",
    "    In a beautiful pea-green boat:\n",
    "    They took some honey, and plenty of money\n",
    "    Wrapped up in a five-pound note.\"\"\""
   ]
  },
  {
   "cell_type": "code",
   "execution_count": 5,
   "metadata": {
    "ExecuteTime": {
     "end_time": "2020-05-26T13:11:03.590505Z",
     "start_time": "2020-05-26T13:11:03.513372Z"
    }
   },
   "outputs": [
    {
     "data": {
      "application/vnd.jupyter.widget-view+json": {
       "model_id": "273aef5bea264ddc83d44b4e1f2fd886",
       "version_major": 2,
       "version_minor": 0
      },
      "text/plain": [
       "Container(children=[Html(children=['The Owl and the Pussy-Cat went to sea'], class_='body-1 text-left', tag='p…"
      ]
     },
     "metadata": {},
     "output_type": "display_data"
    }
   ],
   "source": [
    "v.Container(children=[\n",
    "    v.Html(tag='p', class_='body-1 text-left', children=[i])\n",
    "    for i in edward_lear.split('\\n')\n",
    "])"
   ]
  },
  {
   "cell_type": "markdown",
   "metadata": {},
   "source": [
    "### Text Alignment - `center`"
   ]
  },
  {
   "cell_type": "code",
   "execution_count": 6,
   "metadata": {
    "ExecuteTime": {
     "end_time": "2020-05-26T13:11:03.662921Z",
     "start_time": "2020-05-26T13:11:03.594846Z"
    }
   },
   "outputs": [
    {
     "data": {
      "application/vnd.jupyter.widget-view+json": {
       "model_id": "030405b27c8c4edab50c202eb89da94b",
       "version_major": 2,
       "version_minor": 0
      },
      "text/plain": [
       "Container(children=[Html(children=['The Owl and the Pussy-Cat went to sea'], class_='body-1 text-center', tag=…"
      ]
     },
     "metadata": {},
     "output_type": "display_data"
    }
   ],
   "source": [
    "v.Container(children=[\n",
    "    v.Html(tag='p', class_='body-1 text-center', children=[i])\n",
    "    for i in edward_lear.split('\\n')\n",
    "])"
   ]
  },
  {
   "cell_type": "markdown",
   "metadata": {},
   "source": [
    "### Text Alignment - `right`"
   ]
  },
  {
   "cell_type": "code",
   "execution_count": 7,
   "metadata": {
    "ExecuteTime": {
     "end_time": "2020-05-26T13:11:03.731157Z",
     "start_time": "2020-05-26T13:11:03.665774Z"
    }
   },
   "outputs": [
    {
     "data": {
      "application/vnd.jupyter.widget-view+json": {
       "model_id": "218145ce0e3a4d31a7a3b52d9c78b7be",
       "version_major": 2,
       "version_minor": 0
      },
      "text/plain": [
       "Container(children=[Html(children=['The Owl and the Pussy-Cat went to sea'], class_='body-1 text-right', tag='…"
      ]
     },
     "metadata": {},
     "output_type": "display_data"
    }
   ],
   "source": [
    "v.Container(children=[\n",
    "    v.Html(tag='p', class_='body-1 text-right', children=[i])\n",
    "    for i in edward_lear.split('\\n')\n",
    "])"
   ]
  },
  {
   "cell_type": "markdown",
   "metadata": {},
   "source": [
    "### Text Transformations\n",
    "\n",
    "Three handy text trandsformations are available\n",
    "\n",
    "* `text-lowercase` \n",
    "* `text-uppercase`\n",
    "* `text-capitalize`"
   ]
  },
  {
   "cell_type": "code",
   "execution_count": 8,
   "metadata": {
    "ExecuteTime": {
     "end_time": "2020-05-26T13:11:03.764850Z",
     "start_time": "2020-05-26T13:11:03.734073Z"
    }
   },
   "outputs": [
    {
     "data": {
      "application/vnd.jupyter.widget-view+json": {
       "model_id": "25986faeee7448d8bd7bd9261a73561a",
       "version_major": 2,
       "version_minor": 0
      },
      "text/plain": [
       "Html(children=['The Owl looked up to the stars above,'], class_='headline text-lowercase', tag='p')"
      ]
     },
     "metadata": {},
     "output_type": "display_data"
    }
   ],
   "source": [
    "v.Html(tag='p',class_='headline text-lowercase',\n",
    "       children=[\"The Owl looked up to the stars above,\"])"
   ]
  },
  {
   "cell_type": "code",
   "execution_count": 9,
   "metadata": {
    "ExecuteTime": {
     "end_time": "2020-05-26T13:11:03.792036Z",
     "start_time": "2020-05-26T13:11:03.767750Z"
    }
   },
   "outputs": [
    {
     "data": {
      "application/vnd.jupyter.widget-view+json": {
       "model_id": "3fdb9881d7a843709ab527d764dc83f0",
       "version_major": 2,
       "version_minor": 0
      },
      "text/plain": [
       "Html(children=['And sang to a small guitar,'], class_='headline text-uppercase', tag='p')"
      ]
     },
     "metadata": {},
     "output_type": "display_data"
    }
   ],
   "source": [
    "v.Html(tag='p',class_='headline text-uppercase',\n",
    "       children=[\"And sang to a small guitar,\"])"
   ]
  },
  {
   "cell_type": "code",
   "execution_count": 10,
   "metadata": {
    "ExecuteTime": {
     "end_time": "2020-05-26T13:11:03.814902Z",
     "start_time": "2020-05-26T13:11:03.795402Z"
    }
   },
   "outputs": [
    {
     "data": {
      "application/vnd.jupyter.widget-view+json": {
       "model_id": "dc17a33e23274da0a48c2f86c4f5522d",
       "version_major": 2,
       "version_minor": 0
      },
      "text/plain": [
       "Html(children=['...Dear Pig, are you willing to sell for one shilling'], class_='headline text-capitalize', ta…"
      ]
     },
     "metadata": {},
     "output_type": "display_data"
    }
   ],
   "source": [
    "v.Html(tag='p',class_='headline text-capitalize',\n",
    "       children=[\"...Dear Pig, are you willing to sell for one shilling\"])"
   ]
  },
  {
   "cell_type": "markdown",
   "metadata": {},
   "source": [
    "## Colours\n",
    "\n",
    "There are a lot of options for colours for your `ipyvuetify` elements.\n",
    "\n",
    "https://vuetifyjs.com/en/styles/colors/\n",
    "\n",
    "We'll show a few examples to get you started."
   ]
  },
  {
   "cell_type": "code",
   "execution_count": 11,
   "metadata": {
    "ExecuteTime": {
     "end_time": "2020-05-26T13:11:03.826386Z",
     "start_time": "2020-05-26T13:11:03.821905Z"
    }
   },
   "outputs": [],
   "source": [
    "colours = ['red','pink','purple','deep-purple','indigo','blue','light-blue','cyan','teal','green','light-green','lime','yellow','amber','orange','deep-orange','blue-grey','brown','grey']"
   ]
  },
  {
   "cell_type": "code",
   "execution_count": 12,
   "metadata": {
    "ExecuteTime": {
     "end_time": "2020-05-26T13:11:04.150027Z",
     "start_time": "2020-05-26T13:11:03.829162Z"
    }
   },
   "outputs": [
    {
     "data": {
      "application/vnd.jupyter.widget-view+json": {
       "model_id": "5a35bbd01d454f3088052f005656297b",
       "version_major": 2,
       "version_minor": 0
      },
      "text/plain": [
       "Container(children=[Btn(children=['red'], color='red'), Btn(children=['pink'], color='pink'), Btn(children=['p…"
      ]
     },
     "metadata": {},
     "output_type": "display_data"
    }
   ],
   "source": [
    "v.Container(children=[\n",
    "    v.Btn(color=i,children=[i])\n",
    "    for i in colours\n",
    "])"
   ]
  },
  {
   "cell_type": "markdown",
   "metadata": {},
   "source": [
    "### Lighten, darken, accent\n",
    "\n",
    "You can lighten/darken/accent the colours with levels from 1 to 4 with the `lighten-k` prop, like this:"
   ]
  },
  {
   "cell_type": "code",
   "execution_count": 13,
   "metadata": {
    "ExecuteTime": {
     "end_time": "2020-05-26T13:11:04.473930Z",
     "start_time": "2020-05-26T13:11:04.159817Z"
    }
   },
   "outputs": [
    {
     "data": {
      "application/vnd.jupyter.widget-view+json": {
       "model_id": "cfbd17007cd94d18acedb3ddc9b939d8",
       "version_major": 2,
       "version_minor": 0
      },
      "text/plain": [
       "Container(children=[Btn(children=['red'], color='red lighten-4'), Btn(children=['pink'], color='pink lighten-4…"
      ]
     },
     "metadata": {},
     "output_type": "display_data"
    }
   ],
   "source": [
    "v.Container(children=[\n",
    "    v.Btn(color=i+' lighten-4',children=[i])\n",
    "    for i in colours\n",
    "])"
   ]
  },
  {
   "cell_type": "code",
   "execution_count": 14,
   "metadata": {
    "ExecuteTime": {
     "end_time": "2020-05-26T13:11:04.725190Z",
     "start_time": "2020-05-26T13:11:04.477848Z"
    }
   },
   "outputs": [
    {
     "data": {
      "application/vnd.jupyter.widget-view+json": {
       "model_id": "6fc339b9a1724b049ff5439b792ed807",
       "version_major": 2,
       "version_minor": 0
      },
      "text/plain": [
       "Container(children=[Btn(children=['red'], color='red darken-2'), Btn(children=['pink'], color='pink darken-2')…"
      ]
     },
     "metadata": {},
     "output_type": "display_data"
    }
   ],
   "source": [
    "v.Container(children=[\n",
    "    v.Btn(color=i+' darken-2',children=[i])\n",
    "    for i in colours\n",
    "])"
   ]
  },
  {
   "cell_type": "code",
   "execution_count": 15,
   "metadata": {
    "ExecuteTime": {
     "end_time": "2020-05-26T13:11:04.975827Z",
     "start_time": "2020-05-26T13:11:04.727215Z"
    }
   },
   "outputs": [
    {
     "data": {
      "application/vnd.jupyter.widget-view+json": {
       "model_id": "cc3d9b83a0a14c0283b90e12d0c4b3ab",
       "version_major": 2,
       "version_minor": 0
      },
      "text/plain": [
       "Container(children=[Btn(children=['red'], color='red accent-2'), Btn(children=['pink'], color='pink accent-2')…"
      ]
     },
     "metadata": {},
     "output_type": "display_data"
    }
   ],
   "source": [
    "v.Container(children=[\n",
    "    v.Btn(color=i+' accent-2',children=[i])\n",
    "    for i in colours\n",
    "])"
   ]
  }
 ],
 "metadata": {
  "kernelspec": {
   "display_name": "Python 3",
   "language": "python",
   "name": "python3"
  },
  "language_info": {
   "codemirror_mode": {
    "name": "ipython",
    "version": 3
   },
   "file_extension": ".py",
   "mimetype": "text/x-python",
   "name": "python",
   "nbconvert_exporter": "python",
   "pygments_lexer": "ipython3",
   "version": "3.8.3"
  }
 },
 "nbformat": 4,
 "nbformat_minor": 4
}
