{
 "cells": [
  {
   "cell_type": "markdown",
   "metadata": {
    "ExecuteTime": {
     "end_time": "2020-05-15T18:17:47.505212Z",
     "start_time": "2020-05-15T18:17:47.491619Z"
    }
   },
   "source": [
    "# `ipyvuetify` Tutorial 02 - Layout and Cards\n",
    "\n",
    "This is the second in a series of `ipyvuetify` app development tutorials. If you're just getting started with `ipyvuetify` and haven't checked out the first tutorial \"01 Installation and First Steps.ipynb\", be sure to check that one out first."
   ]
  },
  {
   "cell_type": "code",
   "execution_count": null,
   "metadata": {
    "ExecuteTime": {
     "end_time": "2020-05-26T13:27:54.370945Z",
     "start_time": "2020-05-26T13:27:54.111018Z"
    }
   },
   "outputs": [],
   "source": [
    "import ipyvuetify as v\n",
    "import ipywidgets as widgets\n",
    "import markdown\n",
    "\n",
    "v.Btn(class_='icon ma-2',\n",
    "      style_='max-width:100px',\n",
    "      color='success',\n",
    "      children=[v.Icon(children=['mdi-check'])])"
   ]
  },
  {
   "cell_type": "markdown",
   "metadata": {},
   "source": [
    "If you see a green button with a checkmark above, your system you have installed `ipyvuetify` and enabled the extension. If not, refer to the first tutorial and/or the [ipyvuetify documentation](https://ipyvuetify.readthedocs.io/en/latest/) to set up your system before going further."
   ]
  },
  {
   "cell_type": "markdown",
   "metadata": {
    "ExecuteTime": {
     "end_time": "2020-05-15T18:23:50.473869Z",
     "start_time": "2020-05-15T18:23:50.468031Z"
    }
   },
   "source": [
    "## `v.Col()` and `v.Row()`\n",
    "\n",
    "Columns and rows are the fundamental building blocks of web application layouts, and vuetify has a great layout system. Check out the [vuetify documentation ](https://vuetifyjs.com/en/components/grids/) for a proper introduction, we'll only cover the basics here.\n",
    "\n",
    "First, a row:"
   ]
  },
  {
   "cell_type": "code",
   "execution_count": null,
   "metadata": {
    "ExecuteTime": {
     "end_time": "2020-05-26T13:27:54.385336Z",
     "start_time": "2020-05-26T13:27:54.373796Z"
    }
   },
   "outputs": [],
   "source": [
    "v.Row(class_='pa-4',\n",
    "      style_='max-width:400px;',\n",
    "      children=[\"I'm in the row.\", \" I'm in the row too.\"])"
   ]
  },
  {
   "cell_type": "markdown",
   "metadata": {},
   "source": [
    "Nothing earth shattering there. But notice that it isn't centred, unlike with `v.Container()`:"
   ]
  },
  {
   "cell_type": "code",
   "execution_count": null,
   "metadata": {
    "ExecuteTime": {
     "end_time": "2020-05-26T13:27:54.402394Z",
     "start_time": "2020-05-26T13:27:54.387960Z"
    }
   },
   "outputs": [],
   "source": [
    "v.Container(class_='pa-4',\n",
    "            style_='max-width:400px;',\n",
    "            children=[\"I'm in the row.\", \" I'm in the row too.\"])"
   ]
  },
  {
   "cell_type": "markdown",
   "metadata": {},
   "source": [
    "So! You can draw a row! Let's draw a couple of rows:"
   ]
  },
  {
   "cell_type": "code",
   "execution_count": null,
   "metadata": {
    "ExecuteTime": {
     "end_time": "2020-05-26T13:27:54.442803Z",
     "start_time": "2020-05-26T13:27:54.404454Z"
    }
   },
   "outputs": [],
   "source": [
    "v.Container(children=[\n",
    "    v.Row(class_='py-4',\n",
    "          style_=\"background:lightgrey;\",\n",
    "          children=['Row Number 1']),\n",
    "    v.Row(class_='py-4',\n",
    "          style_=\"background:lightblue;\",\n",
    "          children=['Row Number 2'])\n",
    "])"
   ]
  },
  {
   "cell_type": "markdown",
   "metadata": {},
   "source": [
    "There you have it. Two rows! With some vertical spacing thrown in there for good measure. \n",
    "\n",
    "Now let's try columns. Let's be bold and start with two:"
   ]
  },
  {
   "cell_type": "code",
   "execution_count": null,
   "metadata": {
    "ExecuteTime": {
     "end_time": "2020-05-26T13:27:54.492133Z",
     "start_time": "2020-05-26T13:27:54.450280Z"
    }
   },
   "outputs": [],
   "source": [
    "v.Row(children=[\n",
    "    v.Col(class_='py-4 text-center',\n",
    "          style_=\"background:lightgrey;\",\n",
    "          cols=6,\n",
    "          children=['Column Number 1']),\n",
    "    v.Col(class_='py-4 text-center',\n",
    "          style_=\"background:lightblue;\",\n",
    "          cols=6,\n",
    "          children=['Column Number 2'])\n",
    "])"
   ]
  },
  {
   "cell_type": "markdown",
   "metadata": {
    "ExecuteTime": {
     "end_time": "2020-05-15T18:55:05.015410Z",
     "start_time": "2020-05-15T18:55:04.950753Z"
    }
   },
   "source": [
    "So, to have two columns you first need a row, and then you put your columns inside that. If you didn't check out the vuetify documentation on the [grid system](https://vuetifyjs.com/en/components/grids/) then the `cols=6` argument will need some explaining.\n",
    "\n",
    "There is a 12 point grid system in `vuetify`. To split the horizontal space in half equally, give each half 6. To split it into 4 equally, give each `Col(cols=3)`:"
   ]
  },
  {
   "cell_type": "code",
   "execution_count": null,
   "metadata": {
    "ExecuteTime": {
     "end_time": "2020-05-26T13:27:54.605498Z",
     "start_time": "2020-05-26T13:27:54.505377Z"
    }
   },
   "outputs": [],
   "source": [
    "v.Row(children=[\n",
    "    v.Col(class_='py-2 text-center',\n",
    "          style_=\"background:lightgrey;\",\n",
    "          cols=3,\n",
    "          children=['Column Number 1']),\n",
    "    v.Col(class_='py-2 text-center',\n",
    "          style_=\"background:lightblue;\",\n",
    "          cols=3,\n",
    "          children=['Column Number 2']),\n",
    "    v.Col(class_='py-2 text-center',\n",
    "          style_=\"background:lightgrey;\",\n",
    "          cols=3,\n",
    "          children=['Column Number 3']),\n",
    "    v.Col(class_='py-2 text-center',\n",
    "          style_=\"background:lightblue;\",\n",
    "          cols=3,\n",
    "          children=['Column Number 4'])\n",
    "])"
   ]
  },
  {
   "cell_type": "markdown",
   "metadata": {},
   "source": [
    "The grid system is very fancy, and we are just covering the basics here. Lets see what happens if we set a minimum with for each of the columns. \n",
    "\n",
    "Try resizing your browser window to see how vuetify handles it."
   ]
  },
  {
   "cell_type": "code",
   "execution_count": null,
   "metadata": {
    "ExecuteTime": {
     "end_time": "2020-05-26T13:27:54.721483Z",
     "start_time": "2020-05-26T13:27:54.609050Z"
    }
   },
   "outputs": [],
   "source": [
    "v.Row(children=[\n",
    "    v.Col(class_='py-2 text-center',\n",
    "          style_='background:lightgrey; min-width:300px;',\n",
    "          cols=3,\n",
    "          children=['Column Number 1']),\n",
    "    v.Col(class_='py-2 text-center',\n",
    "          style_='background:lightblue; min-width:300px;',\n",
    "          cols=3,\n",
    "          children=['Column Number 2']),\n",
    "    v.Col(class_='py-2 text-center',\n",
    "          style_='background:lightgrey; min-width:300px;',\n",
    "          cols=3,\n",
    "          children=['Column Number 3']),\n",
    "    v.Col(class_='py-2 text-center',\n",
    "          style_='background:lightblue; min-width:300px;',\n",
    "          cols=3,\n",
    "          children=['Column Number 4'])\n",
    "])"
   ]
  },
  {
   "cell_type": "markdown",
   "metadata": {
    "ExecuteTime": {
     "end_time": "2020-05-19T10:48:42.181770Z",
     "start_time": "2020-05-19T10:48:42.174631Z"
    }
   },
   "source": [
    "## Spacing - `v.Spacer`, `align`, `justify`\n",
    "\n",
    "Elements in a row can be spaced horizontally with the `justify` argument.\n",
    "\n",
    "Possible values for 'justify' include:\n",
    "\n",
    "* start\n",
    "* center\n",
    "* end\n",
    "* space-around\n",
    "* space-between"
   ]
  },
  {
   "cell_type": "code",
   "execution_count": null,
   "metadata": {
    "ExecuteTime": {
     "end_time": "2020-05-26T13:27:54.781186Z",
     "start_time": "2020-05-26T13:27:54.732524Z"
    }
   },
   "outputs": [],
   "source": [
    "v.Row(children=[\n",
    "    v.Html(tag='p',\n",
    "           class_='py-2 px-8',\n",
    "           style_='background:lightgrey',\n",
    "           children=['Element 1']),\n",
    "    v.Html(tag='p',\n",
    "           class_='py-2 px-8',\n",
    "           style_='background:lightblue',\n",
    "           children=['Element 2']),\n",
    "])"
   ]
  },
  {
   "cell_type": "code",
   "execution_count": null,
   "metadata": {
    "ExecuteTime": {
     "end_time": "2020-05-26T13:27:54.831129Z",
     "start_time": "2020-05-26T13:27:54.787604Z"
    }
   },
   "outputs": [],
   "source": [
    "v.Row(justify='center',\n",
    "      children=[\n",
    "          v.Html(tag='p',\n",
    "                 class_='py-2 px-8',\n",
    "                 style_='background:lightgrey',\n",
    "                 children=['Element 1']),\n",
    "          v.Html(tag='p',\n",
    "                 class_='py-2 px-8',\n",
    "                 style_='background:lightblue',\n",
    "                 children=['Element 2']),\n",
    "      ])"
   ]
  },
  {
   "cell_type": "code",
   "execution_count": null,
   "metadata": {
    "ExecuteTime": {
     "end_time": "2020-05-26T13:27:54.883703Z",
     "start_time": "2020-05-26T13:27:54.834285Z"
    }
   },
   "outputs": [],
   "source": [
    "v.Row(justify='end',\n",
    "      children=[\n",
    "          v.Html(tag='p',\n",
    "                 class_='py-2 px-8',\n",
    "                 style_='background:lightgrey',\n",
    "                 children=['Element 1']),\n",
    "          v.Html(tag='p',\n",
    "                 class_='py-2 px-8',\n",
    "                 style_='background:lightblue',\n",
    "                 children=['Element 2']),\n",
    "      ])"
   ]
  },
  {
   "cell_type": "code",
   "execution_count": null,
   "metadata": {
    "ExecuteTime": {
     "end_time": "2020-05-26T13:27:54.925880Z",
     "start_time": "2020-05-26T13:27:54.887873Z"
    }
   },
   "outputs": [],
   "source": [
    "v.Row(justify='space-around',\n",
    "      children=[\n",
    "          v.Html(tag='p',\n",
    "                 class_='py-2 px-8',\n",
    "                 style_='background:lightgrey',\n",
    "                 children=['Element 1']),\n",
    "          v.Html(tag='p',\n",
    "                 class_='py-2 px-8',\n",
    "                 style_='background:lightblue',\n",
    "                 children=['Element 1']),\n",
    "      ])"
   ]
  },
  {
   "cell_type": "code",
   "execution_count": null,
   "metadata": {
    "ExecuteTime": {
     "end_time": "2020-05-26T13:27:54.968819Z",
     "start_time": "2020-05-26T13:27:54.928794Z"
    }
   },
   "outputs": [],
   "source": [
    "v.Row(justify='space-between',\n",
    "      children=[\n",
    "          v.Html(tag='p',\n",
    "                 class_='py-2 px-8',\n",
    "                 style_='background:lightgrey',\n",
    "                 children=['Element 1']),\n",
    "          v.Html(tag='p',\n",
    "                 class_='py-2 px-8',\n",
    "                 style_='background:lightblue',\n",
    "                 children=['Element 2']),\n",
    "      ])"
   ]
  },
  {
   "cell_type": "markdown",
   "metadata": {
    "ExecuteTime": {
     "end_time": "2020-05-21T10:42:23.074707Z",
     "start_time": "2020-05-21T10:42:23.068152Z"
    }
   },
   "source": [
    "And similarly, elements in a row can be spaced vertically with the `align` argument.\n",
    "\n",
    "Possible values for 'align' include:\n",
    "\n",
    "* start\n",
    "* center\n",
    "* end\n",
    "* baseline\n",
    "* stretch\n",
    "\n",
    "You can see this in action in these examples:"
   ]
  },
  {
   "cell_type": "code",
   "execution_count": null,
   "metadata": {
    "ExecuteTime": {
     "end_time": "2020-05-26T13:27:55.009087Z",
     "start_time": "2020-05-26T13:27:54.972020Z"
    }
   },
   "outputs": [],
   "source": [
    "v.Row(style_='min-height:200px;',\n",
    "      align='start',\n",
    "      children=[\n",
    "          v.Html(tag='p',\n",
    "                 class_='py-2 px-8',\n",
    "                 style_='background:lightgrey',\n",
    "                 children=['Element 1']),\n",
    "          v.Html(tag='p',\n",
    "                 class_='py-2 px-8',\n",
    "                 style_='background:lightblue',\n",
    "                 children=['Element 2']),\n",
    "      ])"
   ]
  },
  {
   "cell_type": "code",
   "execution_count": null,
   "metadata": {
    "ExecuteTime": {
     "end_time": "2020-05-26T13:27:55.055626Z",
     "start_time": "2020-05-26T13:27:55.012779Z"
    }
   },
   "outputs": [],
   "source": [
    "v.Row(style_='min-height:200px;',\n",
    "      align='center',\n",
    "      children=[\n",
    "          v.Html(tag='p',\n",
    "                 class_='py-2 px-8',\n",
    "                 style_='background:lightgrey',\n",
    "                 children=['Element 1']),\n",
    "          v.Html(tag='p',\n",
    "                 class_='py-2 px-8',\n",
    "                 style_='background:lightblue',\n",
    "                 children=['Element 2']),\n",
    "      ])"
   ]
  },
  {
   "cell_type": "code",
   "execution_count": null,
   "metadata": {
    "ExecuteTime": {
     "end_time": "2020-05-26T13:27:55.102777Z",
     "start_time": "2020-05-26T13:27:55.059462Z"
    }
   },
   "outputs": [],
   "source": [
    "v.Row(style_='min-height:200px;',\n",
    "      align='end',\n",
    "      children=[\n",
    "          v.Html(tag='p',\n",
    "                 class_='py-2 px-8',\n",
    "                 style_='background:lightgrey',\n",
    "                 children=['Element 1']),\n",
    "          v.Html(tag='p',\n",
    "                 class_='py-2 px-8',\n",
    "                 style_='background:lightblue',\n",
    "                 children=['Element 2']),\n",
    "      ])"
   ]
  },
  {
   "cell_type": "markdown",
   "metadata": {},
   "source": [
    "You can also put space between your elements with `v.Spacer()`, like in this example"
   ]
  },
  {
   "cell_type": "code",
   "execution_count": null,
   "metadata": {
    "ExecuteTime": {
     "end_time": "2020-05-26T13:27:55.181446Z",
     "start_time": "2020-05-26T13:27:55.107853Z"
    }
   },
   "outputs": [],
   "source": [
    "v.Row(children=[\n",
    "    v.Html(tag='p',\n",
    "           class_='py-2 px-8',\n",
    "           style_='background:lightgrey',\n",
    "           children=['Element 1']),\n",
    "    v.Spacer(),\n",
    "    v.Html(tag='p',\n",
    "           class_='py-2 px-8',\n",
    "           style_='background:lightblue',\n",
    "           children=['Element 2']),\n",
    "])"
   ]
  },
  {
   "cell_type": "markdown",
   "metadata": {},
   "source": [
    "You can also use CSS explicitly to do spacing and alignment, which might be easier if you're comfortable with CSS and haven't learned the vuetify way yet"
   ]
  },
  {
   "cell_type": "code",
   "execution_count": null,
   "metadata": {
    "ExecuteTime": {
     "end_time": "2020-05-26T13:27:55.259019Z",
     "start_time": "2020-05-26T13:27:55.184990Z"
    }
   },
   "outputs": [],
   "source": [
    "v.Row(children=[\n",
    "    v.Html(tag='p',\n",
    "           class_='py-2 px-8',\n",
    "           style_='background:lightgrey; margin-right:auto;',\n",
    "           children=['Element 1']),\n",
    "    v.Html(tag='p',\n",
    "           class_='py-2 px-8',\n",
    "           style_='background:lightblue; margin-left:auto;',\n",
    "           children=['Element 2']),\n",
    "])"
   ]
  },
  {
   "cell_type": "markdown",
   "metadata": {},
   "source": [
    "## Cards\n",
    "\n",
    "According the the [vuetify documentation](https://vuetifyjs.com/en/components/cards/) \n",
    "\n",
    "> the v-card component is a versatile component that can be used for anything from a panel to a static image. The card component has numerous helper components to make markup as easy as possible.\n",
    "\n",
    "And it's true; cards are very useful and flexible. Let's try them out!\n",
    "\n",
    "First here is a basic, no-frills card"
   ]
  },
  {
   "cell_type": "code",
   "execution_count": null,
   "metadata": {
    "ExecuteTime": {
     "end_time": "2020-05-26T13:27:55.309487Z",
     "start_time": "2020-05-26T13:27:55.274878Z"
    }
   },
   "outputs": [],
   "source": [
    "v.Card(class_='ma-2 pa-2', children=['Card Text'])"
   ]
  },
  {
   "cell_type": "markdown",
   "metadata": {},
   "source": [
    "Cards have some nice features built in for adding titles and subtitles:"
   ]
  },
  {
   "cell_type": "code",
   "execution_count": null,
   "metadata": {
    "ExecuteTime": {
     "end_time": "2020-05-26T13:27:55.413380Z",
     "start_time": "2020-05-26T13:27:55.318044Z"
    }
   },
   "outputs": [],
   "source": [
    "v.Card(class_='ma-2 pa-0',\n",
    "       children=[\n",
    "           v.CardTitle(class_='headline gray lighten-8',\n",
    "                       primary_title=True,\n",
    "                       children=[\"Card Title\"]),\n",
    "           v.CardSubtitle(children=['Card Subtitle']),\n",
    "           v.CardText(children=[\n",
    "               'Card Text',\n",
    "           ])\n",
    "       ])"
   ]
  },
  {
   "cell_type": "markdown",
   "metadata": {},
   "source": [
    "Also, there are [a bazillion](https://vuetifyjs.com/en/components/cards/#api) options you can use to tweak the look of your card, here are a few in action:"
   ]
  },
  {
   "cell_type": "code",
   "execution_count": null,
   "metadata": {
    "ExecuteTime": {
     "end_time": "2020-05-26T13:27:55.480117Z",
     "start_time": "2020-05-26T13:27:55.417992Z"
    }
   },
   "outputs": [],
   "source": [
    "v.Card(class_='ma-2 pa-0',\n",
    "       hover=True,\n",
    "       shaped=True,\n",
    "       width=300,\n",
    "       color='deep-orange lighten-2',\n",
    "       href='https://vuetifyjs.com/en/components/cards/#api',\n",
    "       target='none',\n",
    "       children=[\n",
    "           v.CardTitle(class_='headline gray lighten-8',\n",
    "                       primary_title=True,\n",
    "                       children=[\"Vuetify Card Component\"]),\n",
    "           v.CardSubtitle(children=['Neat!']),\n",
    "           v.CardText(children=[\n",
    "               'Click to view documentation on vuetifyjs.com',\n",
    "           ])\n",
    "       ])"
   ]
  },
  {
   "cell_type": "markdown",
   "metadata": {},
   "source": [
    "# Rows, Columns, Cards, Oh My !\n",
    "\n",
    "Lets put together some rows, columns and cards !"
   ]
  },
  {
   "cell_type": "code",
   "execution_count": null,
   "metadata": {
    "ExecuteTime": {
     "end_time": "2020-05-26T13:27:55.490432Z",
     "start_time": "2020-05-26T13:27:55.485101Z"
    }
   },
   "outputs": [],
   "source": [
    "def generate_card(title='', text='', color='', hover=True, shaped=False):\n",
    "    return (v.Card(class_='ma-2 pa-0',\n",
    "                   hover=hover,\n",
    "                   shaped=shaped,\n",
    "                   color=color,\n",
    "                   children=[\n",
    "                       v.CardTitle(class_='headline gray lighten-8',\n",
    "                                   primary_title=True,\n",
    "                                   children=[title]),\n",
    "                       v.CardText(children=[text])\n",
    "                   ]))"
   ]
  },
  {
   "cell_type": "code",
   "execution_count": null,
   "metadata": {
    "ExecuteTime": {
     "end_time": "2020-05-26T13:27:55.780956Z",
     "start_time": "2020-05-26T13:27:55.494862Z"
    }
   },
   "outputs": [],
   "source": [
    "v.Row(children=[\n",
    "    v.Col(class_='py-2 text-center',\n",
    "          cols=3,\n",
    "          children=[generate_card(title='One', text='Text Body')]),\n",
    "    v.Col(class_='py-2 text-center',\n",
    "          cols=3,\n",
    "          children=[generate_card(title='Two', text='Text Body')]),\n",
    "    v.Col(class_='py-2 text-center',\n",
    "          cols=3,\n",
    "          children=[generate_card(title='Three', text='Text Body')]),\n",
    "    v.Col(class_='py-2 text-center',\n",
    "          cols=3,\n",
    "          children=[generate_card(title='Four', text='Text Body')]),\n",
    "    v.Col(class_='py-2 text-center',\n",
    "          cols=6,\n",
    "          children=[generate_card(title='Five', text='Text Body')]),\n",
    "    v.Col(class_='py-2 text-center',\n",
    "          cols=6,\n",
    "          children=[generate_card(title='Six', text='Text Body')])\n",
    "])"
   ]
  },
  {
   "cell_type": "markdown",
   "metadata": {},
   "source": [
    "Well that's enough on layouts and cards to be dangerous.\n",
    "\n",
    "In next tutorial we'll delve into input widgets!"
   ]
  }
 ],
 "metadata": {
  "kernelspec": {
   "display_name": "Python (ipyvuetify_tutorial)",
   "language": "python",
   "name": "ipyvuetify_tutorial"
  },
  "language_info": {
   "codemirror_mode": {
    "name": "ipython",
    "version": 3
   },
   "file_extension": ".py",
   "mimetype": "text/x-python",
   "name": "python",
   "nbconvert_exporter": "python",
   "pygments_lexer": "ipython3",
   "version": "3.8.3"
  },
  "widgets": {
   "application/vnd.jupyter.widget-state+json": {
    "state": {
     "00d716abe55741b5b24ccd3a1cf274a3": {
      "model_module": "@jupyter-widgets/base",
      "model_module_version": "1.2.0",
      "model_name": "LayoutModel",
      "state": {}
     },
     "00f84abe87e740a8a7f3baed6fe50f6f": {
      "model_module": "@jupyter-widgets/base",
      "model_module_version": "1.2.0",
      "model_name": "LayoutModel",
      "state": {}
     },
     "01bd9c34aaf0487e903b86b63fcff50c": {
      "model_module": "jupyter-vuetify",
      "model_module_version": "^1.4.0",
      "model_name": "CardTextModel",
      "state": {
       "_events": [],
       "_jupyter_vue": "IPY_MODEL_7fd0ce771cb64ddd94982ab3e31edb41",
       "attributes": {},
       "children": [
        "Click to view documentation on vuetifyjs.com"
       ],
       "layout": "IPY_MODEL_65c13539f2a94278868e08c4b9607f1e",
       "v_slots": []
      }
     },
     "024a099571944ef39e99e4662f38eeb4": {
      "model_module": "jupyter-vuetify",
      "model_module_version": "^1.4.0",
      "model_name": "ColModel",
      "state": {
       "_events": [],
       "_jupyter_vue": "IPY_MODEL_7fd0ce771cb64ddd94982ab3e31edb41",
       "attributes": {},
       "children": [
        "Column Number 2"
       ],
       "class_": "py-4 text-center",
       "cols": 6,
       "layout": "IPY_MODEL_3b27ce8b408c4fdb8ec069cc5805ac92",
       "lg": null,
       "md": null,
       "offset": null,
       "offset_lg": null,
       "offset_md": null,
       "offset_sm": null,
       "offset_xl": null,
       "order": null,
       "order_lg": null,
       "order_md": null,
       "order_sm": null,
       "order_xl": null,
       "sm": null,
       "style_": "background:lightblue;",
       "v_slots": [],
       "xl": null
      }
     },
     "041335346c414873a950559648e57258": {
      "model_module": "jupyter-vuetify",
      "model_module_version": "^1.4.0",
      "model_name": "HtmlModel",
      "state": {
       "_events": [],
       "_jupyter_vue": "IPY_MODEL_7fd0ce771cb64ddd94982ab3e31edb41",
       "_model_module_version": "^1.4.0",
       "_view_module_version": "^1.4.0",
       "attributes": {},
       "children": [
        "Element 2"
       ],
       "class_": "py-2 px-8",
       "layout": "IPY_MODEL_a6a7ec4a49d04a0c880d3dd6507383db",
       "style_": "background:lightblue",
       "tag": "p",
       "v_slots": []
      }
     },
     "05081eff6f0a4254b0bb801e8dad71dd": {
      "model_module": "jupyter-vuetify",
      "model_module_version": "^1.4.0",
      "model_name": "RowModel",
      "state": {
       "_events": [],
       "_jupyter_vue": "IPY_MODEL_7fd0ce771cb64ddd94982ab3e31edb41",
       "align": "center",
       "attributes": {},
       "children": [
        "IPY_MODEL_6985d0e48e8e4eed996ba4105c3c33f5",
        "IPY_MODEL_041335346c414873a950559648e57258"
       ],
       "layout": "IPY_MODEL_c559a284fd31436c8557f9341b262837",
       "style_": "min-height:200px;",
       "v_slots": []
      }
     },
     "06ec65e5a9ed489992a0f54d3e7d4bf3": {
      "model_module": "jupyter-vuetify",
      "model_module_version": "^1.4.0",
      "model_name": "CardSubtitleModel",
      "state": {
       "_events": [],
       "_jupyter_vue": "IPY_MODEL_f2e78566f8444de9953353753478b231",
       "attributes": {},
       "children": [
        "Card Subtitle"
       ],
       "layout": "IPY_MODEL_3d727c5bfc3a40b08accfe1695172792",
       "v_slots": []
      }
     },
     "089501578c6348a1b77cadce98080d44": {
      "model_module": "jupyter-vuetify",
      "model_module_version": "^1.4.0",
      "model_name": "ThemeColorsModel",
      "state": {
       "_model_module_version": "^1.4.0",
       "_theme_name": "light",
       "_view_module": null,
       "_view_module_version": "^1.4.0",
       "accent": "#82B1FF",
       "error": "#FF5252",
       "info": "#2196F3",
       "primary": "#1976D2",
       "secondary": "#424242",
       "success": "#4CAF50",
       "warning": "#FB8C00"
      }
     },
     "097517eeff47488eae8628b64d8b93d9": {
      "model_module": "jupyter-vuetify",
      "model_module_version": "^1.4.0",
      "model_name": "RowModel",
      "state": {
       "_events": [],
       "_jupyter_vue": "IPY_MODEL_f2e78566f8444de9953353753478b231",
       "align": "start",
       "attributes": {},
       "children": [
        "IPY_MODEL_c70044596c5d4ecea48efd858ab5e039",
        "IPY_MODEL_c9cebfd06d324252b34a7c58ba9ae15c"
       ],
       "layout": "IPY_MODEL_4f5a077edd3d444f80fc90c4c3fc68ea",
       "style_": "min-height:200px;",
       "v_slots": []
      }
     },
     "0988600cc49c436e8e7796118e1baf1e": {
      "model_module": "@jupyter-widgets/base",
      "model_module_version": "1.2.0",
      "model_name": "LayoutModel",
      "state": {}
     },
     "09e5a16ceca44813bbf9c87192034dce": {
      "model_module": "jupyter-vuetify",
      "model_module_version": "^1.4.0",
      "model_name": "RowModel",
      "state": {
       "_events": [],
       "_jupyter_vue": "IPY_MODEL_f2e78566f8444de9953353753478b231",
       "attributes": {},
       "children": [
        "IPY_MODEL_4879791e8a1146308b8ecc0e6428bf19",
        "IPY_MODEL_3eea52ddb6ce48d08ecc712b9b24f774"
       ],
       "justify": "space-between",
       "layout": "IPY_MODEL_429f3235ba634bb997bcc6132abb96a2",
       "v_slots": []
      }
     },
     "0ae2610892ca41f29bf70214d409af24": {
      "model_module": "@jupyter-widgets/base",
      "model_module_version": "1.2.0",
      "model_name": "LayoutModel",
      "state": {}
     },
     "0bcb2c042f224386a5a7b698b38e7e48": {
      "model_module": "jupyter-vuetify",
      "model_module_version": "^1.4.0",
      "model_name": "RowModel",
      "state": {
       "_events": [],
       "_jupyter_vue": "IPY_MODEL_f2e78566f8444de9953353753478b231",
       "attributes": {},
       "children": [
        "IPY_MODEL_c8759edc71444b2b94bdf4a5f9812531",
        "IPY_MODEL_196339bd0fe7403cb55e489bbc217603"
       ],
       "layout": "IPY_MODEL_1de0518bee03483cbe7d0f93c9eb134c",
       "v_slots": []
      }
     },
     "0c46000843954762a7a4504bbba86553": {
      "model_module": "@jupyter-widgets/base",
      "model_module_version": "1.2.0",
      "model_name": "LayoutModel",
      "state": {}
     },
     "0d921fa20da842358f3d9560c98c4d00": {
      "model_module": "jupyter-vuetify",
      "model_module_version": "^1.4.0",
      "model_name": "ColModel",
      "state": {
       "_events": [],
       "_jupyter_vue": "IPY_MODEL_7fd0ce771cb64ddd94982ab3e31edb41",
       "attributes": {},
       "children": [
        "Column Number 4"
       ],
       "class_": "py-2 text-center",
       "cols": 3,
       "layout": "IPY_MODEL_62c10f7cc4824101a49f75b0ca3ac770",
       "lg": null,
       "md": null,
       "offset": null,
       "offset_lg": null,
       "offset_md": null,
       "offset_sm": null,
       "offset_xl": null,
       "order": null,
       "order_lg": null,
       "order_md": null,
       "order_sm": null,
       "order_xl": null,
       "sm": null,
       "style_": "background:lightblue;",
       "v_slots": [],
       "xl": null
      }
     },
     "0df0dc6dc6264765a0b0f554915f6f09": {
      "model_module": "jupyter-vuetify",
      "model_module_version": "^1.4.0",
      "model_name": "HtmlModel",
      "state": {
       "_events": [],
       "_jupyter_vue": "IPY_MODEL_7fd0ce771cb64ddd94982ab3e31edb41",
       "_model_module_version": "^1.4.0",
       "_view_module_version": "^1.4.0",
       "attributes": {},
       "children": [
        "Element 2"
       ],
       "class_": "py-2 px-8",
       "layout": "IPY_MODEL_2799e27f681a4c77ab0879fdf0b1ea72",
       "style_": "background:lightblue",
       "tag": "p",
       "v_slots": []
      }
     },
     "0e87fcf293cd43c3a97307ca03e49d0b": {
      "model_module": "@jupyter-widgets/base",
      "model_module_version": "1.2.0",
      "model_name": "LayoutModel",
      "state": {}
     },
     "0f7dcaa9c491418ebeaade6a01c9589d": {
      "model_module": "jupyter-vuetify",
      "model_module_version": "^1.4.0",
      "model_name": "HtmlModel",
      "state": {
       "_events": [],
       "_jupyter_vue": "IPY_MODEL_7fd0ce771cb64ddd94982ab3e31edb41",
       "_model_module_version": "^1.4.0",
       "_view_module_version": "^1.4.0",
       "attributes": {},
       "children": [
        "Element 2"
       ],
       "class_": "py-2 px-8",
       "layout": "IPY_MODEL_d442f849011c4f17b0df0b4a191e4bcd",
       "style_": "background:lightblue",
       "tag": "p",
       "v_slots": []
      }
     },
     "121f772958564c1ba2b1d56a80bd9767": {
      "model_module": "jupyter-vuetify",
      "model_module_version": "^1.4.0",
      "model_name": "RowModel",
      "state": {
       "_events": [],
       "_jupyter_vue": "IPY_MODEL_7fd0ce771cb64ddd94982ab3e31edb41",
       "attributes": {},
       "children": [
        "IPY_MODEL_ccbbc788db9e4df0ade1fce0113e0412",
        "IPY_MODEL_5b9b6c46e2694470831e2416a7303643"
       ],
       "justify": "space-between",
       "layout": "IPY_MODEL_d479d2a3ab98473d882ad9f35178d1ab",
       "v_slots": []
      }
     },
     "13e5ebb452a64f12b89c79a1d84d6282": {
      "model_module": "@jupyter-widgets/base",
      "model_module_version": "1.2.0",
      "model_name": "LayoutModel",
      "state": {}
     },
     "1419a15bd083420fa892565852bb5808": {
      "model_module": "jupyter-vuetify",
      "model_module_version": "^1.4.0",
      "model_name": "HtmlModel",
      "state": {
       "_events": [],
       "_jupyter_vue": "IPY_MODEL_7fd0ce771cb64ddd94982ab3e31edb41",
       "_model_module_version": "^1.4.0",
       "_view_module_version": "^1.4.0",
       "attributes": {},
       "children": [
        "Element 2"
       ],
       "class_": "py-2 px-8",
       "layout": "IPY_MODEL_7568f94f703a4b7eb0b66e7beca6c1c0",
       "style_": "background:lightblue; margin-left:auto;",
       "tag": "p",
       "v_slots": []
      }
     },
     "15de837250414900a93149a0c23191d0": {
      "model_module": "@jupyter-widgets/base",
      "model_module_version": "1.2.0",
      "model_name": "LayoutModel",
      "state": {}
     },
     "16a456e5a6984f3ca7d639cf1ec2f37f": {
      "model_module": "jupyter-vuetify",
      "model_module_version": "^1.4.0",
      "model_name": "ThemeModel",
      "state": {
       "_model_module_version": "^1.4.0",
       "_view_module": null,
       "_view_module_version": "^1.4.0",
       "dark": false
      }
     },
     "176f3322ef1c467ca5b1057c7d6b021e": {
      "model_module": "@jupyter-widgets/base",
      "model_module_version": "1.2.0",
      "model_name": "LayoutModel",
      "state": {}
     },
     "1944e1c7ad5a45e9b7a56c167f577ff2": {
      "model_module": "@jupyter-widgets/base",
      "model_module_version": "1.2.0",
      "model_name": "LayoutModel",
      "state": {}
     },
     "196339bd0fe7403cb55e489bbc217603": {
      "model_module": "jupyter-vuetify",
      "model_module_version": "^1.4.0",
      "model_name": "HtmlModel",
      "state": {
       "_events": [],
       "_jupyter_vue": "IPY_MODEL_f2e78566f8444de9953353753478b231",
       "_model_module_version": "^1.4.0",
       "_view_module_version": "^1.4.0",
       "attributes": {},
       "children": [
        "Element 2"
       ],
       "class_": "py-2 px-8",
       "layout": "IPY_MODEL_1de8310fb1cd4164a8911d722e71c33d",
       "style_": "background:lightblue; margin-left:auto;",
       "tag": "p",
       "v_slots": []
      }
     },
     "196e2b4f18b74ae5ae33d397ffc4497d": {
      "model_module": "jupyter-vuetify",
      "model_module_version": "^1.4.0",
      "model_name": "ThemeColorsModel",
      "state": {
       "_model_module_version": "^1.4.0",
       "_theme_name": "dark",
       "_view_module": null,
       "_view_module_version": "^1.4.0",
       "accent": "#FF4081",
       "error": "#FF5252",
       "info": "#2196F3",
       "primary": "#2196F3",
       "secondary": "#424242",
       "success": "#4CAF50",
       "warning": "#FB8C00"
      }
     },
     "1bac3020abf64de3b583a6807f941b30": {
      "model_module": "jupyter-vue",
      "model_module_version": "^1.3.2",
      "model_name": "ForceLoadModel",
      "state": {
       "_model_module_version": "^1.3.2",
       "_view_module": null,
       "_view_module_version": "",
       "layout": "IPY_MODEL_e231a70b7a7642639f57fc48c8a7725b"
      }
     },
     "1cb6df29c41c4b2ebabc51f827865035": {
      "model_module": "jupyter-vuetify",
      "model_module_version": "^1.4.0",
      "model_name": "ColModel",
      "state": {
       "_events": [],
       "_jupyter_vue": "IPY_MODEL_f2e78566f8444de9953353753478b231",
       "attributes": {},
       "children": [
        "Column Number 3"
       ],
       "class_": "py-2 text-center",
       "cols": 3,
       "layout": "IPY_MODEL_1f54655f4bd84a3080c3a556d96fcbbe",
       "lg": null,
       "md": null,
       "offset": null,
       "offset_lg": null,
       "offset_md": null,
       "offset_sm": null,
       "offset_xl": null,
       "order": null,
       "order_lg": null,
       "order_md": null,
       "order_sm": null,
       "order_xl": null,
       "sm": null,
       "style_": "background:lightgrey;",
       "v_slots": [],
       "xl": null
      }
     },
     "1d50ce9727d441289b7284a1a97658d3": {
      "model_module": "jupyter-vue",
      "model_module_version": "^1.3.2",
      "model_name": "ForceLoadModel",
      "state": {
       "_model_module_version": "^1.3.2",
       "_view_module": null,
       "_view_module_version": "",
       "layout": "IPY_MODEL_62886a7ad92d40aea972acffa49f07f6"
      }
     },
     "1d95ce89aefc4427ac85d5b3d129b0ee": {
      "model_module": "@jupyter-widgets/base",
      "model_module_version": "1.2.0",
      "model_name": "LayoutModel",
      "state": {}
     },
     "1de0518bee03483cbe7d0f93c9eb134c": {
      "model_module": "@jupyter-widgets/base",
      "model_module_version": "1.2.0",
      "model_name": "LayoutModel",
      "state": {}
     },
     "1de8310fb1cd4164a8911d722e71c33d": {
      "model_module": "@jupyter-widgets/base",
      "model_module_version": "1.2.0",
      "model_name": "LayoutModel",
      "state": {}
     },
     "1e3736d200b34b4e809416e902efe035": {
      "model_module": "jupyter-vuetify",
      "model_module_version": "^1.4.0",
      "model_name": "ThemeModel",
      "state": {
       "_model_module_version": "^1.4.0",
       "_view_module": null,
       "_view_module_version": "^1.4.0",
       "dark": false
      }
     },
     "1ece4e925b564e6ebae7130a3a8e9116": {
      "model_module": "@jupyter-widgets/base",
      "model_module_version": "1.2.0",
      "model_name": "LayoutModel",
      "state": {}
     },
     "1f47a34092544b438336b32699f7bf5c": {
      "model_module": "jupyter-vuetify",
      "model_module_version": "^1.4.0",
      "model_name": "HtmlModel",
      "state": {
       "_events": [],
       "_jupyter_vue": "IPY_MODEL_f2e78566f8444de9953353753478b231",
       "_model_module_version": "^1.4.0",
       "_view_module_version": "^1.4.0",
       "attributes": {},
       "children": [
        "Element 1"
       ],
       "class_": "py-2 px-8",
       "layout": "IPY_MODEL_176f3322ef1c467ca5b1057c7d6b021e",
       "style_": "background:lightgrey",
       "tag": "p",
       "v_slots": []
      }
     },
     "1f54655f4bd84a3080c3a556d96fcbbe": {
      "model_module": "@jupyter-widgets/base",
      "model_module_version": "1.2.0",
      "model_name": "LayoutModel",
      "state": {}
     },
     "207147999e6542c59a50fd7a98707518": {
      "model_module": "jupyter-vuetify",
      "model_module_version": "^1.4.0",
      "model_name": "RowModel",
      "state": {
       "_events": [],
       "_jupyter_vue": "IPY_MODEL_f2e78566f8444de9953353753478b231",
       "attributes": {},
       "children": [
        "IPY_MODEL_ee85709d42464d75b9da9ec458d84f0f",
        "IPY_MODEL_788ecebbe5144974a2d2b99a4f64029b",
        "IPY_MODEL_e6d780494da44dc3b2f19c46f19fd738"
       ],
       "layout": "IPY_MODEL_1ece4e925b564e6ebae7130a3a8e9116",
       "v_slots": []
      }
     },
     "207ba80f598b4a46b0348de9f7a2079d": {
      "model_module": "jupyter-vuetify",
      "model_module_version": "^1.4.0",
      "model_name": "IconModel",
      "state": {
       "_events": [],
       "_jupyter_vue": "IPY_MODEL_7fd0ce771cb64ddd94982ab3e31edb41",
       "attributes": {},
       "children": [
        "mdi-check"
       ],
       "layout": "IPY_MODEL_c916302a03944869b93375e053698258",
       "size": null,
       "v_slots": []
      }
     },
     "212f35a8abce433ea22f78ee8d9f9bf8": {
      "model_module": "jupyter-vuetify",
      "model_module_version": "^1.4.0",
      "model_name": "HtmlModel",
      "state": {
       "_events": [],
       "_jupyter_vue": "IPY_MODEL_e1cd8eb107094ee4b7d3bdaed1b877cb",
       "_model_module_version": "^1.4.0",
       "_view_module_version": "^1.4.0",
       "attributes": {},
       "children": [
        "This is a h1 title"
       ],
       "layout": "IPY_MODEL_ebffca76adaf4e978bb3725b1265bd16",
       "tag": "h1",
       "v_slots": []
      }
     },
     "2166f61307384985847d38cdcd45ede6": {
      "model_module": "jupyter-vuetify",
      "model_module_version": "^1.4.0",
      "model_name": "HtmlModel",
      "state": {
       "_events": [],
       "_jupyter_vue": "IPY_MODEL_f2e78566f8444de9953353753478b231",
       "_model_module_version": "^1.4.0",
       "_view_module_version": "^1.4.0",
       "attributes": {},
       "children": [
        "Element 2"
       ],
       "class_": "py-2 px-8",
       "layout": "IPY_MODEL_8cf6119c06c040fbaabebd63c2442b51",
       "style_": "background:lightblue",
       "tag": "p",
       "v_slots": []
      }
     },
     "2304100d062f42008949148d1392eff2": {
      "model_module": "jupyter-vuetify",
      "model_module_version": "^1.4.0",
      "model_name": "HtmlModel",
      "state": {
       "_events": [],
       "_jupyter_vue": "IPY_MODEL_7fd0ce771cb64ddd94982ab3e31edb41",
       "_model_module_version": "^1.4.0",
       "_view_module_version": "^1.4.0",
       "attributes": {},
       "children": [
        "Element 2"
       ],
       "class_": "py-2 px-8",
       "layout": "IPY_MODEL_7ca6732e4f5140d697934f0c8993f57f",
       "style_": "background:lightblue",
       "tag": "p",
       "v_slots": []
      }
     },
     "24ac4b8c5deb4ed7b72fd398e72d75b1": {
      "model_module": "jupyter-vuetify",
      "model_module_version": "^1.4.0",
      "model_name": "RowModel",
      "state": {
       "_events": [],
       "_jupyter_vue": "IPY_MODEL_f2e78566f8444de9953353753478b231",
       "attributes": {},
       "children": [
        "I'm in the row.",
        " I'm in the row too."
       ],
       "class_": "pa-4",
       "layout": "IPY_MODEL_f6e26d4ec3184d7996f8dade893fe889",
       "style_": "max-width:400px;",
       "v_slots": []
      }
     },
     "250ec34e95bb4988923a16b78242b6be": {
      "model_module": "@jupyter-widgets/base",
      "model_module_version": "1.2.0",
      "model_name": "LayoutModel",
      "state": {}
     },
     "258ec4048a1147fe9987a1b143d1905b": {
      "model_module": "@jupyter-widgets/base",
      "model_module_version": "1.2.0",
      "model_name": "LayoutModel",
      "state": {}
     },
     "2799e27f681a4c77ab0879fdf0b1ea72": {
      "model_module": "@jupyter-widgets/base",
      "model_module_version": "1.2.0",
      "model_name": "LayoutModel",
      "state": {}
     },
     "27b2948e17a94620a83be79498a71903": {
      "model_module": "jupyter-vuetify",
      "model_module_version": "^1.4.0",
      "model_name": "HtmlModel",
      "state": {
       "_events": [],
       "_jupyter_vue": "IPY_MODEL_7fd0ce771cb64ddd94982ab3e31edb41",
       "_model_module_version": "^1.4.0",
       "_view_module_version": "^1.4.0",
       "attributes": {},
       "children": [
        "Element 1"
       ],
       "class_": "py-2 px-8",
       "layout": "IPY_MODEL_4f77288800164cacb7a215f6a527d954",
       "style_": "background:lightgrey",
       "tag": "p",
       "v_slots": []
      }
     },
     "27d14746562a497eb67954c170efa9ac": {
      "model_module": "@jupyter-widgets/base",
      "model_module_version": "1.2.0",
      "model_name": "LayoutModel",
      "state": {}
     },
     "29c57067da274f009b0cd4ef15db7252": {
      "model_module": "jupyter-vuetify",
      "model_module_version": "^1.4.0",
      "model_name": "ThemeColorsModel",
      "state": {
       "_model_module_version": "^1.4.0",
       "_theme_name": "dark",
       "_view_module": null,
       "_view_module_version": "^1.4.0",
       "accent": "#FF4081",
       "error": "#FF5252",
       "info": "#2196F3",
       "primary": "#2196F3",
       "secondary": "#424242",
       "success": "#4CAF50",
       "warning": "#FB8C00"
      }
     },
     "2bc6010a77b648bc844749f3f22121f7": {
      "model_module": "@jupyter-widgets/base",
      "model_module_version": "1.2.0",
      "model_name": "LayoutModel",
      "state": {}
     },
     "2bd9a9bc07aa4eb7959f79a9bd71d99c": {
      "model_module": "@jupyter-widgets/base",
      "model_module_version": "1.2.0",
      "model_name": "LayoutModel",
      "state": {}
     },
     "2ce201856792407daf66609c64aed5f4": {
      "model_module": "jupyter-vuetify",
      "model_module_version": "^1.4.0",
      "model_name": "RowModel",
      "state": {
       "_events": [],
       "_jupyter_vue": "IPY_MODEL_7fd0ce771cb64ddd94982ab3e31edb41",
       "attributes": {},
       "children": [
        "IPY_MODEL_9d7ff2598d0e48258ed9b7d62f37ee0b",
        "IPY_MODEL_bf3fafd3d4f04cf2b60d23f76c4fea21"
       ],
       "layout": "IPY_MODEL_0c46000843954762a7a4504bbba86553",
       "v_slots": []
      }
     },
     "30a8565aeca544b19e995909c290b902": {
      "model_module": "@jupyter-widgets/base",
      "model_module_version": "1.2.0",
      "model_name": "LayoutModel",
      "state": {}
     },
     "310740d39b06454b8dd2eb6e53f92a1e": {
      "model_module": "jupyter-vuetify",
      "model_module_version": "^1.4.0",
      "model_name": "RowModel",
      "state": {
       "_events": [],
       "_jupyter_vue": "IPY_MODEL_7fd0ce771cb64ddd94982ab3e31edb41",
       "attributes": {},
       "children": [
        "IPY_MODEL_7bbec4b15c87450e9cc1e41837528ad5",
        "IPY_MODEL_4bb416b88dc84704bc9da5851d8711de"
       ],
       "justify": "center",
       "layout": "IPY_MODEL_d8336174688a4897900800550e1259f9",
       "v_slots": []
      }
     },
     "31d1e1c5491444ab9b386abbc10c7860": {
      "model_module": "@jupyter-widgets/base",
      "model_module_version": "1.2.0",
      "model_name": "LayoutModel",
      "state": {}
     },
     "3341f572623a4f618bb13aa65dcca54f": {
      "model_module": "jupyter-vuetify",
      "model_module_version": "^1.4.0",
      "model_name": "HtmlModel",
      "state": {
       "_events": [],
       "_jupyter_vue": "IPY_MODEL_f2e78566f8444de9953353753478b231",
       "_model_module_version": "^1.4.0",
       "_view_module_version": "^1.4.0",
       "attributes": {},
       "children": [
        "Element 1"
       ],
       "class_": "py-2 px-8",
       "layout": "IPY_MODEL_7628b41628b04abfbccf4c14fd495469",
       "style_": "background:lightgrey",
       "tag": "p",
       "v_slots": []
      }
     },
     "34fd4982606e4149927b823174c87aee": {
      "model_module": "@jupyter-widgets/base",
      "model_module_version": "1.2.0",
      "model_name": "LayoutModel",
      "state": {}
     },
     "3834f03141a84ea38b4d23b7c1cbaa95": {
      "model_module": "jupyter-vuetify",
      "model_module_version": "^1.4.0",
      "model_name": "RowModel",
      "state": {
       "_events": [],
       "_jupyter_vue": "IPY_MODEL_f2e78566f8444de9953353753478b231",
       "attributes": {},
       "children": [
        "Row Number 1"
       ],
       "class_": "py-4",
       "layout": "IPY_MODEL_7b4009e453bc43d78128de0be323d218",
       "style_": "background:lightgrey;",
       "v_slots": []
      }
     },
     "38c4ecd09ded4ceaa7abaff91ee86066": {
      "model_module": "jupyter-vuetify",
      "model_module_version": "^1.4.0",
      "model_name": "RowModel",
      "state": {
       "_events": [],
       "_jupyter_vue": "IPY_MODEL_7fd0ce771cb64ddd94982ab3e31edb41",
       "align": "start",
       "attributes": {},
       "children": [
        "IPY_MODEL_27b2948e17a94620a83be79498a71903",
        "IPY_MODEL_81c5c6f8fda54664858103c486feda20"
       ],
       "layout": "IPY_MODEL_dd174f69d87e449897f858881fa124ea",
       "style_": "min-height:200px;",
       "v_slots": []
      }
     },
     "3a6d6bd18cf94273ae6c2eb9c5334fc6": {
      "model_module": "@jupyter-widgets/base",
      "model_module_version": "1.2.0",
      "model_name": "LayoutModel",
      "state": {}
     },
     "3a93f26daa104f18abbba319b115822d": {
      "model_module": "jupyter-vuetify",
      "model_module_version": "^1.4.0",
      "model_name": "RowModel",
      "state": {
       "_events": [],
       "_jupyter_vue": "IPY_MODEL_7fd0ce771cb64ddd94982ab3e31edb41",
       "align": "end",
       "attributes": {},
       "children": [
        "IPY_MODEL_bc7737ad896c4c92b4879f8d466af108",
        "IPY_MODEL_0df0dc6dc6264765a0b0f554915f6f09"
       ],
       "layout": "IPY_MODEL_0988600cc49c436e8e7796118e1baf1e",
       "style_": "min-height:200px;",
       "v_slots": []
      }
     },
     "3af8d3d2d5de4435b19d46a50edab385": {
      "model_module": "@jupyter-widgets/base",
      "model_module_version": "1.2.0",
      "model_name": "LayoutModel",
      "state": {}
     },
     "3b27ce8b408c4fdb8ec069cc5805ac92": {
      "model_module": "@jupyter-widgets/base",
      "model_module_version": "1.2.0",
      "model_name": "LayoutModel",
      "state": {}
     },
     "3b7d9192b3e24d0ab288c159c8dceb23": {
      "model_module": "@jupyter-widgets/base",
      "model_module_version": "1.2.0",
      "model_name": "LayoutModel",
      "state": {}
     },
     "3cc6314762e14fbf875dbdd7c751f5f5": {
      "model_module": "@jupyter-widgets/base",
      "model_module_version": "1.2.0",
      "model_name": "LayoutModel",
      "state": {}
     },
     "3d727c5bfc3a40b08accfe1695172792": {
      "model_module": "@jupyter-widgets/base",
      "model_module_version": "1.2.0",
      "model_name": "LayoutModel",
      "state": {}
     },
     "3e5a65d2cd414ce79a34e4bd199988cc": {
      "model_module": "@jupyter-widgets/base",
      "model_module_version": "1.2.0",
      "model_name": "LayoutModel",
      "state": {}
     },
     "3eea52ddb6ce48d08ecc712b9b24f774": {
      "model_module": "jupyter-vuetify",
      "model_module_version": "^1.4.0",
      "model_name": "HtmlModel",
      "state": {
       "_events": [],
       "_jupyter_vue": "IPY_MODEL_f2e78566f8444de9953353753478b231",
       "_model_module_version": "^1.4.0",
       "_view_module_version": "^1.4.0",
       "attributes": {},
       "children": [
        "Element 2"
       ],
       "class_": "py-2 px-8",
       "layout": "IPY_MODEL_56205bb5de454c90a8dac0aafee70248",
       "style_": "background:lightblue",
       "tag": "p",
       "v_slots": []
      }
     },
     "3f9b6ca6d6454a249ac0247e12235c9a": {
      "model_module": "@jupyter-widgets/base",
      "model_module_version": "1.2.0",
      "model_name": "LayoutModel",
      "state": {}
     },
     "41b0372c23ef4cd4b3cf8b629bbff0d0": {
      "model_module": "jupyter-vuetify",
      "model_module_version": "^1.4.0",
      "model_name": "ThemeColorsModel",
      "state": {
       "_model_module_version": "^1.4.0",
       "_theme_name": "light",
       "_view_module": null,
       "_view_module_version": "^1.4.0",
       "accent": "#82B1FF",
       "error": "#FF5252",
       "info": "#2196F3",
       "primary": "#1976D2",
       "secondary": "#424242",
       "success": "#4CAF50",
       "warning": "#FB8C00"
      }
     },
     "41b7cc0d60d14b7ab2e693fd366830f6": {
      "model_module": "@jupyter-widgets/base",
      "model_module_version": "1.2.0",
      "model_name": "LayoutModel",
      "state": {}
     },
     "429f3235ba634bb997bcc6132abb96a2": {
      "model_module": "@jupyter-widgets/base",
      "model_module_version": "1.2.0",
      "model_name": "LayoutModel",
      "state": {}
     },
     "43e026de586a4333a5b2bd563289c6ce": {
      "model_module": "jupyter-vuetify",
      "model_module_version": "^1.4.0",
      "model_name": "HtmlModel",
      "state": {
       "_events": [],
       "_jupyter_vue": "IPY_MODEL_f2e78566f8444de9953353753478b231",
       "_model_module_version": "^1.4.0",
       "_view_module_version": "^1.4.0",
       "attributes": {},
       "children": [
        "Element 2"
       ],
       "class_": "py-2 px-8",
       "layout": "IPY_MODEL_52c092cc515f4b94af7093e778f9829d",
       "style_": "background:lightblue",
       "tag": "p",
       "v_slots": []
      }
     },
     "453c1fc0e14a4aa8b023932fd262416c": {
      "model_module": "@jupyter-widgets/base",
      "model_module_version": "1.2.0",
      "model_name": "LayoutModel",
      "state": {}
     },
     "46a1a6383a4440c68097b45410d5864a": {
      "model_module": "@jupyter-widgets/base",
      "model_module_version": "1.2.0",
      "model_name": "LayoutModel",
      "state": {}
     },
     "46ef172c7a514fccbbb2499eadeafa16": {
      "model_module": "@jupyter-widgets/base",
      "model_module_version": "1.2.0",
      "model_name": "LayoutModel",
      "state": {}
     },
     "47a04b367268474f9f2a8253547d3d62": {
      "model_module": "@jupyter-widgets/base",
      "model_module_version": "1.2.0",
      "model_name": "LayoutModel",
      "state": {}
     },
     "48274bcea853482ba1d0926e93de8aa9": {
      "model_module": "jupyter-vuetify",
      "model_module_version": "^1.4.0",
      "model_name": "HtmlModel",
      "state": {
       "_events": [],
       "_jupyter_vue": "IPY_MODEL_7fd0ce771cb64ddd94982ab3e31edb41",
       "_model_module_version": "^1.4.0",
       "_view_module_version": "^1.4.0",
       "attributes": {},
       "children": [
        "Element 1"
       ],
       "class_": "py-2 px-8",
       "layout": "IPY_MODEL_c2c59f5132aa45ccb1fe183c21fe256b",
       "style_": "background:lightgrey",
       "tag": "p",
       "v_slots": []
      }
     },
     "4879791e8a1146308b8ecc0e6428bf19": {
      "model_module": "jupyter-vuetify",
      "model_module_version": "^1.4.0",
      "model_name": "HtmlModel",
      "state": {
       "_events": [],
       "_jupyter_vue": "IPY_MODEL_f2e78566f8444de9953353753478b231",
       "_model_module_version": "^1.4.0",
       "_view_module_version": "^1.4.0",
       "attributes": {},
       "children": [
        "Element 1"
       ],
       "class_": "py-2 px-8",
       "layout": "IPY_MODEL_fcbe2befe67a4667b56e2d8c2cb951d7",
       "style_": "background:lightgrey",
       "tag": "p",
       "v_slots": []
      }
     },
     "4a0c2c8a2e374816ace0996b548e4af6": {
      "model_module": "jupyter-vuetify",
      "model_module_version": "^1.4.0",
      "model_name": "HtmlModel",
      "state": {
       "_events": [],
       "_jupyter_vue": "IPY_MODEL_7fd0ce771cb64ddd94982ab3e31edb41",
       "_model_module_version": "^1.4.0",
       "_view_module_version": "^1.4.0",
       "attributes": {},
       "children": [
        "Element 1"
       ],
       "class_": "py-2 px-8",
       "layout": "IPY_MODEL_a93a6c8916a9458ea118ff2107391ae8",
       "style_": "background:lightblue",
       "tag": "p",
       "v_slots": []
      }
     },
     "4a9f34848c4042cdb32b887c74f0255c": {
      "model_module": "jupyter-vuetify",
      "model_module_version": "^1.4.0",
      "model_name": "ContainerModel",
      "state": {
       "_events": [],
       "_jupyter_vue": "IPY_MODEL_f2e78566f8444de9953353753478b231",
       "attributes": {},
       "children": [
        "IPY_MODEL_3834f03141a84ea38b4d23b7c1cbaa95",
        "IPY_MODEL_b2c563ac84024fee916ac019251649ed"
       ],
       "layout": "IPY_MODEL_27d14746562a497eb67954c170efa9ac",
       "v_slots": []
      }
     },
     "4b19df3c4005482bb6b437196fd9f6bd": {
      "model_module": "jupyter-vuetify",
      "model_module_version": "^1.4.0",
      "model_name": "CardModel",
      "state": {
       "_events": [],
       "_jupyter_vue": "IPY_MODEL_7fd0ce771cb64ddd94982ab3e31edb41",
       "attributes": {},
       "children": [
        "Card Text"
       ],
       "class_": "ma-2 pa-2",
       "elevation": null,
       "height": null,
       "href": null,
       "layout": "IPY_MODEL_00f84abe87e740a8a7f3baed6fe50f6f",
       "loader_height": null,
       "loading": null,
       "max_height": null,
       "max_width": null,
       "min_height": null,
       "min_width": null,
       "ripple": null,
       "to": null,
       "v_slots": [],
       "width": null
      }
     },
     "4b1c26b0dd5d47a495c2008db8b11d60": {
      "model_module": "@jupyter-widgets/base",
      "model_module_version": "1.2.0",
      "model_name": "LayoutModel",
      "state": {}
     },
     "4b5acc398e224718bdfea64da50c22f7": {
      "model_module": "jupyter-vuetify",
      "model_module_version": "^1.4.0",
      "model_name": "ThemeColorsModel",
      "state": {
       "_model_module_version": "^1.4.0",
       "_theme_name": "light",
       "_view_module": null,
       "_view_module_version": "^1.4.0",
       "accent": "#82B1FF",
       "error": "#FF5252",
       "info": "#2196F3",
       "primary": "#1976D2",
       "secondary": "#424242",
       "success": "#4CAF50",
       "warning": "#FB8C00"
      }
     },
     "4bb416b88dc84704bc9da5851d8711de": {
      "model_module": "jupyter-vuetify",
      "model_module_version": "^1.4.0",
      "model_name": "HtmlModel",
      "state": {
       "_events": [],
       "_jupyter_vue": "IPY_MODEL_7fd0ce771cb64ddd94982ab3e31edb41",
       "_model_module_version": "^1.4.0",
       "_view_module_version": "^1.4.0",
       "attributes": {},
       "children": [
        "Element 2"
       ],
       "class_": "py-2 px-8",
       "layout": "IPY_MODEL_3af8d3d2d5de4435b19d46a50edab385",
       "style_": "background:lightblue",
       "tag": "p",
       "v_slots": []
      }
     },
     "4e3271272c2943b2b5c6053003f829e5": {
      "model_module": "jupyter-vuetify",
      "model_module_version": "^1.4.0",
      "model_name": "RowModel",
      "state": {
       "_events": [],
       "_jupyter_vue": "IPY_MODEL_7fd0ce771cb64ddd94982ab3e31edb41",
       "attributes": {},
       "children": [
        "Row Number 1"
       ],
       "class_": "py-4",
       "layout": "IPY_MODEL_3f9b6ca6d6454a249ac0247e12235c9a",
       "style_": "background:lightgrey;",
       "v_slots": []
      }
     },
     "4ed4d9f4e18e4550a06330622e72cad1": {
      "model_module": "jupyter-vuetify",
      "model_module_version": "^1.4.0",
      "model_name": "HtmlModel",
      "state": {
       "_events": [],
       "_jupyter_vue": "IPY_MODEL_f2e78566f8444de9953353753478b231",
       "_model_module_version": "^1.4.0",
       "_view_module_version": "^1.4.0",
       "attributes": {},
       "children": [
        "Element 2"
       ],
       "class_": "py-2 px-8",
       "layout": "IPY_MODEL_47a04b367268474f9f2a8253547d3d62",
       "style_": "background:lightblue",
       "tag": "p",
       "v_slots": []
      }
     },
     "4f5a077edd3d444f80fc90c4c3fc68ea": {
      "model_module": "@jupyter-widgets/base",
      "model_module_version": "1.2.0",
      "model_name": "LayoutModel",
      "state": {}
     },
     "4f77288800164cacb7a215f6a527d954": {
      "model_module": "@jupyter-widgets/base",
      "model_module_version": "1.2.0",
      "model_name": "LayoutModel",
      "state": {}
     },
     "4fa27d66814a4f17b3119922d8f971b9": {
      "model_module": "@jupyter-widgets/base",
      "model_module_version": "1.2.0",
      "model_name": "LayoutModel",
      "state": {}
     },
     "5045bbcabe404eb7b0b44b2a7bbc8dc3": {
      "model_module": "@jupyter-widgets/base",
      "model_module_version": "1.2.0",
      "model_name": "LayoutModel",
      "state": {}
     },
     "51ab8449ac4c47c3b402d115b42d5682": {
      "model_module": "jupyter-vuetify",
      "model_module_version": "^1.4.0",
      "model_name": "RowModel",
      "state": {
       "_events": [],
       "_jupyter_vue": "IPY_MODEL_f2e78566f8444de9953353753478b231",
       "attributes": {},
       "children": [
        "IPY_MODEL_6cfbf66223964af89d71e863018d5bac",
        "IPY_MODEL_b512bf4aa1a7405c92f6e626f484a75d"
       ],
       "justify": "space-around",
       "layout": "IPY_MODEL_46ef172c7a514fccbbb2499eadeafa16",
       "v_slots": []
      }
     },
     "51e6e191dd6443449fc6d53ddc764342": {
      "model_module": "@jupyter-widgets/base",
      "model_module_version": "1.2.0",
      "model_name": "LayoutModel",
      "state": {}
     },
     "5218eec8945941909a43b3c226751cd0": {
      "model_module": "jupyter-vuetify",
      "model_module_version": "^1.4.0",
      "model_name": "CardTextModel",
      "state": {
       "_events": [],
       "_jupyter_vue": "IPY_MODEL_f2e78566f8444de9953353753478b231",
       "attributes": {},
       "children": [
        "Click to view documentation on vuetifyjs.com"
       ],
       "layout": "IPY_MODEL_13e5ebb452a64f12b89c79a1d84d6282",
       "v_slots": []
      }
     },
     "522ac001d6f141eeba44d3a1ec9db802": {
      "model_module": "@jupyter-widgets/base",
      "model_module_version": "1.2.0",
      "model_name": "LayoutModel",
      "state": {}
     },
     "526d3926f1e541f8ab062791d8eeb5a0": {
      "model_module": "jupyter-vuetify",
      "model_module_version": "^1.4.0",
      "model_name": "CardTextModel",
      "state": {
       "_events": [],
       "_jupyter_vue": "IPY_MODEL_7fd0ce771cb64ddd94982ab3e31edb41",
       "attributes": {},
       "children": [
        "Card Text"
       ],
       "layout": "IPY_MODEL_30a8565aeca544b19e995909c290b902",
       "v_slots": []
      }
     },
     "529ebfcaf0b144f7acddfb374f25ae57": {
      "model_module": "jupyter-vuetify",
      "model_module_version": "^1.4.0",
      "model_name": "CardModel",
      "state": {
       "_events": [],
       "_jupyter_vue": "IPY_MODEL_7fd0ce771cb64ddd94982ab3e31edb41",
       "attributes": {},
       "children": [
        "IPY_MODEL_f7c5cd489f154970888b71ae97e69742",
        "IPY_MODEL_f639d63591774aa7aafdad8134d4e0a8",
        "IPY_MODEL_01bd9c34aaf0487e903b86b63fcff50c"
       ],
       "class_": "ma-2 pa-0",
       "color": "deep-orange lighten-2",
       "elevation": null,
       "height": null,
       "hover": true,
       "href": "https://vuetifyjs.com/en/components/cards/#api",
       "layout": "IPY_MODEL_d90783e7f01143448c6df2598a730014",
       "loader_height": null,
       "loading": null,
       "max_height": null,
       "max_width": null,
       "min_height": null,
       "min_width": null,
       "ripple": null,
       "shaped": true,
       "target": "none",
       "to": null,
       "v_slots": [],
       "width": 300
      }
     },
     "52c092cc515f4b94af7093e778f9829d": {
      "model_module": "@jupyter-widgets/base",
      "model_module_version": "1.2.0",
      "model_name": "LayoutModel",
      "state": {}
     },
     "55659451857d4fbfab59f076bb0d74ba": {
      "model_module": "@jupyter-widgets/base",
      "model_module_version": "1.2.0",
      "model_name": "LayoutModel",
      "state": {}
     },
     "56205bb5de454c90a8dac0aafee70248": {
      "model_module": "@jupyter-widgets/base",
      "model_module_version": "1.2.0",
      "model_name": "LayoutModel",
      "state": {}
     },
     "5626986df9ca4a7997a022850586d31d": {
      "model_module": "@jupyter-widgets/base",
      "model_module_version": "1.2.0",
      "model_name": "LayoutModel",
      "state": {}
     },
     "567b0d8b0dc24b3096383ebdf4e06eb6": {
      "model_module": "jupyter-vuetify",
      "model_module_version": "^1.4.0",
      "model_name": "CardSubtitleModel",
      "state": {
       "_events": [],
       "_jupyter_vue": "IPY_MODEL_7fd0ce771cb64ddd94982ab3e31edb41",
       "attributes": {},
       "children": [
        "Card Subtitle"
       ],
       "layout": "IPY_MODEL_2bc6010a77b648bc844749f3f22121f7",
       "v_slots": []
      }
     },
     "5b0a12319268432fb6819cbe3ac3d9b0": {
      "model_module": "@jupyter-widgets/base",
      "model_module_version": "1.2.0",
      "model_name": "LayoutModel",
      "state": {}
     },
     "5b9b6c46e2694470831e2416a7303643": {
      "model_module": "jupyter-vuetify",
      "model_module_version": "^1.4.0",
      "model_name": "HtmlModel",
      "state": {
       "_events": [],
       "_jupyter_vue": "IPY_MODEL_7fd0ce771cb64ddd94982ab3e31edb41",
       "_model_module_version": "^1.4.0",
       "_view_module_version": "^1.4.0",
       "attributes": {},
       "children": [
        "Element 2"
       ],
       "class_": "py-2 px-8",
       "layout": "IPY_MODEL_a232207cd83e49ab8818d5996eb3e269",
       "style_": "background:lightblue",
       "tag": "p",
       "v_slots": []
      }
     },
     "5c8e1af12c2048e1ac40c55f1e60d2fb": {
      "model_module": "jupyter-vuetify",
      "model_module_version": "^1.4.0",
      "model_name": "SpacerModel",
      "state": {
       "_events": [],
       "_jupyter_vue": "IPY_MODEL_7fd0ce771cb64ddd94982ab3e31edb41",
       "attributes": {},
       "children": [],
       "layout": "IPY_MODEL_8d4dc08305bb43e8b8fe6277d5406f72",
       "v_slots": []
      }
     },
     "5c95d820a22649718c4d3403d96999b0": {
      "model_module": "jupyter-vuetify",
      "model_module_version": "^1.4.0",
      "model_name": "ColModel",
      "state": {
       "_events": [],
       "_jupyter_vue": "IPY_MODEL_f2e78566f8444de9953353753478b231",
       "attributes": {},
       "children": [
        "Column Number 4"
       ],
       "class_": "py-2 text-center",
       "cols": 3,
       "layout": "IPY_MODEL_a16b52f6ff3946e6bfdf8f0c6fcff724",
       "lg": null,
       "md": null,
       "offset": null,
       "offset_lg": null,
       "offset_md": null,
       "offset_sm": null,
       "offset_xl": null,
       "order": null,
       "order_lg": null,
       "order_md": null,
       "order_sm": null,
       "order_xl": null,
       "sm": null,
       "style_": "background:lightblue; min-width:300px;",
       "v_slots": [],
       "xl": null
      }
     },
     "5e326cfa98e14113a97dfd2705628853": {
      "model_module": "jupyter-vuetify",
      "model_module_version": "^1.4.0",
      "model_name": "CardModel",
      "state": {
       "_events": [],
       "_jupyter_vue": "IPY_MODEL_f2e78566f8444de9953353753478b231",
       "attributes": {},
       "children": [
        "IPY_MODEL_77040ebe5d724456bd0b981a89893686",
        "IPY_MODEL_9e0b08dc8895408d8017e22b80d60cf3",
        "IPY_MODEL_5218eec8945941909a43b3c226751cd0"
       ],
       "class_": "ma-2 pa-0",
       "color": "deep-orange lighten-2",
       "elevation": null,
       "height": null,
       "hover": true,
       "href": "https://vuetifyjs.com/en/components/cards/#api",
       "layout": "IPY_MODEL_efa17ae7f4404cdf92b7f582c27ba906",
       "loader_height": null,
       "loading": null,
       "max_height": null,
       "max_width": null,
       "min_height": null,
       "min_width": null,
       "ripple": null,
       "shaped": true,
       "target": "none",
       "to": null,
       "v_slots": [],
       "width": 300
      }
     },
     "5e65099472b342f2ad5b6ff6d7f6f3ab": {
      "model_module": "jupyter-vuetify",
      "model_module_version": "^1.4.0",
      "model_name": "ColModel",
      "state": {
       "_events": [],
       "_jupyter_vue": "IPY_MODEL_f2e78566f8444de9953353753478b231",
       "attributes": {},
       "children": [
        "Column Number 2"
       ],
       "class_": "py-2 text-center",
       "cols": 3,
       "layout": "IPY_MODEL_3cc6314762e14fbf875dbdd7c751f5f5",
       "lg": null,
       "md": null,
       "offset": null,
       "offset_lg": null,
       "offset_md": null,
       "offset_sm": null,
       "offset_xl": null,
       "order": null,
       "order_lg": null,
       "order_md": null,
       "order_sm": null,
       "order_xl": null,
       "sm": null,
       "style_": "background:lightblue;",
       "v_slots": [],
       "xl": null
      }
     },
     "6150ec10318b423f9c780792b8f557a6": {
      "model_module": "jupyter-vuetify",
      "model_module_version": "^1.4.0",
      "model_name": "RowModel",
      "state": {
       "_events": [],
       "_jupyter_vue": "IPY_MODEL_7fd0ce771cb64ddd94982ab3e31edb41",
       "attributes": {},
       "children": [
        "I'm in the row.",
        " I'm in the row too."
       ],
       "class_": "pa-4",
       "layout": "IPY_MODEL_aa622216d0ae4f76b052e1ffbfa28329",
       "style_": "max-width:400px;",
       "v_slots": []
      }
     },
     "61cb0756606b4d429f4ce5c25976cb17": {
      "model_module": "jupyter-vuetify",
      "model_module_version": "^1.4.0",
      "model_name": "ThemeModel",
      "state": {
       "_model_module_version": "^1.4.0",
       "_view_module": null,
       "_view_module_version": "^1.4.0",
       "dark": false
      }
     },
     "62886a7ad92d40aea972acffa49f07f6": {
      "model_module": "@jupyter-widgets/base",
      "model_module_version": "1.2.0",
      "model_name": "LayoutModel",
      "state": {}
     },
     "62c10f7cc4824101a49f75b0ca3ac770": {
      "model_module": "@jupyter-widgets/base",
      "model_module_version": "1.2.0",
      "model_name": "LayoutModel",
      "state": {}
     },
     "647bfe5437cc47beae0fd9bffc9dc6ce": {
      "model_module": "@jupyter-widgets/base",
      "model_module_version": "1.2.0",
      "model_name": "LayoutModel",
      "state": {}
     },
     "6577c0259f1e4dae8225291305234a12": {
      "model_module": "jupyter-vuetify",
      "model_module_version": "^1.4.0",
      "model_name": "HtmlModel",
      "state": {
       "_events": [],
       "_jupyter_vue": "IPY_MODEL_f2e78566f8444de9953353753478b231",
       "_model_module_version": "^1.4.0",
       "_view_module_version": "^1.4.0",
       "attributes": {},
       "children": [
        "Element 1"
       ],
       "class_": "py-2 px-8",
       "layout": "IPY_MODEL_a2b027ca99204e40a45a2bb16ba6c0d6",
       "style_": "background:lightgrey",
       "tag": "p",
       "v_slots": []
      }
     },
     "65a2f7bcd12c4419b3432643b55db99a": {
      "model_module": "jupyter-vuetify",
      "model_module_version": "^1.4.0",
      "model_name": "ColModel",
      "state": {
       "_events": [],
       "_jupyter_vue": "IPY_MODEL_7fd0ce771cb64ddd94982ab3e31edb41",
       "attributes": {},
       "children": [
        "Column Number 2"
       ],
       "class_": "py-2 text-center",
       "cols": 3,
       "layout": "IPY_MODEL_fbb30028a04c413ea8fdc71c496c90cf",
       "lg": null,
       "md": null,
       "offset": null,
       "offset_lg": null,
       "offset_md": null,
       "offset_sm": null,
       "offset_xl": null,
       "order": null,
       "order_lg": null,
       "order_md": null,
       "order_sm": null,
       "order_xl": null,
       "sm": null,
       "style_": "background:lightblue; min-width:300px;",
       "v_slots": [],
       "xl": null
      }
     },
     "65c13539f2a94278868e08c4b9607f1e": {
      "model_module": "@jupyter-widgets/base",
      "model_module_version": "1.2.0",
      "model_name": "LayoutModel",
      "state": {}
     },
     "6985d0e48e8e4eed996ba4105c3c33f5": {
      "model_module": "jupyter-vuetify",
      "model_module_version": "^1.4.0",
      "model_name": "HtmlModel",
      "state": {
       "_events": [],
       "_jupyter_vue": "IPY_MODEL_7fd0ce771cb64ddd94982ab3e31edb41",
       "_model_module_version": "^1.4.0",
       "_view_module_version": "^1.4.0",
       "attributes": {},
       "children": [
        "Element 1"
       ],
       "class_": "py-2 px-8",
       "layout": "IPY_MODEL_deef0e511c2d4f578c84775475f84d45",
       "style_": "background:lightgrey",
       "tag": "p",
       "v_slots": []
      }
     },
     "6a48ed1def5846afa3ee75c6ed0df508": {
      "model_module": "jupyter-vuetify",
      "model_module_version": "^1.4.0",
      "model_name": "IconModel",
      "state": {
       "_events": [],
       "_jupyter_vue": "IPY_MODEL_f2e78566f8444de9953353753478b231",
       "attributes": {},
       "children": [
        "mdi-check"
       ],
       "layout": "IPY_MODEL_9a0f446bbfe24a5faedf6396b7736517",
       "size": null,
       "v_slots": []
      }
     },
     "6cfbf66223964af89d71e863018d5bac": {
      "model_module": "jupyter-vuetify",
      "model_module_version": "^1.4.0",
      "model_name": "HtmlModel",
      "state": {
       "_events": [],
       "_jupyter_vue": "IPY_MODEL_f2e78566f8444de9953353753478b231",
       "_model_module_version": "^1.4.0",
       "_view_module_version": "^1.4.0",
       "attributes": {},
       "children": [
        "Element 1"
       ],
       "class_": "py-2 px-8",
       "layout": "IPY_MODEL_15de837250414900a93149a0c23191d0",
       "style_": "background:lightgrey",
       "tag": "p",
       "v_slots": []
      }
     },
     "6ef11f036387484c9d142d0f4c192adf": {
      "model_module": "jupyter-vuetify",
      "model_module_version": "^1.4.0",
      "model_name": "RowModel",
      "state": {
       "_events": [],
       "_jupyter_vue": "IPY_MODEL_f2e78566f8444de9953353753478b231",
       "attributes": {},
       "children": [
        "IPY_MODEL_ff8369766d3344b0b2b0e8b991d9f31b",
        "IPY_MODEL_8c0958acc2324daf9e25c94df0126a74"
       ],
       "layout": "IPY_MODEL_73a4f3bf93f840878d4333d7f532b42e",
       "v_slots": []
      }
     },
     "6fe3f996b87a42838f15aedb07efe669": {
      "model_module": "@jupyter-widgets/base",
      "model_module_version": "1.2.0",
      "model_name": "LayoutModel",
      "state": {}
     },
     "704665665ed748aabae4d77d940506be": {
      "model_module": "@jupyter-widgets/base",
      "model_module_version": "1.2.0",
      "model_name": "LayoutModel",
      "state": {}
     },
     "71a2a88f27f344258553fa400a513b9a": {
      "model_module": "@jupyter-widgets/base",
      "model_module_version": "1.2.0",
      "model_name": "LayoutModel",
      "state": {}
     },
     "73a4f3bf93f840878d4333d7f532b42e": {
      "model_module": "@jupyter-widgets/base",
      "model_module_version": "1.2.0",
      "model_name": "LayoutModel",
      "state": {}
     },
     "73e9e5a80925459b921d907857bed143": {
      "model_module": "jupyter-vuetify",
      "model_module_version": "^1.4.0",
      "model_name": "HtmlModel",
      "state": {
       "_events": [],
       "_jupyter_vue": "IPY_MODEL_f2e78566f8444de9953353753478b231",
       "_model_module_version": "^1.4.0",
       "_view_module_version": "^1.4.0",
       "attributes": {},
       "children": [
        "Element 1"
       ],
       "class_": "py-2 px-8",
       "layout": "IPY_MODEL_7e22b086ebc34260a9dc8a6d5a496f87",
       "style_": "background:lightgrey",
       "tag": "p",
       "v_slots": []
      }
     },
     "7568f94f703a4b7eb0b66e7beca6c1c0": {
      "model_module": "@jupyter-widgets/base",
      "model_module_version": "1.2.0",
      "model_name": "LayoutModel",
      "state": {}
     },
     "75cd6333388144ed8fab6fb8b001818c": {
      "model_module": "jupyter-vuetify",
      "model_module_version": "^1.4.0",
      "model_name": "ThemeColorsModel",
      "state": {
       "_model_module_version": "^1.4.0",
       "_theme_name": "light",
       "_view_module": null,
       "_view_module_version": "^1.4.0",
       "accent": "#82B1FF",
       "error": "#FF5252",
       "info": "#2196F3",
       "primary": "#1976D2",
       "secondary": "#424242",
       "success": "#4CAF50",
       "warning": "#FB8C00"
      }
     },
     "760aba7970524bc0aac1551c5a41a70b": {
      "model_module": "@jupyter-widgets/base",
      "model_module_version": "1.2.0",
      "model_name": "LayoutModel",
      "state": {}
     },
     "7628b41628b04abfbccf4c14fd495469": {
      "model_module": "@jupyter-widgets/base",
      "model_module_version": "1.2.0",
      "model_name": "LayoutModel",
      "state": {}
     },
     "77040ebe5d724456bd0b981a89893686": {
      "model_module": "jupyter-vuetify",
      "model_module_version": "^1.4.0",
      "model_name": "CardTitleModel",
      "state": {
       "_events": [],
       "_jupyter_vue": "IPY_MODEL_f2e78566f8444de9953353753478b231",
       "attributes": {},
       "children": [
        "Vuetify Card Component"
       ],
       "class_": "headline gray lighten-8",
       "layout": "IPY_MODEL_31d1e1c5491444ab9b386abbc10c7860",
       "v_slots": []
      }
     },
     "77671c75187c47fdb08d7d9b636c5afd": {
      "model_module": "jupyter-vuetify",
      "model_module_version": "^1.4.0",
      "model_name": "HtmlModel",
      "state": {
       "_events": [],
       "_jupyter_vue": "IPY_MODEL_1d50ce9727d441289b7284a1a97658d3",
       "_model_module_version": "^1.4.0",
       "_view_module_version": "^1.4.0",
       "attributes": {},
       "children": [
        "This is a h1 title"
       ],
       "layout": "IPY_MODEL_0ae2610892ca41f29bf70214d409af24",
       "tag": "h1",
       "v_slots": []
      }
     },
     "784c33d7066e45b09516177787841801": {
      "model_module": "@jupyter-widgets/base",
      "model_module_version": "1.2.0",
      "model_name": "LayoutModel",
      "state": {}
     },
     "788ecebbe5144974a2d2b99a4f64029b": {
      "model_module": "jupyter-vuetify",
      "model_module_version": "^1.4.0",
      "model_name": "SpacerModel",
      "state": {
       "_events": [],
       "_jupyter_vue": "IPY_MODEL_f2e78566f8444de9953353753478b231",
       "attributes": {},
       "children": [],
       "layout": "IPY_MODEL_cbb7161664854d4fb32d5c7f2f6aee1f",
       "v_slots": []
      }
     },
     "7b4009e453bc43d78128de0be323d218": {
      "model_module": "@jupyter-widgets/base",
      "model_module_version": "1.2.0",
      "model_name": "LayoutModel",
      "state": {}
     },
     "7bbec4b15c87450e9cc1e41837528ad5": {
      "model_module": "jupyter-vuetify",
      "model_module_version": "^1.4.0",
      "model_name": "HtmlModel",
      "state": {
       "_events": [],
       "_jupyter_vue": "IPY_MODEL_7fd0ce771cb64ddd94982ab3e31edb41",
       "_model_module_version": "^1.4.0",
       "_view_module_version": "^1.4.0",
       "attributes": {},
       "children": [
        "Element 1"
       ],
       "class_": "py-2 px-8",
       "layout": "IPY_MODEL_4fa27d66814a4f17b3119922d8f971b9",
       "style_": "background:lightgrey",
       "tag": "p",
       "v_slots": []
      }
     },
     "7ca6732e4f5140d697934f0c8993f57f": {
      "model_module": "@jupyter-widgets/base",
      "model_module_version": "1.2.0",
      "model_name": "LayoutModel",
      "state": {}
     },
     "7da998d5b17b4ad78d26a642b12bab3c": {
      "model_module": "jupyter-vuetify",
      "model_module_version": "^1.4.0",
      "model_name": "ContainerModel",
      "state": {
       "_events": [],
       "_jupyter_vue": "IPY_MODEL_7fd0ce771cb64ddd94982ab3e31edb41",
       "attributes": {},
       "children": [
        "I'm in the row.",
        " I'm in the row too."
       ],
       "class_": "pa-4",
       "layout": "IPY_MODEL_ec24fa0740e44aa4bd2d8fa896a234a4",
       "style_": "max-width:400px;",
       "v_slots": []
      }
     },
     "7e22b086ebc34260a9dc8a6d5a496f87": {
      "model_module": "@jupyter-widgets/base",
      "model_module_version": "1.2.0",
      "model_name": "LayoutModel",
      "state": {}
     },
     "7ee15ddcbb294297b565baf67536c5ce": {
      "model_module": "jupyter-vuetify",
      "model_module_version": "^1.4.0",
      "model_name": "RowModel",
      "state": {
       "_events": [],
       "_jupyter_vue": "IPY_MODEL_7fd0ce771cb64ddd94982ab3e31edb41",
       "attributes": {},
       "children": [
        "IPY_MODEL_48274bcea853482ba1d0926e93de8aa9",
        "IPY_MODEL_4a0c2c8a2e374816ace0996b548e4af6"
       ],
       "justify": "space-around",
       "layout": "IPY_MODEL_c2dfd1ce8a1f4247999306663b6d1198",
       "v_slots": []
      }
     },
     "7fd0ce771cb64ddd94982ab3e31edb41": {
      "model_module": "jupyter-vue",
      "model_module_version": "^1.3.2",
      "model_name": "ForceLoadModel",
      "state": {
       "_model_module_version": "^1.3.2",
       "_view_module": null,
       "_view_module_version": "",
       "layout": "IPY_MODEL_f1a7f1a222834a4893855f12d941fab2"
      }
     },
     "81c5c6f8fda54664858103c486feda20": {
      "model_module": "jupyter-vuetify",
      "model_module_version": "^1.4.0",
      "model_name": "HtmlModel",
      "state": {
       "_events": [],
       "_jupyter_vue": "IPY_MODEL_7fd0ce771cb64ddd94982ab3e31edb41",
       "_model_module_version": "^1.4.0",
       "_view_module_version": "^1.4.0",
       "attributes": {},
       "children": [
        "Element 2"
       ],
       "class_": "py-2 px-8",
       "layout": "IPY_MODEL_ac846f3fe6dc4d58afa96b0cbbc5bd2d",
       "style_": "background:lightblue",
       "tag": "p",
       "v_slots": []
      }
     },
     "81f015960a994f85ab014e54bf69fa5b": {
      "model_module": "@jupyter-widgets/base",
      "model_module_version": "1.2.0",
      "model_name": "LayoutModel",
      "state": {}
     },
     "85166e13e25d41d7a92b1416b216be73": {
      "model_module": "@jupyter-widgets/base",
      "model_module_version": "1.2.0",
      "model_name": "LayoutModel",
      "state": {}
     },
     "85ad17414eb54131b5420774be009241": {
      "model_module": "jupyter-vuetify",
      "model_module_version": "^1.4.0",
      "model_name": "CardModel",
      "state": {
       "_events": [],
       "_jupyter_vue": "IPY_MODEL_f2e78566f8444de9953353753478b231",
       "attributes": {},
       "children": [
        "IPY_MODEL_fabc92cf8d854c48a98052fbc0002e55",
        "IPY_MODEL_06ec65e5a9ed489992a0f54d3e7d4bf3",
        "IPY_MODEL_dd591f8f34f546a3a6cfae75c75e093d"
       ],
       "class_": "ma-2 pa-0",
       "elevation": null,
       "height": null,
       "href": null,
       "layout": "IPY_MODEL_704665665ed748aabae4d77d940506be",
       "loader_height": null,
       "loading": null,
       "max_height": null,
       "max_width": null,
       "min_height": null,
       "min_width": null,
       "ripple": null,
       "to": null,
       "v_slots": [],
       "width": null
      }
     },
     "86b83bbc7d984ce4b9aec48744c08343": {
      "model_module": "jupyter-vuetify",
      "model_module_version": "^1.4.0",
      "model_name": "CardTitleModel",
      "state": {
       "_events": [],
       "_jupyter_vue": "IPY_MODEL_7fd0ce771cb64ddd94982ab3e31edb41",
       "attributes": {},
       "children": [
        "Card Title"
       ],
       "class_": "headline gray lighten-8",
       "layout": "IPY_MODEL_71a2a88f27f344258553fa400a513b9a",
       "v_slots": []
      }
     },
     "8a6ea22308d342e48501f4f1b7c9e9de": {
      "model_module": "@jupyter-widgets/base",
      "model_module_version": "1.2.0",
      "model_name": "LayoutModel",
      "state": {}
     },
     "8c0958acc2324daf9e25c94df0126a74": {
      "model_module": "jupyter-vuetify",
      "model_module_version": "^1.4.0",
      "model_name": "ColModel",
      "state": {
       "_events": [],
       "_jupyter_vue": "IPY_MODEL_f2e78566f8444de9953353753478b231",
       "attributes": {},
       "children": [
        "Column Number 2"
       ],
       "class_": "py-4 text-center",
       "cols": 6,
       "layout": "IPY_MODEL_41b7cc0d60d14b7ab2e693fd366830f6",
       "lg": null,
       "md": null,
       "offset": null,
       "offset_lg": null,
       "offset_md": null,
       "offset_sm": null,
       "offset_xl": null,
       "order": null,
       "order_lg": null,
       "order_md": null,
       "order_sm": null,
       "order_xl": null,
       "sm": null,
       "style_": "background:lightblue;",
       "v_slots": [],
       "xl": null
      }
     },
     "8cf6119c06c040fbaabebd63c2442b51": {
      "model_module": "@jupyter-widgets/base",
      "model_module_version": "1.2.0",
      "model_name": "LayoutModel",
      "state": {}
     },
     "8d05718227c74f7e91a89fa7566ba5e8": {
      "model_module": "jupyter-vuetify",
      "model_module_version": "^1.4.0",
      "model_name": "RowModel",
      "state": {
       "_events": [],
       "_jupyter_vue": "IPY_MODEL_f2e78566f8444de9953353753478b231",
       "attributes": {},
       "children": [
        "IPY_MODEL_1f47a34092544b438336b32699f7bf5c",
        "IPY_MODEL_e58f85a345854a17a5d8a3b62dda3841"
       ],
       "justify": "center",
       "layout": "IPY_MODEL_95a5c1a872c94c5289edcf10ca07b511",
       "v_slots": []
      }
     },
     "8d4dc08305bb43e8b8fe6277d5406f72": {
      "model_module": "@jupyter-widgets/base",
      "model_module_version": "1.2.0",
      "model_name": "LayoutModel",
      "state": {}
     },
     "8da2eec85f364df1a366b82e32c12a05": {
      "model_module": "jupyter-vuetify",
      "model_module_version": "^1.4.0",
      "model_name": "HtmlModel",
      "state": {
       "_events": [],
       "_jupyter_vue": "IPY_MODEL_f2e78566f8444de9953353753478b231",
       "_model_module_version": "^1.4.0",
       "_view_module_version": "^1.4.0",
       "attributes": {},
       "children": [
        "Element 1"
       ],
       "class_": "py-2 px-8",
       "layout": "IPY_MODEL_c96849d9c9164e7997f0480a764655b7",
       "style_": "background:lightgrey",
       "tag": "p",
       "v_slots": []
      }
     },
     "8e1a0703a4b44297a5ed361178003edf": {
      "model_module": "@jupyter-widgets/base",
      "model_module_version": "1.2.0",
      "model_name": "LayoutModel",
      "state": {}
     },
     "8e321745c0894ae38298e16f52fff0f4": {
      "model_module": "jupyter-vuetify",
      "model_module_version": "^1.4.0",
      "model_name": "ContainerModel",
      "state": {
       "_events": [],
       "_jupyter_vue": "IPY_MODEL_f2e78566f8444de9953353753478b231",
       "attributes": {},
       "children": [
        "I'm in the row.",
        " I'm in the row too."
       ],
       "class_": "pa-4",
       "layout": "IPY_MODEL_4b1c26b0dd5d47a495c2008db8b11d60",
       "style_": "max-width:400px;",
       "v_slots": []
      }
     },
     "9063d9531aaf42dcb33ba648976a1791": {
      "model_module": "jupyter-vuetify",
      "model_module_version": "^1.4.0",
      "model_name": "ContainerModel",
      "state": {
       "_events": [],
       "_jupyter_vue": "IPY_MODEL_7fd0ce771cb64ddd94982ab3e31edb41",
       "attributes": {},
       "children": [
        "IPY_MODEL_4e3271272c2943b2b5c6053003f829e5",
        "IPY_MODEL_b8ceef56a3ae41b7b0be6202e4602ede"
       ],
       "layout": "IPY_MODEL_46a1a6383a4440c68097b45410d5864a",
       "v_slots": []
      }
     },
     "90992dbdf94a43fea544519733efc10c": {
      "model_module": "jupyter-vuetify",
      "model_module_version": "^1.4.0",
      "model_name": "HtmlModel",
      "state": {
       "_events": [],
       "_jupyter_vue": "IPY_MODEL_7fd0ce771cb64ddd94982ab3e31edb41",
       "_model_module_version": "^1.4.0",
       "_view_module_version": "^1.4.0",
       "attributes": {},
       "children": [
        "Element 1"
       ],
       "class_": "py-2 px-8",
       "layout": "IPY_MODEL_ff3418e399e04122a65c881cdf7c34c6",
       "style_": "background:lightgrey",
       "tag": "p",
       "v_slots": []
      }
     },
     "91a304a9ed85488b8f6270daa6ba6038": {
      "model_module": "jupyter-vuetify",
      "model_module_version": "^1.4.0",
      "model_name": "BtnModel",
      "state": {
       "_events": [],
       "_jupyter_vue": "IPY_MODEL_7fd0ce771cb64ddd94982ab3e31edb41",
       "attributes": {},
       "children": [
        "IPY_MODEL_207ba80f598b4a46b0348de9f7a2079d"
       ],
       "class_": "icon ma-2",
       "color": "success",
       "elevation": null,
       "height": null,
       "href": null,
       "layout": "IPY_MODEL_b9a0f09c7f53416b8fb82a81728b36b0",
       "max_height": null,
       "max_width": null,
       "min_height": null,
       "min_width": null,
       "ripple": null,
       "style_": "max-width:100px",
       "to": null,
       "v_slots": [],
       "width": null
      }
     },
     "92f3b870d8e8451abd025b632cdf5cb9": {
      "model_module": "jupyter-vuetify",
      "model_module_version": "^1.4.0",
      "model_name": "ThemeColorsModel",
      "state": {
       "_model_module_version": "^1.4.0",
       "_theme_name": "dark",
       "_view_module": null,
       "_view_module_version": "^1.4.0",
       "accent": "#FF4081",
       "error": "#FF5252",
       "info": "#2196F3",
       "primary": "#2196F3",
       "secondary": "#424242",
       "success": "#4CAF50",
       "warning": "#FB8C00"
      }
     },
     "959d75bb51a6462aab7d8add2942a39e": {
      "model_module": "jupyter-vuetify",
      "model_module_version": "^1.4.0",
      "model_name": "ColModel",
      "state": {
       "_events": [],
       "_jupyter_vue": "IPY_MODEL_f2e78566f8444de9953353753478b231",
       "attributes": {},
       "children": [
        "Column Number 4"
       ],
       "class_": "py-2 text-center",
       "cols": 3,
       "layout": "IPY_MODEL_51e6e191dd6443449fc6d53ddc764342",
       "lg": null,
       "md": null,
       "offset": null,
       "offset_lg": null,
       "offset_md": null,
       "offset_sm": null,
       "offset_xl": null,
       "order": null,
       "order_lg": null,
       "order_md": null,
       "order_sm": null,
       "order_xl": null,
       "sm": null,
       "style_": "background:lightblue;",
       "v_slots": [],
       "xl": null
      }
     },
     "95a5c1a872c94c5289edcf10ca07b511": {
      "model_module": "@jupyter-widgets/base",
      "model_module_version": "1.2.0",
      "model_name": "LayoutModel",
      "state": {}
     },
     "95e34cfdf8f3433f9942fc9fdde03b8b": {
      "model_module": "@jupyter-widgets/base",
      "model_module_version": "1.2.0",
      "model_name": "LayoutModel",
      "state": {}
     },
     "96019f185a7c4a8fb36b97abd7bd6a5b": {
      "model_module": "@jupyter-widgets/base",
      "model_module_version": "1.2.0",
      "model_name": "LayoutModel",
      "state": {}
     },
     "96f5dccbe0eb436e8930e7e702ec3bd6": {
      "model_module": "jupyter-vuetify",
      "model_module_version": "^1.4.0",
      "model_name": "ThemeModel",
      "state": {
       "_model_module_version": "^1.4.0",
       "_view_module": null,
       "_view_module_version": "^1.4.0",
       "dark": false
      }
     },
     "9a0f446bbfe24a5faedf6396b7736517": {
      "model_module": "@jupyter-widgets/base",
      "model_module_version": "1.2.0",
      "model_name": "LayoutModel",
      "state": {}
     },
     "9d565bff5cf04dbda8d908f10ffc6dc6": {
      "model_module": "jupyter-vuetify",
      "model_module_version": "^1.4.0",
      "model_name": "HtmlModel",
      "state": {
       "_events": [],
       "_jupyter_vue": "IPY_MODEL_7fd0ce771cb64ddd94982ab3e31edb41",
       "_model_module_version": "^1.4.0",
       "_view_module_version": "^1.4.0",
       "attributes": {},
       "children": [
        "Element 1"
       ],
       "class_": "py-2 px-8",
       "layout": "IPY_MODEL_81f015960a994f85ab014e54bf69fa5b",
       "style_": "background:lightgrey",
       "tag": "p",
       "v_slots": []
      }
     },
     "9d7ff2598d0e48258ed9b7d62f37ee0b": {
      "model_module": "jupyter-vuetify",
      "model_module_version": "^1.4.0",
      "model_name": "HtmlModel",
      "state": {
       "_events": [],
       "_jupyter_vue": "IPY_MODEL_7fd0ce771cb64ddd94982ab3e31edb41",
       "_model_module_version": "^1.4.0",
       "_view_module_version": "^1.4.0",
       "attributes": {},
       "children": [
        "Element 1"
       ],
       "class_": "py-2 px-8",
       "layout": "IPY_MODEL_a18ed9f6eab94c199f7812fe00673a5d",
       "style_": "background:lightgrey",
       "tag": "p",
       "v_slots": []
      }
     },
     "9e0b08dc8895408d8017e22b80d60cf3": {
      "model_module": "jupyter-vuetify",
      "model_module_version": "^1.4.0",
      "model_name": "CardSubtitleModel",
      "state": {
       "_events": [],
       "_jupyter_vue": "IPY_MODEL_f2e78566f8444de9953353753478b231",
       "attributes": {},
       "children": [
        "Neat!"
       ],
       "layout": "IPY_MODEL_f0a9fc6ac9c344e1b8b110fd3c4b6153",
       "v_slots": []
      }
     },
     "9fb38b13481f4bbc9bc9d3f0729c67de": {
      "model_module": "jupyter-vuetify",
      "model_module_version": "^1.4.0",
      "model_name": "ThemeColorsModel",
      "state": {
       "_model_module_version": "^1.4.0",
       "_theme_name": "dark",
       "_view_module": null,
       "_view_module_version": "^1.4.0",
       "accent": "#FF4081",
       "error": "#FF5252",
       "info": "#2196F3",
       "primary": "#2196F3",
       "secondary": "#424242",
       "success": "#4CAF50",
       "warning": "#FB8C00"
      }
     },
     "a063314e86a14d12bdbcc7eeb2cfe868": {
      "model_module": "jupyter-vuetify",
      "model_module_version": "^1.4.0",
      "model_name": "ColModel",
      "state": {
       "_events": [],
       "_jupyter_vue": "IPY_MODEL_7fd0ce771cb64ddd94982ab3e31edb41",
       "attributes": {},
       "children": [
        "Column Number 1"
       ],
       "class_": "py-4 text-center",
       "cols": 6,
       "layout": "IPY_MODEL_ff6febca3e1449e1926b70f1defb788a",
       "lg": null,
       "md": null,
       "offset": null,
       "offset_lg": null,
       "offset_md": null,
       "offset_sm": null,
       "offset_xl": null,
       "order": null,
       "order_lg": null,
       "order_md": null,
       "order_sm": null,
       "order_xl": null,
       "sm": null,
       "style_": "background:lightgrey;",
       "v_slots": [],
       "xl": null
      }
     },
     "a16b52f6ff3946e6bfdf8f0c6fcff724": {
      "model_module": "@jupyter-widgets/base",
      "model_module_version": "1.2.0",
      "model_name": "LayoutModel",
      "state": {}
     },
     "a18ed9f6eab94c199f7812fe00673a5d": {
      "model_module": "@jupyter-widgets/base",
      "model_module_version": "1.2.0",
      "model_name": "LayoutModel",
      "state": {}
     },
     "a232207cd83e49ab8818d5996eb3e269": {
      "model_module": "@jupyter-widgets/base",
      "model_module_version": "1.2.0",
      "model_name": "LayoutModel",
      "state": {}
     },
     "a2b027ca99204e40a45a2bb16ba6c0d6": {
      "model_module": "@jupyter-widgets/base",
      "model_module_version": "1.2.0",
      "model_name": "LayoutModel",
      "state": {}
     },
     "a54537da247345c3bbe679c90184da10": {
      "model_module": "jupyter-vuetify",
      "model_module_version": "^1.4.0",
      "model_name": "RowModel",
      "state": {
       "_events": [],
       "_jupyter_vue": "IPY_MODEL_7fd0ce771cb64ddd94982ab3e31edb41",
       "attributes": {},
       "children": [
        "IPY_MODEL_efd0fa53212046b694121d177aa63137",
        "IPY_MODEL_1419a15bd083420fa892565852bb5808"
       ],
       "layout": "IPY_MODEL_647bfe5437cc47beae0fd9bffc9dc6ce",
       "v_slots": []
      }
     },
     "a636f43d677647ff8e184698006ab3c4": {
      "model_module": "jupyter-vuetify",
      "model_module_version": "^1.4.0",
      "model_name": "ThemeColorsModel",
      "state": {
       "_model_module_version": "^1.4.0",
       "_theme_name": "light",
       "_view_module": null,
       "_view_module_version": "^1.4.0",
       "accent": "#82B1FF",
       "error": "#FF5252",
       "info": "#2196F3",
       "primary": "#1976D2",
       "secondary": "#424242",
       "success": "#4CAF50",
       "warning": "#FB8C00"
      }
     },
     "a650c84d6a3d48f58bb6526e264e2185": {
      "model_module": "@jupyter-widgets/base",
      "model_module_version": "1.2.0",
      "model_name": "LayoutModel",
      "state": {}
     },
     "a6a7ec4a49d04a0c880d3dd6507383db": {
      "model_module": "@jupyter-widgets/base",
      "model_module_version": "1.2.0",
      "model_name": "LayoutModel",
      "state": {}
     },
     "a6c2b64049d544a9afe54007a76f0765": {
      "model_module": "jupyter-vuetify",
      "model_module_version": "^1.4.0",
      "model_name": "ThemeModel",
      "state": {
       "_model_module_version": "^1.4.0",
       "_view_module": null,
       "_view_module_version": "^1.4.0",
       "dark": false
      }
     },
     "a8b1ac8013c948b1bbe578174b9dd13d": {
      "model_module": "@jupyter-widgets/base",
      "model_module_version": "1.2.0",
      "model_name": "LayoutModel",
      "state": {}
     },
     "a93a6c8916a9458ea118ff2107391ae8": {
      "model_module": "@jupyter-widgets/base",
      "model_module_version": "1.2.0",
      "model_name": "LayoutModel",
      "state": {}
     },
     "aa622216d0ae4f76b052e1ffbfa28329": {
      "model_module": "@jupyter-widgets/base",
      "model_module_version": "1.2.0",
      "model_name": "LayoutModel",
      "state": {}
     },
     "ab9bc871d3f348e4a1455dbf79dae1cc": {
      "model_module": "jupyter-vuetify",
      "model_module_version": "^1.4.0",
      "model_name": "RowModel",
      "state": {
       "_events": [],
       "_jupyter_vue": "IPY_MODEL_f2e78566f8444de9953353753478b231",
       "attributes": {},
       "children": [
        "IPY_MODEL_c0b0f7039fd84e7f9f6d6f627f12233e",
        "IPY_MODEL_5e65099472b342f2ad5b6ff6d7f6f3ab",
        "IPY_MODEL_1cb6df29c41c4b2ebabc51f827865035",
        "IPY_MODEL_959d75bb51a6462aab7d8add2942a39e"
       ],
       "layout": "IPY_MODEL_250ec34e95bb4988923a16b78242b6be",
       "v_slots": []
      }
     },
     "ac846f3fe6dc4d58afa96b0cbbc5bd2d": {
      "model_module": "@jupyter-widgets/base",
      "model_module_version": "1.2.0",
      "model_name": "LayoutModel",
      "state": {}
     },
     "af59b6c141ae45c7a24dcbd31c1f5066": {
      "model_module": "@jupyter-widgets/base",
      "model_module_version": "1.2.0",
      "model_name": "LayoutModel",
      "state": {}
     },
     "b2c563ac84024fee916ac019251649ed": {
      "model_module": "jupyter-vuetify",
      "model_module_version": "^1.4.0",
      "model_name": "RowModel",
      "state": {
       "_events": [],
       "_jupyter_vue": "IPY_MODEL_f2e78566f8444de9953353753478b231",
       "attributes": {},
       "children": [
        "Row Number 2"
       ],
       "class_": "py-4",
       "layout": "IPY_MODEL_6fe3f996b87a42838f15aedb07efe669",
       "style_": "background:lightblue;",
       "v_slots": []
      }
     },
     "b4a1c5a5b722437cb138fd05fe888da1": {
      "model_module": "@jupyter-widgets/base",
      "model_module_version": "1.2.0",
      "model_name": "LayoutModel",
      "state": {}
     },
     "b512bf4aa1a7405c92f6e626f484a75d": {
      "model_module": "jupyter-vuetify",
      "model_module_version": "^1.4.0",
      "model_name": "HtmlModel",
      "state": {
       "_events": [],
       "_jupyter_vue": "IPY_MODEL_f2e78566f8444de9953353753478b231",
       "_model_module_version": "^1.4.0",
       "_view_module_version": "^1.4.0",
       "attributes": {},
       "children": [
        "Element 1"
       ],
       "class_": "py-2 px-8",
       "layout": "IPY_MODEL_df31804167534e4095bda6ca010a4024",
       "style_": "background:lightblue",
       "tag": "p",
       "v_slots": []
      }
     },
     "b75b717e04d140119e067c73ade9f3c3": {
      "model_module": "@jupyter-widgets/base",
      "model_module_version": "1.2.0",
      "model_name": "LayoutModel",
      "state": {}
     },
     "b7c95d33a4784501afa0ea7d1d494d23": {
      "model_module": "jupyter-vuetify",
      "model_module_version": "^1.4.0",
      "model_name": "CardModel",
      "state": {
       "_events": [],
       "_jupyter_vue": "IPY_MODEL_f2e78566f8444de9953353753478b231",
       "attributes": {},
       "children": [
        "Card Text"
       ],
       "class_": "ma-2 pa-2",
       "elevation": null,
       "height": null,
       "href": null,
       "layout": "IPY_MODEL_ba968601dc724e20a504d8bcf6afb0ab",
       "loader_height": null,
       "loading": null,
       "max_height": null,
       "max_width": null,
       "min_height": null,
       "min_width": null,
       "ripple": null,
       "to": null,
       "v_slots": [],
       "width": null
      }
     },
     "b8ceef56a3ae41b7b0be6202e4602ede": {
      "model_module": "jupyter-vuetify",
      "model_module_version": "^1.4.0",
      "model_name": "RowModel",
      "state": {
       "_events": [],
       "_jupyter_vue": "IPY_MODEL_7fd0ce771cb64ddd94982ab3e31edb41",
       "attributes": {},
       "children": [
        "Row Number 2"
       ],
       "class_": "py-4",
       "layout": "IPY_MODEL_d3b617a08105471ba4f483cc0cbe7ab7",
       "style_": "background:lightblue;",
       "v_slots": []
      }
     },
     "b9a0f09c7f53416b8fb82a81728b36b0": {
      "model_module": "@jupyter-widgets/base",
      "model_module_version": "1.2.0",
      "model_name": "LayoutModel",
      "state": {}
     },
     "ba968601dc724e20a504d8bcf6afb0ab": {
      "model_module": "@jupyter-widgets/base",
      "model_module_version": "1.2.0",
      "model_name": "LayoutModel",
      "state": {}
     },
     "bbc46b638aa247889229407364e599c1": {
      "model_module": "jupyter-vuetify",
      "model_module_version": "^1.4.0",
      "model_name": "RowModel",
      "state": {
       "_events": [],
       "_jupyter_vue": "IPY_MODEL_f2e78566f8444de9953353753478b231",
       "attributes": {},
       "children": [
        "IPY_MODEL_8da2eec85f364df1a366b82e32c12a05",
        "IPY_MODEL_4ed4d9f4e18e4550a06330622e72cad1"
       ],
       "justify": "end",
       "layout": "IPY_MODEL_522ac001d6f141eeba44d3a1ec9db802",
       "v_slots": []
      }
     },
     "bc7737ad896c4c92b4879f8d466af108": {
      "model_module": "jupyter-vuetify",
      "model_module_version": "^1.4.0",
      "model_name": "HtmlModel",
      "state": {
       "_events": [],
       "_jupyter_vue": "IPY_MODEL_7fd0ce771cb64ddd94982ab3e31edb41",
       "_model_module_version": "^1.4.0",
       "_view_module_version": "^1.4.0",
       "attributes": {},
       "children": [
        "Element 1"
       ],
       "class_": "py-2 px-8",
       "layout": "IPY_MODEL_453c1fc0e14a4aa8b023932fd262416c",
       "style_": "background:lightgrey",
       "tag": "p",
       "v_slots": []
      }
     },
     "bd13d158064b48ed99191c44851c9e62": {
      "model_module": "@jupyter-widgets/base",
      "model_module_version": "1.2.0",
      "model_name": "LayoutModel",
      "state": {}
     },
     "bd7a18e3a7ff4cc9a0e84a0ca0ae85ea": {
      "model_module": "jupyter-vuetify",
      "model_module_version": "^1.4.0",
      "model_name": "ColModel",
      "state": {
       "_events": [],
       "_jupyter_vue": "IPY_MODEL_f2e78566f8444de9953353753478b231",
       "attributes": {},
       "children": [
        "Column Number 1"
       ],
       "class_": "py-2 text-center",
       "cols": 3,
       "layout": "IPY_MODEL_8e1a0703a4b44297a5ed361178003edf",
       "lg": null,
       "md": null,
       "offset": null,
       "offset_lg": null,
       "offset_md": null,
       "offset_sm": null,
       "offset_xl": null,
       "order": null,
       "order_lg": null,
       "order_md": null,
       "order_sm": null,
       "order_xl": null,
       "sm": null,
       "style_": "background:lightgrey; min-width:300px;",
       "v_slots": [],
       "xl": null
      }
     },
     "beae4b32a5554fc180a3d730dcd0eb72": {
      "model_module": "@jupyter-widgets/base",
      "model_module_version": "1.2.0",
      "model_name": "LayoutModel",
      "state": {}
     },
     "bf3fafd3d4f04cf2b60d23f76c4fea21": {
      "model_module": "jupyter-vuetify",
      "model_module_version": "^1.4.0",
      "model_name": "HtmlModel",
      "state": {
       "_events": [],
       "_jupyter_vue": "IPY_MODEL_7fd0ce771cb64ddd94982ab3e31edb41",
       "_model_module_version": "^1.4.0",
       "_view_module_version": "^1.4.0",
       "attributes": {},
       "children": [
        "Element 2"
       ],
       "class_": "py-2 px-8",
       "layout": "IPY_MODEL_beae4b32a5554fc180a3d730dcd0eb72",
       "style_": "background:lightblue",
       "tag": "p",
       "v_slots": []
      }
     },
     "c0b0f7039fd84e7f9f6d6f627f12233e": {
      "model_module": "jupyter-vuetify",
      "model_module_version": "^1.4.0",
      "model_name": "ColModel",
      "state": {
       "_events": [],
       "_jupyter_vue": "IPY_MODEL_f2e78566f8444de9953353753478b231",
       "attributes": {},
       "children": [
        "Column Number 1"
       ],
       "class_": "py-2 text-center",
       "cols": 3,
       "layout": "IPY_MODEL_db2c46ab32cb4cf3b95322731d504cac",
       "lg": null,
       "md": null,
       "offset": null,
       "offset_lg": null,
       "offset_md": null,
       "offset_sm": null,
       "offset_xl": null,
       "order": null,
       "order_lg": null,
       "order_md": null,
       "order_sm": null,
       "order_xl": null,
       "sm": null,
       "style_": "background:lightgrey;",
       "v_slots": [],
       "xl": null
      }
     },
     "c13afab40cb646598a84d07ad301f502": {
      "model_module": "jupyter-vuetify",
      "model_module_version": "^1.4.0",
      "model_name": "RowModel",
      "state": {
       "_events": [],
       "_jupyter_vue": "IPY_MODEL_f2e78566f8444de9953353753478b231",
       "attributes": {},
       "children": [
        "IPY_MODEL_3341f572623a4f618bb13aa65dcca54f",
        "IPY_MODEL_43e026de586a4333a5b2bd563289c6ce"
       ],
       "layout": "IPY_MODEL_a8b1ac8013c948b1bbe578174b9dd13d",
       "v_slots": []
      }
     },
     "c2175a84d9304a8aa73f5433783a89fa": {
      "model_module": "@jupyter-widgets/base",
      "model_module_version": "1.2.0",
      "model_name": "LayoutModel",
      "state": {}
     },
     "c2c59f5132aa45ccb1fe183c21fe256b": {
      "model_module": "@jupyter-widgets/base",
      "model_module_version": "1.2.0",
      "model_name": "LayoutModel",
      "state": {}
     },
     "c2dfd1ce8a1f4247999306663b6d1198": {
      "model_module": "@jupyter-widgets/base",
      "model_module_version": "1.2.0",
      "model_name": "LayoutModel",
      "state": {}
     },
     "c315713b194a460ea0a7a68fcbe3ce5b": {
      "model_module": "jupyter-vuetify",
      "model_module_version": "^1.4.0",
      "model_name": "RowModel",
      "state": {
       "_events": [],
       "_jupyter_vue": "IPY_MODEL_7fd0ce771cb64ddd94982ab3e31edb41",
       "attributes": {},
       "children": [
        "IPY_MODEL_e7ea737003394a5f9eac0e5154760279",
        "IPY_MODEL_65a2f7bcd12c4419b3432643b55db99a",
        "IPY_MODEL_d25d38199caa4eb3bfd7d68b767ca598",
        "IPY_MODEL_eac1731dcaf946b2a207786013b528cf"
       ],
       "layout": "IPY_MODEL_c2175a84d9304a8aa73f5433783a89fa",
       "v_slots": []
      }
     },
     "c559a284fd31436c8557f9341b262837": {
      "model_module": "@jupyter-widgets/base",
      "model_module_version": "1.2.0",
      "model_name": "LayoutModel",
      "state": {}
     },
     "c6317ecf96f34c68a30b9d42e38f4511": {
      "model_module": "@jupyter-widgets/base",
      "model_module_version": "1.2.0",
      "model_name": "LayoutModel",
      "state": {}
     },
     "c70044596c5d4ecea48efd858ab5e039": {
      "model_module": "jupyter-vuetify",
      "model_module_version": "^1.4.0",
      "model_name": "HtmlModel",
      "state": {
       "_events": [],
       "_jupyter_vue": "IPY_MODEL_f2e78566f8444de9953353753478b231",
       "_model_module_version": "^1.4.0",
       "_view_module_version": "^1.4.0",
       "attributes": {},
       "children": [
        "Element 1"
       ],
       "class_": "py-2 px-8",
       "layout": "IPY_MODEL_bd13d158064b48ed99191c44851c9e62",
       "style_": "background:lightgrey",
       "tag": "p",
       "v_slots": []
      }
     },
     "c8759edc71444b2b94bdf4a5f9812531": {
      "model_module": "jupyter-vuetify",
      "model_module_version": "^1.4.0",
      "model_name": "HtmlModel",
      "state": {
       "_events": [],
       "_jupyter_vue": "IPY_MODEL_f2e78566f8444de9953353753478b231",
       "_model_module_version": "^1.4.0",
       "_view_module_version": "^1.4.0",
       "attributes": {},
       "children": [
        "Element 1"
       ],
       "class_": "py-2 px-8",
       "layout": "IPY_MODEL_55659451857d4fbfab59f076bb0d74ba",
       "style_": "background:lightgrey; margin-right:auto;",
       "tag": "p",
       "v_slots": []
      }
     },
     "c879edb01112470db7c7b134777e4f86": {
      "model_module": "jupyter-vuetify",
      "model_module_version": "^1.4.0",
      "model_name": "ThemeColorsModel",
      "state": {
       "_model_module_version": "^1.4.0",
       "_theme_name": "dark",
       "_view_module": null,
       "_view_module_version": "^1.4.0",
       "accent": "#FF4081",
       "error": "#FF5252",
       "info": "#2196F3",
       "primary": "#2196F3",
       "secondary": "#424242",
       "success": "#4CAF50",
       "warning": "#FB8C00"
      }
     },
     "c916302a03944869b93375e053698258": {
      "model_module": "@jupyter-widgets/base",
      "model_module_version": "1.2.0",
      "model_name": "LayoutModel",
      "state": {}
     },
     "c96849d9c9164e7997f0480a764655b7": {
      "model_module": "@jupyter-widgets/base",
      "model_module_version": "1.2.0",
      "model_name": "LayoutModel",
      "state": {}
     },
     "c9cebfd06d324252b34a7c58ba9ae15c": {
      "model_module": "jupyter-vuetify",
      "model_module_version": "^1.4.0",
      "model_name": "HtmlModel",
      "state": {
       "_events": [],
       "_jupyter_vue": "IPY_MODEL_f2e78566f8444de9953353753478b231",
       "_model_module_version": "^1.4.0",
       "_view_module_version": "^1.4.0",
       "attributes": {},
       "children": [
        "Element 2"
       ],
       "class_": "py-2 px-8",
       "layout": "IPY_MODEL_5626986df9ca4a7997a022850586d31d",
       "style_": "background:lightblue",
       "tag": "p",
       "v_slots": []
      }
     },
     "ca4466fd8cb44bcb913c3b540eadce32": {
      "model_module": "jupyter-vuetify",
      "model_module_version": "^1.4.0",
      "model_name": "RowModel",
      "state": {
       "_events": [],
       "_jupyter_vue": "IPY_MODEL_f2e78566f8444de9953353753478b231",
       "align": "end",
       "attributes": {},
       "children": [
        "IPY_MODEL_73e9e5a80925459b921d907857bed143",
        "IPY_MODEL_fba022dc12744d4085c1a511f4666708"
       ],
       "layout": "IPY_MODEL_00d716abe55741b5b24ccd3a1cf274a3",
       "style_": "min-height:200px;",
       "v_slots": []
      }
     },
     "cbb7161664854d4fb32d5c7f2f6aee1f": {
      "model_module": "@jupyter-widgets/base",
      "model_module_version": "1.2.0",
      "model_name": "LayoutModel",
      "state": {}
     },
     "cbfd5e9fcd984032b44ef2e85f6a42d6": {
      "model_module": "@jupyter-widgets/base",
      "model_module_version": "1.2.0",
      "model_name": "LayoutModel",
      "state": {}
     },
     "ccbbc788db9e4df0ade1fce0113e0412": {
      "model_module": "jupyter-vuetify",
      "model_module_version": "^1.4.0",
      "model_name": "HtmlModel",
      "state": {
       "_events": [],
       "_jupyter_vue": "IPY_MODEL_7fd0ce771cb64ddd94982ab3e31edb41",
       "_model_module_version": "^1.4.0",
       "_view_module_version": "^1.4.0",
       "attributes": {},
       "children": [
        "Element 1"
       ],
       "class_": "py-2 px-8",
       "layout": "IPY_MODEL_cf3c6b19aff94a26b87b27deb359b397",
       "style_": "background:lightgrey",
       "tag": "p",
       "v_slots": []
      }
     },
     "ccdd11c12c93476eb6aa1a904192d3e2": {
      "model_module": "@jupyter-widgets/base",
      "model_module_version": "1.2.0",
      "model_name": "LayoutModel",
      "state": {}
     },
     "cf3c6b19aff94a26b87b27deb359b397": {
      "model_module": "@jupyter-widgets/base",
      "model_module_version": "1.2.0",
      "model_name": "LayoutModel",
      "state": {}
     },
     "cf665e8a55ed4aacaead150b22380a62": {
      "model_module": "@jupyter-widgets/base",
      "model_module_version": "1.2.0",
      "model_name": "LayoutModel",
      "state": {}
     },
     "d1e974909f334258923ef07bef103e95": {
      "model_module": "jupyter-vuetify",
      "model_module_version": "^1.4.0",
      "model_name": "ColModel",
      "state": {
       "_events": [],
       "_jupyter_vue": "IPY_MODEL_7fd0ce771cb64ddd94982ab3e31edb41",
       "attributes": {},
       "children": [
        "Column Number 2"
       ],
       "class_": "py-2 text-center",
       "cols": 3,
       "layout": "IPY_MODEL_1d95ce89aefc4427ac85d5b3d129b0ee",
       "lg": null,
       "md": null,
       "offset": null,
       "offset_lg": null,
       "offset_md": null,
       "offset_sm": null,
       "offset_xl": null,
       "order": null,
       "order_lg": null,
       "order_md": null,
       "order_sm": null,
       "order_xl": null,
       "sm": null,
       "style_": "background:lightblue;",
       "v_slots": [],
       "xl": null
      }
     },
     "d25d38199caa4eb3bfd7d68b767ca598": {
      "model_module": "jupyter-vuetify",
      "model_module_version": "^1.4.0",
      "model_name": "ColModel",
      "state": {
       "_events": [],
       "_jupyter_vue": "IPY_MODEL_7fd0ce771cb64ddd94982ab3e31edb41",
       "attributes": {},
       "children": [
        "Column Number 3"
       ],
       "class_": "py-2 text-center",
       "cols": 3,
       "layout": "IPY_MODEL_c6317ecf96f34c68a30b9d42e38f4511",
       "lg": null,
       "md": null,
       "offset": null,
       "offset_lg": null,
       "offset_md": null,
       "offset_sm": null,
       "offset_xl": null,
       "order": null,
       "order_lg": null,
       "order_md": null,
       "order_sm": null,
       "order_xl": null,
       "sm": null,
       "style_": "background:lightgrey; min-width:300px;",
       "v_slots": [],
       "xl": null
      }
     },
     "d3b617a08105471ba4f483cc0cbe7ab7": {
      "model_module": "@jupyter-widgets/base",
      "model_module_version": "1.2.0",
      "model_name": "LayoutModel",
      "state": {}
     },
     "d442f849011c4f17b0df0b4a191e4bcd": {
      "model_module": "@jupyter-widgets/base",
      "model_module_version": "1.2.0",
      "model_name": "LayoutModel",
      "state": {}
     },
     "d479d2a3ab98473d882ad9f35178d1ab": {
      "model_module": "@jupyter-widgets/base",
      "model_module_version": "1.2.0",
      "model_name": "LayoutModel",
      "state": {}
     },
     "d68dc9435aea4281b1c5de6a84814db2": {
      "model_module": "jupyter-vuetify",
      "model_module_version": "^1.4.0",
      "model_name": "RowModel",
      "state": {
       "_events": [],
       "_jupyter_vue": "IPY_MODEL_f2e78566f8444de9953353753478b231",
       "align": "center",
       "attributes": {},
       "children": [
        "IPY_MODEL_6577c0259f1e4dae8225291305234a12",
        "IPY_MODEL_2166f61307384985847d38cdcd45ede6"
       ],
       "layout": "IPY_MODEL_a650c84d6a3d48f58bb6526e264e2185",
       "style_": "min-height:200px;",
       "v_slots": []
      }
     },
     "d8336174688a4897900800550e1259f9": {
      "model_module": "@jupyter-widgets/base",
      "model_module_version": "1.2.0",
      "model_name": "LayoutModel",
      "state": {}
     },
     "d90783e7f01143448c6df2598a730014": {
      "model_module": "@jupyter-widgets/base",
      "model_module_version": "1.2.0",
      "model_name": "LayoutModel",
      "state": {}
     },
     "db14dd7333a84854924f8b33100efb26": {
      "model_module": "jupyter-vuetify",
      "model_module_version": "^1.4.0",
      "model_name": "ColModel",
      "state": {
       "_events": [],
       "_jupyter_vue": "IPY_MODEL_7fd0ce771cb64ddd94982ab3e31edb41",
       "attributes": {},
       "children": [
        "Column Number 1"
       ],
       "class_": "py-2 text-center",
       "cols": 3,
       "layout": "IPY_MODEL_258ec4048a1147fe9987a1b143d1905b",
       "lg": null,
       "md": null,
       "offset": null,
       "offset_lg": null,
       "offset_md": null,
       "offset_sm": null,
       "offset_xl": null,
       "order": null,
       "order_lg": null,
       "order_md": null,
       "order_sm": null,
       "order_xl": null,
       "sm": null,
       "style_": "background:lightgrey;",
       "v_slots": [],
       "xl": null
      }
     },
     "db2c46ab32cb4cf3b95322731d504cac": {
      "model_module": "@jupyter-widgets/base",
      "model_module_version": "1.2.0",
      "model_name": "LayoutModel",
      "state": {}
     },
     "dd174f69d87e449897f858881fa124ea": {
      "model_module": "@jupyter-widgets/base",
      "model_module_version": "1.2.0",
      "model_name": "LayoutModel",
      "state": {}
     },
     "dd591f8f34f546a3a6cfae75c75e093d": {
      "model_module": "jupyter-vuetify",
      "model_module_version": "^1.4.0",
      "model_name": "CardTextModel",
      "state": {
       "_events": [],
       "_jupyter_vue": "IPY_MODEL_f2e78566f8444de9953353753478b231",
       "attributes": {},
       "children": [
        "Card Text"
       ],
       "layout": "IPY_MODEL_3e5a65d2cd414ce79a34e4bd199988cc",
       "v_slots": []
      }
     },
     "de3f2e8f37d14cd5bb4d1014ae051249": {
      "model_module": "jupyter-vuetify",
      "model_module_version": "^1.4.0",
      "model_name": "RowModel",
      "state": {
       "_events": [],
       "_jupyter_vue": "IPY_MODEL_7fd0ce771cb64ddd94982ab3e31edb41",
       "attributes": {},
       "children": [
        "IPY_MODEL_a063314e86a14d12bdbcc7eeb2cfe868",
        "IPY_MODEL_024a099571944ef39e99e4662f38eeb4"
       ],
       "layout": "IPY_MODEL_96019f185a7c4a8fb36b97abd7bd6a5b",
       "v_slots": []
      }
     },
     "de97f705ccbf4b39bf399f6ffbbdf36a": {
      "model_module": "@jupyter-widgets/base",
      "model_module_version": "1.2.0",
      "model_name": "LayoutModel",
      "state": {}
     },
     "deef0e511c2d4f578c84775475f84d45": {
      "model_module": "@jupyter-widgets/base",
      "model_module_version": "1.2.0",
      "model_name": "LayoutModel",
      "state": {}
     },
     "df31804167534e4095bda6ca010a4024": {
      "model_module": "@jupyter-widgets/base",
      "model_module_version": "1.2.0",
      "model_name": "LayoutModel",
      "state": {}
     },
     "e1cd8eb107094ee4b7d3bdaed1b877cb": {
      "model_module": "jupyter-vue",
      "model_module_version": "^1.3.2",
      "model_name": "ForceLoadModel",
      "state": {
       "_model_module_version": "^1.3.2",
       "_view_module": null,
       "_view_module_version": "",
       "layout": "IPY_MODEL_784c33d7066e45b09516177787841801"
      }
     },
     "e231a70b7a7642639f57fc48c8a7725b": {
      "model_module": "@jupyter-widgets/base",
      "model_module_version": "1.2.0",
      "model_name": "LayoutModel",
      "state": {}
     },
     "e4554088d76142b5b4aa548cae31944e": {
      "model_module": "jupyter-vuetify",
      "model_module_version": "^1.4.0",
      "model_name": "ColModel",
      "state": {
       "_events": [],
       "_jupyter_vue": "IPY_MODEL_7fd0ce771cb64ddd94982ab3e31edb41",
       "attributes": {},
       "children": [
        "Column Number 3"
       ],
       "class_": "py-2 text-center",
       "cols": 3,
       "layout": "IPY_MODEL_b4a1c5a5b722437cb138fd05fe888da1",
       "lg": null,
       "md": null,
       "offset": null,
       "offset_lg": null,
       "offset_md": null,
       "offset_sm": null,
       "offset_xl": null,
       "order": null,
       "order_lg": null,
       "order_md": null,
       "order_sm": null,
       "order_xl": null,
       "sm": null,
       "style_": "background:lightgrey;",
       "v_slots": [],
       "xl": null
      }
     },
     "e4d0e77240744b4895853e7dbd9afddc": {
      "model_module": "jupyter-vuetify",
      "model_module_version": "^1.4.0",
      "model_name": "RowModel",
      "state": {
       "_events": [],
       "_jupyter_vue": "IPY_MODEL_7fd0ce771cb64ddd94982ab3e31edb41",
       "attributes": {},
       "children": [
        "IPY_MODEL_9d565bff5cf04dbda8d908f10ffc6dc6",
        "IPY_MODEL_5c8e1af12c2048e1ac40c55f1e60d2fb",
        "IPY_MODEL_0f7dcaa9c491418ebeaade6a01c9589d"
       ],
       "layout": "IPY_MODEL_fa9e12d109714336b3195d400b055043",
       "v_slots": []
      }
     },
     "e51322a8ef514059aba0e21894c129bc": {
      "model_module": "jupyter-vuetify",
      "model_module_version": "^1.4.0",
      "model_name": "CardModel",
      "state": {
       "_events": [],
       "_jupyter_vue": "IPY_MODEL_7fd0ce771cb64ddd94982ab3e31edb41",
       "attributes": {},
       "children": [
        "IPY_MODEL_86b83bbc7d984ce4b9aec48744c08343",
        "IPY_MODEL_567b0d8b0dc24b3096383ebdf4e06eb6",
        "IPY_MODEL_526d3926f1e541f8ab062791d8eeb5a0"
       ],
       "class_": "ma-2 pa-0",
       "elevation": null,
       "height": null,
       "href": null,
       "layout": "IPY_MODEL_1944e1c7ad5a45e9b7a56c167f577ff2",
       "loader_height": null,
       "loading": null,
       "max_height": null,
       "max_width": null,
       "min_height": null,
       "min_width": null,
       "ripple": null,
       "to": null,
       "v_slots": [],
       "width": null
      }
     },
     "e58f85a345854a17a5d8a3b62dda3841": {
      "model_module": "jupyter-vuetify",
      "model_module_version": "^1.4.0",
      "model_name": "HtmlModel",
      "state": {
       "_events": [],
       "_jupyter_vue": "IPY_MODEL_f2e78566f8444de9953353753478b231",
       "_model_module_version": "^1.4.0",
       "_view_module_version": "^1.4.0",
       "attributes": {},
       "children": [
        "Element 2"
       ],
       "class_": "py-2 px-8",
       "layout": "IPY_MODEL_5b0a12319268432fb6819cbe3ac3d9b0",
       "style_": "background:lightblue",
       "tag": "p",
       "v_slots": []
      }
     },
     "e6d780494da44dc3b2f19c46f19fd738": {
      "model_module": "jupyter-vuetify",
      "model_module_version": "^1.4.0",
      "model_name": "HtmlModel",
      "state": {
       "_events": [],
       "_jupyter_vue": "IPY_MODEL_f2e78566f8444de9953353753478b231",
       "_model_module_version": "^1.4.0",
       "_view_module_version": "^1.4.0",
       "attributes": {},
       "children": [
        "Element 2"
       ],
       "class_": "py-2 px-8",
       "layout": "IPY_MODEL_af59b6c141ae45c7a24dcbd31c1f5066",
       "style_": "background:lightblue",
       "tag": "p",
       "v_slots": []
      }
     },
     "e7ea737003394a5f9eac0e5154760279": {
      "model_module": "jupyter-vuetify",
      "model_module_version": "^1.4.0",
      "model_name": "ColModel",
      "state": {
       "_events": [],
       "_jupyter_vue": "IPY_MODEL_7fd0ce771cb64ddd94982ab3e31edb41",
       "attributes": {},
       "children": [
        "Column Number 1"
       ],
       "class_": "py-2 text-center",
       "cols": 3,
       "layout": "IPY_MODEL_de97f705ccbf4b39bf399f6ffbbdf36a",
       "lg": null,
       "md": null,
       "offset": null,
       "offset_lg": null,
       "offset_md": null,
       "offset_sm": null,
       "offset_xl": null,
       "order": null,
       "order_lg": null,
       "order_md": null,
       "order_sm": null,
       "order_xl": null,
       "sm": null,
       "style_": "background:lightgrey; min-width:300px;",
       "v_slots": [],
       "xl": null
      }
     },
     "eac1731dcaf946b2a207786013b528cf": {
      "model_module": "jupyter-vuetify",
      "model_module_version": "^1.4.0",
      "model_name": "ColModel",
      "state": {
       "_events": [],
       "_jupyter_vue": "IPY_MODEL_7fd0ce771cb64ddd94982ab3e31edb41",
       "attributes": {},
       "children": [
        "Column Number 4"
       ],
       "class_": "py-2 text-center",
       "cols": 3,
       "layout": "IPY_MODEL_cf665e8a55ed4aacaead150b22380a62",
       "lg": null,
       "md": null,
       "offset": null,
       "offset_lg": null,
       "offset_md": null,
       "offset_sm": null,
       "offset_xl": null,
       "order": null,
       "order_lg": null,
       "order_md": null,
       "order_sm": null,
       "order_xl": null,
       "sm": null,
       "style_": "background:lightblue; min-width:300px;",
       "v_slots": [],
       "xl": null
      }
     },
     "ebffca76adaf4e978bb3725b1265bd16": {
      "model_module": "@jupyter-widgets/base",
      "model_module_version": "1.2.0",
      "model_name": "LayoutModel",
      "state": {}
     },
     "ec24fa0740e44aa4bd2d8fa896a234a4": {
      "model_module": "@jupyter-widgets/base",
      "model_module_version": "1.2.0",
      "model_name": "LayoutModel",
      "state": {}
     },
     "ed29a7e6cbcc497e865dacaa0fff9005": {
      "model_module": "jupyter-vuetify",
      "model_module_version": "^1.4.0",
      "model_name": "RowModel",
      "state": {
       "_events": [],
       "_jupyter_vue": "IPY_MODEL_f2e78566f8444de9953353753478b231",
       "attributes": {},
       "children": [
        "IPY_MODEL_bd7a18e3a7ff4cc9a0e84a0ca0ae85ea",
        "IPY_MODEL_fd959cc22af549fc9f00a9b4ff7e6d23",
        "IPY_MODEL_ed53b08a2320439eb8db299db7e978fc",
        "IPY_MODEL_5c95d820a22649718c4d3403d96999b0"
       ],
       "layout": "IPY_MODEL_95e34cfdf8f3433f9942fc9fdde03b8b",
       "v_slots": []
      }
     },
     "ed53b08a2320439eb8db299db7e978fc": {
      "model_module": "jupyter-vuetify",
      "model_module_version": "^1.4.0",
      "model_name": "ColModel",
      "state": {
       "_events": [],
       "_jupyter_vue": "IPY_MODEL_f2e78566f8444de9953353753478b231",
       "attributes": {},
       "children": [
        "Column Number 3"
       ],
       "class_": "py-2 text-center",
       "cols": 3,
       "layout": "IPY_MODEL_85166e13e25d41d7a92b1416b216be73",
       "lg": null,
       "md": null,
       "offset": null,
       "offset_lg": null,
       "offset_md": null,
       "offset_sm": null,
       "offset_xl": null,
       "order": null,
       "order_lg": null,
       "order_md": null,
       "order_sm": null,
       "order_xl": null,
       "sm": null,
       "style_": "background:lightgrey; min-width:300px;",
       "v_slots": [],
       "xl": null
      }
     },
     "ee08497efe0a433db51079aaf86c2cbe": {
      "model_module": "jupyter-vuetify",
      "model_module_version": "^1.4.0",
      "model_name": "HtmlModel",
      "state": {
       "_events": [],
       "_jupyter_vue": "IPY_MODEL_1bac3020abf64de3b583a6807f941b30",
       "_model_module_version": "^1.4.0",
       "_view_module_version": "^1.4.0",
       "attributes": {},
       "children": [
        "This is a h1 title"
       ],
       "layout": "IPY_MODEL_cbfd5e9fcd984032b44ef2e85f6a42d6",
       "tag": "h1",
       "v_slots": []
      }
     },
     "ee85709d42464d75b9da9ec458d84f0f": {
      "model_module": "jupyter-vuetify",
      "model_module_version": "^1.4.0",
      "model_name": "HtmlModel",
      "state": {
       "_events": [],
       "_jupyter_vue": "IPY_MODEL_f2e78566f8444de9953353753478b231",
       "_model_module_version": "^1.4.0",
       "_view_module_version": "^1.4.0",
       "attributes": {},
       "children": [
        "Element 1"
       ],
       "class_": "py-2 px-8",
       "layout": "IPY_MODEL_3a6d6bd18cf94273ae6c2eb9c5334fc6",
       "style_": "background:lightgrey",
       "tag": "p",
       "v_slots": []
      }
     },
     "efa17ae7f4404cdf92b7f582c27ba906": {
      "model_module": "@jupyter-widgets/base",
      "model_module_version": "1.2.0",
      "model_name": "LayoutModel",
      "state": {}
     },
     "efd0fa53212046b694121d177aa63137": {
      "model_module": "jupyter-vuetify",
      "model_module_version": "^1.4.0",
      "model_name": "HtmlModel",
      "state": {
       "_events": [],
       "_jupyter_vue": "IPY_MODEL_7fd0ce771cb64ddd94982ab3e31edb41",
       "_model_module_version": "^1.4.0",
       "_view_module_version": "^1.4.0",
       "attributes": {},
       "children": [
        "Element 1"
       ],
       "class_": "py-2 px-8",
       "layout": "IPY_MODEL_ccdd11c12c93476eb6aa1a904192d3e2",
       "style_": "background:lightgrey; margin-right:auto;",
       "tag": "p",
       "v_slots": []
      }
     },
     "f0a9fc6ac9c344e1b8b110fd3c4b6153": {
      "model_module": "@jupyter-widgets/base",
      "model_module_version": "1.2.0",
      "model_name": "LayoutModel",
      "state": {}
     },
     "f1a7f1a222834a4893855f12d941fab2": {
      "model_module": "@jupyter-widgets/base",
      "model_module_version": "1.2.0",
      "model_name": "LayoutModel",
      "state": {}
     },
     "f2aefc634298403786432d8c3196b2a1": {
      "model_module": "@jupyter-widgets/base",
      "model_module_version": "1.2.0",
      "model_name": "LayoutModel",
      "state": {}
     },
     "f2e78566f8444de9953353753478b231": {
      "model_module": "jupyter-vue",
      "model_module_version": "^1.3.2",
      "model_name": "ForceLoadModel",
      "state": {
       "_model_module_version": "^1.3.2",
       "_view_module": null,
       "_view_module_version": "",
       "layout": "IPY_MODEL_34fd4982606e4149927b823174c87aee"
      }
     },
     "f639d63591774aa7aafdad8134d4e0a8": {
      "model_module": "jupyter-vuetify",
      "model_module_version": "^1.4.0",
      "model_name": "CardSubtitleModel",
      "state": {
       "_events": [],
       "_jupyter_vue": "IPY_MODEL_7fd0ce771cb64ddd94982ab3e31edb41",
       "attributes": {},
       "children": [
        "Neat!"
       ],
       "layout": "IPY_MODEL_fc3b0a0cc35b4da2bbb470c91957969c",
       "v_slots": []
      }
     },
     "f6e26d4ec3184d7996f8dade893fe889": {
      "model_module": "@jupyter-widgets/base",
      "model_module_version": "1.2.0",
      "model_name": "LayoutModel",
      "state": {}
     },
     "f6e599183004466d9f14884297505562": {
      "model_module": "jupyter-vuetify",
      "model_module_version": "^1.4.0",
      "model_name": "RowModel",
      "state": {
       "_events": [],
       "_jupyter_vue": "IPY_MODEL_7fd0ce771cb64ddd94982ab3e31edb41",
       "attributes": {},
       "children": [
        "IPY_MODEL_db14dd7333a84854924f8b33100efb26",
        "IPY_MODEL_d1e974909f334258923ef07bef103e95",
        "IPY_MODEL_e4554088d76142b5b4aa548cae31944e",
        "IPY_MODEL_0d921fa20da842358f3d9560c98c4d00"
       ],
       "layout": "IPY_MODEL_5045bbcabe404eb7b0b44b2a7bbc8dc3",
       "v_slots": []
      }
     },
     "f7c5cd489f154970888b71ae97e69742": {
      "model_module": "jupyter-vuetify",
      "model_module_version": "^1.4.0",
      "model_name": "CardTitleModel",
      "state": {
       "_events": [],
       "_jupyter_vue": "IPY_MODEL_7fd0ce771cb64ddd94982ab3e31edb41",
       "attributes": {},
       "children": [
        "Vuetify Card Component"
       ],
       "class_": "headline gray lighten-8",
       "layout": "IPY_MODEL_8a6ea22308d342e48501f4f1b7c9e9de",
       "v_slots": []
      }
     },
     "f9e5ce54936d45b8a4de352cfecfc6bd": {
      "model_module": "jupyter-vuetify",
      "model_module_version": "^1.4.0",
      "model_name": "BtnModel",
      "state": {
       "_events": [],
       "_jupyter_vue": "IPY_MODEL_f2e78566f8444de9953353753478b231",
       "attributes": {},
       "children": [
        "IPY_MODEL_6a48ed1def5846afa3ee75c6ed0df508"
       ],
       "class_": "icon ma-2",
       "color": "success",
       "elevation": null,
       "height": null,
       "href": null,
       "layout": "IPY_MODEL_2bd9a9bc07aa4eb7959f79a9bd71d99c",
       "max_height": null,
       "max_width": null,
       "min_height": null,
       "min_width": null,
       "ripple": null,
       "style_": "max-width:100px",
       "to": null,
       "v_slots": [],
       "width": null
      }
     },
     "fa9e12d109714336b3195d400b055043": {
      "model_module": "@jupyter-widgets/base",
      "model_module_version": "1.2.0",
      "model_name": "LayoutModel",
      "state": {}
     },
     "fabc92cf8d854c48a98052fbc0002e55": {
      "model_module": "jupyter-vuetify",
      "model_module_version": "^1.4.0",
      "model_name": "CardTitleModel",
      "state": {
       "_events": [],
       "_jupyter_vue": "IPY_MODEL_f2e78566f8444de9953353753478b231",
       "attributes": {},
       "children": [
        "Card Title"
       ],
       "class_": "headline gray lighten-8",
       "layout": "IPY_MODEL_f2aefc634298403786432d8c3196b2a1",
       "v_slots": []
      }
     },
     "fba022dc12744d4085c1a511f4666708": {
      "model_module": "jupyter-vuetify",
      "model_module_version": "^1.4.0",
      "model_name": "HtmlModel",
      "state": {
       "_events": [],
       "_jupyter_vue": "IPY_MODEL_f2e78566f8444de9953353753478b231",
       "_model_module_version": "^1.4.0",
       "_view_module_version": "^1.4.0",
       "attributes": {},
       "children": [
        "Element 2"
       ],
       "class_": "py-2 px-8",
       "layout": "IPY_MODEL_0e87fcf293cd43c3a97307ca03e49d0b",
       "style_": "background:lightblue",
       "tag": "p",
       "v_slots": []
      }
     },
     "fbb30028a04c413ea8fdc71c496c90cf": {
      "model_module": "@jupyter-widgets/base",
      "model_module_version": "1.2.0",
      "model_name": "LayoutModel",
      "state": {}
     },
     "fbfa6ff79dd04c60afde92f9e5aaae98": {
      "model_module": "jupyter-vuetify",
      "model_module_version": "^1.4.0",
      "model_name": "RowModel",
      "state": {
       "_events": [],
       "_jupyter_vue": "IPY_MODEL_7fd0ce771cb64ddd94982ab3e31edb41",
       "attributes": {},
       "children": [
        "IPY_MODEL_90992dbdf94a43fea544519733efc10c",
        "IPY_MODEL_2304100d062f42008949148d1392eff2"
       ],
       "justify": "end",
       "layout": "IPY_MODEL_b75b717e04d140119e067c73ade9f3c3",
       "v_slots": []
      }
     },
     "fc3b0a0cc35b4da2bbb470c91957969c": {
      "model_module": "@jupyter-widgets/base",
      "model_module_version": "1.2.0",
      "model_name": "LayoutModel",
      "state": {}
     },
     "fcbe2befe67a4667b56e2d8c2cb951d7": {
      "model_module": "@jupyter-widgets/base",
      "model_module_version": "1.2.0",
      "model_name": "LayoutModel",
      "state": {}
     },
     "fd959cc22af549fc9f00a9b4ff7e6d23": {
      "model_module": "jupyter-vuetify",
      "model_module_version": "^1.4.0",
      "model_name": "ColModel",
      "state": {
       "_events": [],
       "_jupyter_vue": "IPY_MODEL_f2e78566f8444de9953353753478b231",
       "attributes": {},
       "children": [
        "Column Number 2"
       ],
       "class_": "py-2 text-center",
       "cols": 3,
       "layout": "IPY_MODEL_3b7d9192b3e24d0ab288c159c8dceb23",
       "lg": null,
       "md": null,
       "offset": null,
       "offset_lg": null,
       "offset_md": null,
       "offset_sm": null,
       "offset_xl": null,
       "order": null,
       "order_lg": null,
       "order_md": null,
       "order_sm": null,
       "order_xl": null,
       "sm": null,
       "style_": "background:lightblue; min-width:300px;",
       "v_slots": [],
       "xl": null
      }
     },
     "ff3418e399e04122a65c881cdf7c34c6": {
      "model_module": "@jupyter-widgets/base",
      "model_module_version": "1.2.0",
      "model_name": "LayoutModel",
      "state": {}
     },
     "ff6febca3e1449e1926b70f1defb788a": {
      "model_module": "@jupyter-widgets/base",
      "model_module_version": "1.2.0",
      "model_name": "LayoutModel",
      "state": {}
     },
     "ff8369766d3344b0b2b0e8b991d9f31b": {
      "model_module": "jupyter-vuetify",
      "model_module_version": "^1.4.0",
      "model_name": "ColModel",
      "state": {
       "_events": [],
       "_jupyter_vue": "IPY_MODEL_f2e78566f8444de9953353753478b231",
       "attributes": {},
       "children": [
        "Column Number 1"
       ],
       "class_": "py-4 text-center",
       "cols": 6,
       "layout": "IPY_MODEL_760aba7970524bc0aac1551c5a41a70b",
       "lg": null,
       "md": null,
       "offset": null,
       "offset_lg": null,
       "offset_md": null,
       "offset_sm": null,
       "offset_xl": null,
       "order": null,
       "order_lg": null,
       "order_md": null,
       "order_sm": null,
       "order_xl": null,
       "sm": null,
       "style_": "background:lightgrey;",
       "v_slots": [],
       "xl": null
      }
     }
    },
    "version_major": 2,
    "version_minor": 0
   }
  }
 },
 "nbformat": 4,
 "nbformat_minor": 4
}
