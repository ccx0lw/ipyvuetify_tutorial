{
 "cells": [
  {
   "cell_type": "markdown",
   "metadata": {
    "ExecuteTime": {
     "end_time": "2020-05-15T18:16:23.036766Z",
     "start_time": "2020-05-15T18:16:23.029534Z"
    }
   },
   "source": [
    "# `ipyvuetify` Tutorial 01 - Installation and First Steps\n",
    "\n",
    "This is the first in a series of `ipyvuetify` app development tutorials.\n",
    "\n",
    "[`ipyvuetify`](https://github.com/mariobuikhuizen/ipyvuetify) is pretty great, but for this data scientist at least, it took quite a bit of effort to figure it out.\n",
    "\n",
    "This series of tutorials provides an overview of what I have learned in using `ipyvuetify` to turn Jupyter notebooks into user-friendly web applications (via `voila`).\n",
    "\n",
    "I hope they help you get off the ground with `ipyvuetify` faster than I was able to !"
   ]
  },
  {
   "cell_type": "markdown",
   "metadata": {},
   "source": [
    "# Installation\n",
    "\n",
    "Installing `ipyvuetify` (plus voila and a few other dependencies we'll need later while we're at it) is as easy as\n",
    "\n",
    "```bash\n",
    "$ pip install ipyvuetify voila jupyter ipywidgets traitlets\n",
    "$ jupyter nbextension enable --py --sys-prefix widgetsnbextension\n",
    "$ jupyter nbextension enable --py --sys-prefix ipyvuetify\n",
    "```\n",
    "\n",
    "The last command is only necessary if you want to use jupyter lab, which you might as well do, because it's relatively awesome.\n",
    "\n",
    "Once you've installed ipyvuetify and launched jupyter (notebook or lab), we can get started!"
   ]
  },
  {
   "cell_type": "markdown",
   "metadata": {},
   "source": [
    "# HTML Elements with `v.Html()`\n",
    "\n",
    "Following the convention in the `ipyvuetify` documentation, we will always import `ipyvuetify` as v and `ipywidgets` as `widgets`."
   ]
  },
  {
   "cell_type": "code",
   "execution_count": null,
   "metadata": {
    "ExecuteTime": {
     "end_time": "2020-05-15T18:42:43.841149Z",
     "start_time": "2020-05-15T18:42:43.587894Z"
    }
   },
   "outputs": [],
   "source": [
    "import ipyvuetify as v\n",
    "import ipywidgets as widgets\n",
    "import markdown"
   ]
  },
  {
   "cell_type": "markdown",
   "metadata": {
    "ExecuteTime": {
     "end_time": "2020-05-15T13:20:01.494188Z",
     "start_time": "2020-05-15T13:20:01.476223Z"
    }
   },
   "source": [
    "Good ! If that worked for you we're in business.\n",
    "\n",
    "To start things off, let's draw some basic html"
   ]
  },
  {
   "cell_type": "code",
   "execution_count": null,
   "metadata": {
    "ExecuteTime": {
     "end_time": "2020-05-15T18:42:43.853924Z",
     "start_time": "2020-05-15T18:42:43.843452Z"
    }
   },
   "outputs": [],
   "source": [
    "v.Html(tag='h1',children=['This is a h1 title'])"
   ]
  },
  {
   "cell_type": "markdown",
   "metadata": {},
   "source": [
    "If that appears as a big title with the text 'This is a h1 title', it means you've successfully installed ipyvuetify and enabled the nbextension. Good work !\n",
    "\n",
    "As you can see, you can create raw html out put with ipyvuetify with the `v.Html()` function. You specify the html tag as on the arguments and the content of the tag you specify as a list with the `children` argument.\n",
    "\n",
    "Let's make another html element to get used to this function and its' argumehts"
   ]
  },
  {
   "cell_type": "code",
   "execution_count": null,
   "metadata": {
    "ExecuteTime": {
     "end_time": "2020-05-15T18:42:43.867471Z",
     "start_time": "2020-05-15T18:42:43.856004Z"
    }
   },
   "outputs": [],
   "source": [
    "v.Html(tag='b',children=['Here is some bold text', 'And some more bold text'])"
   ]
  },
  {
   "cell_type": "markdown",
   "metadata": {},
   "source": [
    "Well, we did get some bold text, but having more than one element in the list passed to `children` wasn't all that useful; it just pasted them together. There are several ways to contain more than one element in `ipyvuetify`, one of them is `v.Container`"
   ]
  },
  {
   "cell_type": "code",
   "execution_count": null,
   "metadata": {
    "ExecuteTime": {
     "end_time": "2020-05-15T18:42:43.889914Z",
     "start_time": "2020-05-15T18:42:43.870883Z"
    }
   },
   "outputs": [],
   "source": [
    "v.Html(tag='b',children=['Here is some bold text', 'And some more bold text'])"
   ]
  },
  {
   "cell_type": "markdown",
   "metadata": {},
   "source": [
    "# Containing Things with `v.Container`\n",
    "\n",
    "When we had more than one thing we wanted to show above with `v.Html` we tried putting them as elements in a list for `v.Html`, but it didn't give what we wanted. Here is how `v.Container` can be used to contain more than one element:"
   ]
  },
  {
   "cell_type": "code",
   "execution_count": null,
   "metadata": {
    "ExecuteTime": {
     "end_time": "2020-05-15T18:42:43.963383Z",
     "start_time": "2020-05-15T18:42:43.896709Z"
    }
   },
   "outputs": [],
   "source": [
    "v.Container(children=[\n",
    "    v.Html(tag='b', children=['Here is some bold text']),\n",
    "    v.Html(tag='br'),\n",
    "    v.Html(tag='b', children=['And some more bold text'])\n",
    "])"
   ]
  },
  {
   "cell_type": "markdown",
   "metadata": {},
   "source": [
    "That worked! Suppose we wanted to center the text... how would we do that?"
   ]
  },
  {
   "cell_type": "markdown",
   "metadata": {
    "ExecuteTime": {
     "end_time": "2020-05-15T17:10:32.857077Z",
     "start_time": "2020-05-15T17:10:32.842383Z"
    }
   },
   "source": [
    "## Styling Things with `class_`"
   ]
  },
  {
   "cell_type": "code",
   "execution_count": null,
   "metadata": {
    "ExecuteTime": {
     "end_time": "2020-05-15T18:42:43.999196Z",
     "start_time": "2020-05-15T18:42:43.966536Z"
    }
   },
   "outputs": [],
   "source": [
    "v.Container(children=[\n",
    "    v.Html(tag='p', class_='text-center',children=['Here is some paragraph text aligned in the center']),\n",
    "])"
   ]
  },
  {
   "cell_type": "markdown",
   "metadata": {},
   "source": [
    "What's up with that `class_` argument? Class with an underscore after it? `class` is a special word in python, so ipyvuetify users `class_` instead. Same thing with `style_`. Let's see an example of that"
   ]
  },
  {
   "cell_type": "code",
   "execution_count": null,
   "metadata": {
    "ExecuteTime": {
     "end_time": "2020-05-15T18:42:44.029191Z",
     "start_time": "2020-05-15T18:42:44.001143Z"
    }
   },
   "outputs": [],
   "source": [
    "v.Html(tag='p',style_='text-align: center', children=['Here is some paragraph text aligned in the center'])"
   ]
  },
  {
   "cell_type": "markdown",
   "metadata": {},
   "source": [
    "Ah ha ! Another way to align text in the middle, with CSS styles. "
   ]
  },
  {
   "cell_type": "markdown",
   "metadata": {
    "ExecuteTime": {
     "end_time": "2020-05-15T17:12:00.669378Z",
     "start_time": "2020-05-15T17:12:00.663226Z"
    }
   },
   "source": [
    "## `v.Container`'s are Centred by Default\n",
    "\n",
    "As you can see in the next example, the things contained by `v.Container()`'s are centred by default:"
   ]
  },
  {
   "cell_type": "code",
   "execution_count": null,
   "metadata": {
    "ExecuteTime": {
     "end_time": "2020-05-15T18:42:44.067787Z",
     "start_time": "2020-05-15T18:42:44.031781Z"
    }
   },
   "outputs": [],
   "source": [
    "v.Container(style_='width: 400px',children=[\n",
    "    v.Html(style_='text-align: center',tag='p', class_='pa-4 grey',children=['Here is some paragraph text aligned in the center']),\n",
    "])"
   ]
  },
  {
   "cell_type": "markdown",
   "metadata": {},
   "source": [
    "Woah, was is that `pa-4` `class_`? "
   ]
  },
  {
   "cell_type": "markdown",
   "metadata": {
    "ExecuteTime": {
     "end_time": "2020-05-15T17:35:18.741954Z",
     "start_time": "2020-05-15T17:35:18.731659Z"
    }
   },
   "source": [
    "## Spacing - Margin and Padding\n",
    "\n",
    "Vuetify has handy classes for adding padding and margins to your elements. The best place to learn details about these is from the [vuetify documentation](https://vuetifyjs.com/en/styles/spacing/) so head over there for the details, but here is a summary glossing over some important details for people in a hurry:\n",
    "\n",
    "The helper classes apply margin or padding to an element ranging from 0 to 12 (in 4 pixel increments). These classes can be applied using the following format `{property}{direction}-{size}`. `direction` is either nothing for positive padding/margin, or `n` for negative padding/margin.\n",
    "\n",
    "The property applies the type of spacing:\n",
    "\n",
    "* `m` - applies margin\n",
    "* `p` - applies padding\n",
    "\n",
    "The direction designates the side the property applies to:\n",
    "\n",
    "* `t` - top\n",
    "* `b` - bottom\n",
    "* `l` - left\n",
    "* `r` - right\n",
    "* `x` - both `*-left` and `*-right`\n",
    "* `y` - both `*-top` and `*-bottom`\n",
    "* `a` - all directions\n"
   ]
  },
  {
   "cell_type": "markdown",
   "metadata": {},
   "source": [
    "## What To Do With A Lot of `children`?\n",
    "\n",
    "One `v.Container()` can have too many `children`. Check out this fairly simple example:"
   ]
  },
  {
   "cell_type": "code",
   "execution_count": null,
   "metadata": {
    "ExecuteTime": {
     "end_time": "2020-05-15T18:42:44.144348Z",
     "start_time": "2020-05-15T18:42:44.070648Z"
    }
   },
   "outputs": [],
   "source": [
    "v.Container(class_='max-width:600px',children=[\n",
    "    v.Html(tag='h3',children=[\n",
    "        'Here is a h3 subtitle',\n",
    "    ]),\n",
    "    v.Html(tag='p',children=[\n",
    "        'Here is some text',\n",
    "    v.Html(tag='b',children=[\n",
    "        ' with some bold text'\n",
    "    ]),\n",
    "    v.Html(tag='i',children=[\n",
    "        ' and some italics'\n",
    "    ])])\n",
    "])"
   ]
  },
  {
   "cell_type": "markdown",
   "metadata": {},
   "source": [
    "Wowee, that's pretty verbose... Let's see if we can tone down that verbosity...."
   ]
  },
  {
   "cell_type": "markdown",
   "metadata": {},
   "source": [
    "## `markdown` in a `ipyvuetify` `v.Container`"
   ]
  },
  {
   "cell_type": "code",
   "execution_count": null,
   "metadata": {
    "ExecuteTime": {
     "end_time": "2020-05-15T18:42:44.183706Z",
     "start_time": "2020-05-15T18:42:44.150265Z"
    }
   },
   "outputs": [],
   "source": [
    "my_markdown=\"\"\"\n",
    "### Here is a h3 subtitle\n",
    "\n",
    "Here is some text **with some bold text** *and some italics*\n",
    "\"\"\"\n",
    "\n",
    "widgets.HTML(\n",
    "    markdown.markdown(\n",
    "        my_markdown\n",
    "    )\n",
    ")\n"
   ]
  },
  {
   "cell_type": "markdown",
   "metadata": {},
   "source": [
    "Ahhh, but that's using `ipywidgets`, not `ipyvuetify` you say?\n",
    "\n",
    "True, but they play very nicely together. Check this out:"
   ]
  },
  {
   "cell_type": "code",
   "execution_count": null,
   "metadata": {
    "ExecuteTime": {
     "end_time": "2020-05-15T18:42:44.224774Z",
     "start_time": "2020-05-15T18:42:44.187102Z"
    }
   },
   "outputs": [],
   "source": [
    "v.Container(class_='text-center',\n",
    "            children=[widgets.HTML(markdown.markdown(my_markdown))])"
   ]
  },
  {
   "cell_type": "markdown",
   "metadata": {},
   "source": [
    "`ipywidgets` output in a `ipyvuetify` container. Neat."
   ]
  },
  {
   "cell_type": "markdown",
   "metadata": {},
   "source": [
    "## Next Steps\n",
    "\n",
    "That's enough for now.\n",
    "\n",
    "Next time, we will look more closely at layout options in ipyvuetify and also at `v.Card`'s."
   ]
  }
 ],
 "metadata": {
  "kernelspec": {
   "display_name": "Python (jupyterbook)",
   "language": "python",
   "name": "jupyterbook"
  },
  "language_info": {
   "codemirror_mode": {
    "name": "ipython",
    "version": 3
   },
   "file_extension": ".py",
   "mimetype": "text/x-python",
   "name": "python",
   "nbconvert_exporter": "python",
   "pygments_lexer": "ipython3",
   "version": "3.8.2"
  },
  "widgets": {
   "application/vnd.jupyter.widget-state+json": {
    "state": {
     "0ae2610892ca41f29bf70214d409af24": {
      "model_module": "@jupyter-widgets/base",
      "model_module_version": "1.2.0",
      "model_name": "LayoutModel",
      "state": {}
     },
     "16a456e5a6984f3ca7d639cf1ec2f37f": {
      "model_module": "jupyter-vuetify",
      "model_module_version": "^1.4.0",
      "model_name": "ThemeModel",
      "state": {
       "_model_module_version": "^1.4.0",
       "_view_module": null,
       "_view_module_version": "^1.4.0",
       "dark": false
      }
     },
     "196e2b4f18b74ae5ae33d397ffc4497d": {
      "model_module": "jupyter-vuetify",
      "model_module_version": "^1.4.0",
      "model_name": "ThemeColorsModel",
      "state": {
       "_model_module_version": "^1.4.0",
       "_theme_name": "dark",
       "_view_module": null,
       "_view_module_version": "^1.4.0",
       "accent": "#FF4081",
       "error": "#FF5252",
       "info": "#2196F3",
       "primary": "#2196F3",
       "secondary": "#424242",
       "success": "#4CAF50",
       "warning": "#FB8C00"
      }
     },
     "1bac3020abf64de3b583a6807f941b30": {
      "model_module": "jupyter-vue",
      "model_module_version": "^1.3.2",
      "model_name": "ForceLoadModel",
      "state": {
       "_model_module_version": "^1.3.2",
       "_view_module": null,
       "_view_module_version": "",
       "layout": "IPY_MODEL_e231a70b7a7642639f57fc48c8a7725b"
      }
     },
     "1d50ce9727d441289b7284a1a97658d3": {
      "model_module": "jupyter-vue",
      "model_module_version": "^1.3.2",
      "model_name": "ForceLoadModel",
      "state": {
       "_model_module_version": "^1.3.2",
       "_view_module": null,
       "_view_module_version": "",
       "layout": "IPY_MODEL_62886a7ad92d40aea972acffa49f07f6"
      }
     },
     "1e3736d200b34b4e809416e902efe035": {
      "model_module": "jupyter-vuetify",
      "model_module_version": "^1.4.0",
      "model_name": "ThemeModel",
      "state": {
       "_model_module_version": "^1.4.0",
       "_view_module": null,
       "_view_module_version": "^1.4.0",
       "dark": false
      }
     },
     "212f35a8abce433ea22f78ee8d9f9bf8": {
      "model_module": "jupyter-vuetify",
      "model_module_version": "^1.4.0",
      "model_name": "HtmlModel",
      "state": {
       "_events": [],
       "_jupyter_vue": "IPY_MODEL_e1cd8eb107094ee4b7d3bdaed1b877cb",
       "_model_module_version": "^1.4.0",
       "_view_module_version": "^1.4.0",
       "attributes": {},
       "children": [
        "This is a h1 title"
       ],
       "layout": "IPY_MODEL_ebffca76adaf4e978bb3725b1265bd16",
       "tag": "h1",
       "v_slots": []
      }
     },
     "29c57067da274f009b0cd4ef15db7252": {
      "model_module": "jupyter-vuetify",
      "model_module_version": "^1.4.0",
      "model_name": "ThemeColorsModel",
      "state": {
       "_model_module_version": "^1.4.0",
       "_theme_name": "dark",
       "_view_module": null,
       "_view_module_version": "^1.4.0",
       "accent": "#FF4081",
       "error": "#FF5252",
       "info": "#2196F3",
       "primary": "#2196F3",
       "secondary": "#424242",
       "success": "#4CAF50",
       "warning": "#FB8C00"
      }
     },
     "4b5acc398e224718bdfea64da50c22f7": {
      "model_module": "jupyter-vuetify",
      "model_module_version": "^1.4.0",
      "model_name": "ThemeColorsModel",
      "state": {
       "_model_module_version": "^1.4.0",
       "_theme_name": "light",
       "_view_module": null,
       "_view_module_version": "^1.4.0",
       "accent": "#82B1FF",
       "error": "#FF5252",
       "info": "#2196F3",
       "primary": "#1976D2",
       "secondary": "#424242",
       "success": "#4CAF50",
       "warning": "#FB8C00"
      }
     },
     "62886a7ad92d40aea972acffa49f07f6": {
      "model_module": "@jupyter-widgets/base",
      "model_module_version": "1.2.0",
      "model_name": "LayoutModel",
      "state": {}
     },
     "75cd6333388144ed8fab6fb8b001818c": {
      "model_module": "jupyter-vuetify",
      "model_module_version": "^1.4.0",
      "model_name": "ThemeColorsModel",
      "state": {
       "_model_module_version": "^1.4.0",
       "_theme_name": "light",
       "_view_module": null,
       "_view_module_version": "^1.4.0",
       "accent": "#82B1FF",
       "error": "#FF5252",
       "info": "#2196F3",
       "primary": "#1976D2",
       "secondary": "#424242",
       "success": "#4CAF50",
       "warning": "#FB8C00"
      }
     },
     "77671c75187c47fdb08d7d9b636c5afd": {
      "model_module": "jupyter-vuetify",
      "model_module_version": "^1.4.0",
      "model_name": "HtmlModel",
      "state": {
       "_events": [],
       "_jupyter_vue": "IPY_MODEL_1d50ce9727d441289b7284a1a97658d3",
       "_model_module_version": "^1.4.0",
       "_view_module_version": "^1.4.0",
       "attributes": {},
       "children": [
        "This is a h1 title"
       ],
       "layout": "IPY_MODEL_0ae2610892ca41f29bf70214d409af24",
       "tag": "h1",
       "v_slots": []
      }
     },
     "784c33d7066e45b09516177787841801": {
      "model_module": "@jupyter-widgets/base",
      "model_module_version": "1.2.0",
      "model_name": "LayoutModel",
      "state": {}
     },
     "96f5dccbe0eb436e8930e7e702ec3bd6": {
      "model_module": "jupyter-vuetify",
      "model_module_version": "^1.4.0",
      "model_name": "ThemeModel",
      "state": {
       "_model_module_version": "^1.4.0",
       "_view_module": null,
       "_view_module_version": "^1.4.0",
       "dark": false
      }
     },
     "9fb38b13481f4bbc9bc9d3f0729c67de": {
      "model_module": "jupyter-vuetify",
      "model_module_version": "^1.4.0",
      "model_name": "ThemeColorsModel",
      "state": {
       "_model_module_version": "^1.4.0",
       "_theme_name": "dark",
       "_view_module": null,
       "_view_module_version": "^1.4.0",
       "accent": "#FF4081",
       "error": "#FF5252",
       "info": "#2196F3",
       "primary": "#2196F3",
       "secondary": "#424242",
       "success": "#4CAF50",
       "warning": "#FB8C00"
      }
     },
     "a636f43d677647ff8e184698006ab3c4": {
      "model_module": "jupyter-vuetify",
      "model_module_version": "^1.4.0",
      "model_name": "ThemeColorsModel",
      "state": {
       "_model_module_version": "^1.4.0",
       "_theme_name": "light",
       "_view_module": null,
       "_view_module_version": "^1.4.0",
       "accent": "#82B1FF",
       "error": "#FF5252",
       "info": "#2196F3",
       "primary": "#1976D2",
       "secondary": "#424242",
       "success": "#4CAF50",
       "warning": "#FB8C00"
      }
     },
     "cbfd5e9fcd984032b44ef2e85f6a42d6": {
      "model_module": "@jupyter-widgets/base",
      "model_module_version": "1.2.0",
      "model_name": "LayoutModel",
      "state": {}
     },
     "e1cd8eb107094ee4b7d3bdaed1b877cb": {
      "model_module": "jupyter-vue",
      "model_module_version": "^1.3.2",
      "model_name": "ForceLoadModel",
      "state": {
       "_model_module_version": "^1.3.2",
       "_view_module": null,
       "_view_module_version": "",
       "layout": "IPY_MODEL_784c33d7066e45b09516177787841801"
      }
     },
     "e231a70b7a7642639f57fc48c8a7725b": {
      "model_module": "@jupyter-widgets/base",
      "model_module_version": "1.2.0",
      "model_name": "LayoutModel",
      "state": {}
     },
     "ebffca76adaf4e978bb3725b1265bd16": {
      "model_module": "@jupyter-widgets/base",
      "model_module_version": "1.2.0",
      "model_name": "LayoutModel",
      "state": {}
     },
     "ee08497efe0a433db51079aaf86c2cbe": {
      "model_module": "jupyter-vuetify",
      "model_module_version": "^1.4.0",
      "model_name": "HtmlModel",
      "state": {
       "_events": [],
       "_jupyter_vue": "IPY_MODEL_1bac3020abf64de3b583a6807f941b30",
       "_model_module_version": "^1.4.0",
       "_view_module_version": "^1.4.0",
       "attributes": {},
       "children": [
        "This is a h1 title"
       ],
       "layout": "IPY_MODEL_cbfd5e9fcd984032b44ef2e85f6a42d6",
       "tag": "h1",
       "v_slots": []
      }
     }
    },
    "version_major": 2,
    "version_minor": 0
   }
  }
 },
 "nbformat": 4,
 "nbformat_minor": 4
}
