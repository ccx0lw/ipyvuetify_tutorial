{
 "cells": [
  {
   "cell_type": "markdown",
   "metadata": {},
   "source": [
    "# ipyvuetify Tutorial 04 - Text Input Boxes\n",
    "\n",
    "This is the fourth in a series of ipyvuetify app development tutorials. If you're just getting started with ipyvuetify and haven't checked out the first tutorial \"01 Installation and First Steps.ipynb\", be sure to check that one out first.\n",
    "\n",
    "First of all, we'll load the required packages, and test to make sure your environment has all the dependencies set-up successfully:"
   ]
  },
  {
   "cell_type": "code",
   "execution_count": null,
   "metadata": {
    "ExecuteTime": {
     "end_time": "2020-05-25T13:48:11.328961Z",
     "start_time": "2020-05-25T13:48:10.891264Z"
    }
   },
   "outputs": [],
   "source": [
    "from time import sleep\n",
    "import ipyvuetify as v\n",
    "import ipywidgets as widgets\n",
    "import markdown\n",
    "\n",
    "v.Btn(class_='icon ma-2',\n",
    "      style_='max-width:100px',\n",
    "      color='success',\n",
    "      children=[v.Icon(children=['mdi-check'])])"
   ]
  },
  {
   "cell_type": "markdown",
   "metadata": {},
   "source": [
    "\n",
    "If you see a green button with a checkmark above, you have successfully installed ipyvuetify and enabled the extension. Good work!\n",
    "\n",
    "If not, refer to the first tutorial and/or the ipyvuetify documentation to set up your system before going further."
   ]
  },
  {
   "cell_type": "markdown",
   "metadata": {
    "ExecuteTime": {
     "end_time": "2020-05-21T17:51:49.192708Z",
     "start_time": "2020-05-21T17:51:49.188429Z"
    }
   },
   "source": [
    "# v.TextField()\n",
    "\n",
    "`v.TextField()` is the primary input type for getting input typed by the user. \n",
    "\n",
    "The bare-bones syntax you might want includes setting something for the `label` and setting the `v_model` to be something (whatever you want for the default).\n",
    "\n",
    "Then, as usual, later on you can set or get the value of the input by the `v_model` attribute"
   ]
  },
  {
   "cell_type": "code",
   "execution_count": null,
   "metadata": {
    "ExecuteTime": {
     "end_time": "2020-05-25T13:48:11.355185Z",
     "start_time": "2020-05-25T13:48:11.333574Z"
    }
   },
   "outputs": [],
   "source": [
    "test = v.TextField(label='Text Input Example', v_model='Default Input')\n",
    "test"
   ]
  },
  {
   "cell_type": "code",
   "execution_count": null,
   "metadata": {
    "ExecuteTime": {
     "end_time": "2020-05-25T13:48:11.381061Z",
     "start_time": "2020-05-25T13:48:11.358297Z"
    }
   },
   "outputs": [],
   "source": [
    "test.v_model"
   ]
  },
  {
   "cell_type": "markdown",
   "metadata": {},
   "source": [
    "## Text Area Input\n",
    "\n",
    "To input more than a single lines of text, use `Textarea` input "
   ]
  },
  {
   "cell_type": "code",
   "execution_count": null,
   "metadata": {
    "ExecuteTime": {
     "end_time": "2020-05-25T13:48:11.408282Z",
     "start_time": "2020-05-25T13:48:11.385667Z"
    }
   },
   "outputs": [],
   "source": [
    "v.Textarea(v_model=\"\"\"Default Input\n",
    "\n",
    "Can have line breakes.\n",
    "\n",
    "And whatever else you want !\"\"\")"
   ]
  },
  {
   "cell_type": "markdown",
   "metadata": {},
   "source": [
    "## Number Input\n",
    "\n",
    "Setting the `type` to 'number' results in a `TextField` that only allows numeric input.\n",
    "\n",
    "Test out the input below - you'll find that only the numbers 0-9 as well as '.' and '-' are allowed:"
   ]
  },
  {
   "cell_type": "code",
   "execution_count": null,
   "metadata": {
    "ExecuteTime": {
     "end_time": "2020-05-25T13:48:11.435363Z",
     "start_time": "2020-05-25T13:48:11.410624Z"
    }
   },
   "outputs": [],
   "source": [
    "v.TextField(label='Label Text',\n",
    "            type='number')"
   ]
  },
  {
   "cell_type": "markdown",
   "metadata": {},
   "source": [
    "## Time Input"
   ]
  },
  {
   "cell_type": "code",
   "execution_count": null,
   "metadata": {
    "ExecuteTime": {
     "end_time": "2020-05-25T13:48:11.453038Z",
     "start_time": "2020-05-25T13:48:11.437479Z"
    }
   },
   "outputs": [],
   "source": [
    "v.TextField(v_model='12:30:00',\n",
    "            label='Time Input Example',\n",
    "            type='time')"
   ]
  },
  {
   "cell_type": "code",
   "execution_count": null,
   "metadata": {
    "ExecuteTime": {
     "end_time": "2020-05-25T13:48:11.469783Z",
     "start_time": "2020-05-25T13:48:11.454991Z"
    }
   },
   "outputs": [],
   "source": [
    "v.TextField(v_model='12:30:00',\n",
    "            label='Time Input Example (with seconds)',\n",
    "            type='time-with-seconds')"
   ]
  },
  {
   "cell_type": "markdown",
   "metadata": {
    "ExecuteTime": {
     "end_time": "2020-05-25T12:04:02.846726Z",
     "start_time": "2020-05-25T12:04:02.841462Z"
    }
   },
   "source": [
    "## Date Input"
   ]
  },
  {
   "cell_type": "code",
   "execution_count": null,
   "metadata": {
    "ExecuteTime": {
     "end_time": "2020-05-25T13:48:11.527476Z",
     "start_time": "2020-05-25T13:48:11.472829Z"
    }
   },
   "outputs": [],
   "source": [
    "v.TextField(v_model='2020-05-01',\n",
    "            label='Date Input Example',\n",
    "            type='date')"
   ]
  },
  {
   "cell_type": "markdown",
   "metadata": {},
   "source": [
    "## v.TextField Styles\n",
    "\n",
    "There are many options for styling text input fields.\n",
    "\n",
    "Here are some examples of a few of the key options.\n",
    "\n",
    "Be sure to check out the [ipyvuetify documentation](https://vuetifyjs.com/en/components/text-fields/) for more detail."
   ]
  },
  {
   "cell_type": "code",
   "execution_count": null,
   "metadata": {
    "ExecuteTime": {
     "end_time": "2020-05-25T13:48:11.562930Z",
     "start_time": "2020-05-25T13:48:11.539649Z"
    }
   },
   "outputs": [],
   "source": [
    "v.TextField(label='Text Input Example with default style',\n",
    "            v_model='Default Input')"
   ]
  },
  {
   "cell_type": "code",
   "execution_count": null,
   "metadata": {
    "ExecuteTime": {
     "end_time": "2020-05-25T13:48:11.600031Z",
     "start_time": "2020-05-25T13:48:11.567102Z"
    }
   },
   "outputs": [],
   "source": [
    "v.TextField(label='Text Input Example with \"solo\" style', solo=True)"
   ]
  },
  {
   "cell_type": "code",
   "execution_count": null,
   "metadata": {
    "ExecuteTime": {
     "end_time": "2020-05-25T13:48:11.635684Z",
     "start_time": "2020-05-25T13:48:11.602671Z"
    }
   },
   "outputs": [],
   "source": [
    "v.TextField(\n",
    "    label='Text Input Example with \"single_line\" style and \"warning\" colour',\n",
    "    single_line=True,\n",
    "    color='warning')"
   ]
  },
  {
   "cell_type": "code",
   "execution_count": null,
   "metadata": {
    "ExecuteTime": {
     "end_time": "2020-05-25T13:48:11.707473Z",
     "start_time": "2020-05-25T13:48:11.642571Z"
    }
   },
   "outputs": [],
   "source": [
    "v.TextField(placeholder='This text input has no styling at all',\n",
    "            v_model=None,\n",
    "            filled=True)"
   ]
  },
  {
   "cell_type": "code",
   "execution_count": null,
   "metadata": {
    "ExecuteTime": {
     "end_time": "2020-05-25T13:48:11.751039Z",
     "start_time": "2020-05-25T13:48:11.710693Z"
    }
   },
   "outputs": [],
   "source": [
    "v.TextField(\n",
    "    placeholder=\n",
    "    'This text input has \"dense\" styling. It takes up less vertical space.',\n",
    "    v_model=None,\n",
    "    dense=True)"
   ]
  },
  {
   "cell_type": "code",
   "execution_count": null,
   "metadata": {
    "ExecuteTime": {
     "end_time": "2020-05-25T13:48:11.797157Z",
     "start_time": "2020-05-25T13:48:11.757359Z"
    }
   },
   "outputs": [],
   "source": [
    "v.TextField(placeholder='This text input has \"solo\" and \"flat\" styling',\n",
    "            v_model=None,\n",
    "            solo=True,\n",
    "            flat=True)"
   ]
  },
  {
   "cell_type": "code",
   "execution_count": null,
   "metadata": {
    "ExecuteTime": {
     "end_time": "2020-05-25T13:48:11.822502Z",
     "start_time": "2020-05-25T13:48:11.801085Z"
    }
   },
   "outputs": [],
   "source": [
    "v.TextField(\n",
    "    placeholder='This text input has a background fill and rounded shape',\n",
    "    v_model=None,\n",
    "    filled=True,\n",
    "    rounded=True)"
   ]
  },
  {
   "cell_type": "code",
   "execution_count": null,
   "metadata": {
    "ExecuteTime": {
     "end_time": "2020-05-25T13:48:11.852772Z",
     "start_time": "2020-05-25T13:48:11.828252Z"
    }
   },
   "outputs": [],
   "source": [
    "v.TextField(\n",
    "    placeholder='This text input has a background fill and fancy shape',\n",
    "    v_model=None,\n",
    "    filled=True,\n",
    "    shaped=True)"
   ]
  },
  {
   "cell_type": "markdown",
   "metadata": {
    "ExecuteTime": {
     "end_time": "2020-05-25T09:30:11.395344Z",
     "start_time": "2020-05-25T09:30:11.388080Z"
    }
   },
   "source": [
    "## Disabled/Readonly\n",
    "\n",
    "`TextField`'s can be disabled, or readonly, which might come in handy.  "
   ]
  },
  {
   "cell_type": "code",
   "execution_count": null,
   "metadata": {
    "ExecuteTime": {
     "end_time": "2020-05-25T13:48:11.888057Z",
     "start_time": "2020-05-25T13:48:11.860125Z"
    }
   },
   "outputs": [],
   "source": [
    "v.TextField(placeholder='Readonly text field',\n",
    "            v_model=\"Can't change me !\",\n",
    "            readonly=True)"
   ]
  },
  {
   "cell_type": "code",
   "execution_count": null,
   "metadata": {
    "ExecuteTime": {
     "end_time": "2020-05-25T13:48:11.904042Z",
     "start_time": "2020-05-25T13:48:11.889954Z"
    }
   },
   "outputs": [],
   "source": [
    "v.TextField(placeholder='Disabled text field',\n",
    "            v_model=\"Can't change me !\",\n",
    "            disabled=True)"
   ]
  },
  {
   "cell_type": "markdown",
   "metadata": {},
   "source": [
    "In fact, all the input widgets's we've seen so far can be set to `disabled` or `readonly`."
   ]
  },
  {
   "cell_type": "markdown",
   "metadata": {},
   "source": [
    "## Adding Icons\n",
    "\n",
    "As we saw in the last tutorial, you can prepend and/or append icons to this input.\n",
    "\n",
    "You can control the position of the icon relative to the field by using `prepend_inner_icon` instead of `prepend_icon`, or by using `append_outer_icon` instead of `append_icon`.\n",
    "\n",
    "But the default is sensible, and will suit nicely in most situations."
   ]
  },
  {
   "cell_type": "code",
   "execution_count": null,
   "metadata": {
    "ExecuteTime": {
     "end_time": "2020-05-25T13:48:11.934802Z",
     "start_time": "2020-05-25T13:48:11.905956Z"
    }
   },
   "outputs": [],
   "source": [
    "v.Row(children=[\n",
    "    v.TextField(class_='pa-4',\n",
    "               v_model = 'Text Field with prepended/appended icons',\n",
    "               label='prepended and appended',\n",
    "               prepend_icon='mdi-recycle',\n",
    "               append_icon='mdi-trash-can'),\n",
    "    v.Spacer()\n",
    "])"
   ]
  },
  {
   "cell_type": "code",
   "execution_count": null,
   "metadata": {
    "ExecuteTime": {
     "end_time": "2020-05-25T13:48:11.976553Z",
     "start_time": "2020-05-25T13:48:11.941428Z"
    }
   },
   "outputs": [],
   "source": [
    "v.Row(children=[\n",
    "    v.TextField(class_='pa-4',\n",
    "               v_model = 'Text Field with prepended/appended icons',\n",
    "               label='prepended_inner and appended_outer',\n",
    "               prepend_inner_icon='mdi-recycle',\n",
    "               append_outer_icon='mdi-trash-can'),\n",
    "    v.Spacer()\n",
    "])"
   ]
  },
  {
   "cell_type": "markdown",
   "metadata": {},
   "source": [
    "## Clearable\n",
    "\n",
    "The `clearable` argument gives a nice icon that can be pressed to clear the input of the text field.\n",
    "\n",
    "You can customize this icon, if you want."
   ]
  },
  {
   "cell_type": "code",
   "execution_count": null,
   "metadata": {
    "ExecuteTime": {
     "end_time": "2020-05-25T13:48:11.993816Z",
     "start_time": "2020-05-25T13:48:11.978850Z"
    }
   },
   "outputs": [],
   "source": [
    "v.TextField(class_='pa-4',\n",
    "            clearable=True,\n",
    "            v_model = 'Clearable Text Field')"
   ]
  },
  {
   "cell_type": "code",
   "execution_count": null,
   "metadata": {
    "ExecuteTime": {
     "end_time": "2020-05-25T13:48:12.023557Z",
     "start_time": "2020-05-25T13:48:11.996672Z"
    }
   },
   "outputs": [],
   "source": [
    "v.TextField(class_='pa-4',\n",
    "            clearable=True,\n",
    "            clear_icon='mdi-trash-can',\n",
    "            v_model = 'Clearable Text Field')"
   ]
  },
  {
   "cell_type": "markdown",
   "metadata": {},
   "source": [
    "## Character count\n",
    "\n",
    "The `counter` argument provides a slick way to let users know how many characters they've entered in the text field.\n",
    "\n",
    "If you set the `counter` argument to be an integer, it will display a nice `n / N` display to show that the user has typed `n` characters out of a possible `N`.\n",
    "\n",
    "Note that `ipuvuetify` does not do any validation of this limit - the user can input more than this limit and `vuetify` is happy to let them. *Validation has to be done in the python application.* We will see examples of this in future tutorials."
   ]
  },
  {
   "cell_type": "code",
   "execution_count": null,
   "metadata": {
    "ExecuteTime": {
     "end_time": "2020-05-25T13:48:12.042666Z",
     "start_time": "2020-05-25T13:48:12.027228Z"
    }
   },
   "outputs": [],
   "source": [
    "v.TextField(counter=100,v_model='Text input with counter')"
   ]
  },
  {
   "cell_type": "code",
   "execution_count": null,
   "metadata": {
    "ExecuteTime": {
     "end_time": "2020-05-25T13:48:12.070832Z",
     "start_time": "2020-05-25T13:48:12.047053Z"
    }
   },
   "outputs": [],
   "source": [
    "v.TextField(counter=10,v_model='Text input with the counter limit exceeded')"
   ]
  },
  {
   "cell_type": "markdown",
   "metadata": {},
   "source": [
    "## Password Input\n",
    "\n",
    "If you set `type` to 'password', the characters will be hidden"
   ]
  },
  {
   "cell_type": "code",
   "execution_count": null,
   "metadata": {
    "ExecuteTime": {
     "end_time": "2020-05-25T13:48:12.114850Z",
     "start_time": "2020-05-25T13:48:12.080326Z"
    }
   },
   "outputs": [],
   "source": [
    "v.TextField(v_model='MySecretPassword',\n",
    "            type='password',\n",
    "            counter=True)"
   ]
  },
  {
   "cell_type": "markdown",
   "metadata": {},
   "source": [
    "## Prefixes and Suffixes\n",
    "\n",
    "(Borrowed verbatim from (the vuetify.js documentation)[https://vuetifyjs.com/en/components/text-fields/#prefixes-suffixes])\n",
    "\n",
    "The prefix and suffix properties allows you to prepend and append inline non-modifiable text next to the text field."
   ]
  },
  {
   "cell_type": "markdown",
   "metadata": {
    "ExecuteTime": {
     "end_time": "2020-05-25T11:53:44.995533Z",
     "start_time": "2020-05-25T11:53:44.991579Z"
    }
   },
   "source": [
    "### Prefix"
   ]
  },
  {
   "cell_type": "code",
   "execution_count": null,
   "metadata": {
    "ExecuteTime": {
     "end_time": "2020-05-25T13:48:12.151624Z",
     "start_time": "2020-05-25T13:48:12.128181Z"
    }
   },
   "outputs": [],
   "source": [
    "v.TextField(v_model='10.00',\n",
    "            label='Dollars',\n",
    "            prefix='$')"
   ]
  },
  {
   "cell_type": "markdown",
   "metadata": {},
   "source": [
    "### Suffix for weight"
   ]
  },
  {
   "cell_type": "code",
   "execution_count": null,
   "metadata": {
    "ExecuteTime": {
     "end_time": "2020-05-25T13:48:12.171112Z",
     "start_time": "2020-05-25T13:48:12.154272Z"
    }
   },
   "outputs": [],
   "source": [
    "v.TextField(v_model='3',\n",
    "            label='Xanthan Gum',\n",
    "            suffix='Tbsp')"
   ]
  },
  {
   "cell_type": "markdown",
   "metadata": {},
   "source": [
    "### Suffix for domain"
   ]
  },
  {
   "cell_type": "code",
   "execution_count": null,
   "metadata": {
    "ExecuteTime": {
     "end_time": "2020-05-25T13:48:12.203026Z",
     "start_time": "2020-05-25T13:48:12.173008Z"
    }
   },
   "outputs": [],
   "source": [
    "v.TextField(v_model='radinplaid',\n",
    "            label='Username',\n",
    "            readonly=True,\n",
    "            suffix='@github.com')"
   ]
  },
  {
   "cell_type": "markdown",
   "metadata": {},
   "source": [
    "## Time Zone Input"
   ]
  },
  {
   "cell_type": "code",
   "execution_count": null,
   "metadata": {
    "ExecuteTime": {
     "end_time": "2020-05-25T13:48:12.219551Z",
     "start_time": "2020-05-25T13:48:12.205004Z"
    }
   },
   "outputs": [],
   "source": [
    "v.TextField(v_model='12:30:00',\n",
    "            label='Label Text',\n",
    "            type='time',\n",
    "            suffix='EST')"
   ]
  },
  {
   "cell_type": "markdown",
   "metadata": {},
   "source": [
    "## Next Steps"
   ]
  },
  {
   "cell_type": "markdown",
   "metadata": {},
   "source": [
    "Whew ! That was a fairly exhausting introduction to the TextField input.\n",
    "\n",
    "We will look at buttons next!"
   ]
  }
 ],
 "metadata": {
  "kernelspec": {
   "display_name": "Python (ipyvuetify_tutorial)",
   "language": "python",
   "name": "ipyvuetify_tutorial"
  },
  "language_info": {
   "codemirror_mode": {
    "name": "ipython",
    "version": 3
   },
   "file_extension": ".py",
   "mimetype": "text/x-python",
   "name": "python",
   "nbconvert_exporter": "python",
   "pygments_lexer": "ipython3",
   "version": "3.8.3"
  }
 },
 "nbformat": 4,
 "nbformat_minor": 4
}
