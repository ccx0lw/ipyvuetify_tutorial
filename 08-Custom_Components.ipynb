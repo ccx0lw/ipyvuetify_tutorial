{
 "cells": [
  {
   "cell_type": "markdown",
   "metadata": {},
   "source": [
    "# ipyvuetify Tutorial 08 - Custom Components\n",
    "\n",
    "This is number 8 in a series of ipyvuetify app development tutorials. If you're just getting started with ipyvuetify and haven't checked out the first tutorial \"01 Installation and First Steps.ipynb\", be sure to check that one out first.\n",
    "\n",
    "First of all, we'll load the required packages, and test to make sure your environment has all the dependencies set-up successfully:"
   ]
  },
  {
   "cell_type": "code",
   "execution_count": null,
   "metadata": {
    "ExecuteTime": {
     "end_time": "2020-05-27T15:46:37.503391Z",
     "start_time": "2020-05-27T15:46:37.250329Z"
    }
   },
   "outputs": [],
   "source": [
    "import ipyvuetify as v\n",
    "import ipywidgets as widgets\n",
    "import traitlets\n",
    "from warnings import warn\n",
    "\n",
    "\n",
    "v.Btn(class_='icon ma-2',\n",
    "      style_='max-width:100px',\n",
    "      color='success',\n",
    "      children=[v.Icon(children=['mdi-check'])])"
   ]
  },
  {
   "cell_type": "markdown",
   "metadata": {},
   "source": [
    "\n",
    "If you see a green button with a checkmark above, you have successfully installed ipyvuetify and enabled the extension. Good work!\n",
    "\n",
    "If not, refer to the first tutorial and/or the ipyvuetify documentation to set up your system before going further."
   ]
  },
  {
   "cell_type": "markdown",
   "metadata": {},
   "source": [
    "## Integer Input With Limits and Validation"
   ]
  },
  {
   "cell_type": "code",
   "execution_count": null,
   "metadata": {
    "ExecuteTime": {
     "end_time": "2020-05-27T15:46:37.533556Z",
     "start_time": "2020-05-27T15:46:37.506310Z"
    }
   },
   "outputs": [],
   "source": [
    "class IntegerInputWithLimits(v.VuetifyTemplate):\n",
    "    min_value = traitlets.Integer().tag(sync=True, allow_null=True)\n",
    "    max_value = traitlets.Integer().tag(sync=True, allow_null=True)\n",
    "    label = traitlets.Unicode('').tag(sync=True, allow_null=True)\n",
    "    hint = traitlets.Unicode('').tag(sync=True, allow_null=True)\n",
    "    value = traitlets.Any().tag(sync=True, allow_null=True)\n",
    "    color = traitlets.Unicode().tag(sync=True, allow_null=True)\n",
    "    filled = traitlets.Bool().tag(sync=True, allow_null=True)\n",
    "    dense = traitlets.Bool().tag(sync=True, allow_null=True)\n",
    "    flat = traitlets.Bool().tag(sync=True, allow_null=True)\n",
    "    rounded = traitlets.Bool().tag(sync=True, allow_null=True)\n",
    "    shaped = traitlets.Bool().tag(sync=True, allow_null=True)\n",
    "    template = traitlets.Unicode('''\n",
    "    <template>\n",
    "      <v-text-field\n",
    "        :label=\"label\"\n",
    "        :color=\"color\"\n",
    "        :filled=\"filled\"\n",
    "        :dense=\"dense\"\n",
    "        :flat=\"flat\"\n",
    "        :rounded=\"rounded\"\n",
    "        :shaped=\"shaped\"\n",
    "        type=\"number\"\n",
    "        :hint=\"hint\"\n",
    "        v-model=\"value\"\n",
    "        :rules=\"[v => (v >= min_value) || 'Must be greater than min_value: '+String(min_value)+', setting to '+String(min_value),\n",
    "                 v => (v-parseInt(v)==0) || 'Must be an integer: '+String(v)+', truncating to '+String(parseInt(v)),\n",
    "            v => (v <= max_value) || 'Must be less than max_value: '+String(max_value)+', setting to '+String(max_value)]\"\n",
    "        clearable\n",
    "      ></v-text-field>\n",
    "    </template>\n",
    "        ''').tag(sync=True)\n",
    "\n",
    "    def __init__(self,\n",
    "                 *args,\n",
    "                 min_value=None,\n",
    "                 max_value=None,\n",
    "                 color='primary',\n",
    "                 label='',\n",
    "                 value=None,\n",
    "                 filled=False,\n",
    "                 dense=False,\n",
    "                 flat=False,\n",
    "                 rounded=False,\n",
    "                 shaped=False,\n",
    "                 **kwargs):\n",
    "        \"\"\"\n",
    "        ipyvuetify integer input with min and max value and appropriate hint\n",
    "        \n",
    "        min_value : int\n",
    "            Minimum value\n",
    "        max_value : int\n",
    "            Maximuim value\n",
    "        color : str\n",
    "            ipyvuetify colour\n",
    "        label : str\n",
    "            Text label for the input\n",
    "        value : str\n",
    "            Value of the input\n",
    "        filled : bool\n",
    "            filled style flag\n",
    "        dense : bool\n",
    "            dense style flag\n",
    "        flat : bool\n",
    "            flat style flag\n",
    "        rounded : bool\n",
    "            rounded style flag\n",
    "        shaped : bool\n",
    "            shaped style flag\n",
    "        \"\"\"\n",
    "        super().__init__(*args, **kwargs)\n",
    "        self.label = label\n",
    "        self.color=color\n",
    "        self.filled=filled\n",
    "        self.dense=dense\n",
    "        self.flat=flat\n",
    "        self.rounded=rounded\n",
    "        self.shaped=shaped\n",
    "        if value is not None:\n",
    "            self.value = str(value)\n",
    "        if min_value is not None:\n",
    "            self.min_value=min_value\n",
    "        else:\n",
    "            self.min_value=int(-1e20)\n",
    "        if max_value is not None:\n",
    "            self.max_value=max_value\n",
    "        else:\n",
    "            self.max_value=int(1e20)\n",
    "            \n",
    "        # If value is less than the minimum allowed, set it to the min_value\n",
    "        if self.min_value is not None and float(self.value)<self.min_value:\n",
    "            warn('Must be greater than min_value: {min_value}. Setting to {min_value}.'.format(min_value=self.min_value))\n",
    "            self.value=str(self.min_value)\n",
    "        \n",
    "        # If value is greater than the max allowed, set it to the max_value\n",
    "        if self.max_value is not None and float(self.value)>self.max_value:\n",
    "            warn('Must be greater than max_value: {max_value}. Setting to {max_value}.'.format(max_value=self.max_value))\n",
    "            self.value=str(self.max_value)\n",
    "                   \n",
    "        self.hint = \"Please enter an integer in range: [{min_value}, {max_value}]\".format(\n",
    "            min_value=self.min_value, max_value=self.max_value)\n",
    "\n",
    "    @traitlets.observe('v_model')\n",
    "    def _observe_value(self, change):\n",
    "        \"\"\"\n",
    "        When `v_model` changes, update value and v_model appropriately\n",
    "        \"\"\"  \n",
    "        self.value = int(float(change['new']))\n",
    "        \n",
    "        # If value is less than the minimum allowed, set it to the min_value\n",
    "        if self.min_value is not None and float(self.value)<self.min_value:\n",
    "            warn('Must be greater than min_value: {min_value}. Setting to {min_value}.'.format(min_value=self.min_value))\n",
    "            self.value=self.min_value\n",
    "        \n",
    "        # If value is greater than the max allowed, set it to the max_value\n",
    "        if self.max_value is not None and float(self.value)>self.max_value:\n",
    "            warn('Must be greater than max_value: {max_value}. Setting to {max_value}.'.format(max_value=self.max_value))\n",
    "            self.value=self.max_value\n",
    "            \n",
    "    @traitlets.observe('value')\n",
    "    def _observe_value(self, change):\n",
    "        \"\"\"\n",
    "        When `value` changes, update value and v_model appropriately\n",
    "        \"\"\"  \n",
    "        self.value = int(float(change['new']))\n",
    "        \n",
    "        # If value is less than the minimum allowed, set it to the min_value\n",
    "        if self.min_value is not None and float(self.value)<self.min_value:\n",
    "            warn('Must be greater than min_value: {min_value}. Setting to {min_value}.'.format(min_value=self.min_value))\n",
    "            self.value=self.min_value\n",
    "        \n",
    "        # If value is greater than the max allowed, set it to the max_value\n",
    "        if self.max_value is not None and float(self.value)>self.max_value:\n",
    "            warn('Must be greater than max_value: {max_value}. Setting to {max_value}.'.format(max_value=self.max_value))\n",
    "            self.value=self.max_value\n"
   ]
  },
  {
   "cell_type": "code",
   "execution_count": null,
   "metadata": {
    "ExecuteTime": {
     "end_time": "2020-05-27T15:46:37.601303Z",
     "start_time": "2020-05-27T15:46:37.536004Z"
    }
   },
   "outputs": [],
   "source": [
    "myint = IntegerInputWithLimits(min_value=0,max_value=100,value=-100)"
   ]
  },
  {
   "cell_type": "code",
   "execution_count": null,
   "metadata": {
    "ExecuteTime": {
     "end_time": "2020-05-27T15:46:37.643934Z",
     "start_time": "2020-05-27T15:46:37.603547Z"
    }
   },
   "outputs": [],
   "source": [
    "myint"
   ]
  },
  {
   "cell_type": "code",
   "execution_count": null,
   "metadata": {
    "ExecuteTime": {
     "end_time": "2020-05-27T15:46:37.690290Z",
     "start_time": "2020-05-27T15:46:37.650854Z"
    }
   },
   "outputs": [],
   "source": [
    "myint.value = 10"
   ]
  },
  {
   "cell_type": "code",
   "execution_count": null,
   "metadata": {
    "ExecuteTime": {
     "end_time": "2020-05-27T15:46:37.785516Z",
     "start_time": "2020-05-27T15:46:37.692804Z"
    }
   },
   "outputs": [],
   "source": [
    "myint.value = 200"
   ]
  },
  {
   "cell_type": "code",
   "execution_count": null,
   "metadata": {
    "ExecuteTime": {
     "end_time": "2020-05-27T15:46:37.850234Z",
     "start_time": "2020-05-27T15:46:37.788126Z"
    }
   },
   "outputs": [],
   "source": [
    "myint.value"
   ]
  },
  {
   "cell_type": "markdown",
   "metadata": {},
   "source": [
    "## Date Range Dialog"
   ]
  },
  {
   "cell_type": "code",
   "execution_count": null,
   "metadata": {
    "ExecuteTime": {
     "end_time": "2020-05-27T15:46:37.884640Z",
     "start_time": "2020-05-27T15:46:37.858321Z"
    }
   },
   "outputs": [],
   "source": [
    "class DateRangeInputDialog(v.VuetifyTemplate):\n",
    "    \"\"\"\n",
    "    Vuetify Compact, Expandable Daterange Input\n",
    "    \n",
    "    Args:\n",
    "        date_range : list\n",
    "            A list of two dates [start,end] in format YYYY-mm-dd\n",
    "    \"\"\"\n",
    "\n",
    "    date = traitlets.List([]).tag(sync=True)\n",
    "    menu = traitlets.Bool(False).tag(sync=True)\n",
    "    \n",
    "    template = traitlets.Unicode('''\n",
    "<template>\n",
    "   <v-dialog\n",
    "          ref=\"menu\"\n",
    "          v-model=\"menu\"\n",
    "          :close-on-content-click=\"false\"\n",
    "          :return-value.sync=\"date\"\n",
    "          transition=\"scale-transition\"\n",
    "          offset-y\n",
    "          persistent\n",
    "          min-width=\"290px\"\n",
    "          max-width=\"350px\"\n",
    "        >\n",
    "      <template v-slot:activator=\"{ on }\">\n",
    "         <v-card>\n",
    "            <v-text-field\n",
    "              v-model=\"date\"\n",
    "              label=\"Select Date Range\"\n",
    "              prepend-icon=\"event\"\n",
    "              readonly\n",
    "              v-on=\"on\"\n",
    "            ></v-text-field>\n",
    "         </template>\n",
    "         <v-date-picker v-model=\"date\" no-title flat scrollable range>\n",
    "            <v-spacer></v-spacer>\n",
    "            <v-btn text color=\"primary\" @click=\"menu = false\">Cancel</v-btn>\n",
    "            <v-btn text color=\"primary\" @click=\"$refs.menu.save(date)\">OK</v-btn>\n",
    "         </v-date-picker>\n",
    "      </v-card>\n",
    "   </v-dialog>\n",
    "</template>\n",
    "        ''').tag(sync=True)\n",
    "    \n",
    "    def __init__(self, *args, \n",
    "                 date_range=None,menu=False, **kwargs):\n",
    "        super().__init__(*args, **kwargs)\n",
    "        self.date = date_range\n",
    "        self.menu = False\n",
    "    "
   ]
  },
  {
   "cell_type": "code",
   "execution_count": null,
   "metadata": {
    "ExecuteTime": {
     "end_time": "2020-05-27T15:46:37.965734Z",
     "start_time": "2020-05-27T15:46:37.888510Z"
    }
   },
   "outputs": [],
   "source": [
    "DateRangeInputDialog(date_range=['2020-05-01','2020-05-10'])"
   ]
  },
  {
   "cell_type": "markdown",
   "metadata": {
    "ExecuteTime": {
     "end_time": "2020-05-26T14:28:14.467661Z",
     "start_time": "2020-05-26T14:28:14.460411Z"
    }
   },
   "source": [
    "## Menu Example\n",
    "\n",
    "From: https://github.com/mariobuikhuizen/ipyvuetify/blob/master/examples/Examples%20template.ipynb"
   ]
  },
  {
   "cell_type": "code",
   "execution_count": null,
   "metadata": {
    "ExecuteTime": {
     "end_time": "2020-05-27T15:46:38.000065Z",
     "start_time": "2020-05-27T15:46:37.970616Z"
    }
   },
   "outputs": [],
   "source": [
    "class MyMenu(v.VuetifyTemplate):\n",
    "    \n",
    "    color = traitlets.Unicode('primary').tag(sync=True)\n",
    "    items = traitlets.List(['red', 'green', 'purple']).tag(sync=True)\n",
    "    button_text = traitlets.Unicode('menu').tag(sync=True)\n",
    "    template = traitlets.Unicode('''\n",
    "        <v-layout>\n",
    "            <v-menu offset-y>\n",
    "                <template v-slot:activator=\"{ on }\">\n",
    "                    <v-btn\n",
    "                            :color=\"color\"\n",
    "                            class=\"white--text\"\n",
    "                            v-on=\"on\">\n",
    "                        {{ button_text }}\n",
    "                    </v-btn>\n",
    "                </template>\n",
    "                <v-list>\n",
    "                    <v-list-item\n",
    "                            v-for=\"(item, index) in items\"\n",
    "                            :key=\"index\"\n",
    "                            @click=\"menu_click(index)\">\n",
    "                        <v-list-item-title>{{ item }}</v-list-item-title>\n",
    "                    </v-list-item>\n",
    "                </v-list>\n",
    "            </v-menu>\n",
    "        </v-layout>''').tag(sync=True)\n",
    "    \n",
    "    \n",
    "    def vue_menu_click(self, data):\n",
    "        self.color = self.items[data]\n",
    "        self.button_text = self.items[data]\n",
    "    \n",
    "    "
   ]
  },
  {
   "cell_type": "code",
   "execution_count": null,
   "metadata": {
    "ExecuteTime": {
     "end_time": "2020-05-27T15:46:38.077859Z",
     "start_time": "2020-05-27T15:46:38.002932Z"
    }
   },
   "outputs": [],
   "source": [
    "test = MyMenu()\n",
    "test"
   ]
  },
  {
   "cell_type": "markdown",
   "metadata": {},
   "source": [
    "You can read **or change** the color of the menu with the `color` property, and the button text with the `button_text` property"
   ]
  },
  {
   "cell_type": "code",
   "execution_count": null,
   "metadata": {
    "ExecuteTime": {
     "end_time": "2020-05-27T15:46:38.122470Z",
     "start_time": "2020-05-27T15:46:38.081843Z"
    }
   },
   "outputs": [],
   "source": [
    "test.color"
   ]
  },
  {
   "cell_type": "code",
   "execution_count": null,
   "metadata": {
    "ExecuteTime": {
     "end_time": "2020-05-27T15:46:38.182324Z",
     "start_time": "2020-05-27T15:46:38.134817Z"
    }
   },
   "outputs": [],
   "source": [
    "test.button_text = \"My New Button Text\""
   ]
  },
  {
   "cell_type": "code",
   "execution_count": null,
   "metadata": {
    "ExecuteTime": {
     "end_time": "2020-05-27T15:46:38.231844Z",
     "start_time": "2020-05-27T15:46:38.184186Z"
    }
   },
   "outputs": [],
   "source": [
    "test.button_text"
   ]
  },
  {
   "cell_type": "markdown",
   "metadata": {
    "ExecuteTime": {
     "end_time": "2020-05-26T14:18:45.207779Z",
     "start_time": "2020-05-26T14:18:45.199921Z"
    }
   },
   "source": [
    "## Pandas Data Frame"
   ]
  },
  {
   "cell_type": "code",
   "execution_count": null,
   "metadata": {
    "ExecuteTime": {
     "end_time": "2020-05-27T15:46:39.109039Z",
     "start_time": "2020-05-27T15:46:38.233780Z"
    }
   },
   "outputs": [],
   "source": [
    "import pandas as pd\n",
    "import traitlets\n",
    "import ipyvuetify as v\n",
    "import json\n",
    "\n",
    "class PandasDataFrame(v.VuetifyTemplate):\n",
    "    \"\"\"\n",
    "    Vuetify DataTable rendering of a pandas DataFrame\n",
    "\n",
    "    Args:\n",
    "        data (DataFrame) - the data to render\n",
    "        title (str) - optional title\n",
    "        \n",
    "    Modified from Source: https://jupyter-tutorial.readthedocs.io/de/latest/workspace/jupyter/ipywidgets/libs/ipyvuetify.html\n",
    "    \"\"\"\n",
    "\n",
    "    headers = traitlets.List([]).tag(sync=True, allow_null=True)\n",
    "    items = traitlets.List([]).tag(sync=True, allow_null=True)\n",
    "    search = traitlets.Unicode('').tag(sync=True)\n",
    "    title = traitlets.Unicode('DataFrame').tag(sync=True)\n",
    "    index_col = traitlets.Unicode('').tag(sync=True)\n",
    "    template = traitlets.Unicode('''\n",
    "        <template>\n",
    "          <v-card>\n",
    "            <v-card-title>\n",
    "              <span class=\"title font-weight-bold\">{{ title }}</span>\n",
    "              <v-spacer></v-spacer>\n",
    "                <v-text-field\n",
    "                    v-model=\"search\"\n",
    "                    append-icon=\"search\"\n",
    "                    label=\"Search ...\"\n",
    "                    single-line\n",
    "                    hide-details\n",
    "                ></v-text-field>\n",
    "            </v-card-title>\n",
    "            <v-data-table\n",
    "                :headers=\"headers\"\n",
    "                :items=\"items\"\n",
    "                :search=\"search\"\n",
    "                :item-key=\"index_col\"\n",
    "                :rows-per-page-items=\"[25, 50, 250, 500]\"\n",
    "            >\n",
    "                <template v-slot:no-data>\n",
    "                  <v-alert :value=\"true\" color=\"error\" icon=\"warning\">\n",
    "                    Sorry, nothing to display here :(\n",
    "                  </v-alert>\n",
    "                </template>\n",
    "                <template v-slot:no-results>\n",
    "                    <v-alert :value=\"true\" color=\"warning\" icon=\"warning\">\n",
    "                      Your search for \"{{ search }}\" found no results.\n",
    "                    </v-alert>\n",
    "                </template>\n",
    "                <template v-slot:items=\"rows\">\n",
    "                  <td v-for=\"(element, label, index) in rows.item\"\n",
    "                      @click=cell_click(element)\n",
    "                      >\n",
    "                    {{ element }}\n",
    "                  </td>\n",
    "                </template>\n",
    "            </v-data-table>\n",
    "          </v-card>\n",
    "        </template>\n",
    "        ''').tag(sync=True)\n",
    "\n",
    "    def __init__(self, *args,\n",
    "                 data=pd.DataFrame(),\n",
    "                 title=None,\n",
    "                 **kwargs):\n",
    "        super().__init__(*args, **kwargs)\n",
    "        data = data.reset_index()\n",
    "        self.index_col = data.columns[0]\n",
    "        headers = [{\n",
    "              \"text\": col,\n",
    "              \"value\": col\n",
    "            } for col in data.columns]\n",
    "        headers[0].update({'align': 'left', 'sortable': True})\n",
    "        self.headers = headers\n",
    "        self.items = json.loads(\n",
    "            data.to_json(orient='records'))\n",
    "        if title is not None:\n",
    "            self.title = title\n"
   ]
  },
  {
   "cell_type": "code",
   "execution_count": null,
   "metadata": {
    "ExecuteTime": {
     "end_time": "2020-05-27T15:46:39.966106Z",
     "start_time": "2020-05-27T15:46:39.110837Z"
    }
   },
   "outputs": [],
   "source": [
    "iris = pd.read_csv('https://raw.githubusercontent.com/mwaskom/seaborn-data/master/iris.csv')\n",
    "mytable = PandasDataFrame(data = iris, title='Iris')\n",
    "mytable"
   ]
  },
  {
   "cell_type": "code",
   "execution_count": null,
   "metadata": {
    "ExecuteTime": {
     "end_time": "2020-05-27T15:46:39.974383Z",
     "start_time": "2020-05-27T15:46:39.969369Z"
    }
   },
   "outputs": [],
   "source": [
    "mytable.search = 'setosa'"
   ]
  },
  {
   "cell_type": "code",
   "execution_count": null,
   "metadata": {
    "ExecuteTime": {
     "end_time": "2020-05-27T15:46:39.984024Z",
     "start_time": "2020-05-27T15:46:39.977268Z"
    }
   },
   "outputs": [],
   "source": [
    "mytable.title = 'Iris Table - New Title!'"
   ]
  }
 ],
 "metadata": {
  "kernelspec": {
   "display_name": "Python 3",
   "language": "python",
   "name": "python3"
  },
  "language_info": {
   "codemirror_mode": {
    "name": "ipython",
    "version": 3
   },
   "file_extension": ".py",
   "mimetype": "text/x-python",
   "name": "python",
   "nbconvert_exporter": "python",
   "pygments_lexer": "ipython3",
   "version": "3.8.3"
  }
 },
 "nbformat": 4,
 "nbformat_minor": 4
}
