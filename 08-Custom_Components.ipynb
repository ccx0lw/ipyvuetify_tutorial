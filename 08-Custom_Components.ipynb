{
 "cells": [
  {
   "cell_type": "markdown",
   "metadata": {},
   "source": [
    "# ipyvuetify Tutorial 08 - Custom Components\n",
    "\n",
    "This is number 8 in a series of ipyvuetify app development tutorials. If you're just getting started with ipyvuetify and haven't checked out the first tutorial \"01 Installation and First Steps.ipynb\", be sure to check that one out first.\n",
    "\n",
    "First of all, we'll load the required packages, and test to make sure your environment has all the dependencies set-up successfully:"
   ]
  },
  {
   "cell_type": "code",
   "execution_count": null,
   "metadata": {
    "ExecuteTime": {
     "end_time": "2020-06-01T14:22:25.015653Z",
     "start_time": "2020-06-01T14:22:24.702322Z"
    }
   },
   "outputs": [],
   "source": [
    "import ipyvuetify as v\n",
    "import ipywidgets as widgets\n",
    "import traitlets\n",
    "from warnings import warn\n",
    "\n",
    "\n",
    "v.Btn(class_='icon ma-2',\n",
    "      style_='max-width:100px',\n",
    "      color='success',\n",
    "      children=[v.Icon(children=['mdi-check'])])"
   ]
  },
  {
   "cell_type": "markdown",
   "metadata": {},
   "source": [
    "\n",
    "If you see a green button with a checkmark above, you have successfully installed ipyvuetify and enabled the extension. Good work!\n",
    "\n",
    "If not, refer to the first tutorial and/or the ipyvuetify documentation to set up your system before going further."
   ]
  },
  {
   "cell_type": "markdown",
   "metadata": {},
   "source": [
    "## Crawling - A (fairly) Simple Example\n",
    "\n",
    "`ipyvuetify` provides a template you can use to create your own `vuetify` components.\n",
    "\n",
    "We will work toward developing an Integer component with custom validation logic.\n",
    "\n",
    "First we'll give a minimal example to get a feel for the syntax."
   ]
  },
  {
   "cell_type": "code",
   "execution_count": null,
   "metadata": {
    "ExecuteTime": {
     "end_time": "2020-06-01T14:22:25.556428Z",
     "start_time": "2020-06-01T14:22:25.551767Z"
    }
   },
   "outputs": [],
   "source": [
    "class BasicIntegerInput(v.VuetifyTemplate):\n",
    "    template = traitlets.Unicode('''\n",
    "    <template>\n",
    "      <v-text-field\n",
    "        label='My Label'\n",
    "        hint='My Hint'\n",
    "        type='number'\n",
    "        placeholder='My Placeholder'\n",
    "      ></v-text-field>\n",
    "    </template>\n",
    "        ''').tag(sync=True)\n",
    "\n",
    "    def __init__(self,\n",
    "                 *args,\n",
    "                 **kwargs):\n",
    "        super().__init__(*args, **kwargs)\n",
    "\n"
   ]
  },
  {
   "cell_type": "code",
   "execution_count": null,
   "metadata": {
    "ExecuteTime": {
     "end_time": "2020-06-01T14:22:25.668786Z",
     "start_time": "2020-06-01T14:22:25.634418Z"
    }
   },
   "outputs": [],
   "source": [
    "BasicIntegerInput()"
   ]
  },
  {
   "cell_type": "markdown",
   "metadata": {},
   "source": [
    "So ! That looks like the `v.TextField` we saw in tutorial 4. \n",
    "\n",
    "It's much less useful, though, in this instance; as implemented there is no way to actually get the value once the user has entered it. Nor is there a way to programatically set the value. Next we will show how to implement these improvements."
   ]
  },
  {
   "cell_type": "markdown",
   "metadata": {
    "ExecuteTime": {
     "end_time": "2020-05-27T19:42:58.837662Z",
     "start_time": "2020-05-27T19:42:58.833073Z"
    }
   },
   "source": [
    "## Crab Walking - A Slightly Less Simple Example\n"
   ]
  },
  {
   "cell_type": "code",
   "execution_count": null,
   "metadata": {
    "ExecuteTime": {
     "end_time": "2020-06-01T14:22:27.059012Z",
     "start_time": "2020-06-01T14:22:27.043483Z"
    }
   },
   "outputs": [],
   "source": [
    "class IntegerInput(v.VuetifyTemplate):\n",
    "    value = traitlets.Unicode().tag(sync=True, allow_null=True)\n",
    "    template = traitlets.Unicode('''\n",
    "    <template>\n",
    "      <v-text-field\n",
    "        label='My Label'\n",
    "        hint='My Hint'\n",
    "        type='number'\n",
    "        v-model=\"value\"\n",
    "        placeholder='My Placeholder'\n",
    "      ></v-text-field>\n",
    "    </template>\n",
    "        ''').tag(sync=True)\n",
    "\n",
    "    def __init__(self,\n",
    "                 value=None,\n",
    "                 *args,\n",
    "                 **kwargs):\n",
    "        super().__init__(*args, **kwargs)\n",
    "        if value is not None:\n",
    "            self.value = str(value)\n"
   ]
  },
  {
   "cell_type": "code",
   "execution_count": null,
   "metadata": {
    "ExecuteTime": {
     "end_time": "2020-06-01T14:22:28.488337Z",
     "start_time": "2020-06-01T14:22:28.454949Z"
    }
   },
   "outputs": [],
   "source": [
    "test = IntegerInput()\n",
    "test"
   ]
  },
  {
   "cell_type": "code",
   "execution_count": null,
   "metadata": {
    "ExecuteTime": {
     "end_time": "2020-06-01T14:22:28.638979Z",
     "start_time": "2020-06-01T14:22:28.619740Z"
    }
   },
   "outputs": [],
   "source": [
    "test.value"
   ]
  },
  {
   "cell_type": "code",
   "execution_count": null,
   "metadata": {
    "ExecuteTime": {
     "end_time": "2020-06-01T14:22:28.809652Z",
     "start_time": "2020-06-01T14:22:28.804122Z"
    }
   },
   "outputs": [],
   "source": [
    "test.value='10'"
   ]
  },
  {
   "cell_type": "code",
   "execution_count": null,
   "metadata": {
    "ExecuteTime": {
     "end_time": "2020-06-01T14:22:28.987962Z",
     "start_time": "2020-06-01T14:22:28.977442Z"
    }
   },
   "outputs": [],
   "source": [
    "test.value"
   ]
  },
  {
   "cell_type": "code",
   "execution_count": null,
   "metadata": {
    "ExecuteTime": {
     "end_time": "2020-06-01T14:22:29.172384Z",
     "start_time": "2020-06-01T14:22:29.144826Z"
    }
   },
   "outputs": [],
   "source": [
    "test = IntegerInput(value=10)\n",
    "test"
   ]
  },
  {
   "cell_type": "code",
   "execution_count": null,
   "metadata": {
    "ExecuteTime": {
     "end_time": "2020-06-01T14:22:29.357779Z",
     "start_time": "2020-06-01T14:22:29.353384Z"
    }
   },
   "outputs": [],
   "source": [
    "test.value"
   ]
  },
  {
   "cell_type": "markdown",
   "metadata": {},
   "source": [
    "## Running - Integer Input With Limits and Validation"
   ]
  },
  {
   "cell_type": "code",
   "execution_count": null,
   "metadata": {
    "ExecuteTime": {
     "end_time": "2020-06-01T15:51:30.578809Z",
     "start_time": "2020-06-01T15:51:30.513278Z"
    }
   },
   "outputs": [],
   "source": [
    "class IntegerInputWithLimits(v.VuetifyTemplate):\n",
    "    \"\"\"\n",
    "    ipyvuetify integer input with min and max value and appropriate hint\n",
    "\n",
    "    min_value : int\n",
    "        Minimum value\n",
    "    max_value : int\n",
    "        Maximuim value\n",
    "    color : str\n",
    "        ipyvuetify colour\n",
    "    label : str\n",
    "        Text label for the input\n",
    "    value : str\n",
    "        Value of the input\n",
    "    filled : bool\n",
    "        filled style flag\n",
    "    dense : bool\n",
    "        dense style flag\n",
    "    flat : bool\n",
    "        flat style flag\n",
    "    rounded : bool\n",
    "        rounded style flag\n",
    "    shaped : bool\n",
    "        shaped style flag\n",
    "    persistent_hint : bool\n",
    "        Whether the hint should be displayed when input is not in focus\n",
    "    valid : bool\n",
    "        Whether the input is valid (or not)\n",
    "    validation_message : str\n",
    "        Validation message to display if the input is invalid\n",
    "    \"\"\"\n",
    "    valid = traitlets.Bool().tag(sync=True, allow_null=True)\n",
    "    validation_message = traitlets.Unicode().tag(sync=True, allow_null=True)\n",
    "    min_value = traitlets.Integer().tag(sync=True, allow_null=True)\n",
    "    max_value = traitlets.Integer().tag(sync=True, allow_null=True)\n",
    "    label = traitlets.Unicode('').tag(sync=True, allow_null=True)\n",
    "    hint = traitlets.Unicode('').tag(sync=True, allow_null=True)\n",
    "    value = traitlets.Any().tag(sync=True, allow_null=True)\n",
    "    color = traitlets.Unicode().tag(sync=True, allow_null=True)\n",
    "    placeholder = traitlets.Unicode().tag(sync=True, allow_null=True)\n",
    "    filled = traitlets.Bool().tag(sync=True, allow_null=True)\n",
    "    dense = traitlets.Bool().tag(sync=True, allow_null=True)\n",
    "    flat = traitlets.Bool().tag(sync=True, allow_null=True)\n",
    "    rounded = traitlets.Bool().tag(sync=True, allow_null=True)\n",
    "    shaped = traitlets.Bool().tag(sync=True, allow_null=True)\n",
    "    persistent_hint = traitlets.Bool().tag(sync=True, allow_null=True)\n",
    "    template = traitlets.Unicode('''\n",
    "    <template>\n",
    "      <v-text-field\n",
    "        :label=\"label\"\n",
    "        :focus=\"focus\"\n",
    "        :persistent-hint=\"persistent_hint\"\n",
    "        :color=\"color\"\n",
    "        :filled=\"filled\"\n",
    "        :dense=\"dense\"\n",
    "        :flat=\"flat\"\n",
    "        :rounded=\"rounded\"\n",
    "        :shaped=\"shaped\"\n",
    "        type=\"number\"\n",
    "        :hint=\"hint\"\n",
    "        :placeholder=\"placeholder\"\n",
    "        v-model=\"value\"\n",
    "        :rules=\"[valid || validation_message]\"\n",
    "        clearable\n",
    "      ></v-text-field>\n",
    "    </template>\n",
    "        ''').tag(sync=True)\n",
    "\n",
    "    def __init__(self,\n",
    "                 *args,\n",
    "                 min_value=int(-1e20),\n",
    "                 max_value=int(1e20),\n",
    "                 color='primary',\n",
    "                 label='',\n",
    "                 value=None,\n",
    "                 filled=False,\n",
    "                 dense=False,\n",
    "                 flat=False,\n",
    "                 rounded=False,\n",
    "                 shaped=False,\n",
    "                 valid=True,\n",
    "                 persistent_hint=False,\n",
    "                 validation_message='Invalid Input',\n",
    "                 **kwargs):\n",
    "        super().__init__(*args, **kwargs)\n",
    "        self.label = label\n",
    "        self.color=color\n",
    "        self.filled=filled\n",
    "        self.dense=dense\n",
    "        self.flat=flat\n",
    "        self.rounded=rounded\n",
    "        self.shaped=shaped\n",
    "        self.min_value=min_value\n",
    "        self.max_value=max_value\n",
    "        self.value = value\n",
    "        self.valid=valid\n",
    "        self.persistent_hint=persistent_hint\n",
    "        self.validation_message=validation_message\n",
    "        self.placeholder = \"Enter an integer in range: [{min_value}, {max_value}]\".format(\n",
    "                min_value=self.min_value, max_value=self.max_value)\n",
    "\n",
    "        try:\n",
    "            # If value is less than the minimum allowed, set it to the min_value\n",
    "            if float(self.value)<self.min_value:\n",
    "                warn('Must be greater than min_value: {min_value}. Setting to {min_value}.'.format(min_value=self.min_value))\n",
    "                self.value=self.min_value\n",
    "        \n",
    "            # If value is greater than the max allowed, set it to the max_value\n",
    "            if float(self.value)>self.max_value:\n",
    "                warn('Must be less than max_value: {max_value}. Setting to {max_value}.'.format(max_value=self.max_value))\n",
    "                self.value=self.max_value\n",
    "        except TypeError:                  \n",
    "            self.hint = \"Please enter an integer in range: [{min_value}, {max_value}]\".format(\n",
    "                min_value=self.min_value, max_value=self.max_value)\n",
    "\n",
    "    def __dir__(self):\n",
    "        # Gives tab completion for class\n",
    "        return list(self.__dict__['_trait_values'].keys())\n",
    "            \n",
    "    @traitlets.observe('value')\n",
    "    def _observe_value(self, change):\n",
    "        # When `value` changes, try to change the format of `value` to integer\n",
    "        #   and if that fails, mark the input as invalid and display a helpful message\n",
    "        try:\n",
    "            self.value = int(float(change['new']))\n",
    "            self.hint = \"\"\n",
    "            if (self.min_value!=None and self.value<self.min_value):\n",
    "                self.valid=False\n",
    "                self.validation_message='Input: {value} is less than the minimum supported value {min_value}. Please choose a larger value.'.format(value=self.value,min_value=self.min_value)\n",
    "            elif (self.max_value!=None and self.value>self.max_value):\n",
    "                self.valid=False\n",
    "                self.validation_message='Input: {value} is greater than the maximum supported value {max_value}. Please choose a smaller value.'.format(value=self.value,max_value=self.max_value)\n",
    "            elif self.value == 42:\n",
    "                self.valid=True\n",
    "                self.hint='The answer to the question of life, the universe, and everything'\n",
    "                self.persistent_hint=True\n",
    "            else:\n",
    "                self.valid=True\n",
    "                self.validation_message='Input Valid'\n",
    "            \n",
    "        except:\n",
    "            self.valid=False\n",
    "            self.validation_message = \"Input Invalid. Please enter an integer in range: [{min_value}, {max_value}]\".format(\n",
    "                min_value=self.min_value, max_value=self.max_value)\n",
    "\n",
    "\n"
   ]
  },
  {
   "cell_type": "code",
   "execution_count": null,
   "metadata": {
    "ExecuteTime": {
     "end_time": "2020-06-01T15:56:07.575944Z",
     "start_time": "2020-06-01T15:56:07.547888Z"
    }
   },
   "outputs": [],
   "source": [
    "myint = IntegerInputWithLimits(min_value=0,max_value=100,value=50)\n",
    "myint"
   ]
  },
  {
   "cell_type": "code",
   "execution_count": null,
   "metadata": {
    "ExecuteTime": {
     "end_time": "2020-06-01T15:56:11.362196Z",
     "start_time": "2020-06-01T15:56:11.351245Z"
    }
   },
   "outputs": [],
   "source": [
    "myint.value=\"12-12-12\""
   ]
  },
  {
   "cell_type": "code",
   "execution_count": null,
   "metadata": {
    "ExecuteTime": {
     "end_time": "2020-06-01T15:56:12.489686Z",
     "start_time": "2020-06-01T15:56:12.483521Z"
    }
   },
   "outputs": [],
   "source": [
    "myint.value"
   ]
  },
  {
   "cell_type": "code",
   "execution_count": null,
   "metadata": {
    "ExecuteTime": {
     "end_time": "2020-06-01T15:56:22.567865Z",
     "start_time": "2020-06-01T15:56:22.556612Z"
    }
   },
   "outputs": [],
   "source": [
    "# Give it a value that is too small, and it'll give a sensible hint telling you it's too small\n",
    "myint.value = -10"
   ]
  },
  {
   "cell_type": "code",
   "execution_count": null,
   "metadata": {
    "ExecuteTime": {
     "end_time": "2020-06-01T15:56:23.794782Z",
     "start_time": "2020-06-01T15:56:23.788827Z"
    }
   },
   "outputs": [],
   "source": [
    "# Give it a value that is too big, and it'll give a sensible hint telling you it's too big\n",
    "myint.value = 2000"
   ]
  },
  {
   "cell_type": "code",
   "execution_count": null,
   "metadata": {
    "ExecuteTime": {
     "end_time": "2020-06-01T15:56:25.758144Z",
     "start_time": "2020-06-01T15:56:25.742921Z"
    }
   },
   "outputs": [],
   "source": [
    "# If you set a value within the range, the hint disappears and the value is accepted\n",
    "myint.value=5"
   ]
  },
  {
   "cell_type": "code",
   "execution_count": null,
   "metadata": {
    "ExecuteTime": {
     "end_time": "2020-06-01T15:56:26.912742Z",
     "start_time": "2020-06-01T15:56:26.908848Z"
    }
   },
   "outputs": [],
   "source": [
    "# If you set the value to be a string, it will convert it to an int (if it can!)\n",
    "myint.value=\"10\""
   ]
  },
  {
   "cell_type": "code",
   "execution_count": null,
   "metadata": {
    "ExecuteTime": {
     "end_time": "2020-06-01T15:56:31.473750Z",
     "start_time": "2020-06-01T15:56:31.459620Z"
    }
   },
   "outputs": [],
   "source": [
    "type(myint.value)"
   ]
  },
  {
   "cell_type": "code",
   "execution_count": null,
   "metadata": {
    "ExecuteTime": {
     "end_time": "2020-06-01T15:56:33.197738Z",
     "start_time": "2020-06-01T15:56:33.189387Z"
    }
   },
   "outputs": [],
   "source": [
    "# If you use the value 42, you see the easter egg\n",
    "myint.value=42\n",
    "myint.hint"
   ]
  },
  {
   "cell_type": "markdown",
   "metadata": {},
   "source": [
    "## Date Range Dialog"
   ]
  },
  {
   "cell_type": "code",
   "execution_count": null,
   "metadata": {
    "ExecuteTime": {
     "end_time": "2020-05-27T19:47:37.650349Z",
     "start_time": "2020-05-27T19:47:37.631484Z"
    }
   },
   "outputs": [],
   "source": [
    "class DateRangeInputDialog(v.VuetifyTemplate):\n",
    "    \"\"\"\n",
    "    Vuetify Compact, Expandable Daterange Input\n",
    "    \n",
    "    Args:\n",
    "        date_range : list\n",
    "            A list of two dates [start,end] in format YYYY-mm-dd\n",
    "    \"\"\"\n",
    "\n",
    "    date = traitlets.List([]).tag(sync=True)\n",
    "    menu = traitlets.Bool(False).tag(sync=True)\n",
    "    \n",
    "    template = traitlets.Unicode('''\n",
    "<template>\n",
    "   <v-dialog\n",
    "          ref=\"menu\"\n",
    "          v-model=\"menu\"\n",
    "          :close-on-content-click=\"false\"\n",
    "          :return-value.sync=\"date\"\n",
    "          transition=\"scale-transition\"\n",
    "          offset-y\n",
    "          persistent\n",
    "          min-width=\"290px\"\n",
    "          max-width=\"350px\"\n",
    "        >\n",
    "      <template v-slot:activator=\"{ on }\">\n",
    "         <v-card>\n",
    "            <v-text-field\n",
    "              v-model=\"date\"\n",
    "              label=\"Select Date Range\"\n",
    "              prepend-icon=\"event\"\n",
    "              readonly\n",
    "              v-on=\"on\"\n",
    "            ></v-text-field>\n",
    "         </template>\n",
    "         <v-date-picker v-model=\"date\" no-title flat scrollable range>\n",
    "            <v-spacer></v-spacer>\n",
    "            <v-btn text color=\"primary\" @click=\"menu = false\">Cancel</v-btn>\n",
    "            <v-btn text color=\"primary\" @click=\"$refs.menu.save(date)\">OK</v-btn>\n",
    "         </v-date-picker>\n",
    "      </v-card>\n",
    "   </v-dialog>\n",
    "</template>\n",
    "        ''').tag(sync=True)\n",
    "    \n",
    "    def __init__(self, *args, \n",
    "                 date_range=None,menu=False, **kwargs):\n",
    "        super().__init__(*args, **kwargs)\n",
    "        self.date = date_range\n",
    "        self.menu = False\n",
    "    "
   ]
  },
  {
   "cell_type": "code",
   "execution_count": null,
   "metadata": {
    "ExecuteTime": {
     "end_time": "2020-05-27T19:47:38.647393Z",
     "start_time": "2020-05-27T19:47:38.555812Z"
    }
   },
   "outputs": [],
   "source": [
    "DateRangeInputDialog(date_range=['2020-05-01','2020-05-10'])"
   ]
  },
  {
   "cell_type": "markdown",
   "metadata": {
    "ExecuteTime": {
     "end_time": "2020-05-26T14:28:14.467661Z",
     "start_time": "2020-05-26T14:28:14.460411Z"
    }
   },
   "source": [
    "## Menu Example\n",
    "\n",
    "From: https://github.com/mariobuikhuizen/ipyvuetify/blob/master/examples/Examples%20template.ipynb"
   ]
  },
  {
   "cell_type": "code",
   "execution_count": null,
   "metadata": {
    "ExecuteTime": {
     "end_time": "2020-05-27T19:47:40.175326Z",
     "start_time": "2020-05-27T19:47:40.151284Z"
    }
   },
   "outputs": [],
   "source": [
    "class MyMenu(v.VuetifyTemplate):\n",
    "    \n",
    "    color = traitlets.Unicode('primary').tag(sync=True)\n",
    "    items = traitlets.List(['red', 'green', 'purple']).tag(sync=True)\n",
    "    button_text = traitlets.Unicode('menu').tag(sync=True)\n",
    "    template = traitlets.Unicode('''\n",
    "        <v-layout>\n",
    "            <v-menu offset-y>\n",
    "                <template v-slot:activator=\"{ on }\">\n",
    "                    <v-btn\n",
    "                            :color=\"color\"\n",
    "                            class=\"white--text\"\n",
    "                            v-on=\"on\">\n",
    "                        {{ button_text }}\n",
    "                    </v-btn>\n",
    "                </template>\n",
    "                <v-list>\n",
    "                    <v-list-item\n",
    "                            v-for=\"(item, index) in items\"\n",
    "                            :key=\"index\"\n",
    "                            @click=\"menu_click(index)\">\n",
    "                        <v-list-item-title>{{ item }}</v-list-item-title>\n",
    "                    </v-list-item>\n",
    "                </v-list>\n",
    "            </v-menu>\n",
    "        </v-layout>''').tag(sync=True)\n",
    "    \n",
    "    \n",
    "    def vue_menu_click(self, data):\n",
    "        self.color = self.items[data]\n",
    "        self.button_text = self.items[data]\n",
    "    \n",
    "    "
   ]
  },
  {
   "cell_type": "code",
   "execution_count": null,
   "metadata": {
    "ExecuteTime": {
     "end_time": "2020-05-27T19:47:41.157017Z",
     "start_time": "2020-05-27T19:47:41.091860Z"
    }
   },
   "outputs": [],
   "source": [
    "test = MyMenu()\n",
    "test"
   ]
  },
  {
   "cell_type": "markdown",
   "metadata": {},
   "source": [
    "You can read **or change** the color of the menu with the `color` property, and the button text with the `button_text` property"
   ]
  },
  {
   "cell_type": "code",
   "execution_count": null,
   "metadata": {
    "ExecuteTime": {
     "end_time": "2020-05-27T19:47:42.180699Z",
     "start_time": "2020-05-27T19:47:42.164553Z"
    }
   },
   "outputs": [],
   "source": [
    "test.color"
   ]
  },
  {
   "cell_type": "code",
   "execution_count": null,
   "metadata": {
    "ExecuteTime": {
     "end_time": "2020-05-27T19:47:42.482536Z",
     "start_time": "2020-05-27T19:47:42.468283Z"
    }
   },
   "outputs": [],
   "source": [
    "test.button_text = \"My New Button Text\""
   ]
  },
  {
   "cell_type": "code",
   "execution_count": null,
   "metadata": {
    "ExecuteTime": {
     "end_time": "2020-05-27T19:47:42.748562Z",
     "start_time": "2020-05-27T19:47:42.735983Z"
    }
   },
   "outputs": [],
   "source": [
    "test.button_text"
   ]
  },
  {
   "cell_type": "markdown",
   "metadata": {
    "ExecuteTime": {
     "end_time": "2020-05-26T14:18:45.207779Z",
     "start_time": "2020-05-26T14:18:45.199921Z"
    }
   },
   "source": [
    "## Pandas Data Frame"
   ]
  },
  {
   "cell_type": "code",
   "execution_count": null,
   "metadata": {
    "ExecuteTime": {
     "end_time": "2020-05-27T19:47:45.734667Z",
     "start_time": "2020-05-27T19:47:44.888794Z"
    }
   },
   "outputs": [],
   "source": [
    "import pandas as pd\n",
    "import traitlets\n",
    "import ipyvuetify as v\n",
    "import json\n",
    "\n",
    "class PandasDataFrame(v.VuetifyTemplate):\n",
    "    \"\"\"\n",
    "    Vuetify DataTable rendering of a pandas DataFrame\n",
    "\n",
    "    Args:\n",
    "        data (DataFrame) - the data to render\n",
    "        title (str) - optional title\n",
    "        \n",
    "    Modified from Source: https://jupyter-tutorial.readthedocs.io/de/latest/workspace/jupyter/ipywidgets/libs/ipyvuetify.html\n",
    "    \"\"\"\n",
    "\n",
    "    headers = traitlets.List([]).tag(sync=True, allow_null=True)\n",
    "    items = traitlets.List([]).tag(sync=True, allow_null=True)\n",
    "    search = traitlets.Unicode('').tag(sync=True)\n",
    "    title = traitlets.Unicode('DataFrame').tag(sync=True)\n",
    "    index_col = traitlets.Unicode('').tag(sync=True)\n",
    "    template = traitlets.Unicode('''\n",
    "        <template>\n",
    "          <v-card>\n",
    "            <v-card-title>\n",
    "              <span class=\"title font-weight-bold\">{{ title }}</span>\n",
    "              <v-spacer></v-spacer>\n",
    "                <v-text-field\n",
    "                    v-model=\"search\"\n",
    "                    append-icon=\"search\"\n",
    "                    label=\"Search ...\"\n",
    "                    single-line\n",
    "                    hide-details\n",
    "                ></v-text-field>\n",
    "            </v-card-title>\n",
    "            <v-data-table\n",
    "                :headers=\"headers\"\n",
    "                :items=\"items\"\n",
    "                :search=\"search\"\n",
    "                :item-key=\"index_col\"\n",
    "                :rows-per-page-items=\"[25, 50, 250, 500]\"\n",
    "            >\n",
    "                <template v-slot:no-data>\n",
    "                  <v-alert :value=\"true\" color=\"error\" icon=\"warning\">\n",
    "                    Sorry, nothing to display here :(\n",
    "                  </v-alert>\n",
    "                </template>\n",
    "                <template v-slot:no-results>\n",
    "                    <v-alert :value=\"true\" color=\"warning\" icon=\"warning\">\n",
    "                      Your search for \"{{ search }}\" found no results.\n",
    "                    </v-alert>\n",
    "                </template>\n",
    "                <template v-slot:items=\"rows\">\n",
    "                  <td v-for=\"(element, label, index) in rows.item\"\n",
    "                      @click=cell_click(element)\n",
    "                      >\n",
    "                    {{ element }}\n",
    "                  </td>\n",
    "                </template>\n",
    "            </v-data-table>\n",
    "          </v-card>\n",
    "        </template>\n",
    "        ''').tag(sync=True)\n",
    "\n",
    "    def __init__(self, *args,\n",
    "                 data=pd.DataFrame(),\n",
    "                 title=None,\n",
    "                 **kwargs):\n",
    "        super().__init__(*args, **kwargs)\n",
    "        data = data.reset_index()\n",
    "        self.index_col = data.columns[0]\n",
    "        headers = [{\n",
    "              \"text\": col,\n",
    "              \"value\": col\n",
    "            } for col in data.columns]\n",
    "        headers[0].update({'align': 'left', 'sortable': True})\n",
    "        self.headers = headers\n",
    "        self.items = json.loads(\n",
    "            data.to_json(orient='records'))\n",
    "        if title is not None:\n",
    "            self.title = title\n"
   ]
  },
  {
   "cell_type": "code",
   "execution_count": null,
   "metadata": {
    "ExecuteTime": {
     "end_time": "2020-05-27T19:47:46.681207Z",
     "start_time": "2020-05-27T19:47:45.740472Z"
    }
   },
   "outputs": [],
   "source": [
    "iris = pd.read_csv('https://raw.githubusercontent.com/mwaskom/seaborn-data/master/iris.csv')\n",
    "mytable = PandasDataFrame(data = iris, title='Iris')\n",
    "mytable"
   ]
  },
  {
   "cell_type": "code",
   "execution_count": null,
   "metadata": {
    "ExecuteTime": {
     "end_time": "2020-05-27T19:47:46.689830Z",
     "start_time": "2020-05-27T19:47:46.684806Z"
    }
   },
   "outputs": [],
   "source": [
    "mytable.search = 'setosa'"
   ]
  },
  {
   "cell_type": "code",
   "execution_count": null,
   "metadata": {
    "ExecuteTime": {
     "end_time": "2020-05-27T19:47:46.698097Z",
     "start_time": "2020-05-27T19:47:46.693277Z"
    }
   },
   "outputs": [],
   "source": [
    "mytable.title = 'Iris Table - New Title!'"
   ]
  }
 ],
 "metadata": {
  "kernelspec": {
   "display_name": "Python 3",
   "language": "python",
   "name": "python3"
  },
  "language_info": {
   "codemirror_mode": {
    "name": "ipython",
    "version": 3
   },
   "file_extension": ".py",
   "mimetype": "text/x-python",
   "name": "python",
   "nbconvert_exporter": "python",
   "pygments_lexer": "ipython3",
   "version": "3.8.3"
  }
 },
 "nbformat": 4,
 "nbformat_minor": 4
}
