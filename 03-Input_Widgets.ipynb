{
 "cells": [
  {
   "cell_type": "markdown",
   "metadata": {},
   "source": [
    "# ipyvuetify Tutorial 03 - Input Widgets\n",
    "\n",
    "This is the third in a series of ipyvuetify app development tutorials. If you're just getting started with ipyvuetify and haven't checked out the first tutorial \"01 Installation and First Steps.ipynb\", be sure to check that one out first.\n",
    "\n",
    "In this notebook we will cover many input widgets:\n",
    "\n",
    "* Checkbox\n",
    "* Switch\n",
    "* Radio buttons\n",
    "* Sliders\n",
    "* Dropdowns\n",
    "* Comboboxes\n",
    "\n",
    "We are **not** covering text inputs or buttons - we'll cover those later!\n",
    "\n",
    "First of all, we'll load the required packages, and test to make sure your environment has all the dependencies set-up successfully:"
   ]
  },
  {
   "cell_type": "code",
   "execution_count": 1,
   "metadata": {
    "ExecuteTime": {
     "end_time": "2020-05-25T14:25:13.385693Z",
     "start_time": "2020-05-25T14:25:13.097684Z"
    }
   },
   "outputs": [
    {
     "data": {
      "application/vnd.jupyter.widget-view+json": {
       "model_id": "1896238e27234386b524e756b4145d38",
       "version_major": 2,
       "version_minor": 0
      },
      "text/plain": [
       "Btn(children=[Icon(children=['mdi-check'])], class_='icon ma-2', color='success', style_='max-width:100px')"
      ]
     },
     "metadata": {},
     "output_type": "display_data"
    }
   ],
   "source": [
    "from time import sleep\n",
    "import ipyvuetify as v\n",
    "import ipywidgets as widgets\n",
    "import markdown\n",
    "\n",
    "v.Btn(class_='icon ma-2',\n",
    "      style_='max-width:100px',\n",
    "      color='success',\n",
    "      children=[v.Icon(children=['mdi-check'])])"
   ]
  },
  {
   "cell_type": "markdown",
   "metadata": {},
   "source": [
    "\n",
    "If you see a green button with a checkmark above, you have successfully installed ipyvuetify and enabled the extension. Good work!\n",
    "\n",
    "If not, refer to the first tutorial and/or the ipyvuetify documentation to set up your system before going further."
   ]
  },
  {
   "cell_type": "markdown",
   "metadata": {
    "ExecuteTime": {
     "end_time": "2020-05-21T17:51:49.192708Z",
     "start_time": "2020-05-21T17:51:49.188429Z"
    }
   },
   "source": [
    "## v.Checkbox()\n",
    "\n",
    "Probably the simplest type of user input is the checkbox:"
   ]
  },
  {
   "cell_type": "code",
   "execution_count": 2,
   "metadata": {
    "ExecuteTime": {
     "end_time": "2020-05-25T14:25:13.403097Z",
     "start_time": "2020-05-25T14:25:13.387941Z"
    }
   },
   "outputs": [
    {
     "data": {
      "application/vnd.jupyter.widget-view+json": {
       "model_id": "bb4ced00fe0c4f559d2f759ccb9d472e",
       "version_major": 2,
       "version_minor": 0
      },
      "text/plain": [
       "Checkbox(label='My Checkbox Label')"
      ]
     },
     "metadata": {},
     "output_type": "display_data"
    }
   ],
   "source": [
    "v.Checkbox(label='My Checkbox Label')"
   ]
  },
  {
   "cell_type": "markdown",
   "metadata": {},
   "source": [
    "As you can see from the example above, the description text is set by the `label` argument.\n",
    "\n",
    "The value of the checkbox is set (and accessed, as we will see next) through the `v_model` property (which is like the `value` property in `ipywidgets`). This is how you create a checkbox that is checked by default:"
   ]
  },
  {
   "cell_type": "code",
   "execution_count": 3,
   "metadata": {
    "ExecuteTime": {
     "end_time": "2020-05-25T14:25:13.419531Z",
     "start_time": "2020-05-25T14:25:13.405344Z"
    }
   },
   "outputs": [
    {
     "data": {
      "application/vnd.jupyter.widget-view+json": {
       "model_id": "f834550d78234b61b9262d871b55586a",
       "version_major": 2,
       "version_minor": 0
      },
      "text/plain": [
       "Checkbox(label='My Checkbox Label', v_model=True)"
      ]
     },
     "metadata": {},
     "output_type": "display_data"
    }
   ],
   "source": [
    "v.Checkbox(label='My Checkbox Label', v_model=True)"
   ]
  },
  {
   "cell_type": "markdown",
   "metadata": {},
   "source": [
    "To actually do something with the value of the checkbox, we assign it to a variable, and then can access the value with the `v_model` property:"
   ]
  },
  {
   "cell_type": "code",
   "execution_count": 4,
   "metadata": {
    "ExecuteTime": {
     "end_time": "2020-05-25T14:25:13.436508Z",
     "start_time": "2020-05-25T14:25:13.421527Z"
    }
   },
   "outputs": [
    {
     "data": {
      "application/vnd.jupyter.widget-view+json": {
       "model_id": "e20748f9918648a39da3d1b5e42f5430",
       "version_major": 2,
       "version_minor": 0
      },
      "text/plain": [
       "Checkbox(label='My Checkbox Label', v_model=False)"
      ]
     },
     "metadata": {},
     "output_type": "display_data"
    }
   ],
   "source": [
    "mycheckbox = v.Checkbox(label='My Checkbox Label', v_model=False)\n",
    "mycheckbox"
   ]
  },
  {
   "cell_type": "code",
   "execution_count": 5,
   "metadata": {
    "ExecuteTime": {
     "end_time": "2020-05-25T14:25:13.454009Z",
     "start_time": "2020-05-25T14:25:13.438486Z"
    }
   },
   "outputs": [
    {
     "data": {
      "text/plain": [
       "False"
      ]
     },
     "execution_count": 5,
     "metadata": {},
     "output_type": "execute_result"
    }
   ],
   "source": [
    "mycheckbox.v_model"
   ]
  },
  {
   "cell_type": "markdown",
   "metadata": {},
   "source": [
    "Try checking the checkbox, and then re-executing the above cell. \n",
    "\n",
    "Notice that the value of the `v_model` property has changed from False to True.\n",
    "\n",
    "You can also do this programatically (keep an eye on the checkbox above):"
   ]
  },
  {
   "cell_type": "code",
   "execution_count": 6,
   "metadata": {
    "ExecuteTime": {
     "end_time": "2020-05-25T14:25:16.471932Z",
     "start_time": "2020-05-25T14:25:13.456927Z"
    }
   },
   "outputs": [],
   "source": [
    "mycheckbox.v_model = True\n",
    "sleep(1)\n",
    "mycheckbox.v_model = False\n",
    "sleep(1)\n",
    "mycheckbox.v_model = True\n",
    "sleep(1)\n",
    "mycheckbox.v_model = False"
   ]
  },
  {
   "cell_type": "markdown",
   "metadata": {
    "ExecuteTime": {
     "end_time": "2020-05-21T18:01:51.980710Z",
     "start_time": "2020-05-21T18:01:51.973306Z"
    }
   },
   "source": [
    "### Customizing the appearence of a `v.Checkbox`\n",
    "\n",
    "Next we will customize the look of our checkbox.\n",
    "\n",
    "For an extensive description, again, see the [vuetify.js documentation](https://vuetifyjs.com/en/components/selection-controls/).\n",
    "\n",
    "You can display a 'hint' to help users understand what your checkbox is all about:"
   ]
  },
  {
   "cell_type": "code",
   "execution_count": 7,
   "metadata": {
    "ExecuteTime": {
     "end_time": "2020-05-25T14:25:16.521469Z",
     "start_time": "2020-05-25T14:25:16.480397Z"
    }
   },
   "outputs": [
    {
     "data": {
      "application/vnd.jupyter.widget-view+json": {
       "model_id": "0f6d75dccd2e49f896ee81ba4a69830c",
       "version_major": 2,
       "version_minor": 0
      },
      "text/plain": [
       "Checkbox(class_='pa-4', hint='Read me if you need some help deciding whether to check me or not...', label='My…"
      ]
     },
     "metadata": {},
     "output_type": "display_data"
    }
   ],
   "source": [
    "v.Checkbox(\n",
    "    class_='pa-4',\n",
    "    label='My Checkbox Label',\n",
    "    persistent_hint=True,\n",
    "    hint='Read me if you need some help deciding whether to check me or not...'\n",
    ")"
   ]
  },
  {
   "cell_type": "markdown",
   "metadata": {},
   "source": [
    "Setting `dense=True` makes it take up a bit less vertical space, and you can set the colour, too:"
   ]
  },
  {
   "cell_type": "code",
   "execution_count": 8,
   "metadata": {
    "ExecuteTime": {
     "end_time": "2020-05-25T14:25:16.548869Z",
     "start_time": "2020-05-25T14:25:16.527094Z"
    }
   },
   "outputs": [
    {
     "data": {
      "application/vnd.jupyter.widget-view+json": {
       "model_id": "198eac924b4f47a0b4646a2c8f864f5c",
       "version_major": 2,
       "version_minor": 0
      },
      "text/plain": [
       "Checkbox(class_='pa-1', color='error', dense=True, hint='Read me if you need some help deciding whether to che…"
      ]
     },
     "metadata": {},
     "output_type": "display_data"
    }
   ],
   "source": [
    "v.Checkbox(\n",
    "    dense=True,\n",
    "    color='error',\n",
    "    class_='pa-1',\n",
    "    label='My Checkbox Label',\n",
    "    v_model=True,\n",
    "    persistent_hint=True,\n",
    "    hint='Read me if you need some help deciding whether to check me or not...'\n",
    ")"
   ]
  },
  {
   "cell_type": "markdown",
   "metadata": {},
   "source": [
    "You can set a background colour, if you want to, and change the `theme` to dark"
   ]
  },
  {
   "cell_type": "code",
   "execution_count": 9,
   "metadata": {
    "ExecuteTime": {
     "end_time": "2020-05-25T14:25:16.571909Z",
     "start_time": "2020-05-25T14:25:16.551262Z"
    }
   },
   "outputs": [
    {
     "data": {
      "application/vnd.jupyter.widget-view+json": {
       "model_id": "a88ebbe7c301433fb952238598a61319",
       "version_major": 2,
       "version_minor": 0
      },
      "text/plain": [
       "Checkbox(background_color='primary', class_='pa-4', dark=True, label='My Checkbox Label')"
      ]
     },
     "metadata": {},
     "output_type": "display_data"
    }
   ],
   "source": [
    "v.Checkbox(\n",
    "    background_color='primary',\n",
    "    dark=True,\n",
    "    class_='pa-4',\n",
    "    label='My Checkbox Label'\n",
    ")"
   ]
  },
  {
   "cell_type": "markdown",
   "metadata": {},
   "source": [
    "Another nice feature is the ability to prepend or append an icon. Here I prepend and append icons, as well as putting it in a row with a spacer at the end.\n",
    "\n",
    "See the [Material Design Icons](https://cdn.materialdesignicons.com/4.5.95/) page for a full list of available icons."
   ]
  },
  {
   "cell_type": "code",
   "execution_count": 10,
   "metadata": {
    "ExecuteTime": {
     "end_time": "2020-05-25T14:25:16.616229Z",
     "start_time": "2020-05-25T14:25:16.573797Z"
    }
   },
   "outputs": [
    {
     "data": {
      "application/vnd.jupyter.widget-view+json": {
       "model_id": "f3d2b9ef143747c988a20231e20adf31",
       "version_major": 2,
       "version_minor": 0
      },
      "text/plain": [
       "Row(children=[Checkbox(append_icon='mdi-trash-can', class_='pa-4', label='My Checkbox Label', prepend_icon='md…"
      ]
     },
     "metadata": {},
     "output_type": "display_data"
    }
   ],
   "source": [
    "v.Row(children=[\n",
    "    v.Checkbox(class_='pa-4',\n",
    "               v_model = True,\n",
    "               label='My Checkbox Label',\n",
    "               prepend_icon='mdi-recycle',\n",
    "               append_icon='mdi-trash-can'),\n",
    "    v.Spacer()\n",
    "])"
   ]
  },
  {
   "cell_type": "markdown",
   "metadata": {},
   "source": [
    "Wowee that was a lot of info about checkboxes.\n",
    "\n",
    "But most of the things we just played around with apply to the other input types:\n",
    "\n",
    "* You access or set the value of an input with the `v_model` property\n",
    "* Inputs have both a label and a hint that can be set.\n",
    "* You can prepend or append an icon.\n",
    "* You can change the colour\n",
    "\n",
    "An alternative to a checkbox, that is functionally the same is the `v.Switch`"
   ]
  },
  {
   "cell_type": "markdown",
   "metadata": {
    "ExecuteTime": {
     "end_time": "2020-05-21T18:30:21.357133Z",
     "start_time": "2020-05-21T18:30:21.334419Z"
    }
   },
   "source": [
    "## `v.Switch()`\n",
    "\n",
    "`v.Switch()` is just like a checkbox; the `v_model` is either `True` or `False`, but it has a different look and feel (and some different customization options) that you may prefer:"
   ]
  },
  {
   "cell_type": "code",
   "execution_count": 11,
   "metadata": {
    "ExecuteTime": {
     "end_time": "2020-05-25T14:25:16.656572Z",
     "start_time": "2020-05-25T14:25:16.621173Z"
    }
   },
   "outputs": [
    {
     "data": {
      "application/vnd.jupyter.widget-view+json": {
       "model_id": "b61f9a88cebe4c02b33a3bcc5eb48318",
       "version_major": 2,
       "version_minor": 0
      },
      "text/plain": [
       "Switch(label='My Checkbox Label', v_model=True)"
      ]
     },
     "metadata": {},
     "output_type": "display_data"
    }
   ],
   "source": [
    "myswitch = v.Switch(label='My Checkbox Label', v_model=True)\n",
    "myswitch"
   ]
  },
  {
   "cell_type": "markdown",
   "metadata": {},
   "source": [
    "Just like with the checkbox, you can access (and set!) the value of the switch with the `v_model` property:"
   ]
  },
  {
   "cell_type": "code",
   "execution_count": 12,
   "metadata": {
    "ExecuteTime": {
     "end_time": "2020-05-25T14:25:16.668505Z",
     "start_time": "2020-05-25T14:25:16.659432Z"
    }
   },
   "outputs": [
    {
     "data": {
      "text/plain": [
       "True"
      ]
     },
     "execution_count": 12,
     "metadata": {},
     "output_type": "execute_result"
    }
   ],
   "source": [
    "myswitch.v_model"
   ]
  },
  {
   "cell_type": "code",
   "execution_count": 13,
   "metadata": {
    "ExecuteTime": {
     "end_time": "2020-05-25T14:25:16.702409Z",
     "start_time": "2020-05-25T14:25:16.678369Z"
    }
   },
   "outputs": [
    {
     "data": {
      "application/vnd.jupyter.widget-view+json": {
       "model_id": "3bdc592dda2e4f1f8c3fd30b13b95d73",
       "version_major": 2,
       "version_minor": 0
      },
      "text/plain": [
       "Switch(class_='pa-2', color='warning', hint='Read me if you need some help deciding whether to check me or not…"
      ]
     },
     "metadata": {},
     "output_type": "display_data"
    }
   ],
   "source": [
    "v.Switch(\n",
    "    label='My Checkbox Label',\n",
    "    class_='pa-2',\n",
    "    inset=True,\n",
    "    color='warning',\n",
    "    v_model=True,\n",
    "    persistent_hint=True,\n",
    "    hint='Read me if you need some help deciding whether to check me or not...'\n",
    ")"
   ]
  },
  {
   "cell_type": "markdown",
   "metadata": {},
   "source": [
    "There are lots of things I haven't covered here (largely because I haven't figured them out yet...) that are pretty cool, like [chip groups](https://vuetifyjs.com/en/components/item-groups/#chips) and [checkbox arrays](https://vuetifyjs.com/en/components/selection-controls/#checkboxes-array), but we've learned enough about checkboxes and switches to be getting on with.\n",
    "\n",
    "Next, let's look at radio buttons..."
   ]
  },
  {
   "cell_type": "markdown",
   "metadata": {
    "ExecuteTime": {
     "end_time": "2020-05-21T18:53:29.647539Z",
     "start_time": "2020-05-21T18:53:29.644617Z"
    }
   },
   "source": [
    "## Radio Buttons"
   ]
  },
  {
   "cell_type": "code",
   "execution_count": 14,
   "metadata": {
    "ExecuteTime": {
     "end_time": "2020-05-25T14:25:16.800482Z",
     "start_time": "2020-05-25T14:25:16.704478Z"
    }
   },
   "outputs": [
    {
     "data": {
      "application/vnd.jupyter.widget-view+json": {
       "model_id": "79437586fc0a40d2a88e888e6bf2a519",
       "version_major": 2,
       "version_minor": 0
      },
      "text/plain": [
       "RadioGroup(children=[Radio(label='apple', value='apple'), Radio(label='rhubarb', value='rhubarb'), Radio(label…"
      ]
     },
     "metadata": {},
     "output_type": "display_data"
    }
   ],
   "source": [
    "favourite_pie_type = v.RadioGroup(class_='px-2 my-0 py-2',\n",
    "             v_model='rhubarb',\n",
    "             label = \"What's your favourite type of pie?\",\n",
    "             children=[\n",
    "                 v.Radio(label='apple', value='apple'),\n",
    "                 v.Radio(label='rhubarb', value='rhubarb'),\n",
    "                 v.Radio(label='blueberry', value='blueberry'),\n",
    "                 v.Radio(label='pumpkin', value='pumpkin'),\n",
    "                 v.Radio(label='mock cherry', value='mock cherry')\n",
    "             ])\n",
    "favourite_pie_type"
   ]
  },
  {
   "cell_type": "markdown",
   "metadata": {},
   "source": [
    "Just like before, we get and/or set the value of the checkbox input with the `v_model` input. "
   ]
  },
  {
   "cell_type": "markdown",
   "metadata": {
    "ExecuteTime": {
     "end_time": "2020-05-21T18:57:43.731399Z",
     "start_time": "2020-05-21T18:57:43.711233Z"
    }
   },
   "source": [
    "favourite_pie_type.v_model"
   ]
  },
  {
   "cell_type": "markdown",
   "metadata": {},
   "source": [
    "You can display a hint in the same was as before, too.\n",
    "\n",
    "You can display the options in a row instead of in a column by setting the `row` value to True:"
   ]
  },
  {
   "cell_type": "code",
   "execution_count": 15,
   "metadata": {
    "ExecuteTime": {
     "end_time": "2020-05-25T14:25:16.886187Z",
     "start_time": "2020-05-25T14:25:16.803523Z"
    }
   },
   "outputs": [
    {
     "data": {
      "application/vnd.jupyter.widget-view+json": {
       "model_id": "21ff6ff4e515447da68145768b8e6d98",
       "version_major": 2,
       "version_minor": 0
      },
      "text/plain": [
       "RadioGroup(children=[Radio(label='apple', value='apple'), Radio(label='rhubarb', value='rhubarb'), Radio(label…"
      ]
     },
     "metadata": {},
     "output_type": "display_data"
    }
   ],
   "source": [
    "v.RadioGroup(class_='px-2 my-0 py-2',\n",
    "             v_model='rhubarb',\n",
    "             label = \"What's your favourite type of pie?\",\n",
    "             hint = \"I'm sure it's rhubarb. Skip the strawberries.\",\n",
    "             persistent_hint=True,\n",
    "             row=True,\n",
    "             children=[\n",
    "                 v.Radio(label='apple', value='apple'),\n",
    "                 v.Radio(label='rhubarb', value='rhubarb'),\n",
    "                 v.Radio(label='blueberry', value='blueberry'),\n",
    "                 v.Radio(label='pumpkin', value='pumpkin'),\n",
    "                 v.Radio(label='mock cherry', value='mock cherry')\n",
    "             ])\n"
   ]
  },
  {
   "cell_type": "markdown",
   "metadata": {
    "ExecuteTime": {
     "end_time": "2020-05-21T19:02:11.925118Z",
     "start_time": "2020-05-21T19:02:11.919590Z"
    }
   },
   "source": [
    "## Sliders\n",
    "\n",
    "Let's just show one example with the main options set; you can fiddle around with it to suit your needs/tastes"
   ]
  },
  {
   "cell_type": "code",
   "execution_count": 16,
   "metadata": {
    "ExecuteTime": {
     "end_time": "2020-05-25T14:25:16.917250Z",
     "start_time": "2020-05-25T14:25:16.889214Z"
    }
   },
   "outputs": [
    {
     "data": {
      "application/vnd.jupyter.widget-view+json": {
       "model_id": "2641807d9a2247f9b24a74f18c090bf6",
       "version_major": 2,
       "version_minor": 0
      },
      "text/plain": [
       "Slider(append_icon='mdi-biohazard', class_='mx-6 mt-8', hint='My Slider Hint', label='My Slider Name', loading…"
      ]
     },
     "metadata": {},
     "output_type": "display_data"
    }
   ],
   "source": [
    "v.Slider(label='My Slider Name',\n",
    "         hint='My Slider Hint',\n",
    "         append_icon='mdi-biohazard',\n",
    "         vertical=False,\n",
    "         persistent_hint=True,\n",
    "         min=0,\n",
    "         max=100,\n",
    "         loading=False,\n",
    "         step=10,\n",
    "         thumb_size=24,\n",
    "         tick_size=4,\n",
    "         class_='mx-6 mt-8',\n",
    "         thumb_label=True,\n",
    "         tick_labels=list(range(0, 110, 10)),\n",
    "         ticks=True)"
   ]
  },
  {
   "cell_type": "markdown",
   "metadata": {},
   "source": [
    "## Range Slider\n",
    "\n",
    "Just like a slider, but has a min and a max value that can be set/fetched in the v_model property."
   ]
  },
  {
   "cell_type": "code",
   "execution_count": 17,
   "metadata": {
    "ExecuteTime": {
     "end_time": "2020-05-25T14:25:16.972018Z",
     "start_time": "2020-05-25T14:25:16.922309Z"
    }
   },
   "outputs": [
    {
     "data": {
      "application/vnd.jupyter.widget-view+json": {
       "model_id": "506cac077a04421d8105f602ec134744",
       "version_major": 2,
       "version_minor": 0
      },
      "text/plain": [
       "RangeSlider(class_='mx-6 mt-8', hint='My Range Slider Hint', label='My Range Slider Name', max=100.0, min=0.0,…"
      ]
     },
     "metadata": {},
     "output_type": "display_data"
    }
   ],
   "source": [
    "my_range_slider = v.RangeSlider(label='My Range Slider Name',\n",
    "              hint='My Range Slider Hint',\n",
    "              min=0,\n",
    "              max=100,\n",
    "              thumb_size=24,\n",
    "              class_='mx-6 mt-8',\n",
    "              v_model=[40, 60],\n",
    "              thumb_label = 'always')\n",
    "\n",
    "my_range_slider"
   ]
  },
  {
   "cell_type": "code",
   "execution_count": 18,
   "metadata": {
    "ExecuteTime": {
     "end_time": "2020-05-25T14:25:17.003465Z",
     "start_time": "2020-05-25T14:25:16.985304Z"
    }
   },
   "outputs": [
    {
     "data": {
      "text/plain": [
       "[40, 60]"
      ]
     },
     "execution_count": 18,
     "metadata": {},
     "output_type": "execute_result"
    }
   ],
   "source": [
    "my_range_slider.v_model"
   ]
  },
  {
   "cell_type": "markdown",
   "metadata": {},
   "source": [
    "## Dropdown\n",
    "\n",
    "Dropdowns are pretty straightforward, and very flexible.\n",
    "\n",
    "Check out the [vuetify documetation](https://vuetifyjs.com/en/components/selects/) for a detailed introduction.\n",
    "\n",
    "The default dropdown lets you choose one option."
   ]
  },
  {
   "cell_type": "code",
   "execution_count": 19,
   "metadata": {
    "ExecuteTime": {
     "end_time": "2020-05-25T14:25:17.057708Z",
     "start_time": "2020-05-25T14:25:17.014187Z"
    }
   },
   "outputs": [
    {
     "data": {
      "application/vnd.jupyter.widget-view+json": {
       "model_id": "54e6522af7274b239f5e558e12fda131",
       "version_major": 2,
       "version_minor": 0
      },
      "text/plain": [
       "Select(autofocus=False, chips=False, class_='ma-4', clearable=False, color='primary', dark=False, deletable_ch…"
      ]
     },
     "metadata": {},
     "output_type": "display_data"
    }
   ],
   "source": [
    "v.Select(class_='ma-4',\n",
    "         autofocus=False,\n",
    "         label='Dropdown Label',\n",
    "         chips=False,\n",
    "         deletable_chips=False,\n",
    "         clearable=False,\n",
    "         color='primary',\n",
    "         dark=False,\n",
    "         dense=True,\n",
    "         hint='Helpful hint',\n",
    "         items=['one','two','three','four'],\n",
    "         v_model='one'\n",
    ")"
   ]
  },
  {
   "cell_type": "markdown",
   "metadata": {},
   "source": [
    "You can have a different display value for the dropdown options, to make them more descriptive by making the `items` argument a list of dicts with `text` and `value` keys:"
   ]
  },
  {
   "cell_type": "code",
   "execution_count": 20,
   "metadata": {
    "ExecuteTime": {
     "end_time": "2020-05-25T14:25:17.110287Z",
     "start_time": "2020-05-25T14:25:17.068151Z"
    }
   },
   "outputs": [
    {
     "data": {
      "application/vnd.jupyter.widget-view+json": {
       "model_id": "cd47b66c18bd40a390e73a80a0686521",
       "version_major": 2,
       "version_minor": 0
      },
      "text/plain": [
       "Select(autofocus=False, chips=False, class_='ma-4', clearable=False, color='primary', dark=False, deletable_ch…"
      ]
     },
     "metadata": {},
     "output_type": "display_data"
    }
   ],
   "source": [
    "test = v.Select(class_='ma-4',\n",
    "         autofocus=False,\n",
    "         label='Dropdown Label',\n",
    "         chips=False,\n",
    "         deletable_chips=False,\n",
    "         clearable=False,\n",
    "         color='primary',\n",
    "         dark=False,\n",
    "         dense=True,\n",
    "         hint='Helpful hint',\n",
    "         filled=True,\n",
    "         items=[{'text':'one is more descriptive','value':'one'},\n",
    "               {'text':'two is more descriptive','value':'two'},\n",
    "               {'text':'three is more descriptive','value':'three'},\n",
    "               {'text':'four is more descriptive','value':'four'}],\n",
    "         v_model='one'\n",
    ")\n",
    "test\n"
   ]
  },
  {
   "cell_type": "code",
   "execution_count": 21,
   "metadata": {
    "ExecuteTime": {
     "end_time": "2020-05-25T14:25:17.127314Z",
     "start_time": "2020-05-25T14:25:17.113108Z"
    }
   },
   "outputs": [
    {
     "data": {
      "text/plain": [
       "'one'"
      ]
     },
     "execution_count": 21,
     "metadata": {},
     "output_type": "execute_result"
    }
   ],
   "source": [
    "test.v_model"
   ]
  },
  {
   "cell_type": "markdown",
   "metadata": {},
   "source": [
    "You can also have a dropdown that lets you select more than one choice. \n",
    "\n",
    "If you are setting the default value (`v_model`), be sure you make it an array rather than a string:"
   ]
  },
  {
   "cell_type": "code",
   "execution_count": 22,
   "metadata": {
    "ExecuteTime": {
     "end_time": "2020-05-25T14:25:17.176670Z",
     "start_time": "2020-05-25T14:25:17.130461Z"
    }
   },
   "outputs": [
    {
     "data": {
      "application/vnd.jupyter.widget-view+json": {
       "model_id": "2530044c211f49e7b910701e45bdf271",
       "version_major": 2,
       "version_minor": 0
      },
      "text/plain": [
       "Select(chips=True, class_='ma-4', clearable=True, color='primary', deletable_chips=True, hint='Helpful hint', …"
      ]
     },
     "metadata": {},
     "output_type": "display_data"
    }
   ],
   "source": [
    "v.Select(class_='ma-4',\n",
    "         multiple=True,\n",
    "         label='Multi select dropdown',\n",
    "         chips=True,\n",
    "         deletable_chips=True,\n",
    "         clearable=True,\n",
    "         outlined=True,\n",
    "         color='primary',\n",
    "         hint='Helpful hint',\n",
    "         persistent_hint=True,\n",
    "         items=['one','two','three','four'],\n",
    "         v_model=['one']\n",
    ")"
   ]
  },
  {
   "cell_type": "markdown",
   "metadata": {},
   "source": [
    "## Combobox\n",
    "\n",
    "A combobox is similar to a dropdown, but it also lets you type to search through the items and also *create* items."
   ]
  },
  {
   "cell_type": "code",
   "execution_count": 23,
   "metadata": {
    "ExecuteTime": {
     "end_time": "2020-05-25T14:25:17.210521Z",
     "start_time": "2020-05-25T14:25:17.185160Z"
    }
   },
   "outputs": [
    {
     "data": {
      "application/vnd.jupyter.widget-view+json": {
       "model_id": "a76f549ccfde4433965851461dd5d8ef",
       "version_major": 2,
       "version_minor": 0
      },
      "text/plain": [
       "Combobox(auto_select_first=False, chips=True, class_='ma-4', clearable=True, hide_selected=True, hint='Helpful…"
      ]
     },
     "metadata": {},
     "output_type": "display_data"
    }
   ],
   "source": [
    "v.Combobox(\n",
    "    class_='ma-4',\n",
    "    multiple=True,\n",
    "    label='Combobox example',\n",
    "    placeholder='My placeholder',\n",
    "    chips=True,\n",
    "    clearable=True,\n",
    "    hint='Helpful hint',\n",
    "    persistent_hint=True,\n",
    "    hide_selected=True,\n",
    "    items=['one', 'two', 'three', 'four'],\n",
    "    auto_select_first=False,\n",
    "    v_model=[],\n",
    ")"
   ]
  },
  {
   "cell_type": "markdown",
   "metadata": {},
   "source": [
    "You can also display a message to let the user know they can create an item if the item they are typing does not exist, like this:"
   ]
  },
  {
   "cell_type": "code",
   "execution_count": 24,
   "metadata": {
    "ExecuteTime": {
     "end_time": "2020-05-25T14:25:17.300257Z",
     "start_time": "2020-05-25T14:25:17.214757Z"
    }
   },
   "outputs": [
    {
     "data": {
      "application/vnd.jupyter.widget-view+json": {
       "model_id": "495a161b065a4efca3ec8a854177478a",
       "version_major": 2,
       "version_minor": 0
      },
      "text/plain": [
       "Combobox(auto_select_first=False, chips=True, class_='ma-4', clearable=True, color='primary', deletable_chips=…"
      ]
     },
     "metadata": {},
     "output_type": "display_data"
    }
   ],
   "source": [
    "v.Combobox(\n",
    "    class_='ma-4',\n",
    "    solo=True,\n",
    "    multiple=True,\n",
    "    label='Combobox example',\n",
    "    chips=True,\n",
    "    deletable_chips=True,\n",
    "    clearable=True,\n",
    "    color='primary',\n",
    "    hint='Helpful hint',\n",
    "    persistent_hint=True,\n",
    "    hide_selected=True,\n",
    "    items=['one', 'two', 'three', 'four'],\n",
    "    auto_select_first=False,\n",
    "    v_model=['one'],\n",
    "    v_slots=[{\n",
    "        'name':\n",
    "        'no-data',\n",
    "        'children':\n",
    "        v.ListItem(children=[\n",
    "            v.ListItemContent(children=[\n",
    "                v.ListItemTitle(\n",
    "                    children=['Your search returned no items. Press Enter to create a new one'])\n",
    "            ])\n",
    "        ])\n",
    "    }],\n",
    ")"
   ]
  },
  {
   "cell_type": "markdown",
   "metadata": {},
   "source": [
    "Setting `auto_select_first` to true seems to disable the functionality to create new items, give it a try:"
   ]
  },
  {
   "cell_type": "code",
   "execution_count": 25,
   "metadata": {
    "ExecuteTime": {
     "end_time": "2020-05-25T14:25:17.333811Z",
     "start_time": "2020-05-25T14:25:17.303389Z"
    }
   },
   "outputs": [
    {
     "data": {
      "application/vnd.jupyter.widget-view+json": {
       "model_id": "bd43ee34df1849f683a890fae20e9f15",
       "version_major": 2,
       "version_minor": 0
      },
      "text/plain": [
       "Combobox(auto_select_first=True, chips=True, class_='ma-4', clearable=True, color='primary', deletable_chips=T…"
      ]
     },
     "metadata": {},
     "output_type": "display_data"
    }
   ],
   "source": [
    "test = v.Combobox(class_='ma-4',\n",
    "           filled=True,\n",
    "           multiple=True,\n",
    "           label='Combobox example',\n",
    "           placeholder='My placeholder',\n",
    "           chips=True,\n",
    "           deletable_chips=True,\n",
    "           clearable=True,\n",
    "           color='primary',\n",
    "           hint='Helpful hint',\n",
    "           persistent_hint=True,\n",
    "           items=['one', 'two', 'three', 'four'],\n",
    "           auto_select_first=True,\n",
    "           v_model=[]\n",
    ")\n",
    "test"
   ]
  },
  {
   "cell_type": "markdown",
   "metadata": {},
   "source": [
    "## Next Steps"
   ]
  },
  {
   "cell_type": "markdown",
   "metadata": {},
   "source": [
    "Whew ! That was a fairly exhausting introduction to input widgets.\n",
    "\n",
    "We will look at text input boxes in detail next..."
   ]
  }
 ],
 "metadata": {
  "kernelspec": {
   "display_name": "Python (ipyvuetify_tutorial)",
   "language": "python",
   "name": "ipyvuetify_tutorial"
  },
  "language_info": {
   "codemirror_mode": {
    "name": "ipython",
    "version": 3
   },
   "file_extension": ".py",
   "mimetype": "text/x-python",
   "name": "python",
   "nbconvert_exporter": "python",
   "pygments_lexer": "ipython3",
   "version": "3.8.3"
  }
 },
 "nbformat": 4,
 "nbformat_minor": 4
}
