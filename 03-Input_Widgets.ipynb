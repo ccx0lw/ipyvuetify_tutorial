{
 "cells": [
  {
   "cell_type": "markdown",
   "metadata": {},
   "source": [
    "# ipyvuetify Tutorial 03 - Input Widgets\n",
    "\n",
    "This is the third in a series of ipyvuetify app development tutorials. If you're just getting started with ipyvuetify and haven't checked out the first tutorial \"01 Installation and First Steps.ipynb\", be sure to check that one out first.\n",
    "\n",
    "In this notebook we will cover many input widgets:\n",
    "\n",
    "* Checkbox\n",
    "* Switch\n",
    "* Radio buttons\n",
    "* Sliders\n",
    "* Dropdowns\n",
    "* Comboboxes\n",
    "\n",
    "We are **not** covering text inputs or buttons - we'll cover those later!\n",
    "\n",
    "First of all, we'll load the required packages, and test to make sure your environment has all the dependencies set-up successfully:"
   ]
  },
  {
   "cell_type": "code",
   "execution_count": 1,
   "metadata": {
    "ExecuteTime": {
     "end_time": "2020-05-22T11:10:21.899473Z",
     "start_time": "2020-05-22T11:10:21.702599Z"
    }
   },
   "outputs": [
    {
     "data": {
      "application/vnd.jupyter.widget-view+json": {
       "model_id": "f0c45579b4ac4d03b2d6024420e811b0",
       "version_major": 2,
       "version_minor": 0
      },
      "text/plain": [
       "Btn(children=[Icon(children=['mdi-check'])], class_='icon ma-2', color='success', style_='max-width:100px')"
      ]
     },
     "metadata": {},
     "output_type": "display_data"
    }
   ],
   "source": [
    "from time import sleep\n",
    "import ipyvuetify as v\n",
    "import ipywidgets as widgets\n",
    "import markdown\n",
    "\n",
    "v.Btn(class_='icon ma-2',\n",
    "      style_='max-width:100px',\n",
    "      color='success',\n",
    "      children=[v.Icon(children=['mdi-check'])])"
   ]
  },
  {
   "cell_type": "markdown",
   "metadata": {},
   "source": [
    "\n",
    "If you see a green button with a checkmark above, you have successfully installed ipyvuetify and enabled the extension. Good work!\n",
    "\n",
    "If not, refer to the first tutorial and/or the ipyvuetify documentation to set up your system before going further."
   ]
  },
  {
   "cell_type": "markdown",
   "metadata": {
    "ExecuteTime": {
     "end_time": "2020-05-21T17:51:49.192708Z",
     "start_time": "2020-05-21T17:51:49.188429Z"
    }
   },
   "source": [
    "## v.Checkbox()\n",
    "\n",
    "Probably the simplest type of user input is the checkbox:"
   ]
  },
  {
   "cell_type": "code",
   "execution_count": 2,
   "metadata": {
    "ExecuteTime": {
     "end_time": "2020-05-22T11:10:21.911912Z",
     "start_time": "2020-05-22T11:10:21.901613Z"
    }
   },
   "outputs": [
    {
     "data": {
      "application/vnd.jupyter.widget-view+json": {
       "model_id": "35bef9feca06432aba919e479a468151",
       "version_major": 2,
       "version_minor": 0
      },
      "text/plain": [
       "Checkbox(label='My Checkbox Label')"
      ]
     },
     "metadata": {},
     "output_type": "display_data"
    }
   ],
   "source": [
    "v.Checkbox(label='My Checkbox Label')"
   ]
  },
  {
   "cell_type": "markdown",
   "metadata": {},
   "source": [
    "As you can see from the example above, the description text is set by the `label` argument.\n",
    "\n",
    "The value of the checkbox is set (and accessed, as we will see next) through the `v_model` property (which is like the `value` property in `ipywidgets`). This is how you create a checkbox that is checked by default:"
   ]
  },
  {
   "cell_type": "code",
   "execution_count": 3,
   "metadata": {
    "ExecuteTime": {
     "end_time": "2020-05-22T11:10:21.924877Z",
     "start_time": "2020-05-22T11:10:21.914004Z"
    }
   },
   "outputs": [
    {
     "data": {
      "application/vnd.jupyter.widget-view+json": {
       "model_id": "b2c67a41cfd744439b0ad810ba2efe26",
       "version_major": 2,
       "version_minor": 0
      },
      "text/plain": [
       "Checkbox(label='My Checkbox Label', v_model=True)"
      ]
     },
     "metadata": {},
     "output_type": "display_data"
    }
   ],
   "source": [
    "v.Checkbox(label='My Checkbox Label', v_model=True)"
   ]
  },
  {
   "cell_type": "markdown",
   "metadata": {},
   "source": [
    "To actually do something with the value of the checkbox, we assign it to a variable, and then can access the value with the `v_model` property:"
   ]
  },
  {
   "cell_type": "code",
   "execution_count": 4,
   "metadata": {
    "ExecuteTime": {
     "end_time": "2020-05-22T11:10:21.941255Z",
     "start_time": "2020-05-22T11:10:21.926724Z"
    }
   },
   "outputs": [
    {
     "data": {
      "application/vnd.jupyter.widget-view+json": {
       "model_id": "197243632729484587280b5b9039edfa",
       "version_major": 2,
       "version_minor": 0
      },
      "text/plain": [
       "Checkbox(label='My Checkbox Label', v_model=False)"
      ]
     },
     "metadata": {},
     "output_type": "display_data"
    }
   ],
   "source": [
    "mycheckbox = v.Checkbox(label='My Checkbox Label', v_model=False)\n",
    "mycheckbox"
   ]
  },
  {
   "cell_type": "code",
   "execution_count": 5,
   "metadata": {
    "ExecuteTime": {
     "end_time": "2020-05-22T11:10:21.958852Z",
     "start_time": "2020-05-22T11:10:21.943966Z"
    }
   },
   "outputs": [
    {
     "data": {
      "text/plain": [
       "False"
      ]
     },
     "execution_count": 5,
     "metadata": {},
     "output_type": "execute_result"
    }
   ],
   "source": [
    "mycheckbox.v_model"
   ]
  },
  {
   "cell_type": "markdown",
   "metadata": {},
   "source": [
    "Try checking the checkbox, and then re-executing the above cell. \n",
    "\n",
    "Notice that the value of the `v_model` property has changed from False to True.\n",
    "\n",
    "You can also do this programatically (keep an eye on the checkbox above):"
   ]
  },
  {
   "cell_type": "code",
   "execution_count": 6,
   "metadata": {
    "ExecuteTime": {
     "end_time": "2020-05-22T11:10:24.987881Z",
     "start_time": "2020-05-22T11:10:21.967414Z"
    }
   },
   "outputs": [],
   "source": [
    "mycheckbox.v_model = True\n",
    "sleep(1)\n",
    "mycheckbox.v_model = False\n",
    "sleep(1)\n",
    "mycheckbox.v_model = True\n",
    "sleep(1)\n",
    "mycheckbox.v_model = False"
   ]
  },
  {
   "cell_type": "markdown",
   "metadata": {
    "ExecuteTime": {
     "end_time": "2020-05-21T18:01:51.980710Z",
     "start_time": "2020-05-21T18:01:51.973306Z"
    }
   },
   "source": [
    "### Customizing the appearence of a `v.Checkbox`\n",
    "\n",
    "Next we will customize the look of our checkbox.\n",
    "\n",
    "For an extensive description, again, see the [vuetify.js documentation](https://vuetifyjs.com/en/components/selection-controls/).\n",
    "\n",
    "You can display a 'hint' to help users understand what your checkbox is all about:"
   ]
  },
  {
   "cell_type": "code",
   "execution_count": 7,
   "metadata": {
    "ExecuteTime": {
     "end_time": "2020-05-22T11:10:25.066376Z",
     "start_time": "2020-05-22T11:10:24.999244Z"
    }
   },
   "outputs": [
    {
     "data": {
      "application/vnd.jupyter.widget-view+json": {
       "model_id": "8bc8b48cfd1443fa8f7f5fe6e08547c4",
       "version_major": 2,
       "version_minor": 0
      },
      "text/plain": [
       "Checkbox(class_='pa-4', hint='Read me if you need some help deciding whether to check me or not...', label='My…"
      ]
     },
     "metadata": {},
     "output_type": "display_data"
    }
   ],
   "source": [
    "v.Checkbox(\n",
    "    class_='pa-4',\n",
    "    label='My Checkbox Label',\n",
    "    persistent_hint=True,\n",
    "    hint='Read me if you need some help deciding whether to check me or not...'\n",
    ")"
   ]
  },
  {
   "cell_type": "markdown",
   "metadata": {},
   "source": [
    "Setting `dense=True` makes it take up a bit less vertical space, and you can set the colour, too:"
   ]
  },
  {
   "cell_type": "code",
   "execution_count": 8,
   "metadata": {
    "ExecuteTime": {
     "end_time": "2020-05-22T11:10:25.123002Z",
     "start_time": "2020-05-22T11:10:25.086982Z"
    }
   },
   "outputs": [
    {
     "data": {
      "application/vnd.jupyter.widget-view+json": {
       "model_id": "c5eac1e34b794e3187440967c604fb87",
       "version_major": 2,
       "version_minor": 0
      },
      "text/plain": [
       "Checkbox(class_='pa-1', color='error', dense=True, hint='Read me if you need some help deciding whether to che…"
      ]
     },
     "metadata": {},
     "output_type": "display_data"
    }
   ],
   "source": [
    "v.Checkbox(\n",
    "    dense=True,\n",
    "    color='error',\n",
    "    class_='pa-1',\n",
    "    label='My Checkbox Label',\n",
    "    v_model=True,\n",
    "    persistent_hint=True,\n",
    "    hint='Read me if you need some help deciding whether to check me or not...'\n",
    ")"
   ]
  },
  {
   "cell_type": "markdown",
   "metadata": {},
   "source": [
    "You can set a background colour, if you want to, and change the `theme` to dark"
   ]
  },
  {
   "cell_type": "code",
   "execution_count": 9,
   "metadata": {
    "ExecuteTime": {
     "end_time": "2020-05-22T11:10:25.171911Z",
     "start_time": "2020-05-22T11:10:25.126429Z"
    }
   },
   "outputs": [
    {
     "data": {
      "application/vnd.jupyter.widget-view+json": {
       "model_id": "2f930b0d0caa4fedb20439db048aa32e",
       "version_major": 2,
       "version_minor": 0
      },
      "text/plain": [
       "Checkbox(background_color='primary', class_='pa-4', dark=True, label='My Checkbox Label')"
      ]
     },
     "metadata": {},
     "output_type": "display_data"
    }
   ],
   "source": [
    "v.Checkbox(\n",
    "    background_color='primary',\n",
    "    dark=True,\n",
    "    class_='pa-4',\n",
    "    label='My Checkbox Label'\n",
    ")"
   ]
  },
  {
   "cell_type": "markdown",
   "metadata": {},
   "source": [
    "Another nice feature is the ability to prepend or append an icon. Here I prepend and append icons, as well as putting it in a row with a spacer at the end.\n",
    "\n",
    "See the [Material Design Icons](https://cdn.materialdesignicons.com/4.5.95/) page for a full list of available icons."
   ]
  },
  {
   "cell_type": "code",
   "execution_count": 10,
   "metadata": {
    "ExecuteTime": {
     "end_time": "2020-05-22T11:10:25.228325Z",
     "start_time": "2020-05-22T11:10:25.182173Z"
    }
   },
   "outputs": [
    {
     "data": {
      "application/vnd.jupyter.widget-view+json": {
       "model_id": "6cafca85daad49a5bf802eeab6f32d53",
       "version_major": 2,
       "version_minor": 0
      },
      "text/plain": [
       "Row(children=[Checkbox(append_icon='mdi-trash-can', class_='pa-4', label='My Checkbox Label', prepend_icon='md…"
      ]
     },
     "metadata": {},
     "output_type": "display_data"
    }
   ],
   "source": [
    "v.Row(children=[\n",
    "    v.Checkbox(class_='pa-4',\n",
    "               v_model = True,\n",
    "               label='My Checkbox Label',\n",
    "               prepend_icon='mdi-recycle',\n",
    "               append_icon='mdi-trash-can'),\n",
    "    v.Spacer()\n",
    "])"
   ]
  },
  {
   "cell_type": "markdown",
   "metadata": {},
   "source": [
    "Wowee that was a lot of info about checkboxes.\n",
    "\n",
    "But most of the things we just played around with apply to the other input types:\n",
    "\n",
    "* You access or set the value of an input with the `v_model` property\n",
    "* Inputs have both a label and a hint that can be set.\n",
    "* You can prepend or append an icon.\n",
    "* You can change the colour\n",
    "\n",
    "An alternative to a checkbox, that is functionally the same is the `v.Switch`"
   ]
  },
  {
   "cell_type": "markdown",
   "metadata": {
    "ExecuteTime": {
     "end_time": "2020-05-21T18:30:21.357133Z",
     "start_time": "2020-05-21T18:30:21.334419Z"
    }
   },
   "source": [
    "## `v.Switch()`\n",
    "\n",
    "`v.Switch()` is just like a checkbox; the `v_model` is either `True` or `False`, but it has a different look and feel (and some different customization options) that you may prefer:"
   ]
  },
  {
   "cell_type": "code",
   "execution_count": 11,
   "metadata": {
    "ExecuteTime": {
     "end_time": "2020-05-22T11:10:25.277172Z",
     "start_time": "2020-05-22T11:10:25.235590Z"
    }
   },
   "outputs": [
    {
     "data": {
      "application/vnd.jupyter.widget-view+json": {
       "model_id": "aaf0cb50b6334348b40d780b0694d149",
       "version_major": 2,
       "version_minor": 0
      },
      "text/plain": [
       "Switch(label='My Checkbox Label', v_model=True)"
      ]
     },
     "metadata": {},
     "output_type": "display_data"
    }
   ],
   "source": [
    "myswitch = v.Switch(label='My Checkbox Label', v_model=True)\n",
    "myswitch"
   ]
  },
  {
   "cell_type": "markdown",
   "metadata": {},
   "source": [
    "Just like with the checkbox, you can access (and set!) the value of the switch with the `v_model` property:"
   ]
  },
  {
   "cell_type": "code",
   "execution_count": 12,
   "metadata": {
    "ExecuteTime": {
     "end_time": "2020-05-22T11:10:25.288152Z",
     "start_time": "2020-05-22T11:10:25.280618Z"
    }
   },
   "outputs": [
    {
     "data": {
      "text/plain": [
       "True"
      ]
     },
     "execution_count": 12,
     "metadata": {},
     "output_type": "execute_result"
    }
   ],
   "source": [
    "myswitch.v_model"
   ]
  },
  {
   "cell_type": "code",
   "execution_count": 13,
   "metadata": {
    "ExecuteTime": {
     "end_time": "2020-05-22T11:10:25.327989Z",
     "start_time": "2020-05-22T11:10:25.291338Z"
    }
   },
   "outputs": [
    {
     "data": {
      "application/vnd.jupyter.widget-view+json": {
       "model_id": "51a838a6d85a4592808f4e6a63d84a82",
       "version_major": 2,
       "version_minor": 0
      },
      "text/plain": [
       "Switch(class_='pa-2', color='warning', hint='Read me if you need some help deciding whether to check me or not…"
      ]
     },
     "metadata": {},
     "output_type": "display_data"
    }
   ],
   "source": [
    "v.Switch(\n",
    "    label='My Checkbox Label',\n",
    "    class_='pa-2',\n",
    "    inset=True,\n",
    "    color='warning',\n",
    "    v_model=True,\n",
    "    persistent_hint=True,\n",
    "    hint='Read me if you need some help deciding whether to check me or not...'\n",
    ")"
   ]
  },
  {
   "cell_type": "markdown",
   "metadata": {},
   "source": [
    "There are lots of things I haven't covered here (largely because I haven't figured them out yet...) that are pretty cool, like [chip groups](https://vuetifyjs.com/en/components/item-groups/#chips) and [checkbox arrays](https://vuetifyjs.com/en/components/selection-controls/#checkboxes-array), but we've learned enough about checkboxes and switches to be getting on with.\n",
    "\n",
    "Next, let's look at radio buttons..."
   ]
  },
  {
   "cell_type": "markdown",
   "metadata": {
    "ExecuteTime": {
     "end_time": "2020-05-21T18:53:29.647539Z",
     "start_time": "2020-05-21T18:53:29.644617Z"
    }
   },
   "source": [
    "## Radio Buttons"
   ]
  },
  {
   "cell_type": "code",
   "execution_count": 14,
   "metadata": {
    "ExecuteTime": {
     "end_time": "2020-05-22T11:10:25.424808Z",
     "start_time": "2020-05-22T11:10:25.331177Z"
    }
   },
   "outputs": [
    {
     "data": {
      "application/vnd.jupyter.widget-view+json": {
       "model_id": "b1278bab7fb249b2a137634ee34bd5b2",
       "version_major": 2,
       "version_minor": 0
      },
      "text/plain": [
       "RadioGroup(children=[Radio(label='apple', value='apple'), Radio(label='rhubarb', value='rhubarb'), Radio(label…"
      ]
     },
     "metadata": {},
     "output_type": "display_data"
    }
   ],
   "source": [
    "favourite_pie_type = v.RadioGroup(class_='px-2 my-0 py-2',\n",
    "             v_model='rhubarb',\n",
    "             label = \"What's your favourite type of pie?\",\n",
    "             children=[\n",
    "                 v.Radio(label='apple', value='apple'),\n",
    "                 v.Radio(label='rhubarb', value='rhubarb'),\n",
    "                 v.Radio(label='blueberry', value='blueberry'),\n",
    "                 v.Radio(label='pumpkin', value='pumpkin'),\n",
    "                 v.Radio(label='mock cherry', value='mock cherry')\n",
    "             ])\n",
    "favourite_pie_type"
   ]
  },
  {
   "cell_type": "markdown",
   "metadata": {},
   "source": [
    "Just like before, we get and/or set the value of the checkbox input with the `v_model` input. "
   ]
  },
  {
   "cell_type": "markdown",
   "metadata": {
    "ExecuteTime": {
     "end_time": "2020-05-21T18:57:43.731399Z",
     "start_time": "2020-05-21T18:57:43.711233Z"
    }
   },
   "source": [
    "favourite_pie_type.v_model"
   ]
  },
  {
   "cell_type": "markdown",
   "metadata": {},
   "source": [
    "You can display a hint in the same was as before, too.\n",
    "\n",
    "You can display the options in a row instead of in a column by setting the `row` value to True:"
   ]
  },
  {
   "cell_type": "code",
   "execution_count": 15,
   "metadata": {
    "ExecuteTime": {
     "end_time": "2020-05-22T11:10:25.521485Z",
     "start_time": "2020-05-22T11:10:25.433287Z"
    }
   },
   "outputs": [
    {
     "data": {
      "application/vnd.jupyter.widget-view+json": {
       "model_id": "61ffa1f1e7d04baab67119f4abb06b20",
       "version_major": 2,
       "version_minor": 0
      },
      "text/plain": [
       "RadioGroup(children=[Radio(label='apple', value='apple'), Radio(label='rhubarb', value='rhubarb'), Radio(label…"
      ]
     },
     "metadata": {},
     "output_type": "display_data"
    }
   ],
   "source": [
    "v.RadioGroup(class_='px-2 my-0 py-2',\n",
    "             v_model='rhubarb',\n",
    "             label = \"What's your favourite type of pie?\",\n",
    "             hint = \"I'm sure it's rhubarb. Skip the strawberries.\",\n",
    "             persistent_hint=True,\n",
    "             row=True,\n",
    "             children=[\n",
    "                 v.Radio(label='apple', value='apple'),\n",
    "                 v.Radio(label='rhubarb', value='rhubarb'),\n",
    "                 v.Radio(label='blueberry', value='blueberry'),\n",
    "                 v.Radio(label='pumpkin', value='pumpkin'),\n",
    "                 v.Radio(label='mock cherry', value='mock cherry')\n",
    "             ])\n"
   ]
  },
  {
   "cell_type": "markdown",
   "metadata": {
    "ExecuteTime": {
     "end_time": "2020-05-21T19:02:11.925118Z",
     "start_time": "2020-05-21T19:02:11.919590Z"
    }
   },
   "source": [
    "## Sliders\n",
    "\n",
    "Let's just show one example with the main options set; you can fiddle around with it to suit your needs/tastes"
   ]
  },
  {
   "cell_type": "code",
   "execution_count": 16,
   "metadata": {
    "ExecuteTime": {
     "end_time": "2020-05-22T11:10:25.556320Z",
     "start_time": "2020-05-22T11:10:25.524246Z"
    }
   },
   "outputs": [
    {
     "data": {
      "application/vnd.jupyter.widget-view+json": {
       "model_id": "2b380699d3884c0baa03e94a29f0fad2",
       "version_major": 2,
       "version_minor": 0
      },
      "text/plain": [
       "Slider(append_icon='mdi-biohazard', class_='mx-6 mt-8', hint='My Slider Hint', label='My Slider Name', loading…"
      ]
     },
     "metadata": {},
     "output_type": "display_data"
    }
   ],
   "source": [
    "v.Slider(label='My Slider Name',\n",
    "         hint='My Slider Hint',\n",
    "         append_icon='mdi-biohazard',\n",
    "         vertical=False,\n",
    "         persistent_hint=True,\n",
    "         min=0,\n",
    "         max=100,\n",
    "         loading=False,\n",
    "         step=10,\n",
    "         thumb_size=24,\n",
    "         tick_size=4,\n",
    "         class_='mx-6 mt-8',\n",
    "         thumb_label=True,\n",
    "         tick_labels=list(range(0, 110, 10)),\n",
    "         ticks=True)"
   ]
  },
  {
   "cell_type": "markdown",
   "metadata": {},
   "source": [
    "## Range Slider\n",
    "\n",
    "Just like a slider, but has a min and a max value that can be set/fetched in the v_model property."
   ]
  },
  {
   "cell_type": "code",
   "execution_count": 17,
   "metadata": {
    "ExecuteTime": {
     "end_time": "2020-05-22T11:10:25.574121Z",
     "start_time": "2020-05-22T11:10:25.558785Z"
    }
   },
   "outputs": [
    {
     "data": {
      "application/vnd.jupyter.widget-view+json": {
       "model_id": "5f1acbc823834a85b43a2ff0dd7042d4",
       "version_major": 2,
       "version_minor": 0
      },
      "text/plain": [
       "RangeSlider(class_='mx-6 mt-8', hint='My Range Slider Hint', label='My Range Slider Name', max=100.0, min=0.0,…"
      ]
     },
     "metadata": {},
     "output_type": "display_data"
    }
   ],
   "source": [
    "my_range_slider = v.RangeSlider(label='My Range Slider Name',\n",
    "              hint='My Range Slider Hint',\n",
    "              min=0,\n",
    "              max=100,\n",
    "              thumb_size=24,\n",
    "              class_='mx-6 mt-8',\n",
    "              v_model=[40, 60],\n",
    "              thumb_label = 'always')\n",
    "\n",
    "my_range_slider"
   ]
  },
  {
   "cell_type": "code",
   "execution_count": 18,
   "metadata": {
    "ExecuteTime": {
     "end_time": "2020-05-22T11:10:25.582047Z",
     "start_time": "2020-05-22T11:10:25.577635Z"
    }
   },
   "outputs": [
    {
     "data": {
      "text/plain": [
       "[40, 60]"
      ]
     },
     "execution_count": 18,
     "metadata": {},
     "output_type": "execute_result"
    }
   ],
   "source": [
    "my_range_slider.v_model"
   ]
  },
  {
   "cell_type": "markdown",
   "metadata": {},
   "source": [
    "## Dropdown\n",
    "\n",
    "Dropdowns are pretty straightforward, and very flexible.\n",
    "\n",
    "Check out the [vuetify documetation](https://vuetifyjs.com/en/components/selects/) for a detailed introduction.\n",
    "\n",
    "The default dropdown lets you choose one option."
   ]
  },
  {
   "cell_type": "code",
   "execution_count": 19,
   "metadata": {
    "ExecuteTime": {
     "end_time": "2020-05-22T11:10:25.606459Z",
     "start_time": "2020-05-22T11:10:25.584437Z"
    }
   },
   "outputs": [
    {
     "data": {
      "application/vnd.jupyter.widget-view+json": {
       "model_id": "bc1ca9536a4d47c19c4e859e0ffb5c9c",
       "version_major": 2,
       "version_minor": 0
      },
      "text/plain": [
       "Select(autofocus=False, chips=False, class_='ma-4', clearable=False, color='primary', dark=False, deletable_ch…"
      ]
     },
     "metadata": {},
     "output_type": "display_data"
    }
   ],
   "source": [
    "v.Select(class_='ma-4',\n",
    "         autofocus=False,\n",
    "         label='Dropdown Label',\n",
    "         chips=False,\n",
    "         deletable_chips=False,\n",
    "         clearable=False,\n",
    "         color='primary',\n",
    "         dark=False,\n",
    "         dense=True,\n",
    "         hint='Helpful hint',\n",
    "         items=['one','two','three','four'],\n",
    "         v_model='one'\n",
    ")"
   ]
  },
  {
   "cell_type": "markdown",
   "metadata": {},
   "source": [
    "You can have a different display value for the dropdown options, to make them more descriptive by making the `items` argument a list of dicts with `text` and `value` keys:"
   ]
  },
  {
   "cell_type": "code",
   "execution_count": 20,
   "metadata": {
    "ExecuteTime": {
     "end_time": "2020-05-22T11:10:25.632282Z",
     "start_time": "2020-05-22T11:10:25.609964Z"
    }
   },
   "outputs": [
    {
     "data": {
      "application/vnd.jupyter.widget-view+json": {
       "model_id": "153575544e9b4a4e9c19e037d4dc5b63",
       "version_major": 2,
       "version_minor": 0
      },
      "text/plain": [
       "Select(autofocus=False, chips=False, class_='ma-4', clearable=False, color='primary', dark=False, deletable_ch…"
      ]
     },
     "metadata": {},
     "output_type": "display_data"
    }
   ],
   "source": [
    "test = v.Select(class_='ma-4',\n",
    "         autofocus=False,\n",
    "         label='Dropdown Label',\n",
    "         chips=False,\n",
    "         deletable_chips=False,\n",
    "         clearable=False,\n",
    "         color='primary',\n",
    "         dark=False,\n",
    "         dense=True,\n",
    "         hint='Helpful hint',\n",
    "         filled=True,\n",
    "         items=[{'text':'one is more descriptive','value':'one'},\n",
    "               {'text':'two is more descriptive','value':'two'},\n",
    "               {'text':'three is more descriptive','value':'three'},\n",
    "               {'text':'four is more descriptive','value':'four'}],\n",
    "         v_model='one'\n",
    ")\n",
    "test\n"
   ]
  },
  {
   "cell_type": "code",
   "execution_count": 21,
   "metadata": {
    "ExecuteTime": {
     "end_time": "2020-05-22T11:10:25.638751Z",
     "start_time": "2020-05-22T11:10:25.634151Z"
    }
   },
   "outputs": [
    {
     "data": {
      "text/plain": [
       "'one'"
      ]
     },
     "execution_count": 21,
     "metadata": {},
     "output_type": "execute_result"
    }
   ],
   "source": [
    "test.v_model"
   ]
  },
  {
   "cell_type": "markdown",
   "metadata": {},
   "source": [
    "You can also have a dropdown that lets you select more than one choice. \n",
    "\n",
    "If you are setting the default value (`v_model`), be sure you make it an array rather than a string:"
   ]
  },
  {
   "cell_type": "code",
   "execution_count": 22,
   "metadata": {
    "ExecuteTime": {
     "end_time": "2020-05-22T11:10:25.667128Z",
     "start_time": "2020-05-22T11:10:25.641141Z"
    }
   },
   "outputs": [
    {
     "data": {
      "application/vnd.jupyter.widget-view+json": {
       "model_id": "dbc43cbc10f845b39a4a654f89f87ffa",
       "version_major": 2,
       "version_minor": 0
      },
      "text/plain": [
       "Select(chips=True, class_='ma-4', clearable=True, color='primary', deletable_chips=True, hint='Helpful hint', …"
      ]
     },
     "metadata": {},
     "output_type": "display_data"
    }
   ],
   "source": [
    "v.Select(class_='ma-4',\n",
    "         multiple=True,\n",
    "         label='Multi select dropdown',\n",
    "         chips=True,\n",
    "         deletable_chips=True,\n",
    "         clearable=True,\n",
    "         outlined=True,\n",
    "         color='primary',\n",
    "         hint='Helpful hint',\n",
    "         persistent_hint=True,\n",
    "         items=['one','two','three','four'],\n",
    "         v_model=['one']\n",
    ")"
   ]
  },
  {
   "cell_type": "markdown",
   "metadata": {},
   "source": [
    "## Combobox\n",
    "\n",
    "A combobox is similar to a dropdown, but it also lets you type to search through the items and also *create* items."
   ]
  },
  {
   "cell_type": "code",
   "execution_count": 23,
   "metadata": {
    "ExecuteTime": {
     "end_time": "2020-05-22T11:10:25.694203Z",
     "start_time": "2020-05-22T11:10:25.674403Z"
    }
   },
   "outputs": [
    {
     "data": {
      "application/vnd.jupyter.widget-view+json": {
       "model_id": "01e4e01de4694510b34f355142fdbee9",
       "version_major": 2,
       "version_minor": 0
      },
      "text/plain": [
       "Combobox(auto_select_first=False, chips=True, class_='ma-4', clearable=True, hide_selected=True, hint='Helpful…"
      ]
     },
     "metadata": {},
     "output_type": "display_data"
    }
   ],
   "source": [
    "v.Combobox(\n",
    "    class_='ma-4',\n",
    "    multiple=True,\n",
    "    label='Combobox example',\n",
    "    chips=True,\n",
    "    clearable=True,\n",
    "    hint='Helpful hint',\n",
    "    persistent_hint=True,\n",
    "    hide_selected=True,\n",
    "    items=['one', 'two', 'three', 'four'],\n",
    "    auto_select_first=False,\n",
    "    v_model=[],\n",
    ")"
   ]
  },
  {
   "cell_type": "markdown",
   "metadata": {},
   "source": [
    "You can also display a message to let the user know they can create an item if the item they are typing does not exist, like this:"
   ]
  },
  {
   "cell_type": "code",
   "execution_count": 24,
   "metadata": {
    "ExecuteTime": {
     "end_time": "2020-05-22T11:10:25.768865Z",
     "start_time": "2020-05-22T11:10:25.696220Z"
    }
   },
   "outputs": [
    {
     "data": {
      "application/vnd.jupyter.widget-view+json": {
       "model_id": "a97c3e99aee348cfa3bf48bc168294a9",
       "version_major": 2,
       "version_minor": 0
      },
      "text/plain": [
       "Combobox(auto_select_first=False, chips=True, class_='ma-4', clearable=True, color='primary', deletable_chips=…"
      ]
     },
     "metadata": {},
     "output_type": "display_data"
    }
   ],
   "source": [
    "v.Combobox(\n",
    "    class_='ma-4',\n",
    "    solo=True,\n",
    "    multiple=True,\n",
    "    label='Combobox example',\n",
    "    chips=True,\n",
    "    deletable_chips=True,\n",
    "    clearable=True,\n",
    "    color='primary',\n",
    "    hint='Helpful hint',\n",
    "    persistent_hint=True,\n",
    "    hide_selected=True,\n",
    "    items=['one', 'two', 'three', 'four'],\n",
    "    auto_select_first=False,\n",
    "    v_model=['one'],\n",
    "    v_slots=[{\n",
    "        'name':\n",
    "        'no-data',\n",
    "        'children':\n",
    "        v.ListItem(children=[\n",
    "            v.ListItemContent(children=[\n",
    "                v.ListItemTitle(\n",
    "                    children=['Your search returned no items. Press Enter to create a new one'])\n",
    "            ])\n",
    "        ])\n",
    "    }],\n",
    ")"
   ]
  },
  {
   "cell_type": "markdown",
   "metadata": {},
   "source": [
    "Setting `auto_select_first` to true seems to disable the functionality to create new items, give it a try:"
   ]
  },
  {
   "cell_type": "code",
   "execution_count": 25,
   "metadata": {
    "ExecuteTime": {
     "end_time": "2020-05-22T11:10:25.822214Z",
     "start_time": "2020-05-22T11:10:25.777119Z"
    }
   },
   "outputs": [
    {
     "data": {
      "application/vnd.jupyter.widget-view+json": {
       "model_id": "382f6e79c97f455ca1072a1dd45350a0",
       "version_major": 2,
       "version_minor": 0
      },
      "text/plain": [
       "Combobox(auto_select_first=True, chips=True, class_='ma-4', clearable=True, color='primary', deletable_chips=T…"
      ]
     },
     "metadata": {},
     "output_type": "display_data"
    }
   ],
   "source": [
    "test = v.Combobox(class_='ma-4',\n",
    "           filled=True,\n",
    "           multiple=True,\n",
    "           label='Combobox example',\n",
    "           chips=True,\n",
    "           deletable_chips=True,\n",
    "           clearable=True,\n",
    "           color='primary',\n",
    "           hint='Helpful hint',\n",
    "           persistent_hint=True,\n",
    "           items=['one', 'two', 'three', 'four'],\n",
    "           auto_select_first=True,\n",
    "           v_model=[]\n",
    ")\n",
    "test"
   ]
  },
  {
   "cell_type": "markdown",
   "metadata": {},
   "source": [
    "## Next Steps"
   ]
  },
  {
   "cell_type": "markdown",
   "metadata": {},
   "source": [
    "Whew ! That was a fairly exhausting introduction to input widgets.\n",
    "\n",
    "We will look at text input boxes in detail next..."
   ]
  }
 ],
 "metadata": {
  "kernelspec": {
   "display_name": "Python (ipyvuetify_tutorial)",
   "language": "python",
   "name": "ipyvuetify_tutorial"
  },
  "language_info": {
   "codemirror_mode": {
    "name": "ipython",
    "version": 3
   },
   "file_extension": ".py",
   "mimetype": "text/x-python",
   "name": "python",
   "nbconvert_exporter": "python",
   "pygments_lexer": "ipython3",
   "version": "3.8.3"
  }
 },
 "nbformat": 4,
 "nbformat_minor": 4
}
