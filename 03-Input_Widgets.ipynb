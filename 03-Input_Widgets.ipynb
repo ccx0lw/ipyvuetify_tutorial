{
 "cells": [
  {
   "cell_type": "markdown",
   "metadata": {},
   "source": [
    "# ipyvuetify Tutorial 03 - Input Widgets\n",
    "\n",
    "This is the third in a series of ipyvuetify app development tutorials. If you're just getting started with ipyvuetify and haven't checked out the first tutorial \"01 Installation and First Steps.ipynb\", be sure to check that one out first.\n",
    "\n",
    "In this notebook we will cover many input widgets like dropdown menus, checkboxes, switches etc. but **not** buttons - we'll cover those later!.\n",
    "\n",
    "First of all, we'll load the required packages, and test to make sure your environment has all the dependencies set-up successfully:"
   ]
  },
  {
   "cell_type": "code",
   "execution_count": 1,
   "metadata": {
    "ExecuteTime": {
     "end_time": "2020-05-21T19:25:20.236969Z",
     "start_time": "2020-05-21T19:25:20.004414Z"
    }
   },
   "outputs": [
    {
     "data": {
      "application/vnd.jupyter.widget-view+json": {
       "model_id": "29633c621b52476b9f3b23881bd7ae80",
       "version_major": 2,
       "version_minor": 0
      },
      "text/plain": [
       "Btn(children=[Icon(children=['mdi-check'])], class_='icon ma-2', color='success', style_='max-width:100px')"
      ]
     },
     "metadata": {},
     "output_type": "display_data"
    }
   ],
   "source": [
    "from time import sleep\n",
    "import ipyvuetify as v\n",
    "import ipywidgets as widgets\n",
    "import markdown\n",
    "\n",
    "v.Btn(class_='icon ma-2',\n",
    "      style_='max-width:100px',\n",
    "      color='success',\n",
    "      children=[v.Icon(children=['mdi-check'])])"
   ]
  },
  {
   "cell_type": "markdown",
   "metadata": {},
   "source": [
    "\n",
    "If you see a green button with a checkmark above, you have successfully installed ipyvuetify and enabled the extension. Good work!\n",
    "\n",
    "If not, refer to the first tutorial and/or the ipyvuetify documentation to set up your system before going further."
   ]
  },
  {
   "cell_type": "markdown",
   "metadata": {
    "ExecuteTime": {
     "end_time": "2020-05-21T17:51:49.192708Z",
     "start_time": "2020-05-21T17:51:49.188429Z"
    }
   },
   "source": [
    "## v.Checkbox()\n",
    "\n",
    "Probably the simplest type of user input is the checkbox:"
   ]
  },
  {
   "cell_type": "code",
   "execution_count": 2,
   "metadata": {
    "ExecuteTime": {
     "end_time": "2020-05-21T19:25:20.250211Z",
     "start_time": "2020-05-21T19:25:20.238953Z"
    }
   },
   "outputs": [
    {
     "data": {
      "application/vnd.jupyter.widget-view+json": {
       "model_id": "cc3a83b6351044588325cb5f72cdbded",
       "version_major": 2,
       "version_minor": 0
      },
      "text/plain": [
       "Checkbox(label='My Checkbox Label')"
      ]
     },
     "metadata": {},
     "output_type": "display_data"
    }
   ],
   "source": [
    "v.Checkbox(label='My Checkbox Label')"
   ]
  },
  {
   "cell_type": "markdown",
   "metadata": {},
   "source": [
    "As you can see from the example above, the description text is set by the `label` argument.\n",
    "\n",
    "The value of the checkbox is set (and accessed, as we will see next) through the `v_model` property (which is like the `value` property in `ipywidgets`). This is how you create a checkbox that is checked by default:"
   ]
  },
  {
   "cell_type": "code",
   "execution_count": 3,
   "metadata": {
    "ExecuteTime": {
     "end_time": "2020-05-21T19:25:20.263975Z",
     "start_time": "2020-05-21T19:25:20.252944Z"
    }
   },
   "outputs": [
    {
     "data": {
      "application/vnd.jupyter.widget-view+json": {
       "model_id": "a80006a4789548e98e8fe1e547aa55fe",
       "version_major": 2,
       "version_minor": 0
      },
      "text/plain": [
       "Checkbox(label='My Checkbox Label', v_model=True)"
      ]
     },
     "metadata": {},
     "output_type": "display_data"
    }
   ],
   "source": [
    "v.Checkbox(label='My Checkbox Label', v_model=True)"
   ]
  },
  {
   "cell_type": "markdown",
   "metadata": {},
   "source": [
    "To actually do something with the value of the checkbox, we assign it to a variable, and then can access the value with the `v_model` property:"
   ]
  },
  {
   "cell_type": "code",
   "execution_count": 4,
   "metadata": {
    "ExecuteTime": {
     "end_time": "2020-05-21T19:25:20.278359Z",
     "start_time": "2020-05-21T19:25:20.266711Z"
    }
   },
   "outputs": [
    {
     "data": {
      "application/vnd.jupyter.widget-view+json": {
       "model_id": "c02d0c14a6f6488893fc936337a80957",
       "version_major": 2,
       "version_minor": 0
      },
      "text/plain": [
       "Checkbox(label='My Checkbox Label', v_model=False)"
      ]
     },
     "metadata": {},
     "output_type": "display_data"
    }
   ],
   "source": [
    "mycheckbox = v.Checkbox(label='My Checkbox Label', v_model=False)\n",
    "mycheckbox"
   ]
  },
  {
   "cell_type": "code",
   "execution_count": 5,
   "metadata": {
    "ExecuteTime": {
     "end_time": "2020-05-21T19:25:20.294054Z",
     "start_time": "2020-05-21T19:25:20.280964Z"
    }
   },
   "outputs": [
    {
     "data": {
      "text/plain": [
       "False"
      ]
     },
     "execution_count": 5,
     "metadata": {},
     "output_type": "execute_result"
    }
   ],
   "source": [
    "mycheckbox.v_model"
   ]
  },
  {
   "cell_type": "markdown",
   "metadata": {},
   "source": [
    "Try checking the checkbox, and then re-executing the above cell. \n",
    "\n",
    "Notice that the value of the `v_model` property has changed from False to True.\n",
    "\n",
    "You can also do this programatically (keep an eye on the checkbox above):"
   ]
  },
  {
   "cell_type": "code",
   "execution_count": 6,
   "metadata": {
    "ExecuteTime": {
     "end_time": "2020-05-21T19:25:23.311678Z",
     "start_time": "2020-05-21T19:25:20.296254Z"
    }
   },
   "outputs": [],
   "source": [
    "mycheckbox.v_model = True\n",
    "sleep(1)\n",
    "mycheckbox.v_model = False\n",
    "sleep(1)\n",
    "mycheckbox.v_model = True\n",
    "sleep(1)\n",
    "mycheckbox.v_model = False"
   ]
  },
  {
   "cell_type": "markdown",
   "metadata": {
    "ExecuteTime": {
     "end_time": "2020-05-21T18:01:51.980710Z",
     "start_time": "2020-05-21T18:01:51.973306Z"
    }
   },
   "source": [
    "### Customizing the appearence of a `v.Checkbox`\n",
    "\n",
    "Next we will customize the look of our checkbox.\n",
    "\n",
    "For an extensive description, again, see the [vuetify.js documentation](https://vuetifyjs.com/en/components/selection-controls/).\n",
    "\n",
    "You can display a 'hint' to help users understand what your checkbox is all about:"
   ]
  },
  {
   "cell_type": "code",
   "execution_count": 7,
   "metadata": {
    "ExecuteTime": {
     "end_time": "2020-05-21T19:25:23.341773Z",
     "start_time": "2020-05-21T19:25:23.318568Z"
    }
   },
   "outputs": [
    {
     "data": {
      "application/vnd.jupyter.widget-view+json": {
       "model_id": "34dc83397fb84b90ba1a058d4cc021ee",
       "version_major": 2,
       "version_minor": 0
      },
      "text/plain": [
       "Checkbox(class_='pa-4', hint='Read me if you need some help deciding whether to check me or not...', label='My…"
      ]
     },
     "metadata": {},
     "output_type": "display_data"
    }
   ],
   "source": [
    "v.Checkbox(\n",
    "    class_='pa-4',\n",
    "    label='My Checkbox Label',\n",
    "    persistent_hint=True,\n",
    "    hint='Read me if you need some help deciding whether to check me or not...'\n",
    ")"
   ]
  },
  {
   "cell_type": "markdown",
   "metadata": {},
   "source": [
    "Setting `dense=True` makes it take up a bit less vertical space, and you can set the colour, too:"
   ]
  },
  {
   "cell_type": "code",
   "execution_count": 8,
   "metadata": {
    "ExecuteTime": {
     "end_time": "2020-05-21T19:25:23.371048Z",
     "start_time": "2020-05-21T19:25:23.348257Z"
    }
   },
   "outputs": [
    {
     "data": {
      "application/vnd.jupyter.widget-view+json": {
       "model_id": "abfe9a5174394a06b27dafe88bdbb3c6",
       "version_major": 2,
       "version_minor": 0
      },
      "text/plain": [
       "Checkbox(class_='pa-1', color='error', dense=True, hint='Read me if you need some help deciding whether to che…"
      ]
     },
     "metadata": {},
     "output_type": "display_data"
    }
   ],
   "source": [
    "v.Checkbox(\n",
    "    dense=True,\n",
    "    color='error',\n",
    "    class_='pa-1',\n",
    "    label='My Checkbox Label',\n",
    "    v_model=True,\n",
    "    persistent_hint=True,\n",
    "    hint='Read me if you need some help deciding whether to check me or not...'\n",
    ")"
   ]
  },
  {
   "cell_type": "markdown",
   "metadata": {},
   "source": [
    "You can set a background colour, if you want to, and change the `theme` to dark"
   ]
  },
  {
   "cell_type": "code",
   "execution_count": 9,
   "metadata": {
    "ExecuteTime": {
     "end_time": "2020-05-21T19:25:23.386131Z",
     "start_time": "2020-05-21T19:25:23.373558Z"
    }
   },
   "outputs": [
    {
     "data": {
      "application/vnd.jupyter.widget-view+json": {
       "model_id": "7d4b37da366d4e36aac950b7090f94e4",
       "version_major": 2,
       "version_minor": 0
      },
      "text/plain": [
       "Checkbox(background_color='primary', class_='pa-4', dark=True, label='My Checkbox Label')"
      ]
     },
     "metadata": {},
     "output_type": "display_data"
    }
   ],
   "source": [
    "v.Checkbox(\n",
    "    background_color='primary',\n",
    "    dark=True,\n",
    "    class_='pa-4',\n",
    "    label='My Checkbox Label'\n",
    ")"
   ]
  },
  {
   "cell_type": "markdown",
   "metadata": {},
   "source": [
    "Another nice feature is the ability to prepend or append an icon. Here I prepend and append icons, as well as putting it in a row with a spacer at the end.\n",
    "\n",
    "See the [Material Design Icons](https://cdn.materialdesignicons.com/4.5.95/) page for a full list of available icons."
   ]
  },
  {
   "cell_type": "code",
   "execution_count": 10,
   "metadata": {
    "ExecuteTime": {
     "end_time": "2020-05-21T19:25:23.428410Z",
     "start_time": "2020-05-21T19:25:23.389425Z"
    }
   },
   "outputs": [
    {
     "data": {
      "application/vnd.jupyter.widget-view+json": {
       "model_id": "835c8b19cde1498caee5a621090c01ef",
       "version_major": 2,
       "version_minor": 0
      },
      "text/plain": [
       "Row(children=[Checkbox(append_icon='mdi-trash-can', class_='pa-4', label='My Checkbox Label', prepend_icon='md…"
      ]
     },
     "metadata": {},
     "output_type": "display_data"
    }
   ],
   "source": [
    "v.Row(children=[\n",
    "    v.Checkbox(class_='pa-4',\n",
    "               v_model = True,\n",
    "               label='My Checkbox Label',\n",
    "               prepend_icon='mdi-recycle',\n",
    "               append_icon='mdi-trash-can'),\n",
    "    v.Spacer()\n",
    "])"
   ]
  },
  {
   "cell_type": "markdown",
   "metadata": {},
   "source": [
    "Wowee that was a lot of info about checkboxes.\n",
    "\n",
    "But most of the things we just played around with apply to the other input types:\n",
    "\n",
    "* You access or set the value of an input with the `v_model` property\n",
    "* Inputs have both a label and a hint that can be set.\n",
    "* You can prepend or append an icon.\n",
    "* You can change the colour\n",
    "\n",
    "An alternative to a checkbox, that is functionally the same is the `v.Switch`"
   ]
  },
  {
   "cell_type": "markdown",
   "metadata": {
    "ExecuteTime": {
     "end_time": "2020-05-21T18:30:21.357133Z",
     "start_time": "2020-05-21T18:30:21.334419Z"
    }
   },
   "source": [
    "## `v.Switch()`\n",
    "\n",
    "`v.Switch()` is just like a checkbox; the `v_model` is either `True` or `False`, but it has a different look and feel (and some different customization options) that you may prefer:"
   ]
  },
  {
   "cell_type": "code",
   "execution_count": 11,
   "metadata": {
    "ExecuteTime": {
     "end_time": "2020-05-21T19:25:23.453817Z",
     "start_time": "2020-05-21T19:25:23.432330Z"
    }
   },
   "outputs": [
    {
     "data": {
      "application/vnd.jupyter.widget-view+json": {
       "model_id": "0df7f03bb15c4c029f8cf8a221624103",
       "version_major": 2,
       "version_minor": 0
      },
      "text/plain": [
       "Switch(label='My Checkbox Label', v_model=True)"
      ]
     },
     "metadata": {},
     "output_type": "display_data"
    }
   ],
   "source": [
    "myswitch = v.Switch(label='My Checkbox Label', v_model=True)\n",
    "myswitch"
   ]
  },
  {
   "cell_type": "markdown",
   "metadata": {},
   "source": [
    "Just like with the checkbox, you can access (and set!) the value of the switch with the `v_model` property:"
   ]
  },
  {
   "cell_type": "code",
   "execution_count": 12,
   "metadata": {
    "ExecuteTime": {
     "end_time": "2020-05-21T19:25:23.462248Z",
     "start_time": "2020-05-21T19:25:23.455733Z"
    }
   },
   "outputs": [
    {
     "data": {
      "text/plain": [
       "True"
      ]
     },
     "execution_count": 12,
     "metadata": {},
     "output_type": "execute_result"
    }
   ],
   "source": [
    "myswitch.v_model"
   ]
  },
  {
   "cell_type": "code",
   "execution_count": 13,
   "metadata": {
    "ExecuteTime": {
     "end_time": "2020-05-21T19:25:23.488194Z",
     "start_time": "2020-05-21T19:25:23.465881Z"
    }
   },
   "outputs": [
    {
     "data": {
      "application/vnd.jupyter.widget-view+json": {
       "model_id": "505ae36c916c49439a7a64bb6410894d",
       "version_major": 2,
       "version_minor": 0
      },
      "text/plain": [
       "Switch(class_='pa-2', color='warning', hint='Read me if you need some help deciding whether to check me or not…"
      ]
     },
     "metadata": {},
     "output_type": "display_data"
    }
   ],
   "source": [
    "v.Switch(\n",
    "    label='My Checkbox Label',\n",
    "    class_='pa-2',\n",
    "    inset=True,\n",
    "    color='warning',\n",
    "    v_model=True,\n",
    "    persistent_hint=True,\n",
    "    hint='Read me if you need some help deciding whether to check me or not...'\n",
    ")"
   ]
  },
  {
   "cell_type": "markdown",
   "metadata": {},
   "source": [
    "There are lots of things I haven't covered here (largely because I haven't figured them out yet...) that are pretty cool, like [chip groups](https://vuetifyjs.com/en/components/item-groups/#chips) and [checkbox arrays](https://vuetifyjs.com/en/components/selection-controls/#checkboxes-array), but we've learned enough about checkboxes and switches to be getting on with.\n",
    "\n",
    "Next, let's look at radio buttons..."
   ]
  },
  {
   "cell_type": "markdown",
   "metadata": {
    "ExecuteTime": {
     "end_time": "2020-05-21T18:53:29.647539Z",
     "start_time": "2020-05-21T18:53:29.644617Z"
    }
   },
   "source": [
    "## Radio Buttons"
   ]
  },
  {
   "cell_type": "code",
   "execution_count": 14,
   "metadata": {
    "ExecuteTime": {
     "end_time": "2020-05-21T19:25:23.562717Z",
     "start_time": "2020-05-21T19:25:23.491073Z"
    }
   },
   "outputs": [
    {
     "data": {
      "application/vnd.jupyter.widget-view+json": {
       "model_id": "686a191dfa6642f69649ff3a10d4ec52",
       "version_major": 2,
       "version_minor": 0
      },
      "text/plain": [
       "RadioGroup(children=[Radio(label='apple', value='apple'), Radio(label='rhubarb', value='rhubarb'), Radio(label…"
      ]
     },
     "metadata": {},
     "output_type": "display_data"
    }
   ],
   "source": [
    "favourite_pie_type = v.RadioGroup(class_='px-2 my-0 py-2',\n",
    "             v_model='rhubarb',\n",
    "             label = \"What's your favourite type of pie?\",\n",
    "             children=[\n",
    "                 v.Radio(label='apple', value='apple'),\n",
    "                 v.Radio(label='rhubarb', value='rhubarb'),\n",
    "                 v.Radio(label='blueberry', value='blueberry'),\n",
    "                 v.Radio(label='pumpkin', value='pumpkin'),\n",
    "                 v.Radio(label='mock cherry', value='mock cherry')\n",
    "             ])\n",
    "favourite_pie_type"
   ]
  },
  {
   "cell_type": "markdown",
   "metadata": {},
   "source": [
    "Just like before, we get and/or set the value of the checkbox input with the `v_model` input. "
   ]
  },
  {
   "cell_type": "markdown",
   "metadata": {
    "ExecuteTime": {
     "end_time": "2020-05-21T18:57:43.731399Z",
     "start_time": "2020-05-21T18:57:43.711233Z"
    }
   },
   "source": [
    "favourite_pie_type.v_model"
   ]
  },
  {
   "cell_type": "markdown",
   "metadata": {},
   "source": [
    "You can display a hint in the same was as before, too.\n",
    "\n",
    "You can display the options in a row instead of in a column by setting the `row` value to True:"
   ]
  },
  {
   "cell_type": "code",
   "execution_count": 15,
   "metadata": {
    "ExecuteTime": {
     "end_time": "2020-05-21T19:25:23.650466Z",
     "start_time": "2020-05-21T19:25:23.567725Z"
    }
   },
   "outputs": [
    {
     "data": {
      "application/vnd.jupyter.widget-view+json": {
       "model_id": "10e00d9b026f443c9c274dd4b48147aa",
       "version_major": 2,
       "version_minor": 0
      },
      "text/plain": [
       "RadioGroup(children=[Radio(label='apple', value='apple'), Radio(label='rhubarb', value='rhubarb'), Radio(label…"
      ]
     },
     "metadata": {},
     "output_type": "display_data"
    }
   ],
   "source": [
    "v.RadioGroup(class_='px-2 my-0 py-2',\n",
    "             v_model='rhubarb',\n",
    "             label = \"What's your favourite type of pie?\",\n",
    "             hint = \"I'm sure it's rhubarb. Skip the strawberries.\",\n",
    "             persistent_hint=True,\n",
    "             row=True,\n",
    "             children=[\n",
    "                 v.Radio(label='apple', value='apple'),\n",
    "                 v.Radio(label='rhubarb', value='rhubarb'),\n",
    "                 v.Radio(label='blueberry', value='blueberry'),\n",
    "                 v.Radio(label='pumpkin', value='pumpkin'),\n",
    "                 v.Radio(label='mock cherry', value='mock cherry')\n",
    "             ])\n"
   ]
  },
  {
   "cell_type": "markdown",
   "metadata": {
    "ExecuteTime": {
     "end_time": "2020-05-21T19:02:11.925118Z",
     "start_time": "2020-05-21T19:02:11.919590Z"
    }
   },
   "source": [
    "## Sliders\n",
    "\n",
    "Let's just show one example with the main options set; you can fiddle around with it to suit your needs/tastes"
   ]
  },
  {
   "cell_type": "code",
   "execution_count": 16,
   "metadata": {
    "ExecuteTime": {
     "end_time": "2020-05-21T19:25:23.683625Z",
     "start_time": "2020-05-21T19:25:23.655095Z"
    }
   },
   "outputs": [
    {
     "data": {
      "application/vnd.jupyter.widget-view+json": {
       "model_id": "1f6dd85091ed48c9b0a9b35c59b70412",
       "version_major": 2,
       "version_minor": 0
      },
      "text/plain": [
       "Slider(append_icon='mdi-biohazard', class_='mx-6 mt-8', hint='My Slider Hint', label='My Slider Name', loading…"
      ]
     },
     "metadata": {},
     "output_type": "display_data"
    }
   ],
   "source": [
    "v.Slider(label='My Slider Name',\n",
    "         hint='My Slider Hint',\n",
    "         append_icon='mdi-biohazard',\n",
    "         vertical=False,\n",
    "         persistent_hint=True,\n",
    "         min=0,\n",
    "         max=100,\n",
    "         loading=False,\n",
    "         step=10,\n",
    "         thumb_size=24,\n",
    "         tick_size=4,\n",
    "         class_='mx-6 mt-8',\n",
    "         thumb_label=True,\n",
    "         tick_labels=list(range(0, 110, 10)),\n",
    "         ticks=True)"
   ]
  },
  {
   "cell_type": "markdown",
   "metadata": {},
   "source": [
    "## Range Slider\n",
    "\n",
    "Just like a slider, but has a min and a max value that can be set/fetched in the v_model property."
   ]
  },
  {
   "cell_type": "code",
   "execution_count": 17,
   "metadata": {
    "ExecuteTime": {
     "end_time": "2020-05-21T19:25:23.708443Z",
     "start_time": "2020-05-21T19:25:23.686414Z"
    }
   },
   "outputs": [
    {
     "data": {
      "application/vnd.jupyter.widget-view+json": {
       "model_id": "6f20be5c9ee44e8c96419db978439654",
       "version_major": 2,
       "version_minor": 0
      },
      "text/plain": [
       "RangeSlider(class_='mx-6 mt-8', hint='My Range Slider Hint', label='My Range Slider Name', max=100.0, min=0.0,…"
      ]
     },
     "metadata": {},
     "output_type": "display_data"
    }
   ],
   "source": [
    "my_range_slider = v.RangeSlider(label='My Range Slider Name',\n",
    "              hint='My Range Slider Hint',\n",
    "              min=0,\n",
    "              max=100,\n",
    "              thumb_size=24,\n",
    "              class_='mx-6 mt-8',\n",
    "              v_model=[40, 60],\n",
    "              thumb_label = 'always')\n",
    "\n",
    "my_range_slider"
   ]
  },
  {
   "cell_type": "code",
   "execution_count": 18,
   "metadata": {
    "ExecuteTime": {
     "end_time": "2020-05-21T19:25:23.726356Z",
     "start_time": "2020-05-21T19:25:23.711259Z"
    }
   },
   "outputs": [
    {
     "data": {
      "text/plain": [
       "[40, 60]"
      ]
     },
     "execution_count": 18,
     "metadata": {},
     "output_type": "execute_result"
    }
   ],
   "source": [
    "my_range_slider.v_model"
   ]
  }
 ],
 "metadata": {
  "kernelspec": {
   "display_name": "Python (ipyvuetify_tutorial)",
   "language": "python",
   "name": "ipyvuetify_tutorial"
  },
  "language_info": {
   "codemirror_mode": {
    "name": "ipython",
    "version": 3
   },
   "file_extension": ".py",
   "mimetype": "text/x-python",
   "name": "python",
   "nbconvert_exporter": "python",
   "pygments_lexer": "ipython3",
   "version": "3.8.3"
  }
 },
 "nbformat": 4,
 "nbformat_minor": 4
}
